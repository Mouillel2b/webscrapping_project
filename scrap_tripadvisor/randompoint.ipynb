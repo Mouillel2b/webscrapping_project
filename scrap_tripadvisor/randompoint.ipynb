{
 "cells": [
  {
   "cell_type": "code",
   "execution_count": 2,
   "metadata": {},
   "outputs": [
    {
     "name": "stdout",
     "output_type": "stream",
     "text": [
      "(48.83574100494893, 2.29440628141323)\n",
      "(48.87593728371906, 2.382458663608253)\n",
      "(48.86903672706807, 2.350171088973233)\n",
      "(48.85183909024802, 2.3597340304237)\n",
      "(48.85245932462802, 2.279369342812938)\n",
      "(48.86508060498452, 2.372648932108618)\n",
      "(48.89157352258095, 2.373686330079506)\n",
      "(48.897968795878406, 2.33006573087256)\n",
      "(48.83202515483073, 2.344861358682781)\n",
      "(48.82416047342624, 2.345678791446301)\n"
     ]
    }
   ],
   "source": [
    "import random\n",
    "import math\n",
    "\n",
    "# Centre du cercle (latitude, longitude)\n",
    "center_lat = 48.86032470289573\n",
    "center_lon = 2.3404903542454303\n",
    "\n",
    "# Point sur le périmètre pour calculer le rayon\n",
    "perimeter_lat = 48.878522245410664\n",
    "perimeter_lon = 2.280903702336312\n",
    "\n",
    "# Fonction pour calculer la distance en degrés entre deux points (approximation)\n",
    "def haversine_distance(lat1, lon1, lat2, lon2):\n",
    "    # Rayon de la Terre en km\n",
    "    R = 6371.0\n",
    "    # Conversion en radians\n",
    "    dlat = math.radians(lat2 - lat1)\n",
    "    dlon = math.radians(lon2 - lon1)\n",
    "    a = math.sin(dlat / 2) ** 2 + math.cos(math.radians(lat1)) * math.cos(math.radians(lat2)) * math.sin(dlon / 2) ** 2\n",
    "    c = 2 * math.atan2(math.sqrt(a), math.sqrt(1 - a))\n",
    "    distance = R * c\n",
    "    return distance\n",
    "\n",
    "# Calculer le rayon en degrés\n",
    "radius_km = haversine_distance(center_lat, center_lon, perimeter_lat, perimeter_lon)\n",
    "\n",
    "# Générer des points aléatoires dans le cercle\n",
    "def generate_random_points(center_lat, center_lon, radius_km, n_points):\n",
    "    points = []\n",
    "    for _ in range(n_points):\n",
    "        # Angle aléatoire en radians\n",
    "        theta = random.uniform(0, 2 * math.pi)\n",
    "        # Rayon aléatoire (sqrt pour une distribution uniforme dans le cercle)\n",
    "        r = radius_km * math.sqrt(random.uniform(0, 1))\n",
    "        # Conversion en degrés pour latitude et longitude\n",
    "        delta_lat = r / 6371.0 * (180 / math.pi)  # 6371 km = rayon de la Terre\n",
    "        delta_lon = delta_lat / math.cos(math.radians(center_lat))\n",
    "        lat = center_lat + delta_lat * math.sin(theta)\n",
    "        lon = center_lon + delta_lon * math.cos(theta)\n",
    "        # Conserver 15 chiffres après la virgule\n",
    "        points.append((round(lat, 15), round(lon, 15)))\n",
    "    return points\n",
    "\n",
    "# Générer 200 points\n",
    "random_points = generate_random_points(center_lat, center_lon, radius_km, 200)\n",
    "\n",
    "# Afficher les points générés\n",
    "for point in random_points[:10]:  # Affiche les 10 premiers points\n",
    "    print(point)\n",
    "\n",
    "# Optionnel : Sauvegarder dans un fichier CSV\n",
    "import pandas as pd\n",
    "df = pd.DataFrame(random_points, columns=[\"Latitude\", \"Longitude\"])\n",
    "df.to_csv(\"random_points_paris.csv\", index=False)\n"
   ]
  }
 ],
 "metadata": {
  "kernelspec": {
   "display_name": "Python 3",
   "language": "python",
   "name": "python3"
  },
  "language_info": {
   "codemirror_mode": {
    "name": "ipython",
    "version": 3
   },
   "file_extension": ".py",
   "mimetype": "text/x-python",
   "name": "python",
   "nbconvert_exporter": "python",
   "pygments_lexer": "ipython3",
   "version": "3.11.4"
  }
 },
 "nbformat": 4,
 "nbformat_minor": 2
}
