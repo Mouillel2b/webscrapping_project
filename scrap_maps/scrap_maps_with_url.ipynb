{
  "cells": [
    {
      "cell_type": "code",
      "execution_count": 12,
      "metadata": {
        "id": "8VAkXGWqmL8j"
      },
      "outputs": [],
      "source": [
        "#on va scrap google maps\n",
        "#link : https://www.google.fr/maps/search/restaurant+paris/@48.8701745,2.2726075,18356m/data=!3m2!1e3!4b1?hl=fr&entry=ttu&g_ep=EgoyMDI1MDEwOC4wIKXMDSoASAFQAw%3D%3D\n",
        "link=\"https://www.google.fr/maps/search/restaurant+paris/@48.8701745,2.2726075,18356m/data=!3m2!1e3!4b1?hl=fr&entry=ttu&g_ep=EgoyMDI1MDEwOC4wIKXMDSoASAFQAw%3D%3D\""
      ]
    },
    {
      "cell_type": "code",
      "execution_count": 13,
      "metadata": {
        "id": "egy4VZlpmL8m"
      },
      "outputs": [],
      "source": [
        "#xpath\n",
        "#nom resto\n",
        "# /html/body/div[2]/div[3]/div[8]/div[9]/div/div/div[1]/div[3]/div/div[1]/div/div/div[2]/div[2]/div/div[1]/div[1]/h1\n",
        "\n",
        "#note\n",
        "# /html/body/div[2]/div[3]/div[8]/div[9]/div/div/div[1]/div[3]/div/div[1]/div/div/div[2]/div[2]/div/div[1]/div[2]/div/div[1]/div[2]/span[1]/span[1]\n",
        "\n",
        "#prix\n",
        "# /html/body/div[2]/div[3]/div[8]/div[9]/div/div/div[1]/div[3]/div/div[1]/div/div/div[2]/div[2]/div/div[1]/div[2]/div/div[1]/span/span/span/span[2]/span/span\n",
        "\n",
        "#adresse\n",
        "# /html/body/div[2]/div[3]/div[8]/div[9]/div/div/div[1]/div[3]/div/div[1]/div/div/div[2]/div[11]/div[3]/button/div/div[2]/div[1]\n",
        "\n",
        "#description\n",
        "# /html/body/div[2]/div[3]/div[8]/div[9]/div/div/div[1]/div[3]/div/div[1]/div/div/div[2]/div[8]/button/div[1]\n"
      ]
    },
    {
      "cell_type": "code",
      "source": [
        "pip install selenium"
      ],
      "metadata": {
        "colab": {
          "base_uri": "https://localhost:8080/"
        },
        "id": "guNYEz4r2rCc",
        "outputId": "f3864500-e573-470d-bcfc-708bc1a831d8"
      },
      "execution_count": 14,
      "outputs": [
        {
          "output_type": "stream",
          "name": "stdout",
          "text": [
            "Requirement already satisfied: selenium in /usr/local/lib/python3.11/dist-packages (4.28.0)\n",
            "Requirement already satisfied: urllib3<3,>=1.26 in /usr/local/lib/python3.11/dist-packages (from urllib3[socks]<3,>=1.26->selenium) (2.3.0)\n",
            "Requirement already satisfied: trio~=0.17 in /usr/local/lib/python3.11/dist-packages (from selenium) (0.28.0)\n",
            "Requirement already satisfied: trio-websocket~=0.9 in /usr/local/lib/python3.11/dist-packages (from selenium) (0.11.1)\n",
            "Requirement already satisfied: certifi>=2021.10.8 in /usr/local/lib/python3.11/dist-packages (from selenium) (2024.12.14)\n",
            "Requirement already satisfied: typing_extensions~=4.9 in /usr/local/lib/python3.11/dist-packages (from selenium) (4.12.2)\n",
            "Requirement already satisfied: websocket-client~=1.8 in /usr/local/lib/python3.11/dist-packages (from selenium) (1.8.0)\n",
            "Requirement already satisfied: attrs>=23.2.0 in /usr/local/lib/python3.11/dist-packages (from trio~=0.17->selenium) (24.3.0)\n",
            "Requirement already satisfied: sortedcontainers in /usr/local/lib/python3.11/dist-packages (from trio~=0.17->selenium) (2.4.0)\n",
            "Requirement already satisfied: idna in /usr/local/lib/python3.11/dist-packages (from trio~=0.17->selenium) (3.10)\n",
            "Requirement already satisfied: outcome in /usr/local/lib/python3.11/dist-packages (from trio~=0.17->selenium) (1.3.0.post0)\n",
            "Requirement already satisfied: sniffio>=1.3.0 in /usr/local/lib/python3.11/dist-packages (from trio~=0.17->selenium) (1.3.1)\n",
            "Requirement already satisfied: wsproto>=0.14 in /usr/local/lib/python3.11/dist-packages (from trio-websocket~=0.9->selenium) (1.2.0)\n",
            "Requirement already satisfied: pysocks!=1.5.7,<2.0,>=1.5.6 in /usr/local/lib/python3.11/dist-packages (from urllib3[socks]<3,>=1.26->selenium) (1.7.1)\n",
            "Requirement already satisfied: h11<1,>=0.9.0 in /usr/local/lib/python3.11/dist-packages (from wsproto>=0.14->trio-websocket~=0.9->selenium) (0.14.0)\n"
          ]
        }
      ]
    },
    {
      "cell_type": "code",
      "execution_count": 15,
      "metadata": {
        "id": "uWr9UxkKmL8o"
      },
      "outputs": [],
      "source": [
        "from selenium import webdriver\n",
        "from selenium.webdriver.common.by import By\n",
        "from selenium.webdriver.common.action_chains import ActionChains\n",
        "from selenium.webdriver.firefox.options import Options\n",
        "import time\n",
        "import random\n",
        "import csv"
      ]
    },
    {
      "cell_type": "code",
      "execution_count": 16,
      "metadata": {
        "id": "jrroP9gmmL8o"
      },
      "outputs": [],
      "source": [
        "# Configuration du WebDriver avec des options\n",
        "options = Options()\n",
        "options.add_argument(\"--disable-blink-features=AutomationControlled\")\n",
        "options.add_argument(\"--disable-extensions\")\n",
        "options.add_argument(\"--headless\")\n",
        "\n",
        "# User-Agent Rotation\n",
        "user_agents = [\n",
        "    \"Mozilla/5.0 (Windows NT 10.0; Win64; x64) AppleWebKit/537.36 (KHTML, like Gecko) Chrome/91.0.4472.124 Safari/537.36\",\n",
        "    \"Mozilla/5.0 (Windows NT 6.1; WOW64; rv:40.0) Gecko/20100101 Firefox/40.0\",\n",
        "    \"Mozilla/5.0 (Windows NT 10.0; Win64; x64) AppleWebKit/537.36 (KHTML, like Gecko) Chrome/58.0.3029.110 Safari/537.3\"\n",
        "]\n",
        "options.add_argument(f\"user-agent={random.choice(user_agents)}\")\n"
      ]
    },
    {
      "cell_type": "code",
      "execution_count": 17,
      "metadata": {
        "id": "sLaKB0RmmL8p"
      },
      "outputs": [],
      "source": [
        "def scrape_google_maps(link, n, output_file, arrondissement):\n",
        "    \"\"\"\n",
        "    Fonction pour scraper les informations des restaurants à partir de Google Maps.\n",
        "\n",
        "    :param link: URL de la recherche Google Maps\n",
        "    :param n: Nombre de restaurants à scraper\n",
        "    :param output_file: Nom du fichier CSV pour sauvegarder les résultats\n",
        "    \"\"\"\n",
        "    # Initialisation du WebDriver\n",
        "    driver = webdriver.Firefox(options=options)\n",
        "    driver.get(link)\n",
        "\n",
        "    # Attente pour charger la page et accepter les cookies\n",
        "    time.sleep(5)\n",
        "    try:\n",
        "        cookies_button = driver.find_element(By.CSS_SELECTOR, \".VtwTSb > form:nth-child(2) > div:nth-child(1) > div:nth-child(1) > button:nth-child(1)\")\n",
        "        cookies_button.click()\n",
        "        time.sleep(2)\n",
        "    except Exception as e:\n",
        "        print(\"Pas de bouton cookies trouvé :\", e)\n",
        "\n",
        "    # Définir l'élément de scroll avec le XPath\n",
        "    scroll_xpath = '//div[@class=\"XltNde tTVLSc\"]/div[1]/div[2]/div[1]/div[1]/div[1]/div[1]/div[1]/div[1]'\n",
        "    try:\n",
        "        scrollable_div = driver.find_element(By.XPATH, scroll_xpath)\n",
        "        print(\"Élément de scroll trouvé avec succès !\")\n",
        "    except Exception as e:\n",
        "        print(f\"Erreur lors de la recherche de l'élément de scroll : {e}\")\n",
        "        driver.quit()\n",
        "        return\n",
        "\n",
        "    # Fonction pour récupérer les informations d'un restaurant\n",
        "    def get_restaurant_info():\n",
        "        try:\n",
        "            name = driver.find_element(By.CSS_SELECTOR, \".DUwDvf\").text\n",
        "        except:\n",
        "            name = \"NaN\"\n",
        "        try:\n",
        "            rating = driver.find_element(By.CSS_SELECTOR, \".F7nice > span:nth-child(1) > span:nth-child(1)\").text\n",
        "        except:\n",
        "            rating = \"NaN\"\n",
        "        try:\n",
        "            price = driver.find_element(By.CSS_SELECTOR, \".mgr77e > span:nth-child(1) > span:nth-child(2) > span:nth-child(1) > span:nth-child(1)\").text\n",
        "        except:\n",
        "            price = \"NaN\"\n",
        "        try:\n",
        "            restaurant_type = driver.find_element(By.CSS_SELECTOR, \"button.DkEaL\").text\n",
        "        except:\n",
        "            restaurant_type = \"NaN\"\n",
        "        try:\n",
        "            description = driver.find_element(By.CSS_SELECTOR, \".PYvSYb\").text\n",
        "        except:\n",
        "            description = \"NaN\"\n",
        "        try:\n",
        "            address = driver.find_element(By.CSS_SELECTOR, \"div.RcCsl:nth-child(3) > button:nth-child(2) > div:nth-child(1) > div:nth-child(2) > div:nth-child(1)\").text\n",
        "        except:\n",
        "            address = \"NaN\"\n",
        "\n",
        "        # Ajouter l'URL Google Maps\n",
        "        try:\n",
        "        # Récupérer l'URL Google Maps directement depuis l'URL courante du navigateur\n",
        "            google_maps_url = driver.current_url\n",
        "        except:\n",
        "            google_maps_url = \"NaN\"\n",
        "\n",
        "        return {\n",
        "            \"name\": name,\n",
        "            \"rating\": rating,\n",
        "            \"price\": price,\n",
        "            \"restaurant_type\": restaurant_type,\n",
        "            \"description\": description,\n",
        "            \"address\": address,\n",
        "            \"google_maps_url\": google_maps_url  # Ajouter l'URL Google Maps\n",
        "        }\n",
        "\n",
        "\n",
        "    # Collecte des données des restaurants\n",
        "    restaurants_data = []\n",
        "    restaurant_index = 1\n",
        "\n",
        "    while restaurant_index <= n:\n",
        "        try:\n",
        "            # XPath dynamique pour sélectionner chaque restaurant\n",
        "            restaurant_xpath = f\"/html/body/div[1]/div[3]/div[8]/div[9]/div/div/div[1]/div[2]/div/div[1]/div/div/div[1]/div[1]/div[{(restaurant_index+1)*2-1}]/div/a\"\n",
        "\n",
        "            # Scrolling jusqu'à ce que l'élément soit trouvé\n",
        "            max_scroll_attempts = 25 # Limite de scrolls pour éviter une boucle infinie\n",
        "            scroll_attempts = 0\n",
        "            while scroll_attempts < max_scroll_attempts:\n",
        "                #si on est au 20eme scroll on attend 10sec\n",
        "                if scroll_attempts == 24:\n",
        "                    time.sleep(15)\n",
        "                try:\n",
        "                    restaurant = driver.find_element(By.XPATH, restaurant_xpath)\n",
        "                    break  # Si l'élément est trouvé, on sort de la boucle\n",
        "                except:\n",
        "                    # Scroll vers le bas pour charger plus d'éléments\n",
        "                    driver.execute_script(\"arguments[0].scrollTop = arguments[0].scrollHeight\", scrollable_div)\n",
        "                    time.sleep(random.uniform(1, 2))  # Pause pour charger les nouveaux éléments\n",
        "                    scroll_attempts += 1\n",
        "\n",
        "            # Si l'élément n'est toujours pas trouvé après le scroll, arrêter\n",
        "            if scroll_attempts >= max_scroll_attempts:\n",
        "                print(f\"Impossible de trouver le restaurant {restaurant_index} après plusieurs tentatives de scroll.\")\n",
        "                break\n",
        "\n",
        "            # Cliquer sur le restaurant trouvé\n",
        "            restaurant.click()\n",
        "            time.sleep(3)  # Temps pour charger les informations\n",
        "\n",
        "            # Récupération des informations\n",
        "            info = get_restaurant_info()\n",
        "            restaurants_data.append(info)\n",
        "            print(f\"Restaurant {restaurant_index} : {info}\")\n",
        "\n",
        "            # Retour à la liste\n",
        "            driver.back()\n",
        "            time.sleep(random.uniform(2, 4))  # Pause avant de continuer\n",
        "\n",
        "            restaurant_index += 1\n",
        "        except Exception as e:\n",
        "            print(f\"Erreur avec le restaurant {restaurant_index} : {e}\")\n",
        "            break\n",
        "\n",
        "    # Filtrage des données par arrondissement\n",
        "    def is_in_arrondissement(address, arrondissement):\n",
        "        \"\"\"\n",
        "        Vérifie si l'adresse est dans l'arrondissement spécifié.\n",
        "\n",
        "        :param address: L'adresse complète du restaurant\n",
        "        :param arrondissement: Numéro de l'arrondissement (ex: \"20\", \"16\")\n",
        "        :return: True si l'adresse est dans l'arrondissement, False sinon\n",
        "        \"\"\"\n",
        "        if arrondissement == \"16\":\n",
        "            # Vérifier pour les deux codes postaux du 16e arrondissement\n",
        "            return \"75016\" in address or \"75116\" in address\n",
        "        return f\"750{arrondissement}\" in address\n",
        "\n",
        "\n",
        "    filtered_data = [\n",
        "        restaurant for restaurant in restaurants_data\n",
        "        if is_in_arrondissement(restaurant['address'], arrondissement)\n",
        "    ]\n",
        "\n",
        "    # Sauvegarde des données filtrées\n",
        "    # Sauvegarde des données filtrées\n",
        "    with open(output_file, \"w\", newline=\"\", encoding=\"utf-8\") as csvfile:\n",
        "        writer = csv.DictWriter(csvfile, fieldnames=[\"name\", \"rating\", \"price\", \"restaurant_type\", \"description\", \"address\", \"google_maps_url\"])\n",
        "        writer.writeheader()\n",
        "        writer.writerows(filtered_data)\n",
        "\n",
        "    print(f\"Données sauvegardées dans {output_file} avec filtrage pour l'arrondissement {arrondissement}\")\n",
        "\n",
        "    driver.quit()\n",
        "\n"
      ]
    },
    {
      "cell_type": "code",
      "source": [],
      "metadata": {
        "id": "oKCKTVmQejXU"
      },
      "execution_count": 17,
      "outputs": []
    },
    {
      "cell_type": "code",
      "execution_count": 18,
      "metadata": {
        "id": "nZUW8-c9mL8q"
      },
      "outputs": [],
      "source": [
        "n=100"
      ]
    },
    {
      "cell_type": "code",
      "execution_count": 19,
      "metadata": {
        "colab": {
          "base_uri": "https://localhost:8080/"
        },
        "id": "p_cNkR5qmL8s",
        "outputId": "fa05da8e-5b2b-4df5-ccf6-95ed33503f0e"
      },
      "outputs": [
        {
          "output_type": "stream",
          "name": "stdout",
          "text": [
            "Pas de bouton cookies trouvé : Message: Unable to locate element: .VtwTSb > form:nth-child(2) > div:nth-child(1) > div:nth-child(1) > button:nth-child(1); For documentation on this error, please visit: https://www.selenium.dev/documentation/webdriver/troubleshooting/errors#no-such-element-exception\n",
            "Stacktrace:\n",
            "RemoteError@chrome://remote/content/shared/RemoteError.sys.mjs:8:8\n",
            "WebDriverError@chrome://remote/content/shared/webdriver/Errors.sys.mjs:193:5\n",
            "NoSuchElementError@chrome://remote/content/shared/webdriver/Errors.sys.mjs:511:5\n",
            "dom.find/</<@chrome://remote/content/shared/DOM.sys.mjs:136:16\n",
            "\n",
            "Élément de scroll trouvé avec succès !\n",
            "Restaurant 1 : {'name': 'Au Vieux Comptoir', 'rating': '4.6', 'price': '$$$', 'restaurant_type': 'French restaurant', 'description': 'Seasonally changing menus of French classics sprinkled with global touches in a convivial bistro.', 'address': '17 Rue des Lavandières Sainte-Opportune, 75001 Paris, France', 'google_maps_url': 'https://www.google.fr/maps/place/Au+Vieux+Comptoir/@48.863133,2.3262864,2141m/data=!3m1!1e3!4m10!1m2!2m1!1srestaurant+paris+1er!3m6!1s0x47e66e1f0acb5181:0x8226746080cdda4d!8m2!3d48.8588127!4d2.346026!15sChRyZXN0YXVyYW50IHBhcmlzIDFlcloWIhRyZXN0YXVyYW50IHBhcmlzIDFlcpIBEWZyZW5jaF9yZXN0YXVyYW504AEA!16s%2Fg%2F1tlmmms9?entry=ttu&g_ep=EgoyMDI1MDExNS4wIKXMDSoASAFQAw%3D%3D'}\n",
            "Restaurant 2 : {'name': \"L'Ardoise\", 'rating': '4.4', 'price': '$$', 'restaurant_type': 'French restaurant', 'description': 'Refined dishes with a focus on seasonality, plus set menu options, in a cozy bistro setting.', 'address': '28 Rue du Mont Thabor, 75001 Paris, France', 'google_maps_url': \"https://www.google.fr/maps/place/L'Ardoise/@48.8663663,2.3088906,2141m/data=!3m1!1e3!4m10!1m2!2m1!1srestaurant+paris+1er!3m6!1s0x47e66e2d8cb8421f:0xac76aad77cee909!8m2!3d48.8663663!4d2.326915!15sChRyZXN0YXVyYW50IHBhcmlzIDFlcloWIhRyZXN0YXVyYW50IHBhcmlzIDFlcpIBEWZyZW5jaF9yZXN0YXVyYW504AEA!16s%2Fg%2F11btmq53t6?entry=ttu&g_ep=EgoyMDI1MDExNS4wIKXMDSoASAFQAw%3D%3D\"}\n",
            "Restaurant 3 : {'name': 'Restaurant de La Cordonnerie', 'rating': '4.7', 'price': '$$', 'restaurant_type': 'Restaurant', 'description': 'Traditional dishes in a charming operation with wood-beamed ceilings & an old-world feel.', 'address': '20 Rue Saint-Roch, 75001 Paris, France', 'google_maps_url': 'https://www.google.fr/maps/place/Restaurant+de+La+Cordonnerie/@48.8654647,2.3144026,2141m/data=!3m2!1e3!5s0x47e66e2fc1aff6d5:0x488dca20708f714d!4m10!1m2!2m1!1srestaurant+paris+1er!3m6!1s0x47e66e2fc0fc3fe9:0xe2690db08230f0cd!8m2!3d48.8654647!4d2.332427!15sChRyZXN0YXVyYW50IHBhcmlzIDFlcloWIhRyZXN0YXVyYW50IHBhcmlzIDFlcpIBCnJlc3RhdXJhbnTgAQA!16s%2Fg%2F1tn00jrh?entry=ttu&g_ep=EgoyMDI1MDExNS4wIKXMDSoASAFQAw%3D%3D'}\n",
            "Restaurant 4 : {'name': 'Bella Piazza', 'rating': '4.4', 'price': '€10–20', 'restaurant_type': 'Italian restaurant', 'description': 'Wood-fired pizzas, pastas & desserts are dished up in this relaxed Italian place with a terrace.', 'address': '8 Rue de la Petite Truanderie, 75001 Paris, France', 'google_maps_url': 'https://www.google.fr/maps/place/Bella+Piazza/@48.8631302,2.3262864,2141m/data=!3m2!1e3!5s0x47e66e193dd35613:0x3d1f1d3bd0d70192!4m10!1m2!2m1!1srestaurant+paris+1er!3m6!1s0x47e66e19197f04a1:0xd1e74190a3980ba4!8m2!3d48.8628155!4d2.3483155!15sChRyZXN0YXVyYW50IHBhcmlzIDFlcloWIhRyZXN0YXVyYW50IHBhcmlzIDFlcpIBEml0YWxpYW5fcmVzdGF1cmFudOABAA!16s%2Fg%2F11clhpzdwf?entry=ttu&g_ep=EgoyMDI1MDExNS4wIKXMDSoASAFQAw%3D%3D'}\n",
            "Restaurant 5 : {'name': 'Le Comptoir des Petits Champs', 'rating': '4.5', 'price': '$$', 'restaurant_type': 'Bistro', 'description': 'Elegant bistro with an old-world vibe, serving generously portioned contemporary French dishes.', 'address': '17 Rue des Petits Champs, 75001 Paris, France', 'google_maps_url': 'https://www.google.fr/maps/place/Le+Comptoir+des+Petits+Champs/@48.8631293,2.3262864,2141m/data=!3m1!1e3!4m10!1m2!2m1!1srestaurant+paris+1er!3m6!1s0x47e66e3b335993ed:0x8461ae332042b62e!8m2!3d48.8664315!4d2.3379197!15sChRyZXN0YXVyYW50IHBhcmlzIDFlcloWIhRyZXN0YXVyYW50IHBhcmlzIDFlcpIBBmJpc3Ryb-ABAA!16s%2Fg%2F1tfcsjnc?entry=ttu&g_ep=EgoyMDI1MDExNS4wIKXMDSoASAFQAw%3D%3D'}\n",
            "Restaurant 6 : {'name': 'Le Tout-Paris', 'rating': '4.6', 'price': '€100+', 'restaurant_type': 'French restaurant', 'description': 'Gourmet fare & panoramic Seine views in the chic rooftop eatery of the Cheval Blanc Paris hotel.', 'address': '8 Quai du Louvre, 75001 Paris, France', 'google_maps_url': 'https://www.google.fr/maps/place/Le+Tout-Paris/@48.8631284,2.3262864,2141m/data=!3m1!1e3!4m10!1m2!2m1!1srestaurant+paris+1er!3m6!1s0x47e66f690b5482c5:0x6568bfb659691796!8m2!3d48.8587493!4d2.3422529!15sChRyZXN0YXVyYW50IHBhcmlzIDFlcloWIhRyZXN0YXVyYW50IHBhcmlzIDFlcpIBEWZyZW5jaF9yZXN0YXVyYW504AEA!16s%2Fg%2F11rwwhyh1l?entry=ttu&g_ep=EgoyMDI1MDExNS4wIKXMDSoASAFQAw%3D%3D'}\n",
            "Restaurant 7 : {'name': 'Restaurant Maison 28', 'rating': '4.4', 'price': 'NaN', 'restaurant_type': 'French restaurant', 'description': 'Contemporary, upscale cuisine in a chic setting with cocktails & a terrace at Le Roch Hotel & Spa.', 'address': '28 Rue Saint-Roch, 75001 Paris, France', 'google_maps_url': 'https://www.google.fr/maps/place/Restaurant+Maison+28/@48.8661851,2.3149164,2141m/data=!3m1!1e3!4m10!1m2!2m1!1srestaurant+paris+1er!3m6!1s0x47e66e2fe133a8bb:0x61103fea2f66cfce!8m2!3d48.8661851!4d2.3329408!15sChRyZXN0YXVyYW50IHBhcmlzIDFlcloWIhRyZXN0YXVyYW50IHBhcmlzIDFlcpIBEWZyZW5jaF9yZXN0YXVyYW504AEA!16s%2Fg%2F11c1qsn2vy?entry=ttu&g_ep=EgoyMDI1MDExNS4wIKXMDSoASAFQAw%3D%3D'}\n",
            "Restaurant 8 : {'name': 'Le Petit Bouillon Pharamond', 'rating': '4.2', 'price': '€10–20', 'restaurant_type': 'Restaurant', 'description': 'Traditional French cuisine served in an old-world dining room with flowery walls & etched mirrors.', 'address': '24 Rue de la Grande Truanderie, 75001 Paris, France', 'google_maps_url': 'https://www.google.fr/maps/place/Le+Petit+Bouillon+Pharamond/@48.8631266,2.3262864,2141m/data=!3m2!1e3!5s0x47e66e1912516133:0xce059ce53ab78ca0!4m10!1m2!2m1!1srestaurant+paris+1er!3m6!1s0x47e66fa99fa5c445:0x6140f858499cb594!8m2!3d48.8630418!4d2.3485455!15sChRyZXN0YXVyYW50IHBhcmlzIDFlcloWIhRyZXN0YXVyYW50IHBhcmlzIDFlcpIBCnJlc3RhdXJhbnTgAQA!16s%2Fg%2F11b6_zt8cc?entry=ttu&g_ep=EgoyMDI1MDExNS4wIKXMDSoASAFQAw%3D%3D'}\n",
            "Restaurant 9 : {'name': 'La Régalade Saint-Honoré', 'rating': '4.5', 'price': '$$$', 'restaurant_type': 'French restaurant', 'description': 'Artfully presented bistro-style dishes in a rustic, wood-beamed venue with exposed stone walls.', 'address': '106 Rue Saint-Honoré, 75001 Paris, France', 'google_maps_url': 'https://www.google.fr/maps/place/La+R%C3%A9galade+Saint-Honor%C3%A9/@48.8631256,2.3262864,2141m/data=!3m1!1e3!4m10!1m2!2m1!1srestaurant+paris+1er!3m6!1s0x47e66e23d4285ce9:0x99995464560b32fe!8m2!3d48.8616807!4d2.3420098!15sChRyZXN0YXVyYW50IHBhcmlzIDFlcloWIhRyZXN0YXVyYW50IHBhcmlzIDFlcpIBEWZyZW5jaF9yZXN0YXVyYW504AEA!16s%2Fg%2F11cjhzy523?entry=ttu&g_ep=EgoyMDI1MDExNS4wIKXMDSoASAFQAw%3D%3D'}\n",
            "Restaurant 10 : {'name': 'Camélia', 'rating': '4.3', 'price': '€100+', 'restaurant_type': 'French restaurant', 'description': 'Cosmopolitan, expansive restaurant offering eco-conscious fine dining & garden tables.', 'address': '251 Rue Saint-Honoré, 75001 Paris, France', 'google_maps_url': 'https://www.google.fr/maps/place/Cam%C3%A9lia/@48.8669732,2.3090696,2141m/data=!3m2!1e3!5s0x47e66e320b33abd7:0xa9141a12bc7105d7!4m10!1m2!2m1!1srestaurant+paris+1er!3m6!1s0x47e66e32754bf295:0x1c9fe94cea81b2b6!8m2!3d48.8669732!4d2.327094!15sChRyZXN0YXVyYW50IHBhcmlzIDFlcloWIhRyZXN0YXVyYW50IHBhcmlzIDFlcpIBEWZyZW5jaF9yZXN0YXVyYW504AEA!16s%2Fg%2F1tcxnzxc?entry=ttu&g_ep=EgoyMDI1MDExNS4wIKXMDSoASAFQAw%3D%3D'}\n",
            "Restaurant 11 : {'name': 'Café Joséphine', 'rating': '4.3', 'price': '€30–40', 'restaurant_type': 'Restaurant', 'description': 'NaN', 'address': '3 Pl. des Deux Ecus, 75001 Paris, France', 'google_maps_url': 'https://www.google.fr/maps/place/Caf%C3%A9+Jos%C3%A9phine/@48.8631238,2.3262864,2141m/data=!3m1!1e3!4m10!1m2!2m1!1srestaurant+paris+1er!3m6!1s0x47e66f588db2dd75:0x1298f836f41b40e3!8m2!3d48.8628067!4d2.3413233!15sChRyZXN0YXVyYW50IHBhcmlzIDFlcloWIhRyZXN0YXVyYW50IHBhcmlzIDFlcpIBCnJlc3RhdXJhbnTgAQA!16s%2Fg%2F11rsp_627_?entry=ttu&g_ep=EgoyMDI1MDExNS4wIKXMDSoASAFQAw%3D%3D'}\n",
            "Restaurant 12 : {'name': 'Granite', 'rating': '4.7', 'price': '€100+', 'restaurant_type': 'Haute French restaurant', 'description': 'NaN', 'address': '6 Rue Bailleul, 75001 Paris, France', 'google_maps_url': 'https://www.google.fr/maps/place/Granite/@48.8631229,2.3262864,2141m/data=!3m1!1e3!4m10!1m2!2m1!1srestaurant+paris+1er!3m6!1s0x47e66f1a1fb579eb:0x265362fbe8c6f7b5!8m2!3d48.8610438!4d2.3419215!15sChRyZXN0YXVyYW50IHBhcmlzIDFlcloWIhRyZXN0YXVyYW50IHBhcmlzIDFlcpIBF2hhdXRlX2ZyZW5jaF9yZXN0YXVyYW504AEA!16s%2Fg%2F11ny2076x0?entry=ttu&g_ep=EgoyMDI1MDExNS4wIKXMDSoASAFQAw%3D%3D'}\n",
            "Restaurant 13 : {'name': 'Chez Claude', 'rating': '4.1', 'price': '€20–30', 'restaurant_type': 'French restaurant', 'description': 'French bistro classics served in a lively bistro with simple wooden decor & a sidewalk terrace.', 'address': '166 Rue Saint-Honoré, 75001 Paris, France', 'google_maps_url': 'https://www.google.fr/maps/place/Chez+Claude/@48.863122,2.3262864,2141m/data=!3m1!1e3!4m10!1m2!2m1!1srestaurant+paris+1er!3m6!1s0x47e66de91ea7d825:0x9e13174c964955c3!8m2!3d48.862291!4d2.339541!15sChRyZXN0YXVyYW50IHBhcmlzIDFlcloWIhRyZXN0YXVyYW50IHBhcmlzIDFlcpIBEWZyZW5jaF9yZXN0YXVyYW504AEA!16s%2Fg%2F1tdb3l6p?entry=ttu&g_ep=EgoyMDI1MDExNS4wIKXMDSoASAFQAw%3D%3D'}\n",
            "Restaurant 14 : {'name': 'Loup', 'rating': '4.2', 'price': '€20–40', 'restaurant_type': 'French restaurant', 'description': 'Eclectic restaurant offering a carefully sourced traditional menu, organic wine & a heated patio.', 'address': '44, rue du Louvre Angle, Rue Coquillière, 75001 Paris, France', 'google_maps_url': 'https://www.google.fr/maps/place/Loup/@48.863121,2.3262864,2141m/data=!3m1!1e3!4m10!1m2!2m1!1srestaurant+paris+1er!3m6!1s0x47e66e22fc769a23:0x71969504a1fe3282!8m2!3d48.8639064!4d2.3425049!15sChRyZXN0YXVyYW50IHBhcmlzIDFlcloWIhRyZXN0YXVyYW50IHBhcmlzIDFlcpIBEWZyZW5jaF9yZXN0YXVyYW504AEA!16s%2Fg%2F1yhbjt2nv?entry=ttu&g_ep=EgoyMDI1MDExNS4wIKXMDSoASAFQAw%3D%3D'}\n",
            "Restaurant 15 : {'name': 'Le Petit Saint Honoré', 'rating': '4.1', 'price': '$$', 'restaurant_type': 'French restaurant', 'description': 'NaN', 'address': '158 Rue Saint-Honoré, 75001 Paris, France', 'google_maps_url': 'https://www.google.fr/maps/place/Le+Petit+Saint+Honor%C3%A9/@48.8631201,2.3262864,2141m/data=!3m1!1e3!4m10!1m2!2m1!1srestaurant+paris+1er!3m6!1s0x47e66e23f0401d8f:0x394d2b9d1818abe0!8m2!3d48.862105!4d2.339928!15sChRyZXN0YXVyYW50IHBhcmlzIDFlcloWIhRyZXN0YXVyYW50IHBhcmlzIDFlcpIBEWZyZW5jaF9yZXN0YXVyYW504AEA!16s%2Fg%2F1tj9b9k4?entry=ttu&g_ep=EgoyMDI1MDExNS4wIKXMDSoASAFQAw%3D%3D'}\n",
            "Restaurant 16 : {'name': 'Postiche Bistrot', 'rating': '4.6', 'price': '$$', 'restaurant_type': 'French restaurant', 'description': 'Tartares, entrecôtes & fish dishes in a charming, intimate bistro with mirrors & timber accents.', 'address': '62 Rue Jean-Jacques Rousseau, 75001 Paris, France', 'google_maps_url': 'https://www.google.fr/maps/place/Postiche+Bistrot/@48.8631192,2.3262864,2141m/data=!3m1!1e3!4m10!1m2!2m1!1srestaurant+paris+1er!3m6!1s0x47e66e228e1c85b3:0x65064194be6b5842!8m2!3d48.864149!4d2.3437756!15sChRyZXN0YXVyYW50IHBhcmlzIDFlcloWIhRyZXN0YXVyYW50IHBhcmlzIDFlcpIBEWZyZW5jaF9yZXN0YXVyYW504AEA!16s%2Fg%2F12hkjdnjl?entry=ttu&g_ep=EgoyMDI1MDExNS4wIKXMDSoASAFQAw%3D%3D'}\n",
            "Restaurant 17 : {'name': 'Au Bistro', 'rating': '4.4', 'price': '€20–30', 'restaurant_type': 'Bistro', 'description': 'Set menus, classic bistro dishes & charcuterie at a cozy, compact venue with terrace tables.', 'address': '8 Rue du Marché Saint-Honoré, 75001 Paris, France', 'google_maps_url': 'https://www.google.fr/maps/place/Au+Bistro/@48.8660475,2.3132628,2141m/data=!3m1!1e3!4m10!1m2!2m1!1srestaurant+paris+1er!3m6!1s0x47e66e2fd2eff221:0x9b98fb71b635ccfc!8m2!3d48.8660475!4d2.3312872!15sChRyZXN0YXVyYW50IHBhcmlzIDFlcloWIhRyZXN0YXVyYW50IHBhcmlzIDFlcpIBBmJpc3Ryb-ABAA!16s%2Fg%2F1tgh6wk1?entry=ttu&g_ep=EgoyMDI1MDExNS4wIKXMDSoASAFQAw%3D%3D'}\n",
            "Restaurant 18 : {'name': 'NaN', 'rating': 'NaN', 'price': 'NaN', 'restaurant_type': 'NaN', 'description': 'NaN', 'address': 'NaN', 'google_maps_url': 'https://www.google.fr/maps/place/Maison+%C3%94/@48.8655756,2.3118243,2141m/data=!3m1!1e3!4m10!1m2!2m1!1srestaurant+paris+1er!3m6!1s0x47e66e2e3e160983:0x1545c2224b04e98b!8m2!3d48.8655756!4d2.3298487!15sChRyZXN0YXVyYW50IHBhcmlzIDFlcloWIhRyZXN0YXVyYW50IHBhcmlzIDFlcpIBCnJlc3RhdXJhbnTgAQA!16s%2Fg%2F11f40ylg9w?entry=ttu&g_ep=EgoyMDI1MDExNS4wIKXMDSoASAFQAw%3D%3D'}\n",
            "Restaurant 19 : {'name': 'NaN', 'rating': 'NaN', 'price': 'NaN', 'restaurant_type': 'NaN', 'description': 'NaN', 'address': 'NaN', 'google_maps_url': 'https://www.google.fr/maps/search/restaurant+paris+1er/@48.8631165,2.3262863,2141m/data=!3m2!1e3!4b1?entry=ttu&g_ep=EgoyMDI1MDExNS4wIKXMDSoASAFQAw%3D%3D'}\n",
            "Restaurant 20 : {'name': 'Loup', 'rating': '4.2', 'price': '€20–40', 'restaurant_type': 'French restaurant', 'description': 'Eclectic restaurant offering a carefully sourced traditional menu, organic wine & a heated patio.', 'address': '44, rue du Louvre Angle, Rue Coquillière, 75001 Paris, France', 'google_maps_url': 'https://www.google.fr/maps/place/Loup/@48.8639064,2.3244805,2141m/data=!3m1!1e3!4m10!1m2!2m1!1srestaurant+paris+1er!3m6!1s0x47e66e22fc769a23:0x71969504a1fe3282!8m2!3d48.8639064!4d2.3425049!15sChRyZXN0YXVyYW50IHBhcmlzIDFlcloWIhRyZXN0YXVyYW50IHBhcmlzIDFlcpIBEWZyZW5jaF9yZXN0YXVyYW504AEA!16s%2Fg%2F1yhbjt2nv?entry=ttu&g_ep=EgoyMDI1MDExNS4wIKXMDSoASAFQAw%3D%3D'}\n",
            "Erreur avec le restaurant 21 : Message: Element <a class=\"hfpxzc\" href=\"https://www.google.fr/maps/place/Le+Louvre+Ripaille/data=!4m7!3m6!1s0x47e66e21720be1dd:0x722386582967c842!8m2!3d48.8603047!4d2.3412282!16s%2Fg%2F1tggsvc2!19sChIJ3eELciFu5kcRQshnKViGI3I?authuser=0&hl=en&rclk=1\"> is not clickable at point (273,606) because another element <div class=\"L6Bbsd\"> obscures it\n",
            "Stacktrace:\n",
            "RemoteError@chrome://remote/content/shared/RemoteError.sys.mjs:8:8\n",
            "WebDriverError@chrome://remote/content/shared/webdriver/Errors.sys.mjs:193:5\n",
            "ElementClickInterceptedError@chrome://remote/content/shared/webdriver/Errors.sys.mjs:337:5\n",
            "webdriverClickElement@chrome://remote/content/marionette/interaction.sys.mjs:177:11\n",
            "interaction.clickElement@chrome://remote/content/marionette/interaction.sys.mjs:136:11\n",
            "clickElement@chrome://remote/content/marionette/actors/MarionetteCommandsChild.sys.mjs:344:29\n",
            "receiveMessage@chrome://remote/content/marionette/actors/MarionetteCommandsChild.sys.mjs:220:31\n",
            "\n",
            "Données sauvegardées dans data_in_progress/restaurants_paris_1er.csv avec filtrage pour l'arrondissement 01\n"
          ]
        }
      ],
      "source": [
        "#pour paris 1er arrondissement:\n",
        "link=\"https://www.google.fr/maps/search/restaurant+paris+1er/@48.8631336,2.3262864,1993m/data=!3m2!1e3!4b1?entry=ttu&g_ep=EgoyMDI1MDEwOC4wIKXMDSoASAFQAw%3D%3D\"\n",
        "output_file=\"data_in_progress/restaurants_paris_1er.csv\"\n",
        "scrape_google_maps(link, n, output_file, arrondissement='01')"
      ]
    },
    {
      "cell_type": "code",
      "execution_count": 20,
      "metadata": {
        "id": "-lqSQp7zmL8t",
        "outputId": "3683d6b6-a4d2-47f3-f89a-279db30dd944",
        "colab": {
          "base_uri": "https://localhost:8080/"
        }
      },
      "outputs": [
        {
          "output_type": "stream",
          "name": "stdout",
          "text": [
            "Pas de bouton cookies trouvé : Message: Unable to locate element: .VtwTSb > form:nth-child(2) > div:nth-child(1) > div:nth-child(1) > button:nth-child(1); For documentation on this error, please visit: https://www.selenium.dev/documentation/webdriver/troubleshooting/errors#no-such-element-exception\n",
            "Stacktrace:\n",
            "RemoteError@chrome://remote/content/shared/RemoteError.sys.mjs:8:8\n",
            "WebDriverError@chrome://remote/content/shared/webdriver/Errors.sys.mjs:193:5\n",
            "NoSuchElementError@chrome://remote/content/shared/webdriver/Errors.sys.mjs:511:5\n",
            "dom.find/</<@chrome://remote/content/shared/DOM.sys.mjs:136:16\n",
            "\n",
            "Élément de scroll trouvé avec succès !\n",
            "Restaurant 1 : {'name': 'Restaurant Clémentine - Bistrot Terrasse Paris 2', 'rating': '4.7', 'price': '$$', 'restaurant_type': 'French restaurant', 'description': 'Traditional French bistro dishes, plus regional wines, in a snug venue with pavement tables.', 'address': '5 Rue Saint-Marc, 75002 Paris, France', 'google_maps_url': 'https://www.google.fr/maps/place/Restaurant+Cl%C3%A9mentine+-+Bistrot+Terrasse+Paris+2/@48.8675824,2.3312493,2141m/data=!3m2!1e3!5s0x47e66e3c3f22bf19:0xbcf32e1e499f9dbf!4m10!1m2!2m1!1srestaurant+paris+2eme!3m6!1s0x47e66e3c3edfbddf:0xf525fdb8306949c0!8m2!3d48.8702195!4d2.3416098!15sChVyZXN0YXVyYW50IHBhcmlzIDJlbWVaFyIVcmVzdGF1cmFudCBwYXJpcyAyZW1lkgERZnJlbmNoX3Jlc3RhdXJhbnTgAQA!16s%2Fg%2F1tjdw6h_?entry=ttu&g_ep=EgoyMDI1MDExNS4wIKXMDSoASAFQAw%3D%3D'}\n",
            "Restaurant 2 : {'name': 'L’Apibo', 'rating': '4.7', 'price': '€40–50', 'restaurant_type': 'French restaurant', 'description': 'Refined seasonal dishes & wines are offered in this intimate, stylish place.', 'address': '31 Rue Tiquetonne, 75002 Paris, France', 'google_maps_url': 'https://www.google.fr/maps/place/L%E2%80%99Apibo/@48.8675815,2.3312493,2141m/data=!3m2!1e3!5s0x47e66e1845729c11:0x1ae79eb6d99f430e!4m10!1m2!2m1!1srestaurant+paris+2eme!3m6!1s0x47e66e184915bf81:0x3219c24b6d52c232!8m2!3d48.8646829!4d2.3474481!15sChVyZXN0YXVyYW50IHBhcmlzIDJlbWVaFyIVcmVzdGF1cmFudCBwYXJpcyAyZW1lkgERZnJlbmNoX3Jlc3RhdXJhbnTgAQA!16s%2Fg%2F1hc4cty1g?entry=ttu&g_ep=EgoyMDI1MDExNS4wIKXMDSoASAFQAw%3D%3D'}\n",
            "Restaurant 3 : {'name': 'Le Mesturet', 'rating': '4.4', 'price': '€30–40', 'restaurant_type': 'French restaurant', 'description': 'Relaxed option preparing local staples such as fish, meat plates & desserts, plus wine.', 'address': '77 Rue de Richelieu, 75002 Paris, France', 'google_maps_url': 'https://www.google.fr/maps/place/Le+Mesturet/@48.8689597,2.3204124,2141m/data=!3m2!1e3!5s0x47e66e3ba01c998d:0x65bfbf16b6a1b026!4m10!1m2!2m1!1srestaurant+paris+2eme!3m6!1s0x47e66e3b9ff09ead:0xb1a20eea20c6663!8m2!3d48.8689597!4d2.3384368!15sChVyZXN0YXVyYW50IHBhcmlzIDJlbWVaFyIVcmVzdGF1cmFudCBwYXJpcyAyZW1lkgERZnJlbmNoX3Jlc3RhdXJhbnTgAQA!16s%2Fg%2F11c1qr_k4k?entry=ttu&g_ep=EgoyMDI1MDExNS4wIKXMDSoASAFQAw%3D%3D'}\n",
            "Restaurant 4 : {'name': 'Fleur de pavé', 'rating': '4.6', 'price': '€100+', 'restaurant_type': 'Fine dining restaurant', 'description': 'NaN', 'address': '5 Rue Paul Lelong, 75002 Paris, France', 'google_maps_url': 'https://www.google.fr/maps/place/Fleur+de+pav%C3%A9/@48.8675796,2.3312493,2141m/data=!3m1!1e3!4m10!1m2!2m1!1srestaurant+paris+2eme!3m6!1s0x47e66f503ac67777:0xe54f631210354e6c!8m2!3d48.8676824!4d2.343369!15sChVyZXN0YXVyYW50IHBhcmlzIDJlbWVaFyIVcmVzdGF1cmFudCBwYXJpcyAyZW1lkgEWZmluZV9kaW5pbmdfcmVzdGF1cmFudOABAA!16s%2Fg%2F11fl88zbqr?entry=ttu&g_ep=EgoyMDI1MDExNS4wIKXMDSoASAFQAw%3D%3D'}\n",
            "Restaurant 5 : {'name': 'Le Boui-Boui', 'rating': '4.4', 'price': '€20–30', 'restaurant_type': 'French restaurant', 'description': 'NaN', 'address': '11 Rue Marie Stuart, 75002 Paris, France', 'google_maps_url': 'https://www.google.fr/maps/place/Le+Boui-Boui/@48.8675787,2.3312493,2141m/data=!3m1!1e3!4m10!1m2!2m1!1srestaurant+paris+2eme!3m6!1s0x47e66e1835ee5821:0x55d76fb93980956f!8m2!3d48.8649864!4d2.3476219!15sChVyZXN0YXVyYW50IHBhcmlzIDJlbWVaFyIVcmVzdGF1cmFudCBwYXJpcyAyZW1lkgERZnJlbmNoX3Jlc3RhdXJhbnTgAQA!16s%2Fg%2F1tgfpfhr?entry=ttu&g_ep=EgoyMDI1MDExNS4wIKXMDSoASAFQAw%3D%3D'}\n",
            "Restaurant 6 : {'name': 'La Daronne', 'rating': '4.7', 'price': '€50–60', 'restaurant_type': 'Restaurant', 'description': 'NaN', 'address': '10 Rue Marie Stuart, 75002 Paris, France', 'google_maps_url': 'https://www.google.fr/maps/place/La+Daronne/@48.8675778,2.3312493,2141m/data=!3m2!1e3!5s0x47e66e1848bdca1b:0x582f16357e335178!4m10!1m2!2m1!1srestaurant+paris+2eme!3m6!1s0x47e66f28c99ed147:0xa02d94cd28be8aad!8m2!3d48.8651363!4d2.347828!15sChVyZXN0YXVyYW50IHBhcmlzIDJlbWVaFyIVcmVzdGF1cmFudCBwYXJpcyAyZW1lkgEKcmVzdGF1cmFudOABAA!16s%2Fg%2F11hfpych61?entry=ttu&g_ep=EgoyMDI1MDExNS4wIKXMDSoASAFQAw%3D%3D'}\n",
            "Restaurant 7 : {'name': 'Pollop', 'rating': '4.6', 'price': '$$', 'restaurant_type': 'French restaurant', 'description': 'Contemporary, creative bistro fare, splicing French ingredients with Far Eastern flavors.', 'address': \"15 Rue d'Aboukir, 75002 Paris, France\", 'google_maps_url': 'https://www.google.fr/maps/place/Pollop/@48.8675769,2.3312493,2141m/data=!3m1!1e3!4m10!1m2!2m1!1srestaurant+paris+2eme!3m6!1s0x47e66e3d2c900abf:0xd4d1ed23a0d27909!8m2!3d48.866441!4d2.3428873!15sChVyZXN0YXVyYW50IHBhcmlzIDJlbWVaFyIVcmVzdGF1cmFudCBwYXJpcyAyZW1lkgERZnJlbmNoX3Jlc3RhdXJhbnTgAQA!16s%2Fg%2F1pp2x66z1?entry=ttu&g_ep=EgoyMDI1MDExNS4wIKXMDSoASAFQAw%3D%3D'}\n",
            "Restaurant 8 : {'name': 'Le presque bout du monde', 'rating': '4.8', 'price': 'NaN', 'restaurant_type': 'French restaurant', 'description': 'NaN', 'address': '18 Rue Léopold Bellan, 75002 Paris, France', 'google_maps_url': 'https://www.google.fr/maps/place/Le+presque+bout+du+monde/@48.867576,2.3312493,2141m/data=!3m1!1e3!4m10!1m2!2m1!1srestaurant+paris+2eme!3m6!1s0x47e66f33fd51b15d:0xef3d617b2a4e0c05!8m2!3d48.8666855!4d2.3457873!15sChVyZXN0YXVyYW50IHBhcmlzIDJlbWVaFyIVcmVzdGF1cmFudCBwYXJpcyAyZW1lkgERZnJlbmNoX3Jlc3RhdXJhbnTgAQA!16s%2Fg%2F11q3sb4zj_?entry=ttu&g_ep=EgoyMDI1MDExNS4wIKXMDSoASAFQAw%3D%3D'}\n",
            "Restaurant 9 : {'name': \"Le Nom M'échappe\", 'rating': '4.5', 'price': '$$', 'restaurant_type': 'French restaurant', 'description': 'Grilled steaks, seafood & elevated bistro dishes at an airy traditional venue with sidewalk tables.', 'address': '28 Rue Notre Dame des Victoires, 75002 Paris, France', 'google_maps_url': \"https://www.google.fr/maps/place/Le+Nom+M'%C3%A9chappe/@48.867575,2.3312493,2141m/data=!3m1!1e3!4m10!1m2!2m1!1srestaurant+paris+2eme!3m6!1s0x47e66e3cef509e6d:0x46c9b0a8ded58825!8m2!3d48.8679611!4d2.3418705!15sChVyZXN0YXVyYW50IHBhcmlzIDJlbWVaFyIVcmVzdGF1cmFudCBwYXJpcyAyZW1lkgERZnJlbmNoX3Jlc3RhdXJhbnTgAQA!16s%2Fg%2F11b725zqsv?entry=ttu&g_ep=EgoyMDI1MDExNS4wIKXMDSoASAFQAw%3D%3D\"}\n",
            "Restaurant 10 : {'name': 'NaN', 'rating': 'NaN', 'price': 'NaN', 'restaurant_type': 'NaN', 'description': 'NaN', 'address': 'NaN', 'google_maps_url': 'https://www.google.fr/maps/place/Restaurant+Bachaumont/@48.8675741,2.3312493,2141m/data=!3m1!1e3!4m10!1m2!2m1!1srestaurant+paris+2eme!3m6!1s0x47e66e22ab34c8b9:0x4afe01e7e1c58628!8m2!3d48.8662817!4d2.3450414!15sChVyZXN0YXVyYW50IHBhcmlzIDJlbWVaFyIVcmVzdGF1cmFudCBwYXJpcyAyZW1lkgERZnJlbmNoX3Jlc3RhdXJhbnTgAQA!16s%2Fg%2F11b874473l?entry=ttu&g_ep=EgoyMDI1MDExNS4wIKXMDSoASAFQAw%3D%3D'}\n",
            "Restaurant 11 : {'name': 'Shabour', 'rating': '4.7', 'price': '€100+', 'restaurant_type': 'Fine dining restaurant', 'description': 'Imaginative Jerusalem-inspired tasting menu & wines served in a cozy, industrial restaurant.', 'address': '19 Rue Saint-Sauveur, 75002 Paris, France', 'google_maps_url': 'https://www.google.fr/maps/place/Shabour/@48.8675732,2.3312493,2141m/data=!3m1!1e3!4m10!1m2!2m1!1srestaurant+paris+2eme!3m6!1s0x47e66f79e8a7e6cd:0x28bf12d55b1739f6!8m2!3d48.8659211!4d2.3490668!15sChVyZXN0YXVyYW50IHBhcmlzIDJlbWVaFyIVcmVzdGF1cmFudCBwYXJpcyAyZW1lkgEWZmluZV9kaW5pbmdfcmVzdGF1cmFudOABAA!16s%2Fg%2F11fkf64sm6?entry=ttu&g_ep=EgoyMDI1MDExNS4wIKXMDSoASAFQAw%3D%3D'}\n",
            "Restaurant 12 : {'name': 'Vaudeville', 'rating': '4.4', 'price': '$$', 'restaurant_type': 'French restaurant', 'description': 'French classics, seafood, plus a long wine list in an opulent, art deco venue from 1918.', 'address': '29 Rue Vivienne, 75002 Paris, France', 'google_maps_url': 'https://www.google.fr/maps/place/Vaudeville/@48.8675741,2.3312493,2141m/data=!3m1!1e3!4m10!1m2!2m1!1srestaurant+paris+2eme!3m6!1s0x47e66e30705fa5d1:0x125f7a9e795862d9!8m2!3d48.869245!4d2.3401929!15sChVyZXN0YXVyYW50IHBhcmlzIDJlbWVaFyIVcmVzdGF1cmFudCBwYXJpcyAyZW1lkgERZnJlbmNoX3Jlc3RhdXJhbnTgAQA!16s%2Fg%2F11b6d4d8z8?entry=ttu&g_ep=EgoyMDI1MDExNS4wIKXMDSoASAFQAw%3D%3D'}\n",
            "Restaurant 13 : {'name': 'ACCENTS table bourse', 'rating': '4.7', 'price': '€100+', 'restaurant_type': 'Fine dining restaurant', 'description': 'Tasting menus of inventive global cuisine, with wine pairings, in a sleek, understated setting.', 'address': '24 Rue Feydeau, 75002 Paris, France', 'google_maps_url': 'https://www.google.fr/maps/place/ACCENTS+table+bourse/@48.8675741,2.3312493,2141m/data=!3m2!1e3!5s0x47e66e3c736e7cf7:0xce31aac963a78a21!4m10!1m2!2m1!1srestaurant+paris+2eme!3m6!1s0x47e66e3c7389f409:0xb84474bc228e25e6!8m2!3d48.8699637!4d2.3403472!15sChVyZXN0YXVyYW50IHBhcmlzIDJlbWVaFyIVcmVzdGF1cmFudCBwYXJpcyAyZW1lkgEWZmluZV9kaW5pbmdfcmVzdGF1cmFudOABAA!16s%2Fg%2F11csrfjmtc?entry=ttu&g_ep=EgoyMDI1MDExNS4wIKXMDSoASAFQAw%3D%3D'}\n",
            "Restaurant 14 : {'name': 'Brasserie Rosie Lou', 'rating': '4.7', 'price': '€20–30', 'restaurant_type': 'Brasserie', 'description': 'NaN', 'address': '31 Bd de Bonne Nouvelle, 75002 Paris, France', 'google_maps_url': 'https://www.google.fr/maps/place/Brasserie+Rosie+Lou/@48.8675741,2.3312493,2141m/data=!3m1!1e3!4m10!1m2!2m1!1srestaurant+paris+2eme!3m6!1s0x47e66f9057994313:0xdfaee7133068ce3b!8m2!3d48.8702844!4d2.348848!15sChVyZXN0YXVyYW50IHBhcmlzIDJlbWVaFyIVcmVzdGF1cmFudCBwYXJpcyAyZW1lkgEUcmVzdGF1cmFudF9icmFzc2VyaWXgAQA!16s%2Fg%2F11kk4slkyg?entry=ttu&g_ep=EgoyMDI1MDExNS4wIKXMDSoASAFQAw%3D%3D'}\n",
            "Restaurant 15 : {'name': 'Le Grand Colbert', 'rating': '4.2', 'price': '$$$', 'restaurant_type': 'Brasserie', 'description': 'Opulent, plant-filled brasserie with a menu of classics like oysters & steak, plus a long wine list.', 'address': '2 Rue Vivienne, 75002 Paris, France', 'google_maps_url': 'https://www.google.fr/maps/place/Le+Grand+Colbert/@48.8666252,2.3209803,2141m/data=!3m1!1e3!4m10!1m2!2m1!1srestaurant+paris+2eme!3m6!1s0x47e66e3b5a9db2a5:0xf08fff6ce3ae3440!8m2!3d48.8666252!4d2.3390047!15sChVyZXN0YXVyYW50IHBhcmlzIDJlbWVaFyIVcmVzdGF1cmFudCBwYXJpcyAyZW1lkgEUcmVzdGF1cmFudF9icmFzc2VyaWXgAQA!16s%2Fg%2F1ym_l60wn?entry=ttu&g_ep=EgoyMDI1MDExNS4wIKXMDSoASAFQAw%3D%3D'}\n",
            "Restaurant 16 : {'name': 'Frenchie', 'rating': '4.5', 'price': '€100+', 'restaurant_type': 'French restaurant', 'description': \"Rustic-chic stop for seasonal French dishes with global influences, plus chef's carte blanche menus.\", 'address': '5 Rue du Nil, 75002 Paris, France', 'google_maps_url': 'https://www.google.fr/maps/place/Frenchie/@48.8675741,2.3312493,2141m/data=!3m1!1e3!4m10!1m2!2m1!1srestaurant+paris+2eme!3m6!1s0x47e66e17a6bac05f:0x933306126d5b9f03!8m2!3d48.8677099!4d2.3479183!15sChVyZXN0YXVyYW50IHBhcmlzIDJlbWVaFyIVcmVzdGF1cmFudCBwYXJpcyAyZW1lkgERZnJlbmNoX3Jlc3RhdXJhbnTgAQA!16s%2Fg%2F1x6q11w3?entry=ttu&g_ep=EgoyMDI1MDExNS4wIKXMDSoASAFQAw%3D%3D'}\n",
            "Restaurant 17 : {'name': 'dalia', 'rating': '4.6', 'price': '€30–40', 'restaurant_type': 'Mediterranean restaurant', 'description': 'Trendy restaurant offering Eastern Mediterranean-inspired cuisine, plus cocktails.', 'address': '93 Rue Montmartre, 75002 Paris, France', 'google_maps_url': 'https://www.google.fr/maps/place/dalia/@48.8675741,2.3312493,2141m/data=!3m1!1e3!4m10!1m2!2m1!1srestaurant+paris+2eme!3m6!1s0x47e66f55174c9f43:0xf220b18c0053552a!8m2!3d48.867868!4d2.3435539!15sChVyZXN0YXVyYW50IHBhcmlzIDJlbWVaFyIVcmVzdGF1cmFudCBwYXJpcyAyZW1lkgEYbWVkaXRlcnJhbmVhbl9yZXN0YXVyYW504AEA!16s%2Fg%2F11nmj865tm?entry=ttu&g_ep=EgoyMDI1MDExNS4wIKXMDSoASAFQAw%3D%3D'}\n",
            "Restaurant 18 : {'name': 'Aux Crus de Bourgogne', 'rating': '4.5', 'price': 'NaN', 'restaurant_type': 'Bistro', 'description': 'Classic regional dishes & a long wine list in a vintage-chic bistro with sidewalk tables.', 'address': '3 Rue Bachaumont, 75002 Paris, France', 'google_maps_url': 'https://www.google.fr/maps/place/Aux+Crus+de+Bourgogne/@48.8675741,2.3312493,2141m/data=!3m1!1e3!4m10!1m2!2m1!1srestaurant+paris+2eme!3m6!1s0x47e66e1818ced2b5:0x33ca79ee7681fac0!8m2!3d48.8658261!4d2.3465718!15sChVyZXN0YXVyYW50IHBhcmlzIDJlbWVaFyIVcmVzdGF1cmFudCBwYXJpcyAyZW1lkgEGYmlzdHJv4AEA!16s%2Fg%2F1td_9_6j?entry=ttu&g_ep=EgoyMDI1MDExNS4wIKXMDSoASAFQAw%3D%3D'}\n",
            "Restaurant 19 : {'name': 'Brasserie Dubillot', 'rating': '4.6', 'price': '€20–30', 'restaurant_type': 'French restaurant', 'description': 'Colorful brasserie offering seasonal menus, regional dishes & cocktails, plus a street-side terrace.', 'address': '222 Rue St Denis, 75002 Paris, France', 'google_maps_url': 'https://www.google.fr/maps/place/Brasserie+Dubillot/@48.8675741,2.3312493,2141m/data=!3m1!1e3!4m11!1m3!2m2!1srestaurant+paris+2eme!6e5!3m6!1s0x47e66f51538a2d07:0x335b77240e40e03d!8m2!3d48.8680791!4d2.3519853!15sChVyZXN0YXVyYW50IHBhcmlzIDJlbWVaFyIVcmVzdGF1cmFudCBwYXJpcyAyZW1lkgERZnJlbmNoX3Jlc3RhdXJhbnTgAQA!16s%2Fg%2F11r3c1jcb7?entry=ttu&g_ep=EgoyMDI1MDExNS4wIKXMDSoASAFQAw%3D%3D'}\n",
            "Restaurant 20 : {'name': 'Alma', 'rating': '4.6', 'price': '€20–40', 'restaurant_type': 'Restaurant', 'description': 'Low-key hangout offering wine, cocktails, beer & small plates inspired by Corsican cuisine.', 'address': '10 Rue Mandar, 75002 Paris, France', 'google_maps_url': 'https://www.google.fr/maps/place/Alma/@48.8675741,2.3312493,2141m/data=!3m1!1e3!4m10!1m2!2m1!1srestaurant+paris+2eme!3m6!1s0x47e66f71f4f579f9:0x26db5d601de2d850!8m2!3d48.8657439!4d2.3458021!15sChVyZXN0YXVyYW50IHBhcmlzIDJlbWVaFyIVcmVzdGF1cmFudCBwYXJpcyAyZW1lkgEKcmVzdGF1cmFudOABAA!16s%2Fg%2F11fn2w27gg?entry=ttu&g_ep=EgoyMDI1MDExNS4wIKXMDSoASAFQAw%3D%3D'}\n",
            "Erreur avec le restaurant 21 : Message: Element <a class=\"hfpxzc\" href=\"https://www.google.fr/maps/place/RESTAURANT+ERH/data=!4m7!3m6!1s0x47e66e19bda89245:0xc0f53350e161e964!8m2!3d48.8644303!4d2.3490508!16s%2Fg%2F11dfjzk81x!19sChIJRZKovRlu5kcRZOlh4VAz9cA?authuser=0&hl=en&rclk=1\"> is not clickable at point (273,606) because another element <div class=\"L6Bbsd\"> obscures it\n",
            "Stacktrace:\n",
            "RemoteError@chrome://remote/content/shared/RemoteError.sys.mjs:8:8\n",
            "WebDriverError@chrome://remote/content/shared/webdriver/Errors.sys.mjs:193:5\n",
            "ElementClickInterceptedError@chrome://remote/content/shared/webdriver/Errors.sys.mjs:337:5\n",
            "webdriverClickElement@chrome://remote/content/marionette/interaction.sys.mjs:177:11\n",
            "interaction.clickElement@chrome://remote/content/marionette/interaction.sys.mjs:136:11\n",
            "clickElement@chrome://remote/content/marionette/actors/MarionetteCommandsChild.sys.mjs:344:29\n",
            "receiveMessage@chrome://remote/content/marionette/actors/MarionetteCommandsChild.sys.mjs:220:31\n",
            "\n",
            "Données sauvegardées dans data_in_progress/restaurants_paris_2eme.csv avec filtrage pour l'arrondissement 02\n"
          ]
        }
      ],
      "source": [
        "#pour paris 2eme arrondissement:\n",
        "link=\"https://www.google.fr/maps/search/restaurant+paris+2eme/@48.867583,2.3312493,1993m/data=!3m2!1e3!4b1?entry=ttu&g_ep=EgoyMDI1MDEwOC4wIKXMDSoASAFQAw%3D%3D\"\n",
        "output_file=\"data_in_progress/restaurants_paris_2eme.csv\"\n",
        "scrape_google_maps(link, n, output_file, arrondissement='02')"
      ]
    },
    {
      "cell_type": "code",
      "execution_count": 21,
      "metadata": {
        "id": "7wGyRcTlmL8v",
        "outputId": "cd36ccba-ee11-4a19-fd45-5da51a79287c",
        "colab": {
          "base_uri": "https://localhost:8080/"
        }
      },
      "outputs": [
        {
          "output_type": "stream",
          "name": "stdout",
          "text": [
            "Pas de bouton cookies trouvé : Message: Unable to locate element: .VtwTSb > form:nth-child(2) > div:nth-child(1) > div:nth-child(1) > button:nth-child(1); For documentation on this error, please visit: https://www.selenium.dev/documentation/webdriver/troubleshooting/errors#no-such-element-exception\n",
            "Stacktrace:\n",
            "RemoteError@chrome://remote/content/shared/RemoteError.sys.mjs:8:8\n",
            "WebDriverError@chrome://remote/content/shared/webdriver/Errors.sys.mjs:193:5\n",
            "NoSuchElementError@chrome://remote/content/shared/webdriver/Errors.sys.mjs:511:5\n",
            "dom.find/</<@chrome://remote/content/shared/DOM.sys.mjs:136:16\n",
            "\n",
            "Élément de scroll trouvé avec succès !\n",
            "Restaurant 1 : {'name': 'Terra', 'rating': '4.6', 'price': 'NaN', 'restaurant_type': 'Restaurant', 'description': 'High-end sharing plates & natural wines are served in this fashionable, evening-only restaurant.', 'address': '21 Rue des Gravilliers, 75003 Paris, France', 'google_maps_url': 'https://www.google.fr/maps/place/Terra/@48.8675824,2.3312493,2141m/data=!3m1!1e3!4m10!1m2!2m1!1srestaurant+paris+3!3m6!1s0x47e66e0529100001:0xbbfca0e6edbaf291!8m2!3d48.8637426!4d2.3569278!15sChJyZXN0YXVyYW50IHBhcmlzIDNaFCIScmVzdGF1cmFudCBwYXJpcyAzkgEKcmVzdGF1cmFudOABAA!16s%2Fg%2F11hcxrr54k?entry=ttu&g_ep=EgoyMDI1MDExNS4wIKXMDSoASAFQAw%3D%3D'}\n",
            "Restaurant 2 : {'name': 'Dessance', 'rating': '4.6', 'price': '€100+', 'restaurant_type': 'Haute French restaurant', 'description': 'Chic bistro renowned for creative gastronomy, with tasting menus & drink pairings.', 'address': '74 Rue des Archives, 75003 Paris, France', 'google_maps_url': 'https://www.google.fr/maps/place/Dessance/@48.8675824,2.3312493,2141m/data=!3m1!1e3!4m10!1m2!2m1!1srestaurant+paris+3!3m6!1s0x47e66e045d3492ef:0xb2bb6a41a670941c!8m2!3d48.8622815!4d2.3598519!15sChJyZXN0YXVyYW50IHBhcmlzIDNaFCIScmVzdGF1cmFudCBwYXJpcyAzkgEXaGF1dGVfZnJlbmNoX3Jlc3RhdXJhbnTgAQA!16s%2Fg%2F11bt_h4yln?entry=ttu&g_ep=EgoyMDI1MDExNS4wIKXMDSoASAFQAw%3D%3D'}\n",
            "Restaurant 3 : {'name': 'Le Marais Restaurant Paris', 'rating': '4.5', 'price': '€20–30', 'restaurant_type': 'Mediterranean restaurant', 'description': 'Prime steaks, burgers, salads & desserts, plus beer & wine, in an easygoing venue with a courtyard.', 'address': '47 R. de Turbigo, 75003 Paris, France', 'google_maps_url': 'https://www.google.fr/maps/place/Le+Marais+Restaurant+Paris/@48.8675824,2.3312493,2141m/data=!3m1!1e3!4m10!1m2!2m1!1srestaurant+paris+3!3m6!1s0x47e66ff993d48ed1:0x67566da1302e03c5!8m2!3d48.865138!4d2.3540023!15sChJyZXN0YXVyYW50IHBhcmlzIDNaFCIScmVzdGF1cmFudCBwYXJpcyAzkgEYbWVkaXRlcnJhbmVhbl9yZXN0YXVyYW504AEA!16s%2Fg%2F11ny1kffq3?entry=ttu&g_ep=EgoyMDI1MDExNS4wIKXMDSoASAFQAw%3D%3D'}\n",
            "Restaurant 4 : {'name': 'Le MaZenay', 'rating': '4.6', 'price': '$$$', 'restaurant_type': 'French restaurant', 'description': 'Farm-to-table French dishes made with seasonal ingredients, served in a sophisticated setting.', 'address': '46 Rue de Montmorency, 75003 Paris, France', 'google_maps_url': 'https://www.google.fr/maps/place/Le+MaZenay/@48.8675824,2.3312493,2141m/data=!3m1!1e3!4m10!1m2!2m1!1srestaurant+paris+3!3m6!1s0x47e66e1a559bb0bd:0x8b5b8697dca5c57c!8m2!3d48.8636402!4d2.3533729!15sChJyZXN0YXVyYW50IHBhcmlzIDNaFCIScmVzdGF1cmFudCBwYXJpcyAzkgERZnJlbmNoX3Jlc3RhdXJhbnTgAQA!16s%2Fg%2F11ckq_p7f8?entry=ttu&g_ep=EgoyMDI1MDExNS4wIKXMDSoASAFQAw%3D%3D'}\n",
            "Restaurant 5 : {'name': \"Restaurant L'Oyat\", 'rating': '4.7', 'price': 'NaN', 'restaurant_type': 'French restaurant', 'description': 'NaN', 'address': '11 Rue Notre Dame de Nazareth, 75003 Paris, France', 'google_maps_url': \"https://www.google.fr/maps/place/Restaurant+L'Oyat/@48.8670676,2.3425309,2141m/data=!3m1!1e3!4m10!1m2!2m1!1srestaurant+paris+3!3m6!1s0x47e66f1dd2571e65:0xf6c3eee0bffe7528!8m2!3d48.8670676!4d2.3605553!15sChJyZXN0YXVyYW50IHBhcmlzIDNaFCIScmVzdGF1cmFudCBwYXJpcyAzkgERZnJlbmNoX3Jlc3RhdXJhbnTgAQA!16s%2Fg%2F11mfzt9h6x?entry=ttu&g_ep=EgoyMDI1MDExNS4wIKXMDSoASAFQAw%3D%3D\"}\n",
            "Restaurant 6 : {'name': 'Au Fil des Saisons', 'rating': '4.4', 'price': '€30–40', 'restaurant_type': 'French restaurant', 'description': 'Cozy bistro with exposed-stone walls & a patio, offering classic meals with seasonal ingredients.', 'address': '6 Rue des Fontaines du Temple, 75003 Paris, France', 'google_maps_url': 'https://www.google.fr/maps/place/Au+Fil+des+Saisons/@48.8675824,2.3312493,2141m/data=!3m1!1e3!4m10!1m2!2m1!1srestaurant+paris+3!3m6!1s0x47e66e0583f35751:0x8c240c8dc680da9b!8m2!3d48.865636!4d2.359565!15sChJyZXN0YXVyYW50IHBhcmlzIDNaFCIScmVzdGF1cmFudCBwYXJpcyAzkgERZnJlbmNoX3Jlc3RhdXJhbnTgAQA!16s%2Fg%2F1td0mb3w?entry=ttu&g_ep=EgoyMDI1MDExNS4wIKXMDSoASAFQAw%3D%3D'}\n",
            "Restaurant 7 : {'name': 'Bonnard - Restaurant végétarien à Paris 3', 'rating': '4.7', 'price': 'NaN', 'restaurant_type': 'Vegetarian restaurant', 'description': 'NaN', 'address': '18 Rue des Gravilliers, 75003 Paris, France', 'google_maps_url': 'https://www.google.fr/maps/place/Bonnard+-+Restaurant+v%C3%A9g%C3%A9tarien+%C3%A0+Paris+3/@48.8675824,2.3312493,2141m/data=!3m1!1e3!4m10!1m2!2m1!1srestaurant+paris+3!3m6!1s0x47e66f8b2df1595b:0xcaa853cc029efd77!8m2!3d48.8639339!4d2.3573336!15sChJyZXN0YXVyYW50IHBhcmlzIDNaFCIScmVzdGF1cmFudCBwYXJpcyAzkgEVdmVnZXRhcmlhbl9yZXN0YXVyYW504AEA!16s%2Fg%2F11r8tt3rnk?entry=ttu&g_ep=EgoyMDI1MDExNS4wIKXMDSoASAFQAw%3D%3D'}\n",
            "Restaurant 8 : {'name': 'Lucky Paris 3 - 人间烟火', 'rating': '4.9', 'price': '€10–20', 'restaurant_type': 'Asian restaurant', 'description': 'NaN', 'address': '47 Rue au Maire, 75003 Paris, France', 'google_maps_url': 'https://www.google.fr/maps/place/Lucky+Paris+3+-+%E4%BA%BA%E9%97%B4%E7%83%9F%E7%81%AB/@48.8675824,2.3312493,2141m/data=!3m1!1e3!4m10!1m2!2m1!1srestaurant+paris+3!3m6!1s0x47e66f318b17b957:0x6ce3ca679d15494!8m2!3d48.8648015!4d2.3550727!15sChJyZXN0YXVyYW50IHBhcmlzIDNaFCIScmVzdGF1cmFudCBwYXJpcyAzkgEQYXNpYW5fcmVzdGF1cmFudOABAA!16s%2Fg%2F11vyrd7rh8?entry=ttu&g_ep=EgoyMDI1MDExNS4wIKXMDSoASAFQAw%3D%3D'}\n",
            "Restaurant 9 : {'name': 'Le Jackpot', 'rating': '4.7', 'price': '€20–40', 'restaurant_type': 'Modern European restaurant', 'description': 'Quaint spot with exposed-wood beams featuring seasonal & vegetarian plates, plus wine & beer.', 'address': '10 Rue des Haudriettes, 75003 Paris, France', 'google_maps_url': 'https://www.google.fr/maps/place/Le+Jackpot/@48.8675824,2.3312493,2141m/data=!3m1!1e3!4m10!1m2!2m1!1srestaurant+paris+3!3m6!1s0x47e66e04bc5b3c95:0x61d0eef9c483865f!8m2!3d48.8618207!4d2.357337!15sChJyZXN0YXVyYW50IHBhcmlzIDNaFCIScmVzdGF1cmFudCBwYXJpcyAzkgEabW9kZXJuX2V1cm9wZWFuX3Jlc3RhdXJhbnTgAQA!16s%2Fg%2F11hb61sj3w?entry=ttu&g_ep=EgoyMDI1MDExNS4wIKXMDSoASAFQAw%3D%3D'}\n",
            "Restaurant 10 : {'name': 'Les Enfants Rouges', 'rating': '4.5', 'price': '$$', 'restaurant_type': 'Modern French restaurant', 'description': 'Classic French cuisine with a Japanese flair, artfully presented in a modern bistro setting.', 'address': '9 Rue de Beauce, 75003 Paris, France', 'google_maps_url': 'https://www.google.fr/maps/place/Les+Enfants+Rouges/@48.863083,2.3432039,2141m/data=!3m1!1e3!4m10!1m2!2m1!1srestaurant+paris+3!3m6!1s0x47e66e042fe169df:0xbe745df5042d51e8!8m2!3d48.863083!4d2.3612283!15sChJyZXN0YXVyYW50IHBhcmlzIDNaFCIScmVzdGF1cmFudCBwYXJpcyAzkgEYbW9kZXJuX2ZyZW5jaF9yZXN0YXVyYW504AEA!16s%2Fg%2F1tc_3dd2?entry=ttu&g_ep=EgoyMDI1MDExNS4wIKXMDSoASAFQAw%3D%3D'}\n",
            "Restaurant 11 : {'name': 'Camille', 'rating': '4.3', 'price': '$$', 'restaurant_type': 'French restaurant', 'description': 'Intimate, homestyle bistro/brasserie known for duck, steaks & cocktails, with a sidewalk terrace.', 'address': '24 Rue des Francs Bourgeois, 75003 Paris, France', 'google_maps_url': 'https://www.google.fr/maps/place/Camille/@48.8578099,2.3427014,2141m/data=!3m1!1e3!4m10!1m2!2m1!1srestaurant+paris+3!3m6!1s0x47e66e023088c09b:0xc9fd12e8f33ce699!8m2!3d48.8578099!4d2.3607258!15sChJyZXN0YXVyYW50IHBhcmlzIDNaFCIScmVzdGF1cmFudCBwYXJpcyAzkgERZnJlbmNoX3Jlc3RhdXJhbnTgAQA!16s%2Fg%2F1tdj3j6b?entry=ttu&g_ep=EgoyMDI1MDExNS4wIKXMDSoASAFQAw%3D%3D'}\n",
            "Restaurant 12 : {'name': \"L'INAPERÇU\", 'rating': '4.6', 'price': 'NaN', 'restaurant_type': 'French restaurant', 'description': 'NaN', 'address': '65 Rue Beaubourg, 75003 Paris, France', 'google_maps_url': \"https://www.google.fr/maps/place/L'INAPER%C3%87U/@48.8675824,2.3312493,2141m/data=!3m1!1e3!4m10!1m2!2m1!1srestaurant+paris+3!3m6!1s0x47e66fedc1dc63a1:0xff465bdb59d03841!8m2!3d48.8632313!4d2.3544069!15sChJyZXN0YXVyYW50IHBhcmlzIDNaFCIScmVzdGF1cmFudCBwYXJpcyAzkgERZnJlbmNoX3Jlc3RhdXJhbnTgAQA!16s%2Fg%2F11jzpjt9h8?entry=ttu&g_ep=EgoyMDI1MDExNS4wIKXMDSoASAFQAw%3D%3D\"}\n",
            "Restaurant 13 : {'name': 'Sacré Frenchy !', 'rating': '4.6', 'price': '$$', 'restaurant_type': 'Restaurant', 'description': 'Warm French restaurant serving up classic sharing plates & meat dishes, plus salads & wines.', 'address': '58 Bd de Sébastopol, 75003 Paris, France', 'google_maps_url': 'https://www.google.fr/maps/place/Sacr%C3%A9+Frenchy+!/@48.8675824,2.3312493,2141m/data=!3m1!1e3!4m10!1m2!2m1!1srestaurant+paris+3!3m6!1s0x47e66fac7287d84d:0xb69d1c31a8140156!8m2!3d48.8632396!4d2.3511546!15sChJyZXN0YXVyYW50IHBhcmlzIDNaFCIScmVzdGF1cmFudCBwYXJpcyAzkgEKcmVzdGF1cmFudOABAA!16s%2Fg%2F11fj6ss1kb?entry=ttu&g_ep=EgoyMDI1MDExNS4wIKXMDSoASAFQAw%3D%3D'}\n",
            "Restaurant 14 : {'name': 'Yansai 3 - Restaurant asiatique Paris - Guabao Taiwanais', 'rating': '4.8', 'price': '€10–20', 'restaurant_type': 'Hot pot restaurant', 'description': 'NaN', 'address': '88 Rue des Gravilliers, 75003 Paris, France', 'google_maps_url': 'https://www.google.fr/maps/place/Yansai+3+-+Restaurant+asiatique+Paris+-+Guabao+Taiwanais/@48.8675824,2.3312493,2141m/data=!3m1!1e3!4m10!1m2!2m1!1srestaurant+paris+3!3m6!1s0x47e66f59b18cff53:0x2cd31ee6b1bba847!8m2!3d48.86469!4d2.354006!15sChJyZXN0YXVyYW50IHBhcmlzIDNaFCIScmVzdGF1cmFudCBwYXJpcyAzkgESaG90X3BvdF9yZXN0YXVyYW504AEA!16s%2Fg%2F11stp8tnnn?entry=ttu&g_ep=EgoyMDI1MDExNS4wIKXMDSoASAFQAw%3D%3D'}\n",
            "Restaurant 15 : {'name': 'Les Chartrons', 'rating': '4.7', 'price': '€20–30', 'restaurant_type': 'Restaurant', 'description': 'NaN', 'address': '2 Rue au Maire, 75003 Paris, France', 'google_maps_url': 'https://www.google.fr/maps/place/Les+Chartrons/@48.8675824,2.3312493,2141m/data=!3m1!1e3!4m10!1m2!2m1!1srestaurant+paris+3!3m6!1s0x47e66f4ccc29c1a3:0x5777aafefc676752!8m2!3d48.8644285!4d2.3578508!15sChJyZXN0YXVyYW50IHBhcmlzIDNaFCIScmVzdGF1cmFudCBwYXJpcyAzkgEKcmVzdGF1cmFudOABAA!16s%2Fg%2F11fcsqs24x?entry=ttu&g_ep=EgoyMDI1MDExNS4wIKXMDSoASAFQAw%3D%3D'}\n",
            "Erreur avec le restaurant 16 : Message: Element <a class=\"hfpxzc\" href=\"https://www.google.fr/maps/place/L%27INAPER%C3%87U/data=!4m7!3m6!1s0x47e66fedc1dc63a1:0xff465bdb59d03841!8m2!3d48.8632313!4d2.3544069!16s%2Fg%2F11jzpjt9h8!19sChIJoWPcwe1v5kcRQTjQWdtbRv8?authuser=0&hl=en&rclk=1\"> is not clickable at point (273,606) because another element <div class=\"L6Bbsd\"> obscures it\n",
            "Stacktrace:\n",
            "RemoteError@chrome://remote/content/shared/RemoteError.sys.mjs:8:8\n",
            "WebDriverError@chrome://remote/content/shared/webdriver/Errors.sys.mjs:193:5\n",
            "ElementClickInterceptedError@chrome://remote/content/shared/webdriver/Errors.sys.mjs:337:5\n",
            "webdriverClickElement@chrome://remote/content/marionette/interaction.sys.mjs:177:11\n",
            "interaction.clickElement@chrome://remote/content/marionette/interaction.sys.mjs:136:11\n",
            "clickElement@chrome://remote/content/marionette/actors/MarionetteCommandsChild.sys.mjs:344:29\n",
            "receiveMessage@chrome://remote/content/marionette/actors/MarionetteCommandsChild.sys.mjs:220:31\n",
            "\n",
            "Données sauvegardées dans data_in_progress/restaurants_paris_3eme.csv avec filtrage pour l'arrondissement 03\n"
          ]
        }
      ],
      "source": [
        "#pour paris 3eme arrondissement:\n",
        "link=\"https://www.google.fr/maps/search/restaurant+paris+3/@48.8675824,2.3312493,1993m/data=!3m1!1e3?entry=ttu&g_ep=EgoyMDI1MDEwOC4wIKXMDSoASAFQAw%3D%3D\"\n",
        "output_file=\"data_in_progress/restaurants_paris_3eme.csv\"\n",
        "scrape_google_maps(link, n, output_file, arrondissement='03')"
      ]
    },
    {
      "cell_type": "code",
      "execution_count": 22,
      "metadata": {
        "id": "CYuzKMCDmL8v",
        "outputId": "2f8a69eb-17ef-4a71-f196-71bcfbcc447d",
        "colab": {
          "base_uri": "https://localhost:8080/"
        }
      },
      "outputs": [
        {
          "output_type": "stream",
          "name": "stdout",
          "text": [
            "Pas de bouton cookies trouvé : Message: Unable to locate element: .VtwTSb > form:nth-child(2) > div:nth-child(1) > div:nth-child(1) > button:nth-child(1); For documentation on this error, please visit: https://www.selenium.dev/documentation/webdriver/troubleshooting/errors#no-such-element-exception\n",
            "Stacktrace:\n",
            "RemoteError@chrome://remote/content/shared/RemoteError.sys.mjs:8:8\n",
            "WebDriverError@chrome://remote/content/shared/webdriver/Errors.sys.mjs:193:5\n",
            "NoSuchElementError@chrome://remote/content/shared/webdriver/Errors.sys.mjs:511:5\n",
            "dom.find/</<@chrome://remote/content/shared/DOM.sys.mjs:136:16\n",
            "\n",
            "Élément de scroll trouvé avec succès !\n",
            "Restaurant 1 : {'name': 'Au Bourguignon du Marais', 'rating': '4.6', 'price': '$$', 'restaurant_type': 'French restaurant', 'description': 'Escargot, beef bourguignon & other traditional Burgundy cuisine in a polished restaurant.', 'address': '52 Rue François Miron, 75004 Paris, France', 'google_maps_url': 'https://www.google.fr/maps/place/Au+Bourguignon+du+Marais/@48.8632776,2.3384501,4282m/data=!3m1!1e3!4m10!1m2!2m1!1srestaurant+paris+4!3m6!1s0x47e671fd65196a63:0xe84c235395093b65!8m2!3d48.8554413!4d2.3575828!15sChJyZXN0YXVyYW50IHBhcmlzIDRaFCIScmVzdGF1cmFudCBwYXJpcyA0kgERZnJlbmNoX3Jlc3RhdXJhbnTgAQA!16s%2Fg%2F1tgg989f?entry=ttu&g_ep=EgoyMDI1MDExNS4wIKXMDSoASAFQAw%3D%3D'}\n",
            "Restaurant 2 : {'name': 'Salento Marais', 'rating': '4.6', 'price': '€20–30', 'restaurant_type': 'Italian restaurant', 'description': 'Artfully presented antipasti, pasta & Italian mains in an elegant, retro-chic venue with a terrace.', 'address': '6 Rue de Jarente, 75004 Paris, France', 'google_maps_url': 'https://www.google.fr/maps/place/Salento+Marais/@48.8632739,2.3384501,4282m/data=!3m1!1e3!4m10!1m2!2m1!1srestaurant+paris+4!3m6!1s0x47e66e1c949bc871:0x35396d02021ea2b4!8m2!3d48.855741!4d2.3629613!15sChJyZXN0YXVyYW50IHBhcmlzIDRaFCIScmVzdGF1cmFudCBwYXJpcyA0kgESaXRhbGlhbl9yZXN0YXVyYW504AEA!16s%2Fg%2F1tcyds90?entry=ttu&g_ep=EgoyMDI1MDExNS4wIKXMDSoASAFQAw%3D%3D'}\n",
            "Restaurant 3 : {'name': 'Le Colimaçon', 'rating': '4.6', 'price': '$$', 'restaurant_type': 'French restaurant', 'description': 'Creative takes on French bistro dishes in a snug space with raw-stone walls & wooden beams.', 'address': '44 Rue Vieille du Temple, 75004 Paris, France', 'google_maps_url': 'https://www.google.fr/maps/place/Le+Colima%C3%A7on/@48.8632776,2.3384501,4282m/data=!3m2!1e3!5s0x47e66e02fa2e3db9:0xeae05d70606e55eb!4m10!1m2!2m1!1srestaurant+paris+4!3m6!1s0x47e66e02fb1790d3:0x2c3aa6eb209360fb!8m2!3d48.858012!4d2.3580635!15sChJyZXN0YXVyYW50IHBhcmlzIDRaFCIScmVzdGF1cmFudCBwYXJpcyA0kgERZnJlbmNoX3Jlc3RhdXJhbnTgAQA!16s%2Fg%2F1tqnky4m?entry=ttu&g_ep=EgoyMDI1MDExNS4wIKXMDSoASAFQAw%3D%3D'}\n",
            "Restaurant 4 : {'name': 'Les Mauvais Garçons', 'rating': '4.3', 'price': '$$', 'restaurant_type': 'Restaurant', 'description': 'NaN', 'address': '4 Rue des Mauvais Garçons, 75004 Paris, France', 'google_maps_url': 'https://www.google.fr/maps/place/Les+Mauvais+Gar%C3%A7ons/@48.8632776,2.3384501,4282m/data=!3m1!1e3!4m10!1m2!2m1!1srestaurant+paris+4!3m6!1s0x47e66e1d4f697a7d:0x6ed4bc73ad2bb7cd!8m2!3d48.8568105!4d2.355202!15sChJyZXN0YXVyYW50IHBhcmlzIDRaFCIScmVzdGF1cmFudCBwYXJpcyA0kgEKcmVzdGF1cmFudOABAA!16s%2Fg%2F1vcjlkbw?entry=ttu&g_ep=EgoyMDI1MDExNS4wIKXMDSoASAFQAw%3D%3D'}\n",
            "Restaurant 5 : {'name': 'Chez Mademoiselle', 'rating': '4.6', 'price': '$$', 'restaurant_type': 'French restaurant', 'description': 'Informal restaurant with a terrace serving local staples including seafood & meat dishes, plus wine.', 'address': '16 Rue Charlemagne, 75004 Paris, France', 'google_maps_url': 'https://www.google.fr/maps/place/Chez+Mademoiselle/@48.8632776,2.3384501,4282m/data=!3m1!1e3!4m10!1m2!2m1!1srestaurant+paris+4!3m6!1s0x47e671fdc0d3b541:0x6003c91e7bd7b5af!8m2!3d48.854376!4d2.3599826!15sChJyZXN0YXVyYW50IHBhcmlzIDRaFCIScmVzdGF1cmFudCBwYXJpcyA0kgERZnJlbmNoX3Jlc3RhdXJhbnTgAQA!16s%2Fg%2F1ydpvbhn8?entry=ttu&g_ep=EgoyMDI1MDExNS4wIKXMDSoASAFQAw%3D%3D'}\n",
            "Restaurant 6 : {'name': 'Le Chanard', 'rating': '4.7', 'price': '$$', 'restaurant_type': 'French restaurant', 'description': 'Intimate venue with a small terrace & cozy interiors, offering classic French entrées & wine.', 'address': '8 Rue Saint-Paul, 75004 Paris, France', 'google_maps_url': 'https://www.google.fr/maps/place/Le+Chanard/@48.8632776,2.3384501,4282m/data=!3m2!1e3!5s0x47e671fe86ca5d43:0x769c862e15242156!4m10!1m2!2m1!1srestaurant+paris+4!3m6!1s0x47e671fe8224ab3f:0xa85d77d0fefa6c3a!8m2!3d48.8530556!4d2.3613889!15sChJyZXN0YXVyYW50IHBhcmlzIDRaFCIScmVzdGF1cmFudCBwYXJpcyA0kgERZnJlbmNoX3Jlc3RhdXJhbnTgAQA!16s%2Fg%2F1w0sc5fc?entry=ttu&g_ep=EgoyMDI1MDExNS4wIKXMDSoASAFQAw%3D%3D'}\n",
            "Restaurant 7 : {'name': 'Chez Ajia', 'rating': '4.6', 'price': '€20–30', 'restaurant_type': 'Taiwanese restaurant', 'description': 'Traditional Taiwanese seafood & meat dishes, served in a chic, plant-filled venue with a terrace.', 'address': '4 Rue du Roi de Sicile, 75004 Paris, France', 'google_maps_url': 'https://www.google.fr/maps/place/Chez+Ajia/@48.8632776,2.3384501,4282m/data=!3m1!1e3!4m10!1m2!2m1!1srestaurant+paris+4!3m6!1s0x47e671110e395de7:0x8ffbd2c78f4e20d7!8m2!3d48.8556532!4d2.3607875!15sChJyZXN0YXVyYW50IHBhcmlzIDRaFCIScmVzdGF1cmFudCBwYXJpcyA0kgEUdGFpd2FuZXNlX3Jlc3RhdXJhbnTgAQA!16s%2Fg%2F11gmcbkcvw?entry=ttu&g_ep=EgoyMDI1MDExNS4wIKXMDSoASAFQAw%3D%3D'}\n",
            "Restaurant 8 : {'name': 'Les petites bouchées', 'rating': '4.7', 'price': '€20–30', 'restaurant_type': 'Restaurant', 'description': 'Eclectic range of dishes to share, including beef tataki & salmon gravlax, in a plant-filled space.', 'address': '4 Rue du Roi de Sicile, 75004 Paris, France', 'google_maps_url': 'https://www.google.fr/maps/place/Les+petites+bouch%C3%A9es/@48.8632776,2.3384501,4282m/data=!3m1!1e3!4m10!1m2!2m1!1srestaurant+paris+4!3m6!1s0x47e671fdf9092fe9:0x75d97c3a1bab1e70!8m2!3d48.8556851!4d2.3607699!15sChJyZXN0YXVyYW50IHBhcmlzIDRaFCIScmVzdGF1cmFudCBwYXJpcyA0kgEKcmVzdGF1cmFudOABAA!16s%2Fg%2F11b6bcl53_?entry=ttu&g_ep=EgoyMDI1MDExNS4wIKXMDSoASAFQAw%3D%3D'}\n",
            "Restaurant 9 : {'name': 'Don Giovanni', 'rating': '4.7', 'price': '€20–30', 'restaurant_type': 'Italian restaurant', 'description': 'Homestyle Italian dishes from antipasti to desserts in a convivial space with wood & brick accents.', 'address': '19 Rue François Miron, 75004 Paris, France', 'google_maps_url': 'https://www.google.fr/maps/place/Don+Giovanni/@48.8632776,2.3384501,4282m/data=!3m1!1e3!4m10!1m2!2m1!1srestaurant+paris+4!3m6!1s0x47e671fd60e8a84b:0x156e41b9e9cf429b!8m2!3d48.8557884!4d2.3572672!15sChJyZXN0YXVyYW50IHBhcmlzIDRaFCIScmVzdGF1cmFudCBwYXJpcyA0kgESaXRhbGlhbl9yZXN0YXVyYW504AEA!16s%2Fg%2F1thbvzrp?entry=ttu&g_ep=EgoyMDI1MDExNS4wIKXMDSoASAFQAw%3D%3D'}\n",
            "Restaurant 10 : {'name': 'La Réserve Du Terroir - Restaurant Paris 4', 'rating': '4.6', 'price': '€20–30', 'restaurant_type': 'Restaurant', 'description': 'Traditional bistro dishes like snail casserole & beef entrecote served in a warm, relaxed setting.', 'address': '13 R. Quincampoix, 75004 Paris, France', 'google_maps_url': 'https://www.google.fr/maps/place/La+R%C3%A9serve+Du+Terroir+-+Restaurant+Paris+4/@48.859703,2.3137501,4282m/data=!3m1!1e3!4m10!1m2!2m1!1srestaurant+paris+4!3m6!1s0x47e66f64d0be1a93:0x56e67fd92d9bafe6!8m2!3d48.859703!4d2.349799!15sChJyZXN0YXVyYW50IHBhcmlzIDRaFCIScmVzdGF1cmFudCBwYXJpcyA0kgEKcmVzdGF1cmFudOABAA!16s%2Fg%2F11jk5s_c4w?entry=ttu&g_ep=EgoyMDI1MDExNS4wIKXMDSoASAFQAw%3D%3D'}\n",
            "Restaurant 11 : {'name': 'GrandCœur', 'rating': '4.4', 'price': '$$$', 'restaurant_type': 'French restaurant', 'description': 'NaN', 'address': '41 Rue du Temple, 75004 Paris, France', 'google_maps_url': 'https://www.google.fr/maps/place/GrandC%C5%93ur/@48.8596007,2.3178263,4282m/data=!3m1!1e3!4m10!1m2!2m1!1srestaurant+paris+4!3m6!1s0x47e66e1cf4904391:0x20d2a585b6417a58!8m2!3d48.8596007!4d2.3538752!15sChJyZXN0YXVyYW50IHBhcmlzIDRaFCIScmVzdGF1cmFudCBwYXJpcyA0kgERZnJlbmNoX3Jlc3RhdXJhbnTgAQA!16s%2Fg%2F11b7stl6qh?entry=ttu&g_ep=EgoyMDI1MDExNS4wIKXMDSoASAFQAw%3D%3D'}\n",
            "Restaurant 12 : {'name': \"Les Fous de l'Ile\", 'rating': '4.3', 'price': '$$', 'restaurant_type': 'French restaurant', 'description': 'Traditional cuisine in a relaxed, modern bistro decorated with chicken-related images & objects.', 'address': '33 Rue des Deux Ponts, 75004 Paris, France', 'google_maps_url': \"https://www.google.fr/maps/place/Les+Fous+de+l'Ile/@48.8632776,2.3384501,4282m/data=!3m1!1e3!4m10!1m2!2m1!1srestaurant+paris+4!3m6!1s0x47e671fceaca5145:0xd2e0166d9bd616b9!8m2!3d48.8522167!4d2.3567528!15sChJyZXN0YXVyYW50IHBhcmlzIDRaFCIScmVzdGF1cmFudCBwYXJpcyA0kgERZnJlbmNoX3Jlc3RhdXJhbnTgAQA!16s%2Fg%2F1tdxdlkc?entry=ttu&g_ep=EgoyMDI1MDExNS4wIKXMDSoASAFQAw%3D%3D\"}\n",
            "Restaurant 13 : {'name': 'Chez Margot', 'rating': '4.4', 'price': '€20–30', 'restaurant_type': 'French restaurant', 'description': 'Traditional French bistro with TV sports & a covered terrace, specializing in Salers beef.', 'address': '25 Bd Henri IV, 75004 Paris, France', 'google_maps_url': 'https://www.google.fr/maps/place/Chez+Margot/@48.8632776,2.3384501,4282m/data=!3m1!1e3!4m10!1m2!2m1!1srestaurant+paris+4!3m6!1s0x47e671ff3da05063:0xc4ed5158e9b30567!8m2!3d48.8519448!4d2.3645148!15sChJyZXN0YXVyYW50IHBhcmlzIDRaFCIScmVzdGF1cmFudCBwYXJpcyA0kgERZnJlbmNoX3Jlc3RhdXJhbnTgAQA!16s%2Fg%2F1vpfhw35?entry=ttu&g_ep=EgoyMDI1MDExNS4wIKXMDSoASAFQAw%3D%3D'}\n",
            "Restaurant 14 : {'name': 'Chez Julien', 'rating': '4.0', 'price': '$$$', 'restaurant_type': 'French restaurant', 'description': 'Select bistro with outdoor seats & stylish decor serving elevated breakfasts, mains, dessert & wine.', 'address': '1 Rue du Pont Louis-Philippe, 75004 Paris, France', 'google_maps_url': 'https://www.google.fr/maps/place/Chez+Julien/@48.8632776,2.3384501,4282m/data=!3m1!1e3!4m10!1m2!2m1!1srestaurant+paris+4!3m6!1s0x47e671e2b6030813:0x514d9579ed8662c!8m2!3d48.8547356!4d2.3551411!15sChJyZXN0YXVyYW50IHBhcmlzIDRaFCIScmVzdGF1cmFudCBwYXJpcyA0kgERZnJlbmNoX3Jlc3RhdXJhbnTgAQA!16s%2Fg%2F1tjs47k4?entry=ttu&g_ep=EgoyMDI1MDExNS4wIKXMDSoASAFQAw%3D%3D'}\n",
            "Restaurant 15 : {'name': 'Pamela Popo', 'rating': '4.6', 'price': '$$', 'restaurant_type': 'Restaurant', 'description': 'NaN', 'address': '15 Rue François Miron, 75004 Paris, France', 'google_maps_url': 'https://www.google.fr/maps/place/Pamela+Popo/@48.8632776,2.3384501,4282m/data=!3m1!1e3!4m10!1m2!2m1!1srestaurant+paris+4!3m6!1s0x47e671fd5e3316fb:0x6a034d8e4eefc6a5!8m2!3d48.8557928!4d2.357048!15sChJyZXN0YXVyYW50IHBhcmlzIDRaFCIScmVzdGF1cmFudCBwYXJpcyA0kgEKcmVzdGF1cmFudOABAA!16s%2Fg%2F1t_kfv5_?entry=ttu&g_ep=EgoyMDI1MDExNS4wIKXMDSoASAFQAw%3D%3D'}\n",
            "Restaurant 16 : {'name': 'NaN', 'rating': 'NaN', 'price': 'NaN', 'restaurant_type': 'NaN', 'description': 'NaN', 'address': 'NaN', 'google_maps_url': 'https://www.google.fr/maps/place/Le+Trumilou/@48.8632776,2.3384501,4282m/data=!3m1!1e3!4m10!1m2!2m1!1srestaurant+paris+4!3m6!1s0x47e671e294861641:0x68cdf6bdaa364996!8m2!3d48.8549403!4d2.3540245!15sChJyZXN0YXVyYW50IHBhcmlzIDRaFCIScmVzdGF1cmFudCBwYXJpcyA0kgERZnJlbmNoX3Jlc3RhdXJhbnTgAQA!16s%2Fg%2F1tgfvysz?entry=ttu&g_ep=EgoyMDI1MDExNS4wIKXMDSoASAFQAw%3D%3D'}\n",
            "Restaurant 17 : {'name': \"L'hirondelle - Paris 4\", 'rating': '4.7', 'price': '€20–30', 'restaurant_type': 'French restaurant', 'description': 'NaN', 'address': '42 Bd Henri IV, 75004 Paris, France', 'google_maps_url': \"https://www.google.fr/maps/place/L'hirondelle+-+Paris+4/@48.8632776,2.3384501,4282m/data=!3m1!1e3!4m10!1m2!2m1!1srestaurant+paris+4!3m6!1s0x47e673ab56631e6f:0x9d95e8b17d9cd5b3!8m2!3d48.8523425!4d2.3671043!15sChJyZXN0YXVyYW50IHBhcmlzIDRaFCIScmVzdGF1cmFudCBwYXJpcyA0kgERZnJlbmNoX3Jlc3RhdXJhbnTgAQA!16s%2Fg%2F11stnlfbx1?entry=ttu&g_ep=EgoyMDI1MDExNS4wIKXMDSoASAFQAw%3D%3D\"}\n",
            "Restaurant 18 : {'name': 'Le Petit Marcel', 'rating': '4.1', 'price': '$$', 'restaurant_type': 'French restaurant', 'description': 'NaN', 'address': '65 Rue Rambuteau, 75004 Paris, France', 'google_maps_url': 'https://www.google.fr/maps/place/Le+Petit+Marcel/@48.861679,2.3151231,4282m/data=!3m1!1e3!4m10!1m2!2m1!1srestaurant+paris+4!3m6!1s0x47e66e1be4a645ff:0x8c85d8c0a2501821!8m2!3d48.861679!4d2.351172!15sChJyZXN0YXVyYW50IHBhcmlzIDRaFCIScmVzdGF1cmFudCBwYXJpcyA0kgERZnJlbmNoX3Jlc3RhdXJhbnTgAQA!16s%2Fg%2F1tdfy0jc?entry=ttu&g_ep=EgoyMDI1MDExNS4wIKXMDSoASAFQAw%3D%3D'}\n",
            "Restaurant 19 : {'name': 'Loulou', 'rating': '4.2', 'price': '€20–30', 'restaurant_type': 'Bistro', 'description': 'North African tagine dishes at a richly decorated bistro with patio tables & live jazz performances.', 'address': '63 Rue Rambuteau, 75004 Paris, France', 'google_maps_url': 'https://www.google.fr/maps/place/Loulou/@48.861679,2.3151231,4282m/data=!3m1!1e3!4m10!1m2!2m1!1srestaurant+paris+4!3m6!1s0x47e66e1bf015f7c3:0x92e28a26c1efce58!8m2!3d48.8616248!4d2.3513124!15sChJyZXN0YXVyYW50IHBhcmlzIDRaFCIScmVzdGF1cmFudCBwYXJpcyA0kgEGYmlzdHJv4AEA!16s%2Fg%2F1td12kxg?entry=ttu&g_ep=EgoyMDI1MDExNS4wIKXMDSoASAFQAw%3D%3D'}\n",
            "Restaurant 20 : {'name': 'Nostre', 'rating': '4.4', 'price': '€20–30', 'restaurant_type': 'Restaurant', 'description': 'NaN', 'address': '86 Rue Saint-Antoine, 75004 Paris, France', 'google_maps_url': 'https://www.google.fr/maps/place/Nostre/@48.861679,2.3151231,4282m/data=!3m1!1e3!4m10!1m2!2m1!1srestaurant+paris+4!3m6!1s0x47e671fe160220b1:0xf0e9da011158cd3b!8m2!3d48.8548605!4d2.3625681!15sChJyZXN0YXVyYW50IHBhcmlzIDRaFCIScmVzdGF1cmFudCBwYXJpcyA0kgEKcmVzdGF1cmFudOABAA!16s%2Fg%2F11clzqlryf?entry=ttu&g_ep=EgoyMDI1MDExNS4wIKXMDSoASAFQAw%3D%3D'}\n",
            "Erreur avec le restaurant 21 : Message: Element <a class=\"hfpxzc\" href=\"https://www.google.fr/maps/place/Nostre/data=!4m7!3m6!1s0x47e671fe160220b1:0xf0e9da011158cd3b!8m2!3d48.8548605!4d2.3625681!16s%2Fg%2F11clzqlryf!19sChIJsSACFv5x5kcRO81YEQHa6fA?authuser=0&hl=en&rclk=1\"> is not clickable at point (273,606) because another element <div class=\"L6Bbsd\"> obscures it\n",
            "Stacktrace:\n",
            "RemoteError@chrome://remote/content/shared/RemoteError.sys.mjs:8:8\n",
            "WebDriverError@chrome://remote/content/shared/webdriver/Errors.sys.mjs:193:5\n",
            "ElementClickInterceptedError@chrome://remote/content/shared/webdriver/Errors.sys.mjs:337:5\n",
            "webdriverClickElement@chrome://remote/content/marionette/interaction.sys.mjs:177:11\n",
            "interaction.clickElement@chrome://remote/content/marionette/interaction.sys.mjs:136:11\n",
            "clickElement@chrome://remote/content/marionette/actors/MarionetteCommandsChild.sys.mjs:344:29\n",
            "receiveMessage@chrome://remote/content/marionette/actors/MarionetteCommandsChild.sys.mjs:220:31\n",
            "\n",
            "Données sauvegardées dans data_in_progress/restaurants_paris_4eme.csv avec filtrage pour l'arrondissement 04\n"
          ]
        }
      ],
      "source": [
        "#pour paris 4eme arrondissement:\n",
        "link=\"https://www.google.fr/maps/search/restaurant+paris+4/@48.8632801,2.3384501,3987m/data=!3m2!1e3!4b1?entry=ttu&g_ep=EgoyMDI1MDEwOC4wIKXMDSoASAFQAw%3D%3D\"\n",
        "output_file=\"data_in_progress/restaurants_paris_4eme.csv\"\n",
        "scrape_google_maps(link, n, output_file, arrondissement='04')"
      ]
    },
    {
      "cell_type": "code",
      "execution_count": 23,
      "metadata": {
        "id": "SqC1C-h8mL8w",
        "outputId": "3c482dab-500f-4955-fae8-afa6cc62e60d",
        "colab": {
          "base_uri": "https://localhost:8080/"
        }
      },
      "outputs": [
        {
          "output_type": "stream",
          "name": "stdout",
          "text": [
            "Pas de bouton cookies trouvé : Message: Unable to locate element: .VtwTSb > form:nth-child(2) > div:nth-child(1) > div:nth-child(1) > button:nth-child(1); For documentation on this error, please visit: https://www.selenium.dev/documentation/webdriver/troubleshooting/errors#no-such-element-exception\n",
            "Stacktrace:\n",
            "RemoteError@chrome://remote/content/shared/RemoteError.sys.mjs:8:8\n",
            "WebDriverError@chrome://remote/content/shared/webdriver/Errors.sys.mjs:193:5\n",
            "NoSuchElementError@chrome://remote/content/shared/webdriver/Errors.sys.mjs:511:5\n",
            "dom.find/</<@chrome://remote/content/shared/DOM.sys.mjs:136:16\n",
            "\n",
            "Élément de scroll trouvé avec succès !\n",
            "Restaurant 1 : {'name': 'Bistrot La Grange - Restaurant Paris 5', 'rating': '4.6', 'price': '€10–20', 'restaurant_type': 'Restaurant', 'description': 'NaN', 'address': '17 Rue Lagrange, 75005 Paris, France', 'google_maps_url': 'https://www.google.fr/maps/place/Bistrot+La+Grange+-+Restaurant+Paris+5/@48.8508557,2.3125099,4283m/data=!3m1!1e3!4m10!1m2!2m1!1srestaurant+paris+5!3m6!1s0x47e671e6b6a87649:0x268c49eb08c98b75!8m2!3d48.8508557!4d2.3485588!15sChJyZXN0YXVyYW50IHBhcmlzIDVaFCIScmVzdGF1cmFudCBwYXJpcyA1kgEKcmVzdGF1cmFudOABAA!16s%2Fg%2F1tf9mkm4?entry=ttu&g_ep=EgoyMDI1MDExNS4wIKXMDSoASAFQAw%3D%3D'}\n",
            "Restaurant 2 : {'name': 'Bistrot La Grange - Restaurant Paris 5', 'rating': '4.6', 'price': '€10–20', 'restaurant_type': 'Restaurant', 'description': 'NaN', 'address': '17 Rue Lagrange, 75005 Paris, France', 'google_maps_url': 'https://www.google.fr/maps/place/Bistrot+La+Grange+-+Restaurant+Paris+5/@48.8508557,2.3125099,4283m/data=!3m1!1e3!4m10!1m2!2m1!1srestaurant+paris+5!3m6!1s0x47e671e6b6a87649:0x268c49eb08c98b75!8m2!3d48.8508557!4d2.3485588!15sChJyZXN0YXVyYW50IHBhcmlzIDVaFCIScmVzdGF1cmFudCBwYXJpcyA1kgEKcmVzdGF1cmFudOABAA!16s%2Fg%2F1tf9mkm4?entry=ttu&g_ep=EgoyMDI1MDExNS4wIKXMDSoASAFQAw%3D%3D'}\n",
            "Restaurant 3 : {'name': \"L'Epoque\", 'rating': '4.4', 'price': '€20–30', 'restaurant_type': 'French restaurant', 'description': 'Fixed-price menus of scallops, beef tartare & burgers in a cozy space with art nouveau flourishes.', 'address': '81 Rue du Cardinal Lemoine, 75005 Paris, France', 'google_maps_url': \"https://www.google.fr/maps/place/L'Epoque/@48.8508557,2.3125099,4283m/data=!3m1!1e3!4m10!1m2!2m1!1srestaurant+paris+5!3m6!1s0x47e671ef37dd2eff:0x74f6f4444f9ee77d!8m2!3d48.8447538!4d2.3497468!15sChJyZXN0YXVyYW50IHBhcmlzIDVaFCIScmVzdGF1cmFudCBwYXJpcyA1kgERZnJlbmNoX3Jlc3RhdXJhbnTgAQA!16s%2Fg%2F1thd5_9h?entry=ttu&g_ep=EgoyMDI1MDExNS4wIKXMDSoASAFQAw%3D%3D\"}\n",
            "Restaurant 4 : {'name': 'La Pie Noir', 'rating': '4.7', 'price': '€30–50', 'restaurant_type': 'French restaurant', 'description': 'NaN', 'address': '5 Rue de la Montagne Ste Geneviève, 75005 Paris, France', 'google_maps_url': 'https://www.google.fr/maps/place/La+Pie+Noir/@48.8508557,2.3125099,4283m/data=!3m1!1e3!4m10!1m2!2m1!1srestaurant+paris+5!3m6!1s0x47e671e69ad88d65:0x225664a39b30c23c!8m2!3d48.84928!4d2.3488684!15sChJyZXN0YXVyYW50IHBhcmlzIDVaFCIScmVzdGF1cmFudCBwYXJpcyA1kgERZnJlbmNoX3Jlc3RhdXJhbnTgAQA!16s%2Fg%2F11g6qgs8d1?entry=ttu&g_ep=EgoyMDI1MDExNS4wIKXMDSoASAFQAw%3D%3D'}\n",
            "Restaurant 5 : {'name': 'Selva', 'rating': '4.8', 'price': 'NaN', 'restaurant_type': 'Latin American restaurant', 'description': 'Casual restaurant with vibrant decor plating traditional Latin-American seafood & meat dishes.', 'address': '22 Rue du Sommerard, 75005 Paris, France', 'google_maps_url': 'https://www.google.fr/maps/place/Selva/@48.8508557,2.3125099,4283m/data=!3m1!1e3!4m10!1m2!2m1!1srestaurant+paris+5!3m6!1s0x47e671378f549221:0xf80e90a9ab73f630!8m2!3d48.8503777!4d2.3447208!15sChJyZXN0YXVyYW50IHBhcmlzIDVaFCIScmVzdGF1cmFudCBwYXJpcyA1kgEZbGF0aW5fYW1lcmljYW5fcmVzdGF1cmFudOABAA!16s%2Fg%2F11k2wqpnjl?entry=ttu&g_ep=EgoyMDI1MDExNS4wIKXMDSoASAFQAw%3D%3D'}\n",
            "Restaurant 6 : {'name': 'La Méthode - Restaurant Paris 5', 'rating': '4.3', 'price': '€20–30', 'restaurant_type': 'French restaurant', 'description': 'NaN', 'address': '2 Rue Descartes, 75005 Paris, France', 'google_maps_url': 'https://www.google.fr/maps/place/La+M%C3%A9thode+-+Restaurant+Paris+5/@48.8508557,2.3125099,4283m/data=!3m1!1e3!4m10!1m2!2m1!1srestaurant+paris+5!3m6!1s0x47e671e613abdd8d:0x546ed10f6a58969f!8m2!3d48.847217!4d2.348376!15sChJyZXN0YXVyYW50IHBhcmlzIDVaFCIScmVzdGF1cmFudCBwYXJpcyA1kgERZnJlbmNoX3Jlc3RhdXJhbnTgAQA!16s%2Fg%2F1tp07dsr?entry=ttu&g_ep=EgoyMDI1MDExNS4wIKXMDSoASAFQAw%3D%3D'}\n",
            "Restaurant 7 : {'name': 'Caluche', 'rating': '4.6', 'price': '€30–40', 'restaurant_type': 'Restaurant', 'description': 'NaN', 'address': '12 Rue de Mirbel, 75005 Paris, France', 'google_maps_url': 'https://www.google.fr/maps/place/Caluche/@48.8508557,2.3125099,4283m/data=!3m1!1e3!4m10!1m2!2m1!1srestaurant+paris+5!3m6!1s0x47e671f0bf570f1d:0xd83224884519bdb0!8m2!3d48.8410834!4d2.3508551!15sChJyZXN0YXVyYW50IHBhcmlzIDVaFCIScmVzdGF1cmFudCBwYXJpcyA1kgEKcmVzdGF1cmFudOABAA!16s%2Fg%2F11lbcc8mcm?entry=ttu&g_ep=EgoyMDI1MDExNS4wIKXMDSoASAFQAw%3D%3D'}\n",
            "Restaurant 8 : {'name': 'OTTO by Eric Trochon', 'rating': '4.7', 'price': 'NaN', 'restaurant_type': 'Restaurant', 'description': 'NaN', 'address': '5 Rue Mouffetard, 75005 Paris, France', 'google_maps_url': 'https://www.google.fr/maps/place/OTTO+by+Eric+Trochon/@48.8508557,2.3125099,4283m/data=!3m1!1e3!4m10!1m2!2m1!1srestaurant+paris+5!3m6!1s0x47e67167276ea5c7:0xbd902525b39d7fa5!8m2!3d48.8448489!4d2.3493675!15sChJyZXN0YXVyYW50IHBhcmlzIDVaFCIScmVzdGF1cmFudCBwYXJpcyA1kgEKcmVzdGF1cmFudOABAA!16s%2Fg%2F11k518ck8n?entry=ttu&g_ep=EgoyMDI1MDExNS4wIKXMDSoASAFQAw%3D%3D'}\n",
            "Restaurant 9 : {'name': 'Au Moulin à Vent', 'rating': '4.7', 'price': '$$', 'restaurant_type': 'Bistro', 'description': 'NaN', 'address': '20 Rue des Fossés Saint-Bernard, 75005 Paris, France', 'google_maps_url': 'https://www.google.fr/maps/place/Au+Moulin+%C3%A0+Vent/@48.8508557,2.3125099,4283m/data=!3m2!1e3!5s0x47e671e4d6756f45:0xd102a2b16646802d!4m10!1m2!2m1!1srestaurant+paris+5!3m6!1s0x47e671e4d5dcdf3b:0xdea1a86742b1e31c!8m2!3d48.8485574!4d2.3547648!15sChJyZXN0YXVyYW50IHBhcmlzIDVaFCIScmVzdGF1cmFudCBwYXJpcyA1kgEGYmlzdHJv4AEA!16s%2Fg%2F1th48q61?entry=ttu&g_ep=EgoyMDI1MDExNS4wIKXMDSoASAFQAw%3D%3D'}\n",
            "Restaurant 10 : {'name': \"L'invitée\", 'rating': '4.5', 'price': '$$', 'restaurant_type': 'French restaurant', 'description': 'Creative dishes, organic wine & cocktails offered in a relaxed, stylish environment.', 'address': '8 Rue Thénard, 75005 Paris, France', 'google_maps_url': \"https://www.google.fr/maps/place/L'invit%C3%A9e/@48.8508557,2.3125099,4283m/data=!3m1!1e3!4m10!1m2!2m1!1srestaurant+paris+5!3m6!1s0x47e671c4188d6799:0xc2496eb189879108!8m2!3d48.849994!4d2.3458868!15sChJyZXN0YXVyYW50IHBhcmlzIDVaFCIScmVzdGF1cmFudCBwYXJpcyA1kgERZnJlbmNoX3Jlc3RhdXJhbnTgAQA!16s%2Fg%2F11gv0slnl2?entry=ttu&g_ep=EgoyMDI1MDExNS4wIKXMDSoASAFQAw%3D%3D\"}\n",
            "Restaurant 11 : {'name': 'Atelier Carnem', 'rating': '4.6', 'price': 'NaN', 'restaurant_type': 'Meat dish restaurant', 'description': 'International meats paired with wine in a rustic-chic eatery with stone walls & a sand floor.', 'address': '5 Rue du Pot de Fer, 75005 Paris, France', 'google_maps_url': 'https://www.google.fr/maps/place/Atelier+Carnem/@48.8508557,2.3125099,4283m/data=!3m1!1e3!4m10!1m2!2m1!1srestaurant+paris+5!3m6!1s0x47e671eed2407ae9:0x61a957417b8b8988!8m2!3d48.8429061!4d2.3492088!15sChJyZXN0YXVyYW50IHBhcmlzIDVaFCIScmVzdGF1cmFudCBwYXJpcyA1kgEPbWVhdF9yZXN0YXVyYW504AEA!16s%2Fg%2F11fz9jykgt?entry=ttu&g_ep=EgoyMDI1MDExNS4wIKXMDSoASAFQAw%3D%3D'}\n",
            "Restaurant 12 : {'name': 'Le Refuge du Passé', 'rating': '4.5', 'price': '$$', 'restaurant_type': 'Restaurant', 'description': 'NaN', 'address': '32 Rue du Fer à Moulin, 75005 Paris, France', 'google_maps_url': 'https://www.google.fr/maps/place/Le+Refuge+du+Pass%C3%A9/@48.8508557,2.3125099,4283m/data=!3m1!1e3!4m10!1m2!2m1!1srestaurant+paris+5!3m6!1s0x47e671ed99950e6f:0xf6cfbd8e80122f01!8m2!3d48.839012!4d2.353237!15sChJyZXN0YXVyYW50IHBhcmlzIDVaFCIScmVzdGF1cmFudCBwYXJpcyA1kgEKcmVzdGF1cmFudOABAA!16s%2Fg%2F1tfj2gz9?entry=ttu&g_ep=EgoyMDI1MDExNS4wIKXMDSoASAFQAw%3D%3D'}\n",
            "Restaurant 13 : {'name': 'Le Passage', 'rating': '4.2', 'price': '€20–30', 'restaurant_type': 'French restaurant', 'description': 'NaN', 'address': '46 Rue des Fossés Saint-Bernard, 75005 Paris, France', 'google_maps_url': 'https://www.google.fr/maps/place/Le+Passage/@48.8508557,2.3125099,4283m/data=!3m2!1e3!5s0x47e671e511f4d017:0x4df5bb63a73337b8!4m10!1m2!2m1!1srestaurant+paris+5!3m6!1s0x47e671e5118e16ef:0x7dac3e7dcde6b8e5!8m2!3d48.8475655!4d2.3529997!15sChJyZXN0YXVyYW50IHBhcmlzIDVaFCIScmVzdGF1cmFudCBwYXJpcyA1kgERZnJlbmNoX3Jlc3RhdXJhbnTgAQA!16s%2Fg%2F11cnb6ydtk?entry=ttu&g_ep=EgoyMDI1MDExNS4wIKXMDSoASAFQAw%3D%3D'}\n",
            "Restaurant 14 : {'name': 'Le Petit Prince de Paris', 'rating': '4.1', 'price': '$$', 'restaurant_type': 'Fine dining restaurant', 'description': 'Cozy restaurant with whimsical decor, making refined French dishes incorporating high-end products.', 'address': '12 Rue de Lanneau, 75005 Paris, France', 'google_maps_url': 'https://www.google.fr/maps/place/Le+Petit+Prince+de+Paris/@48.8508557,2.3125099,4283m/data=!3m1!1e3!4m10!1m2!2m1!1srestaurant+paris+5!3m6!1s0x47e671e7ab171bb1:0x56afe1674a74f344!8m2!3d48.848434!4d2.3465274!15sChJyZXN0YXVyYW50IHBhcmlzIDVaFCIScmVzdGF1cmFudCBwYXJpcyA1kgEWZmluZV9kaW5pbmdfcmVzdGF1cmFudOABAA!16s%2Fg%2F1vf9bp39?entry=ttu&g_ep=EgoyMDI1MDExNS4wIKXMDSoASAFQAw%3D%3D'}\n",
            "Restaurant 15 : {'name': 'El Cervantes', 'rating': '4.7', 'price': '€20–30', 'restaurant_type': 'Restaurant', 'description': 'NaN', 'address': '46 Rue Daubenton, 75005 Paris, France', 'google_maps_url': 'https://www.google.fr/maps/place/El+Cervantes/@48.8508557,2.3125099,4283m/data=!3m1!1e3!4m10!1m2!2m1!1srestaurant+paris+5!3m6!1s0x47e671ec3d79f857:0x8540e839858aa175!8m2!3d48.84022!4d2.350232!15sChJyZXN0YXVyYW50IHBhcmlzIDVaFCIScmVzdGF1cmFudCBwYXJpcyA1kgEKcmVzdGF1cmFudOABAA!16s%2Fg%2F1v29b9zl?entry=ttu&g_ep=EgoyMDI1MDExNS4wIKXMDSoASAFQAw%3D%3D'}\n",
            "Restaurant 16 : {'name': 'Atelier Carnem', 'rating': '4.6', 'price': 'NaN', 'restaurant_type': 'Meat dish restaurant', 'description': 'International meats paired with wine in a rustic-chic eatery with stone walls & a sand floor.', 'address': '5 Rue du Pot de Fer, 75005 Paris, France', 'google_maps_url': 'https://www.google.fr/maps/place/Atelier+Carnem/@48.8508557,2.3125099,4283m/data=!3m1!1e3!4m10!1m2!2m1!1srestaurant+paris+5!3m6!1s0x47e671eed2407ae9:0x61a957417b8b8988!8m2!3d48.8429061!4d2.3492088!15sChJyZXN0YXVyYW50IHBhcmlzIDVaFCIScmVzdGF1cmFudCBwYXJpcyA1kgEPbWVhdF9yZXN0YXVyYW504AEA!16s%2Fg%2F11fz9jykgt?entry=ttu&g_ep=EgoyMDI1MDExNS4wIKXMDSoASAFQAw%3D%3D'}\n",
            "Restaurant 17 : {'name': 'Le Vieux Bistrot', 'rating': '4.6', 'price': '€20–40', 'restaurant_type': 'French restaurant', 'description': 'Familiar dishes served in a quaint restaurant featuring wood beams & exposed-stone walls.', 'address': '54 Rue Mouffetard, 75005 Paris, France', 'google_maps_url': 'https://www.google.fr/maps/place/Le+Vieux+Bistrot/@48.8508557,2.3125099,4283m/data=!3m1!1e3!4m10!1m2!2m1!1srestaurant+paris+5!3m6!1s0x47e671eed6d33509:0x773905fbeb3aae97!8m2!3d48.8432749!4d2.349451!15sChJyZXN0YXVyYW50IHBhcmlzIDVaFCIScmVzdGF1cmFudCBwYXJpcyA1kgERZnJlbmNoX3Jlc3RhdXJhbnTgAQA!16s%2Fg%2F1yh9nch9_?entry=ttu&g_ep=EgoyMDI1MDExNS4wIKXMDSoASAFQAw%3D%3D'}\n",
            "Restaurant 18 : {'name': 'narro', 'rating': '4.7', 'price': '$$$', 'restaurant_type': 'Restaurant', 'description': 'Charming, brick-walled bistro with outdoor seating serving upscale local dishes for lunch & dinner.', 'address': '72 Rue du Cardinal Lemoine, 75005 Paris, France', 'google_maps_url': 'https://www.google.fr/maps/place/narro/@48.8508557,2.3125099,4283m/data=!3m1!1e3!4m10!1m2!2m1!1srestaurant+paris+5!3m6!1s0x47e6718bc3a4ed09:0xaf9f8fef13d66bb1!8m2!3d48.8449342!4d2.3495977!15sChJyZXN0YXVyYW50IHBhcmlzIDVaFCIScmVzdGF1cmFudCBwYXJpcyA1kgEKcmVzdGF1cmFudOABAA!16s%2Fg%2F11j90s4mr1?entry=ttu&g_ep=EgoyMDI1MDExNS4wIKXMDSoASAFQAw%3D%3D'}\n",
            "Restaurant 19 : {'name': 'Papilla', 'rating': '4.6', 'price': '€20–30', 'restaurant_type': 'Italian restaurant', 'description': 'NaN', 'address': '9 Rue Soufflot, 75005 Paris, France', 'google_maps_url': 'https://www.google.fr/maps/place/Papilla/@48.8508557,2.3125099,4283m/data=!3m1!1e3!4m10!1m2!2m1!1srestaurant+paris+5!3m6!1s0x47e671d8ca617743:0x615018694e36db5b!8m2!3d48.8467327!4d2.3429921!15sChJyZXN0YXVyYW50IHBhcmlzIDVaFCIScmVzdGF1cmFudCBwYXJpcyA1kgESaXRhbGlhbl9yZXN0YXVyYW504AEA!16s%2Fg%2F11p64slq56?entry=ttu&g_ep=EgoyMDI1MDExNS4wIKXMDSoASAFQAw%3D%3D'}\n",
            "Restaurant 20 : {'name': 'NaN', 'rating': 'NaN', 'price': 'NaN', 'restaurant_type': 'NaN', 'description': 'NaN', 'address': 'NaN', 'google_maps_url': 'https://www.google.fr/maps/place/Les+Pipos/@48.8508557,2.3125099,4283m/data=!3m1!1e3!4m10!1m2!2m1!1srestaurant+paris+5!3m6!1s0x47e671e66cf38707:0x588e8856aec70fa9!8m2!3d48.8474478!4d2.3483706!15sChJyZXN0YXVyYW50IHBhcmlzIDVaFCIScmVzdGF1cmFudCBwYXJpcyA1kgEKcmVzdGF1cmFudOABAA!16s%2Fg%2F1tlvnvc2?entry=ttu&g_ep=EgoyMDI1MDExNS4wIKXMDSoASAFQAw%3D%3D'}\n",
            "Erreur avec le restaurant 21 : Message: Element <a class=\"hfpxzc\" href=\"https://www.google.fr/maps/place/La+Forge/data=!4m7!3m6!1s0x47e671ec89d048b5:0x685c946b1e5b1a6f!8m2!3d48.838374!4d2.34945!16s%2Fg%2F1tdhd9zt!19sChIJtUjQiexx5kcRbxpbHmuUXGg?authuser=0&hl=en&rclk=1\"> is not clickable at point (273,606) because another element <div class=\"L6Bbsd\"> obscures it\n",
            "Stacktrace:\n",
            "RemoteError@chrome://remote/content/shared/RemoteError.sys.mjs:8:8\n",
            "WebDriverError@chrome://remote/content/shared/webdriver/Errors.sys.mjs:193:5\n",
            "ElementClickInterceptedError@chrome://remote/content/shared/webdriver/Errors.sys.mjs:337:5\n",
            "webdriverClickElement@chrome://remote/content/marionette/interaction.sys.mjs:177:11\n",
            "interaction.clickElement@chrome://remote/content/marionette/interaction.sys.mjs:136:11\n",
            "clickElement@chrome://remote/content/marionette/actors/MarionetteCommandsChild.sys.mjs:344:29\n",
            "receiveMessage@chrome://remote/content/marionette/actors/MarionetteCommandsChild.sys.mjs:220:31\n",
            "\n",
            "Données sauvegardées dans data_in_progress/restaurants_paris_5eme.csv avec filtrage pour l'arrondissement 05\n"
          ]
        }
      ],
      "source": [
        "#pour paris 5eme arrondissement:\n",
        "link=\"https://www.google.fr/maps/search/restaurant+paris+5/@48.8633329,2.3384501,3987m/data=!3m2!1e3!4b1?entry=ttu&g_ep=EgoyMDI1MDEwOC4wIKXMDSoASAFQAw%3D%3D\"\n",
        "output_file=\"data_in_progress/restaurants_paris_5eme.csv\"\n",
        "scrape_google_maps(link, n, output_file, arrondissement='05')"
      ]
    },
    {
      "cell_type": "code",
      "execution_count": 24,
      "metadata": {
        "id": "CIo54ufmmL8w",
        "outputId": "7cab4a1c-2069-4836-de29-5fc961ebddd9",
        "colab": {
          "base_uri": "https://localhost:8080/"
        }
      },
      "outputs": [
        {
          "output_type": "stream",
          "name": "stdout",
          "text": [
            "Pas de bouton cookies trouvé : Message: Unable to locate element: .VtwTSb > form:nth-child(2) > div:nth-child(1) > div:nth-child(1) > button:nth-child(1); For documentation on this error, please visit: https://www.selenium.dev/documentation/webdriver/troubleshooting/errors#no-such-element-exception\n",
            "Stacktrace:\n",
            "RemoteError@chrome://remote/content/shared/RemoteError.sys.mjs:8:8\n",
            "WebDriverError@chrome://remote/content/shared/webdriver/Errors.sys.mjs:193:5\n",
            "NoSuchElementError@chrome://remote/content/shared/webdriver/Errors.sys.mjs:511:5\n",
            "dom.find/</<@chrome://remote/content/shared/DOM.sys.mjs:136:16\n",
            "\n",
            "Élément de scroll trouvé avec succès !\n",
            "Restaurant 1 : {'name': 'Le Paris Paris', 'rating': '4.4', 'price': '$$', 'restaurant_type': 'Restaurant', 'description': 'NaN', 'address': '8 Rue de Montfaucon, 75006 Paris, France', 'google_maps_url': 'https://www.google.fr/maps/place/Le+Paris+Paris/@48.8676625,2.3003494,8563m/data=!3m1!1e3!4m10!1m2!2m1!1srestaurant+paris+6!3m6!1s0x47e671bd225fbaef:0xa832ad034694bbcc!8m2!3d48.852579!4d2.3357251!15sChJyZXN0YXVyYW50IHBhcmlzIDZaFCIScmVzdGF1cmFudCBwYXJpcyA2kgEKcmVzdGF1cmFudOABAA!16s%2Fg%2F11rckz8ppp?entry=ttu&g_ep=EgoyMDI1MDEyMC4wIKXMDSoASAFQAw%3D%3D'}\n",
            "Restaurant 2 : {'name': 'Le Christine', 'rating': '4.6', 'price': '€100+', 'restaurant_type': 'French restaurant', 'description': 'Creative French dishes & tasting menus in a chic space with exposed bricks, bare bulbs & wood beams.', 'address': '1 Rue Christine, 75006 Paris, France', 'google_maps_url': 'https://www.google.fr/maps/place/Le+Christine/@48.8480456,2.3249122,2142m/data=!3m1!1e3!4m10!1m2!2m1!1srestaurant+paris+6!3m6!1s0x47e671df183d8b19:0xa148052b22b91cb1!8m2!3d48.8543056!4d2.3402167!15sChJyZXN0YXVyYW50IHBhcmlzIDZaFCIScmVzdGF1cmFudCBwYXJpcyA2kgERZnJlbmNoX3Jlc3RhdXJhbnTgAQA!16s%2Fg%2F1tg9gwcp?entry=ttu&g_ep=EgoyMDI1MDEyMC4wIKXMDSoASAFQAw%3D%3D'}\n",
            "Restaurant 3 : {'name': 'Source Restaurant', 'rating': '4.8', 'price': '€100+', 'restaurant_type': 'Restaurant', 'description': 'NaN', 'address': '17 Rue Grégoire de Tours, 75006 Paris, France', 'google_maps_url': 'https://www.google.fr/maps/place/Source+Restaurant/@48.8480447,2.3249122,2142m/data=!3m1!1e3!4m10!1m2!2m1!1srestaurant+paris+6!3m6!1s0x47e671d2051b14d5:0xea39d6de00d51535!8m2!3d48.853009!4d2.3379268!15sChJyZXN0YXVyYW50IHBhcmlzIDZaFCIScmVzdGF1cmFudCBwYXJpcyA2kgEKcmVzdGF1cmFudOABAA!16s%2Fg%2F11q4dq6_lg?entry=ttu&g_ep=EgoyMDI1MDEyMC4wIKXMDSoASAFQAw%3D%3D'}\n",
            "Restaurant 4 : {'name': 'SHIRO | Restaurant Franco Japonais Fusion', 'rating': '4.6', 'price': '€100+', 'restaurant_type': 'French restaurant', 'description': 'NaN', 'address': '168 Bd Saint-Germain, 75006 Paris, France', 'google_maps_url': 'https://www.google.fr/maps/place/SHIRO+%7C+Restaurant+Franco+Japonais+Fusion/@48.8480456,2.3249122,2142m/data=!3m1!1e3!4m10!1m2!2m1!1srestaurant+paris+6!3m6!1s0x47e6717ebc1dd879:0xacef3db7ab36ea9a!8m2!3d48.8534752!4d2.3353283!15sChJyZXN0YXVyYW50IHBhcmlzIDZaFCIScmVzdGF1cmFudCBwYXJpcyA2kgERZnJlbmNoX3Jlc3RhdXJhbnTgAQA!16s%2Fg%2F11q7bd29kn?entry=ttu&g_ep=EgoyMDI1MDEyMC4wIKXMDSoASAFQAw%3D%3D'}\n",
            "Restaurant 5 : {'name': 'Brasserie Des Prés', 'rating': '4.7', 'price': '€20–40', 'restaurant_type': 'French restaurant', 'description': 'NaN', 'address': '6 Cr du Commerce Saint-André, 75006 Paris, France', 'google_maps_url': 'https://www.google.fr/maps/place/Brasserie+Des+Pr%C3%A9s/@48.8480456,2.3249122,2142m/data=!3m1!1e3!4m10!1m2!2m1!1srestaurant+paris+6!3m6!1s0x47e67109f2a2f49b:0xa9c3307ddd2ab577!8m2!3d48.8529451!4d2.3391987!15sChJyZXN0YXVyYW50IHBhcmlzIDZaFCIScmVzdGF1cmFudCBwYXJpcyA2kgERZnJlbmNoX3Jlc3RhdXJhbnTgAQA!16s%2Fg%2F11txfblpd6?entry=ttu&g_ep=EgoyMDI1MDEyMC4wIKXMDSoASAFQAw%3D%3D'}\n",
            "Restaurant 6 : {'name': 'Restaurant Aux Perchés', 'rating': '4.8', 'price': 'NaN', 'restaurant_type': 'French restaurant', 'description': 'NaN', 'address': '25 Rue Servandoni, 75006 Paris, France', 'google_maps_url': 'https://www.google.fr/maps/place/Restaurant+Aux+Perch%C3%A9s/@48.8480456,2.3249122,2142m/data=!3m1!1e3!4m10!1m2!2m1!1srestaurant+paris+6!3m6!1s0x47e6717807f68dcf:0x9b8df74af645d0a7!8m2!3d48.8493058!4d2.3348775!15sChJyZXN0YXVyYW50IHBhcmlzIDZaFCIScmVzdGF1cmFudCBwYXJpcyA2kgERZnJlbmNoX3Jlc3RhdXJhbnTgAQA!16s%2Fg%2F11khrr1rsd?entry=ttu&g_ep=EgoyMDI1MDEyMC4wIKXMDSoASAFQAw%3D%3D'}\n",
            "Restaurant 7 : {'name': 'CAMILA', 'rating': '4.4', 'price': '$$', 'restaurant_type': 'Restaurant', 'description': 'Creative French & global dishes in a relaxed brasserie setting, with aged timber & large windows.', 'address': '5 Rue Mabillon, 75006 Paris, France', 'google_maps_url': 'https://www.google.fr/maps/place/CAMILA/@48.8480456,2.3249122,2142m/data=!3m1!1e3!4m10!1m2!2m1!1srestaurant+paris+6!3m6!1s0x47e66e085474b1f9:0x2dcfd2844eadbf83!8m2!3d48.851605!4d2.335424!15sChJyZXN0YXVyYW50IHBhcmlzIDZaFCIScmVzdGF1cmFudCBwYXJpcyA2kgEKcmVzdGF1cmFudOABAA!16s%2Fg%2F1tdykj33?entry=ttu&g_ep=EgoyMDI1MDEyMC4wIKXMDSoASAFQAw%3D%3D'}\n",
            "Restaurant 8 : {'name': 'Didon', 'rating': '4.7', 'price': 'NaN', 'restaurant_type': 'Haute French restaurant', 'description': 'Laid-back restaurant specializing in charcoal-grilled dishes amid chic, simple surroundings.', 'address': '8 Rue du Dragon, 75006 Paris, France', 'google_maps_url': 'https://www.google.fr/maps/place/Didon/@48.8537625,2.313083,2141m/data=!3m1!1e3!4m10!1m2!2m1!1srestaurant+paris+6!3m6!1s0x47e6713d35d64999:0x541f94f256f642f0!8m2!3d48.8537625!4d2.3311074!15sChJyZXN0YXVyYW50IHBhcmlzIDZaFCIScmVzdGF1cmFudCBwYXJpcyA2kgEXaGF1dGVfZnJlbmNoX3Jlc3RhdXJhbnTgAQA!16s%2Fg%2F11qh224pr2?entry=ttu&g_ep=EgoyMDI1MDEyMC4wIKXMDSoASAFQAw%3D%3D'}\n",
            "Restaurant 9 : {'name': \"L'Atelier Roulière\", 'rating': '4.6', 'price': '$$', 'restaurant_type': 'Restaurant', 'description': 'Escargot, beef tartare, steak & an extensive wine list at a stylish brasserie in rich blue tones.', 'address': '24 Rue des Canettes, 75006 Paris, France', 'google_maps_url': \"https://www.google.fr/maps/place/L'Atelier+Rouli%C3%A8re/@48.8480456,2.3249122,2142m/data=!3m1!1e3!4m10!1m2!2m1!1srestaurant+paris+6!3m6!1s0x47e671d9f6dfd339:0xd0161d85117c6fb2!8m2!3d48.8516166!4d2.3336406!15sChJyZXN0YXVyYW50IHBhcmlzIDZaFCIScmVzdGF1cmFudCBwYXJpcyA2kgEKcmVzdGF1cmFudOABAA!16s%2Fg%2F1td4jfks?entry=ttu&g_ep=EgoyMDI1MDEyMC4wIKXMDSoASAFQAw%3D%3D\"}\n",
            "Restaurant 10 : {'name': 'Restaurant Georgette', 'rating': '4.7', 'price': '$$', 'restaurant_type': 'French restaurant', 'description': 'Elegant restaurant with a menu of seasonal French classics served in a chic dining room.', 'address': \"44 Rue d'Assas, 75006 Paris, France\", 'google_maps_url': 'https://www.google.fr/maps/place/Restaurant+Georgette/@48.8471732,2.3118924,2142m/data=!3m1!1e3!4m10!1m2!2m1!1srestaurant+paris+6!3m6!1s0x47e671d032557dd3:0x1bdb5a7af16431d8!8m2!3d48.8471732!4d2.3299168!15sChJyZXN0YXVyYW50IHBhcmlzIDZaFCIScmVzdGF1cmFudCBwYXJpcyA2kgERZnJlbmNoX3Jlc3RhdXJhbnTgAQA!16s%2Fg%2F11bbyfh_yl?entry=ttu&g_ep=EgoyMDI1MDEyMC4wIKXMDSoASAFQAw%3D%3D'}\n",
            "Restaurant 11 : {'name': 'La Grivoiserie', 'rating': '4.7', 'price': 'NaN', 'restaurant_type': 'French restaurant', 'description': 'Elevated traditional dishes & a daily fixed-price menu in an informal eatery with a terrace.', 'address': '3 Rue Sainte-Beuve, 75006 Paris, France', 'google_maps_url': 'https://www.google.fr/maps/place/La+Grivoiserie/@48.844203,2.3119426,2142m/data=!3m1!1e3!4m10!1m2!2m1!1srestaurant+paris+6!3m6!1s0x47e6711b214e4801:0xc53e66f8001266ff!8m2!3d48.844203!4d2.329967!15sChJyZXN0YXVyYW50IHBhcmlzIDZaFCIScmVzdGF1cmFudCBwYXJpcyA2kgERZnJlbmNoX3Jlc3RhdXJhbnTgAQA!16s%2Fg%2F11fstvrmfv?entry=ttu&g_ep=EgoyMDI1MDEyMC4wIKXMDSoASAFQAw%3D%3D'}\n",
            "Restaurant 12 : {'name': 'La Grivoiserie', 'rating': '4.7', 'price': 'NaN', 'restaurant_type': 'French restaurant', 'description': 'Elevated traditional dishes & a daily fixed-price menu in an informal eatery with a terrace.', 'address': '3 Rue Sainte-Beuve, 75006 Paris, France', 'google_maps_url': 'https://www.google.fr/maps/place/La+Grivoiserie/@48.844203,2.3119426,2142m/data=!3m1!1e3!4m10!1m2!2m1!1srestaurant+paris+6!3m6!1s0x47e6711b214e4801:0xc53e66f8001266ff!8m2!3d48.844203!4d2.329967!15sChJyZXN0YXVyYW50IHBhcmlzIDZaFCIScmVzdGF1cmFudCBwYXJpcyA2kgERZnJlbmNoX3Jlc3RhdXJhbnTgAQA!16s%2Fg%2F11fstvrmfv?entry=ttu&g_ep=EgoyMDI1MDEyMC4wIKXMDSoASAFQAw%3D%3D'}\n",
            "Restaurant 13 : {'name': 'La Diva des Prés', 'rating': '4.3', 'price': 'NaN', 'restaurant_type': 'Restaurant', 'description': 'Romantic restaurant & lounge with pink-hued furnishings, lush, floral accents & outdoor seating.', 'address': '79 Rue de Seine, 75006 Paris, France', 'google_maps_url': 'https://www.google.fr/maps/place/La+Diva+des+Pr%C3%A9s/@48.8480456,2.3249122,2142m/data=!3m2!1e3!5s0x47e671d918d29fa9:0x1ff6f10fafa90434!4m10!1m2!2m1!1srestaurant+paris+6!3m6!1s0x47e67189d5a61017:0x5d8bfb49d1de38df!8m2!3d48.8535748!4d2.337083!15sChJyZXN0YXVyYW50IHBhcmlzIDZaFCIScmVzdGF1cmFudCBwYXJpcyA2kgEKcmVzdGF1cmFudOABAA!16s%2Fg%2F11h3vggpcb?entry=ttu&g_ep=EgoyMDI1MDEyMC4wIKXMDSoASAFQAw%3D%3D'}\n",
            "Restaurant 14 : {'name': 'Semilla', 'rating': '4.5', 'price': '$$$', 'restaurant_type': 'Modern French restaurant', 'description': 'Contemporary, intricate French cuisine with Mediterranean accents amid exposed ducts & brickwork.', 'address': '54 Rue de Seine, 75006 Paris, France', 'google_maps_url': 'https://www.google.fr/maps/place/Semilla/@48.8480456,2.3249122,2142m/data=!3m1!1e3!4m10!1m2!2m1!1srestaurant+paris+6!3m6!1s0x47e671d8e3da5061:0xf88a0426fa601e07!8m2!3d48.8541183!4d2.3368935!15sChJyZXN0YXVyYW50IHBhcmlzIDZaFCIScmVzdGF1cmFudCBwYXJpcyA2kgEYbW9kZXJuX2ZyZW5jaF9yZXN0YXVyYW504AEA!16s%2Fg%2F113j0qvbn?entry=ttu&g_ep=EgoyMDI1MDEyMC4wIKXMDSoASAFQAw%3D%3D'}\n",
            "Restaurant 15 : {'name': 'Au Père Louis (Bar à Vins Paris - Saint Germain des Prés Paris 6)', 'rating': '4.3', 'price': '$$', 'restaurant_type': 'French restaurant', 'description': 'Charming corner restaurant/wine bar dishing up French specialties like onion soup & escargots.', 'address': '38 Rue Monsieur le Prince, 75006 Paris, France', 'google_maps_url': 'https://www.google.fr/maps/place/Au+P%C3%A8re+Louis+(Bar+%C3%A0+Vins+Paris+-+Saint+Germain+des+Pr%C3%A9s+Paris+6)/@48.8480456,2.3249122,2142m/data=!3m1!1e3!4m10!1m2!2m1!1srestaurant+paris+6!3m6!1s0x47e671dc57444449:0x144925998ed51837!8m2!3d48.8490245!4d2.340297!15sChJyZXN0YXVyYW50IHBhcmlzIDZaFCIScmVzdGF1cmFudCBwYXJpcyA2kgERZnJlbmNoX3Jlc3RhdXJhbnTgAQA!16s%2Fg%2F1txfngfz?entry=ttu&g_ep=EgoyMDI1MDEyMC4wIKXMDSoASAFQAw%3D%3D'}\n",
            "Restaurant 16 : {'name': 'La Maison du Jardin', 'rating': '4.6', 'price': '$$', 'restaurant_type': 'French restaurant', 'description': 'Sophisticated, seasonal French cuisine in a compact, candlelit bistro with white tablecloths.', 'address': '27 Rue de Vaugirard, 75006 Paris, France', 'google_maps_url': 'https://www.google.fr/maps/place/La+Maison+du+Jardin/@48.8482436,2.3134143,2142m/data=!3m1!1e3!4m10!1m2!2m1!1srestaurant+paris+6!3m6!1s0x47e671d0661a255b:0x4122ebe09a444c88!8m2!3d48.8482436!4d2.3314387!15sChJyZXN0YXVyYW50IHBhcmlzIDZaFCIScmVzdGF1cmFudCBwYXJpcyA2kgERZnJlbmNoX3Jlc3RhdXJhbnTgAQA!16s%2Fg%2F1tpf6fxc?entry=ttu&g_ep=EgoyMDI1MDEyMC4wIKXMDSoASAFQAw%3D%3D'}\n",
            "Restaurant 17 : {'name': 'Le comptoir du Relais', 'rating': '4.1', 'price': 'NaN', 'restaurant_type': 'Bistro', 'description': 'Casual French bistro with outdoor tables, serving breakfast, traditional meals & desserts.', 'address': \"9 Carr de l'Odéon, 75006 Paris, France\", 'google_maps_url': 'https://www.google.fr/maps/place/Le+comptoir+du+Relais/@48.8480456,2.3249122,2142m/data=!3m1!1e3!4m10!1m2!2m1!1srestaurant+paris+6!3m6!1s0x47e671deb1f83e97:0x1fdb30a31ecca924!8m2!3d48.8519753!4d2.3388371!15sChJyZXN0YXVyYW50IHBhcmlzIDZaFCIScmVzdGF1cmFudCBwYXJpcyA2kgEGYmlzdHJv4AEA!16s%2Fg%2F11btwrnc8g?entry=ttu&g_ep=EgoyMDI1MDEyMC4wIKXMDSoASAFQAw%3D%3D'}\n",
            "Restaurant 18 : {'name': 'Restaurant Chez Lionel Paris 6', 'rating': '4.7', 'price': '€40–50', 'restaurant_type': 'French restaurant', 'description': 'NaN', 'address': '6 Rue de Chevreuse, 75006 Paris, France', 'google_maps_url': 'https://www.google.fr/maps/place/Restaurant+Chez+Lionel+Paris+6/@48.8417865,2.31344,2142m/data=!3m1!1e3!4m10!1m2!2m1!1srestaurant+paris+6!3m6!1s0x47e67191b63fa971:0xc331d493df4e897!8m2!3d48.8417865!4d2.3314644!15sChJyZXN0YXVyYW50IHBhcmlzIDZaFCIScmVzdGF1cmFudCBwYXJpcyA2kgERZnJlbmNoX3Jlc3RhdXJhbnTgAQA!16s%2Fg%2F11gj2bw7rt?entry=ttu&g_ep=EgoyMDI1MDEyMC4wIKXMDSoASAFQAw%3D%3D'}\n",
            "Restaurant 19 : {'name': 'Le Bon Saint Pourçain', 'rating': '4.6', 'price': '$$$', 'restaurant_type': 'Bistro', 'description': 'Inventive seasonal dishes at a chic, compact bistro with outdoor tables in a narrow alley.', 'address': '10bis Rue Servandoni, 75006 Paris, France', 'google_maps_url': 'https://www.google.fr/maps/place/Le+Bon+Saint+Pour%C3%A7ain/@48.8480456,2.3249122,2142m/data=!3m1!1e3!4m10!1m2!2m1!1srestaurant+paris+6!3m6!1s0x47e671da47f2f787:0x72b227126cb77eee!8m2!3d48.8500729!4d2.3346529!15sChJyZXN0YXVyYW50IHBhcmlzIDZaFCIScmVzdGF1cmFudCBwYXJpcyA2kgEGYmlzdHJv4AEA!16s%2Fg%2F1tctq_05?entry=ttu&g_ep=EgoyMDI1MDEyMC4wIKXMDSoASAFQAw%3D%3D'}\n",
            "Restaurant 20 : {'name': \"L'Épidon - Restaurant français\", 'rating': '4.4', 'price': 'NaN', 'restaurant_type': 'French restaurant', 'description': 'NaN', 'address': '2 Rue Casimir Delavigne, 75006 Paris, France', 'google_maps_url': \"https://www.google.fr/maps/place/L'%C3%89pidon+-+Restaurant+fran%C3%A7ais/@48.8480456,2.3249122,2142m/data=!3m2!1e3!5s0x47e671dc1b9bc101:0xb1a1ac817a004660!4m10!1m2!2m1!1srestaurant+paris+6!3m6!1s0x47e671dc195f5aef:0x9691121795f772eb!8m2!3d48.8508811!4d2.3393879!15sChJyZXN0YXVyYW50IHBhcmlzIDZaFCIScmVzdGF1cmFudCBwYXJpcyA2kgERZnJlbmNoX3Jlc3RhdXJhbnTgAQA!16s%2Fg%2F1tdpld3d?entry=ttu&g_ep=EgoyMDI1MDEyMC4wIKXMDSoASAFQAw%3D%3D\"}\n",
            "Erreur avec le restaurant 21 : Message: Element <a class=\"hfpxzc\" href=\"https://www.google.fr/maps/place/Baillotte/data=!4m7!3m6!1s0x47e671a7078e1e93:0x5b12686d38b7869a!8m2!3d48.8535373!4d2.3308734!16s%2Fg%2F11tnwrtkzr!19sChIJkx6OB6dx5kcRmoa3OG1oEls?authuser=0&hl=en&rclk=1\"> is not clickable at point (273,606) because another element <div class=\"L6Bbsd\"> obscures it\n",
            "Stacktrace:\n",
            "RemoteError@chrome://remote/content/shared/RemoteError.sys.mjs:8:8\n",
            "WebDriverError@chrome://remote/content/shared/webdriver/Errors.sys.mjs:193:5\n",
            "ElementClickInterceptedError@chrome://remote/content/shared/webdriver/Errors.sys.mjs:337:5\n",
            "webdriverClickElement@chrome://remote/content/marionette/interaction.sys.mjs:177:11\n",
            "interaction.clickElement@chrome://remote/content/marionette/interaction.sys.mjs:136:11\n",
            "clickElement@chrome://remote/content/marionette/actors/MarionetteCommandsChild.sys.mjs:344:29\n",
            "receiveMessage@chrome://remote/content/marionette/actors/MarionetteCommandsChild.sys.mjs:220:31\n",
            "\n",
            "Données sauvegardées dans data_in_progress/restaurants_paris_6eme.csv avec filtrage pour l'arrondissement 06\n"
          ]
        }
      ],
      "source": [
        "#pour paris 6eme arrondissement:\n",
        "link=\"https://www.google.fr/maps/search/restaurant+paris+6/@48.8676725,2.3003494,7973m/data=!3m2!1e3!4b1?entry=ttu&g_ep=EgoyMDI1MDEwOC4wIKXMDSoASAFQAw%3D%3D\"\n",
        "output_file=\"data_in_progress/restaurants_paris_6eme.csv\"\n",
        "scrape_google_maps(link, n, output_file, arrondissement='06')"
      ]
    },
    {
      "cell_type": "code",
      "execution_count": 25,
      "metadata": {
        "id": "lBKoh0pImL8x",
        "outputId": "12bb190e-029d-45be-fae1-ac364eb17244",
        "colab": {
          "base_uri": "https://localhost:8080/"
        }
      },
      "outputs": [
        {
          "output_type": "stream",
          "name": "stdout",
          "text": [
            "Pas de bouton cookies trouvé : Message: Unable to locate element: .VtwTSb > form:nth-child(2) > div:nth-child(1) > div:nth-child(1) > button:nth-child(1); For documentation on this error, please visit: https://www.selenium.dev/documentation/webdriver/troubleshooting/errors#no-such-element-exception\n",
            "Stacktrace:\n",
            "RemoteError@chrome://remote/content/shared/RemoteError.sys.mjs:8:8\n",
            "WebDriverError@chrome://remote/content/shared/webdriver/Errors.sys.mjs:193:5\n",
            "NoSuchElementError@chrome://remote/content/shared/webdriver/Errors.sys.mjs:511:5\n",
            "dom.find/</<@chrome://remote/content/shared/DOM.sys.mjs:136:16\n",
            "\n",
            "Élément de scroll trouvé avec succès !\n",
            "Restaurant 1 : {'name': \"D'Chez Eux\", 'rating': '4.6', 'price': 'NaN', 'restaurant_type': 'French restaurant', 'description': 'NaN', 'address': '2 Av. de Lowendal, 75007 Paris, France', 'google_maps_url': \"https://www.google.fr/maps/place/D'Chez+Eux/@48.853413,2.2912112,2141m/data=!3m1!1e3!4m10!1m2!2m1!1srestaurant+paris+7!3m6!1s0x47e670263f2a386f:0xd1d5456cfc0602f0!8m2!3d48.853413!4d2.3092356!15sChJyZXN0YXVyYW50IHBhcmlzIDdaFCIScmVzdGF1cmFudCBwYXJpcyA3kgERZnJlbmNoX3Jlc3RhdXJhbnTgAQA!16s%2Fg%2F1v2ppjfg?entry=ttu&g_ep=EgoyMDI1MDExNS4wIKXMDSoASAFQAw%3D%3D\"}\n",
            "Restaurant 2 : {'name': 'Bistrot du Passage - Restaurant Caviste Paris 7', 'rating': '4.8', 'price': 'NaN', 'restaurant_type': 'Restaurant', 'description': 'NaN', 'address': '55 Rue de Grenelle, 75007 Paris, France', 'google_maps_url': 'https://www.google.fr/maps/place/Bistrot+du+Passage+-+Restaurant+Caviste+Paris+7/@48.848489,2.287633,8566m/data=!3m1!1e3!4m10!1m2!2m1!1srestaurant+paris+7!3m6!1s0x47e671593eb8621d:0x9cda26dbf13e3f5!8m2!3d48.8541097!4d2.3253055!15sChJyZXN0YXVyYW50IHBhcmlzIDdaFCIScmVzdGF1cmFudCBwYXJpcyA3kgEKcmVzdGF1cmFudOABAA!16s%2Fg%2F11scmmlf19?entry=ttu&g_ep=EgoyMDI1MDExNS4wIKXMDSoASAFQAw%3D%3D'}\n",
            "Restaurant 3 : {'name': 'Au bon accueil', 'rating': '4.5', 'price': '$$', 'restaurant_type': 'French restaurant', 'description': 'Stylish bistro serving elevated seafood & meat dishes, with Eiffel Tower views from sidewalk tables.', 'address': '14 Rue de Monttessuy, 75007 Paris, France', 'google_maps_url': 'https://www.google.fr/maps/place/Au+bon+accueil/@48.8596979,2.2812567,2141m/data=!3m1!1e3!4m10!1m2!2m1!1srestaurant+paris+7!3m6!1s0x47e66fe07df29055:0x984f2ec7837b33f6!8m2!3d48.8596979!4d2.2992811!15sChJyZXN0YXVyYW50IHBhcmlzIDdaFCIScmVzdGF1cmFudCBwYXJpcyA3kgERZnJlbmNoX3Jlc3RhdXJhbnTgAQA!16s%2Fg%2F1v3_1_8p?entry=ttu&g_ep=EgoyMDI1MDExNS4wIKXMDSoASAFQAw%3D%3D'}\n",
            "Restaurant 4 : {'name': 'NaN', 'rating': 'NaN', 'price': 'NaN', 'restaurant_type': 'NaN', 'description': 'NaN', 'address': 'NaN', 'google_maps_url': 'https://www.google.fr/maps/search/restaurant+paris+7/@48.85729,2.3040584,2141m/data=!3m2!1e3!4b1?entry=ttu&g_ep=EgoyMDI1MDExNS4wIKXMDSoASAFQAw%3D%3D'}\n",
            "Restaurant 5 : {'name': \"Le P'tit Troquet\", 'rating': '4.7', 'price': '€40–50', 'restaurant_type': 'French restaurant', 'description': 'Snug restaurant serving traditional French market cuisine, with some gluten-free options & desserts.', 'address': \"28 Rue de l'Exposition, 75007 Paris, France\", 'google_maps_url': \"https://www.google.fr/maps/place/Le+P'tit+Troquet/@48.8571552,2.2851939,2141m/data=!3m2!1e3!5s0x47e66fdf62955863:0x27832fb9f747bdf4!4m10!1m2!2m1!1srestaurant+paris+7!3m6!1s0x47e66fdf62b565af:0x2d0a60bc9ea215f6!8m2!3d48.8571552!4d2.3032183!15sChJyZXN0YXVyYW50IHBhcmlzIDdaFCIScmVzdGF1cmFudCBwYXJpcyA3kgERZnJlbmNoX3Jlc3RhdXJhbnTgAQA!16s%2Fg%2F1tf_gqtd?entry=ttu&g_ep=EgoyMDI1MDExNS4wIKXMDSoASAFQAw%3D%3D\"}\n",
            "Restaurant 6 : {'name': 'Au Petit Tonneau', 'rating': '4.6', 'price': '$$', 'restaurant_type': 'French restaurant', 'description': 'Seasonal menus of upscale bistro standards served in a cozy space with checkered tablecloths.', 'address': '20 Rue Surcouf, 75007 Paris, France', 'google_maps_url': 'https://www.google.fr/maps/place/Au+Petit+Tonneau/@48.8606607,2.2913347,2141m/data=!3m1!1e3!4m10!1m2!2m1!1srestaurant+paris+7!3m6!1s0x47e66fd9be08c45d:0x20d7932d9474ae17!8m2!3d48.8606607!4d2.3093591!15sChJyZXN0YXVyYW50IHBhcmlzIDdaFCIScmVzdGF1cmFudCBwYXJpcyA3kgERZnJlbmNoX3Jlc3RhdXJhbnTgAQA!16s%2Fg%2F1td8yf93?entry=ttu&g_ep=EgoyMDI1MDExNS4wIKXMDSoASAFQAw%3D%3D'}\n",
            "Restaurant 7 : {'name': 'Le Comptoir des Fables', 'rating': '4.6', 'price': 'NaN', 'restaurant_type': 'Restaurant', 'description': 'NaN', 'address': '112 Rue Saint-Dominique, 75007 Paris, France', 'google_maps_url': 'https://www.google.fr/maps/place/Le+Comptoir+des+Fables/@48.8584974,2.284176,2141m/data=!3m1!1e3!4m10!1m2!2m1!1srestaurant+paris+7!3m6!1s0x47e66f8627a13671:0x4ba933478f0d06c0!8m2!3d48.8584974!4d2.3022004!15sChJyZXN0YXVyYW50IHBhcmlzIDdaFCIScmVzdGF1cmFudCBwYXJpcyA3kgEKcmVzdGF1cmFudOABAA!16s%2Fg%2F11h89gwxmk?entry=ttu&g_ep=EgoyMDI1MDExNS4wIKXMDSoASAFQAw%3D%3D'}\n",
            "Restaurant 8 : {'name': 'La Bonne Excuse', 'rating': '4.6', 'price': '€30–40', 'restaurant_type': 'French restaurant', 'description': 'Creatively interpreted French classics & a renowned apple tart in a stylish, understated setting.', 'address': '48 Rue de Verneuil, 75007 Paris, France', 'google_maps_url': 'https://www.google.fr/maps/place/La+Bonne+Excuse/@48.8572872,2.3040584,2141m/data=!3m1!1e3!4m10!1m2!2m1!1srestaurant+paris+7!3m6!1s0x47e66e2a283e658f:0xf068d7ff9a29717b!8m2!3d48.8584771!4d2.3277015!15sChJyZXN0YXVyYW50IHBhcmlzIDdaFCIScmVzdGF1cmFudCBwYXJpcyA3kgERZnJlbmNoX3Jlc3RhdXJhbnTgAQA!16s%2Fg%2F1hc4wjk2k?entry=ttu&g_ep=EgoyMDI1MDExNS4wIKXMDSoASAFQAw%3D%3D'}\n",
            "Restaurant 9 : {'name': 'Riviera Fuga', 'rating': '4.8', 'price': '$$$', 'restaurant_type': 'Restaurant', 'description': 'NaN', 'address': '10 Port des Invalides, 75007 Paris, France', 'google_maps_url': 'https://www.google.fr/maps/place/Riviera+Fuga/@48.8572863,2.3040584,2141m/data=!3m1!1e3!4m10!1m2!2m1!1srestaurant+paris+7!3m6!1s0x47e66f911f410245:0xa1cf5aaaea1f7c15!8m2!3d48.863142!4d2.312379!15sChJyZXN0YXVyYW50IHBhcmlzIDdaFCIScmVzdGF1cmFudCBwYXJpcyA3kgEKcmVzdGF1cmFudOABAA!16s%2Fg%2F11sss9c0bh?entry=ttu&g_ep=EgoyMDI1MDExNS4wIKXMDSoASAFQAw%3D%3D'}\n",
            "Restaurant 10 : {'name': 'Milagro', 'rating': '4.8', 'price': 'NaN', 'restaurant_type': 'Restaurant', 'description': 'NaN', 'address': '85 Av. Bosquet, 75007 Paris, France', 'google_maps_url': 'https://www.google.fr/maps/place/Milagro/@48.8550271,2.2875665,2141m/data=!3m2!1e3!5s0x47e66e228c63db41:0x6d4394dbb9e156ee!4m10!1m2!2m1!1srestaurant+paris+7!3m6!1s0x47e671497e2a4d0f:0xf4cba23661403e8d!8m2!3d48.8550271!4d2.3055909!15sChJyZXN0YXVyYW50IHBhcmlzIDdaFCIScmVzdGF1cmFudCBwYXJpcyA3kgEKcmVzdGF1cmFudOABAA!16s%2Fg%2F11fst7pl4d?entry=ttu&g_ep=EgoyMDI1MDExNS4wIKXMDSoASAFQAw%3D%3D'}\n",
            "Restaurant 11 : {'name': 'Restaurant Le 122', 'rating': '4.6', 'price': '$$', 'restaurant_type': 'Restaurant', 'description': 'Modern French cooking & wine pairings in a stylish, light-filled room designed in wood & glass.', 'address': '122 Rue de Grenelle, 75007 Paris, France', 'google_maps_url': 'https://www.google.fr/maps/place/Restaurant+Le+122/@48.8572845,2.3040584,2141m/data=!3m1!1e3!4m10!1m2!2m1!1srestaurant+paris+7!3m6!1s0x47e66fd578b0f23b:0x4daf879ad19806a!8m2!3d48.8571453!4d2.3193589!15sChJyZXN0YXVyYW50IHBhcmlzIDdaFCIScmVzdGF1cmFudCBwYXJpcyA3kgEKcmVzdGF1cmFudOABAA!16s%2Fg%2F1tf7rfsg?entry=ttu&g_ep=EgoyMDI1MDExNS4wIKXMDSoASAFQAw%3D%3D'}\n",
            "Restaurant 12 : {'name': 'La Terrasse du 7ᵉ', 'rating': '4.1', 'price': '$$$', 'restaurant_type': 'French restaurant', 'description': 'Classy corner eatery with sidewalk seating & serving a local menu featuring meat & fish plates.', 'address': \"2 Pl. de l'École Militaire, 75007 Paris, France\", 'google_maps_url': 'https://www.google.fr/maps/place/La+Terrasse+du+7%E1%B5%89/@48.8546612,2.2877912,2141m/data=!3m1!1e3!4m10!1m2!2m1!1srestaurant+paris+7!3m6!1s0x47e67026dc322655:0x452d802cc3cd6780!8m2!3d48.8546612!4d2.3058156!15sChJyZXN0YXVyYW50IHBhcmlzIDdaFCIScmVzdGF1cmFudCBwYXJpcyA3kgERZnJlbmNoX3Jlc3RhdXJhbnTgAQA!16s%2Fg%2F1ts1lywp?entry=ttu&g_ep=EgoyMDI1MDExNS4wIKXMDSoASAFQAw%3D%3D'}\n",
            "Restaurant 13 : {'name': 'Auberge Bressane', 'rating': '4.5', 'price': '$$$', 'restaurant_type': 'French restaurant', 'description': 'Folksy, easygoing locale making traditional French food like coq au vin & chocolate soufflé.', 'address': '16 Av. de la Motte-Picquet, 75007 Paris, France', 'google_maps_url': 'https://www.google.fr/maps/place/Auberge+Bressane/@48.856537,2.2904846,2141m/data=!3m1!1e3!4m10!1m2!2m1!1srestaurant+paris+7!3m6!1s0x47e670279b7c6449:0x7dbeb213734a9340!8m2!3d48.856537!4d2.308509!15sChJyZXN0YXVyYW50IHBhcmlzIDdaFCIScmVzdGF1cmFudCBwYXJpcyA3kgERZnJlbmNoX3Jlc3RhdXJhbnTgAQA!16s%2Fg%2F1tdmpcbq?entry=ttu&g_ep=EgoyMDI1MDExNS4wIKXMDSoASAFQAw%3D%3D'}\n",
            "Restaurant 14 : {'name': 'Restaurant CINQ-MARS', 'rating': '4.5', 'price': '$$', 'restaurant_type': 'French restaurant', 'description': 'Intimate, low-lit bistro known for meat dishes, chocolate mousse & a robust selection of wines.', 'address': '51 Rue de Verneuil, 75007 Paris, France', 'google_maps_url': 'https://www.google.fr/maps/place/Restaurant+CINQ-MARS/@48.8572817,2.3040584,2141m/data=!3m1!1e3!4m10!1m2!2m1!1srestaurant+paris+7!3m6!1s0x47e66e283bbddf75:0x832bd95a38c187c9!8m2!3d48.8586028!4d2.3269472!15sChJyZXN0YXVyYW50IHBhcmlzIDdaFCIScmVzdGF1cmFudCBwYXJpcyA3kgERZnJlbmNoX3Jlc3RhdXJhbnTgAQA!16s%2Fg%2F1tffyth4?entry=ttu&g_ep=EgoyMDI1MDExNS4wIKXMDSoASAFQAw%3D%3D'}\n",
            "Restaurant 15 : {'name': 'Pasco', 'rating': '4.4', 'price': '$$$', 'restaurant_type': 'French restaurant', 'description': 'Elevated bistro fare with Mediterranean twists in a charming locale with sheltered sidewalk tables.', 'address': '74 Bd de la Tour-Maubourg, 75007 Paris, France', 'google_maps_url': 'https://www.google.fr/maps/place/Pasco/@48.8561214,2.2916025,2141m/data=!3m1!1e3!4m10!1m2!2m1!1srestaurant+paris+7!3m6!1s0x47e67027edc033e7:0x95f77481d00135a7!8m2!3d48.8561214!4d2.3096269!15sChJyZXN0YXVyYW50IHBhcmlzIDdaFCIScmVzdGF1cmFudCBwYXJpcyA3kgERZnJlbmNoX3Jlc3RhdXJhbnTgAQA!16s%2Fg%2F1vlk0wq6?entry=ttu&g_ep=EgoyMDI1MDExNS4wIKXMDSoASAFQAw%3D%3D'}\n",
            "Restaurant 16 : {'name': 'Le Bistrot de Paris', 'rating': '4.4', 'price': 'NaN', 'restaurant_type': 'Bistro', 'description': 'Elegant restaurant in a 19th-century building preparing a menu of classic & contemporary dishes.', 'address': '33 Rue de Lille, 75007 Paris, France', 'google_maps_url': 'https://www.google.fr/maps/place/Le+Bistrot+de+Paris/@48.8572799,2.3040584,2141m/data=!3m1!1e3!4m10!1m2!2m1!1srestaurant+paris+7!3m6!1s0x47e66e29a4e5039f:0x8edfb33b11ace227!8m2!3d48.8585085!4d2.3294352!15sChJyZXN0YXVyYW50IHBhcmlzIDdaFCIScmVzdGF1cmFudCBwYXJpcyA3kgEGYmlzdHJv4AEA!16s%2Fg%2F1vfp2yrg?entry=ttu&g_ep=EgoyMDI1MDExNS4wIKXMDSoASAFQAw%3D%3D'}\n",
            "Restaurant 17 : {'name': 'Les Cocottes', 'rating': '4.2', 'price': '$$', 'restaurant_type': 'Traditional restaurant', 'description': 'Refined takes on bistro classics & French wines at a chic stop with high tables & stools at the bar.', 'address': '135 Rue Saint-Dominique, 75007 Paris, France', 'google_maps_url': 'https://www.google.fr/maps/place/Les+Cocottes/@48.8582148,2.2838952,2141m/data=!3m1!1e3!4m10!1m2!2m1!1srestaurant+paris+7!3m6!1s0x47e66fdf98609253:0x9ba9899504fd773c!8m2!3d48.8582148!4d2.3019196!15sChJyZXN0YXVyYW50IHBhcmlzIDdaFCIScmVzdGF1cmFudCBwYXJpcyA3kgEWdHJhZGl0aW9uYWxfcmVzdGF1cmFudOABAA!16s%2Fg%2F1tc_7zz1?entry=ttu&g_ep=EgoyMDI1MDExNS4wIKXMDSoASAFQAw%3D%3D'}\n",
            "Restaurant 18 : {'name': 'Bistrot Chez France', 'rating': '4.5', 'price': '€30–40', 'restaurant_type': 'Bistro', 'description': 'Traditional establishment serving wines & seasonal meals made with thoughtfully sourced ingredients.', 'address': '9 Rue Amélie, 75007 Paris, France', 'google_maps_url': 'https://www.google.fr/maps/place/Bistrot+Chez+France/@48.8590532,2.2895766,2141m/data=!3m1!1e3!4m11!1m3!2m2!1srestaurant+paris+7!6e5!3m6!1s0x47e66fd8fb38d25d:0x88a0a90011e0453c!8m2!3d48.8590532!4d2.307601!15sChJyZXN0YXVyYW50IHBhcmlzIDdaFCIScmVzdGF1cmFudCBwYXJpcyA3kgEGYmlzdHJv4AEA!16s%2Fg%2F11bccjvzvt?entry=ttu&g_ep=EgoyMDI1MDExNS4wIKXMDSoASAFQAw%3D%3D'}\n",
            "Restaurant 19 : {'name': \"Le Violon d'Ingres\", 'rating': '4.5', 'price': '€100+', 'restaurant_type': 'Fine dining restaurant', 'description': 'Set menus of creative takes on French classics, dished up in a sleek, modern dining room.', 'address': '135 Rue Saint-Dominique, 75007 Paris, France', 'google_maps_url': \"https://www.google.fr/maps/place/Le+Violon+d'Ingres/@48.8582148,2.2838952,2141m/data=!3m1!1e3!4m10!1m2!2m1!1srestaurant+paris+7!3m6!1s0x47e66fdf987b9ddd:0x5f5a4c6855bacce9!8m2!3d48.8582148!4d2.3019196!15sChJyZXN0YXVyYW50IHBhcmlzIDdaFCIScmVzdGF1cmFudCBwYXJpcyA3kgEWZmluZV9kaW5pbmdfcmVzdGF1cmFudOABAA!16s%2Fg%2F1tf155lb?entry=ttu&g_ep=EgoyMDI1MDExNS4wIKXMDSoASAFQAw%3D%3D\"}\n",
            "Restaurant 20 : {'name': 'La Poule au Pot Paris 7', 'rating': '4.2', 'price': '$$', 'restaurant_type': 'Restaurant', 'description': 'Foie gras, steaks & other familiar fare presented in a comfy dining room with an old-world vibe.', 'address': \"121 Rue de l'Université, 75007 Paris, France\", 'google_maps_url': 'https://www.google.fr/maps/place/La+Poule+au+Pot+Paris+7/@48.8582148,2.2838952,2141m/data=!3m1!1e3!4m10!1m2!2m1!1srestaurant+paris+7!3m6!1s0x47e66e22233962d1:0x255a6039bed38361!8m2!3d48.8610543!4d2.3093166!15sChJyZXN0YXVyYW50IHBhcmlzIDdaFCIScmVzdGF1cmFudCBwYXJpcyA3kgEKcmVzdGF1cmFudOABAA!16s%2Fg%2F11h198twy?entry=ttu&g_ep=EgoyMDI1MDExNS4wIKXMDSoASAFQAw%3D%3D'}\n",
            "Erreur avec le restaurant 21 : Message: Element <a class=\"hfpxzc\" href=\"https://www.google.fr/maps/place/Restaurant+Armonia/data=!4m7!3m6!1s0x47e671dfaba9dc1d:0x438dc12f58aec6bb!8m2!3d48.8563139!4d2.3055116!16s%2Fg%2F11h3vg96v9!19sChIJHdypq99x5kcRu8auWC_BjUM?authuser=0&hl=en&rclk=1\"> is not clickable at point (273,606) because another element <div class=\"L6Bbsd\"> obscures it\n",
            "Stacktrace:\n",
            "RemoteError@chrome://remote/content/shared/RemoteError.sys.mjs:8:8\n",
            "WebDriverError@chrome://remote/content/shared/webdriver/Errors.sys.mjs:193:5\n",
            "ElementClickInterceptedError@chrome://remote/content/shared/webdriver/Errors.sys.mjs:337:5\n",
            "webdriverClickElement@chrome://remote/content/marionette/interaction.sys.mjs:177:11\n",
            "interaction.clickElement@chrome://remote/content/marionette/interaction.sys.mjs:136:11\n",
            "clickElement@chrome://remote/content/marionette/actors/MarionetteCommandsChild.sys.mjs:344:29\n",
            "receiveMessage@chrome://remote/content/marionette/actors/MarionetteCommandsChild.sys.mjs:220:31\n",
            "\n",
            "Données sauvegardées dans data_in_progress/restaurants_paris_7eme.csv avec filtrage pour l'arrondissement 07\n"
          ]
        }
      ],
      "source": [
        "#pour paris 7eme arrondissement:\n",
        "link=\"https://www.google.fr/maps/search/restaurant+paris+7/@48.8484976,2.3185328,2211m/data=!3m2!1e3!4b1?entry=ttu&g_ep=EgoyMDI1MDExNS4wIKXMDSoASAFQAw%3D%3D\"\n",
        "output_file=\"data_in_progress/restaurants_paris_7eme.csv\"\n",
        "scrape_google_maps(link, n, output_file, arrondissement='07')"
      ]
    },
    {
      "cell_type": "code",
      "execution_count": null,
      "metadata": {
        "id": "9puIVnBSmL8y",
        "outputId": "e96e3fc9-b4b5-4fae-e9b2-9c3e68143e80",
        "colab": {
          "base_uri": "https://localhost:8080/"
        }
      },
      "outputs": [
        {
          "output_type": "stream",
          "name": "stdout",
          "text": [
            "Pas de bouton cookies trouvé : Message: Unable to locate element: .VtwTSb > form:nth-child(2) > div:nth-child(1) > div:nth-child(1) > button:nth-child(1); For documentation on this error, please visit: https://www.selenium.dev/documentation/webdriver/troubleshooting/errors#no-such-element-exception\n",
            "Stacktrace:\n",
            "RemoteError@chrome://remote/content/shared/RemoteError.sys.mjs:8:8\n",
            "WebDriverError@chrome://remote/content/shared/webdriver/Errors.sys.mjs:193:5\n",
            "NoSuchElementError@chrome://remote/content/shared/webdriver/Errors.sys.mjs:511:5\n",
            "dom.find/</<@chrome://remote/content/shared/DOM.sys.mjs:136:16\n",
            "\n",
            "Élément de scroll trouvé avec succès !\n",
            "Restaurant 1 : {'name': 'Sphère', 'rating': '4.8', 'price': '€100+', 'restaurant_type': 'Haute French restaurant', 'description': 'NaN', 'address': '18 Rue La Boétie, 75008 Paris, France', 'google_maps_url': 'https://www.google.fr/maps/place/Sph%C3%A8re/@48.874425,2.2970739,2141m/data=!3m2!1e3!5s0x47e66fc976f71e0f:0x9acef3ed0845fd65!4m10!1m2!2m1!1srestaurant+paris+8!3m6!1s0x47e66f4c47058947:0xe1de61d4b89d1efb!8m2!3d48.8742665!4d2.3169387!15sChJyZXN0YXVyYW50IHBhcmlzIDhaFCIScmVzdGF1cmFudCBwYXJpcyA4kgEXaGF1dGVfZnJlbmNoX3Jlc3RhdXJhbnTgAQA!16s%2Fg%2F11t77k7nft?entry=ttu&g_ep=EgoyMDI1MDExNS4wIKXMDSoASAFQAw%3D%3D'}\n",
            "Restaurant 2 : {'name': 'Le Carré Élysée', 'rating': '4.6', 'price': '€20–40', 'restaurant_type': 'French restaurant', 'description': 'NaN', 'address': '49 Av. Franklin Delano Roosevelt, 75008 Paris, France', 'google_maps_url': 'https://www.google.fr/maps/place/Le+Carr%C3%A9+%C3%89lys%C3%A9e/@48.8744241,2.2970739,2141m/data=!3m1!1e3!4m10!1m2!2m1!1srestaurant+paris+8!3m6!1s0x47e66fc5a5312d81:0xe33f6179687d4368!8m2!3d48.870112!4d2.3098835!15sChJyZXN0YXVyYW50IHBhcmlzIDhaFCIScmVzdGF1cmFudCBwYXJpcyA4kgERZnJlbmNoX3Jlc3RhdXJhbnTgAQA!16s%2Fg%2F124yfytg_?entry=ttu&g_ep=EgoyMDI1MDExNS4wIKXMDSoASAFQAw%3D%3D'}\n",
            "Restaurant 3 : {'name': 'Le Mermoz', 'rating': '4.5', 'price': 'NaN', 'restaurant_type': 'Bistro', 'description': 'NaN', 'address': '16 Rue Jean Mermoz, 75008 Paris, France', 'google_maps_url': 'https://www.google.fr/maps/place/Le+Mermoz/@48.8744231,2.2970739,2141m/data=!3m2!1e3!5s0x47e66fc58b4fc5f5:0x9766d86b97a3ca02!4m10!1m2!2m1!1srestaurant+paris+8!3m6!1s0x47e66fc58ca7d7e1:0xda70d2aae068b02!8m2!3d48.8707341!4d2.3115407!15sChJyZXN0YXVyYW50IHBhcmlzIDhaFCIScmVzdGF1cmFudCBwYXJpcyA4kgEGYmlzdHJv4AEA!16s%2Fg%2F1v96l30c?entry=ttu&g_ep=EgoyMDI1MDExNS4wIKXMDSoASAFQAw%3D%3D'}\n",
            "Restaurant 4 : {'name': 'Beauvau Saint-Honoré', 'rating': '4.4', 'price': '$$', 'restaurant_type': 'French restaurant', 'description': 'Informal restaurant preparing classic Corsican mains & desserts, along with wine, beer & cocktails.', 'address': '4 Rue des Saussaies, 75008 Paris, France', 'google_maps_url': 'https://www.google.fr/maps/place/Beauvau+Saint-Honor%C3%A9/@48.8744222,2.2970739,2141m/data=!3m2!1e3!5s0x47e66fcea4e18b95:0x263102aadb22b0dd!4m10!1m2!2m1!1srestaurant+paris+8!3m6!1s0x47e66fcea4f6ea7b:0x321c786ea0292db9!8m2!3d48.871082!4d2.3168703!15sChJyZXN0YXVyYW50IHBhcmlzIDhaFCIScmVzdGF1cmFudCBwYXJpcyA4kgERZnJlbmNoX3Jlc3RhdXJhbnTgAQA!16s%2Fg%2F11b7q2q0pw?entry=ttu&g_ep=EgoyMDI1MDExNS4wIKXMDSoASAFQAw%3D%3D'}\n",
            "Restaurant 5 : {'name': 'Da Alfredo Restaurant Paris 8', 'rating': '4.7', 'price': 'NaN', 'restaurant_type': 'Italian restaurant', 'description': 'NaN', 'address': '182 Bd Haussmann, 75008 Paris, France', 'google_maps_url': 'https://www.google.fr/maps/place/Da+Alfredo+Restaurant+Paris+8/@48.8744213,2.2970739,2141m/data=!3m2!1e3!5s0x47e66fc72de5e899:0x57b21799daeae0df!4m10!1m2!2m1!1srestaurant+paris+8!3m6!1s0x47e66f2643ebc643:0x8ffaf8251b92770c!8m2!3d48.8751989!4d2.3069858!15sChJyZXN0YXVyYW50IHBhcmlzIDhaFCIScmVzdGF1cmFudCBwYXJpcyA4kgESaXRhbGlhbl9yZXN0YXVyYW504AEA!16s%2Fg%2F11kq7hybnd?entry=ttu&g_ep=EgoyMDI1MDExNS4wIKXMDSoASAFQAw%3D%3D'}\n",
            "Restaurant 6 : {'name': 'Restaurant Super Huit Paris 8', 'rating': '4.8', 'price': 'NaN', 'restaurant_type': 'Restaurant', 'description': 'NaN', 'address': '95 Rue de Miromesnil, 75008 Paris, France', 'google_maps_url': 'https://www.google.fr/maps/place/Restaurant+Super+Huit+Paris+8/@48.8744204,2.2970739,2141m/data=!3m1!1e3!4m10!1m2!2m1!1srestaurant+paris+8!3m6!1s0x47e66f7dbd455b45:0x5802ee069a92e9bb!8m2!3d48.8797499!4d2.3152574!15sChJyZXN0YXVyYW50IHBhcmlzIDhaFCIScmVzdGF1cmFudCBwYXJpcyA4kgEKcmVzdGF1cmFudOABAA!16s%2Fg%2F11vpnmcfkm?entry=ttu&g_ep=EgoyMDI1MDExNS4wIKXMDSoASAFQAw%3D%3D'}\n",
            "Restaurant 7 : {'name': \"L'Empire du 8ème\", 'rating': '4.3', 'price': '$$$', 'restaurant_type': 'French restaurant', 'description': 'Stylish restaurant serving Mediterranean cuisine, plus 2 bars, including one in a vaulted cellar.', 'address': '11 Rue Jean Mermoz, 75008 Paris, France', 'google_maps_url': \"https://www.google.fr/maps/place/L'Empire+du+8%C3%A8me/@48.8744195,2.2970739,2141m/data=!3m2!1e3!5s0x47e66fc5f2097cfd:0x84d6f65b24aa604a!4m10!1m2!2m1!1srestaurant+paris+8!3m6!1s0x47e66fc5f371f33f:0x1efacbc9c5ca6bec!8m2!3d48.8709259!4d2.3113845!15sChJyZXN0YXVyYW50IHBhcmlzIDhaFCIScmVzdGF1cmFudCBwYXJpcyA4kgERZnJlbmNoX3Jlc3RhdXJhbnTgAQA!16s%2Fg%2F1tc__swt?entry=ttu&g_ep=EgoyMDI1MDExNS4wIKXMDSoASAFQAw%3D%3D\"}\n",
            "Restaurant 8 : {'name': 'Le Sens Unique', 'rating': '4.5', 'price': '$$', 'restaurant_type': 'French restaurant', 'description': 'Chic restaurant with a wine bar serving high-end meals & drinks in plush, brick-lined surroundings.', 'address': '47 Rue de Ponthieu, 75008 Paris, France', 'google_maps_url': 'https://www.google.fr/maps/place/Le+Sens+Unique/@48.8744186,2.2970739,2141m/data=!3m2!1e3!5s0x47e66fc4078c0e49:0x6477e80cf3ce595f!4m10!1m2!2m1!1srestaurant+paris+8!3m6!1s0x47e66fc407003ad3:0xbe05b3033637ad2a!8m2!3d48.871506!4d2.306402!15sChJyZXN0YXVyYW50IHBhcmlzIDhaFCIScmVzdGF1cmFudCBwYXJpcyA4kgERZnJlbmNoX3Jlc3RhdXJhbnTgAQA!16s%2Fg%2F1tdpqzn6?entry=ttu&g_ep=EgoyMDI1MDExNS4wIKXMDSoASAFQAw%3D%3D'}\n",
            "Restaurant 9 : {'name': 'Le Coin du Rocher - Paris', 'rating': '4.7', 'price': '€30–40', 'restaurant_type': 'Restaurant', 'description': 'NaN', 'address': '88 Rue du Rocher, 75008 Paris, France', 'google_maps_url': 'https://www.google.fr/maps/place/Le+Coin+du+Rocher+-+Paris/@48.8744176,2.2970739,2141m/data=!3m1!1e3!4m10!1m2!2m1!1srestaurant+paris+8!3m6!1s0x47e66f4db3a5ca5d:0xa4349c9fca5e3bc5!8m2!3d48.8805073!4d2.3174135!15sChJyZXN0YXVyYW50IHBhcmlzIDhaFCIScmVzdGF1cmFudCBwYXJpcyA4kgEKcmVzdGF1cmFudOABAA!16s%2Fg%2F1tdkljmh?entry=ttu&g_ep=EgoyMDI1MDExNS4wIKXMDSoASAFQAw%3D%3D'}\n"
          ]
        }
      ],
      "source": [
        "#pour paris 8eme arrondissement:\n",
        "link=\"https://www.google.fr/maps/search/restaurant+paris+8/@48.8744256,2.2970739,1993m/data=!3m2!1e3!4b1?entry=ttu&g_ep=EgoyMDI1MDEwOC4wIKXMDSoASAFQAw%3D%3D\"\n",
        "output_file=\"data_in_progress/restaurants_paris_8eme.csv\"\n",
        "scrape_google_maps(link, n, output_file, arrondissement='08')"
      ]
    },
    {
      "cell_type": "code",
      "execution_count": null,
      "metadata": {
        "id": "tB1LgBfrmL8z"
      },
      "outputs": [],
      "source": [
        "#pour paris 9eme arrondissement:\n",
        "link=\"https://www.google.fr/maps/search/restaurant+paris+9/@48.8744884,2.266174,7972m/data=!3m2!1e3!4b1?entry=ttu&g_ep=EgoyMDI1MDEwOC4wIKXMDSoASAFQAw%3D%3D\"\n",
        "output_file=\"data_in_progress/restaurants_paris_9eme.csv\"\n",
        "scrape_google_maps(link, n, output_file, arrondissement='09')"
      ]
    },
    {
      "cell_type": "code",
      "execution_count": null,
      "metadata": {
        "id": "qCO0tX_imL80"
      },
      "outputs": [],
      "source": [
        "#pour paris 10eme arrondissement:\n",
        "link=\"https://www.google.fr/maps/search/restaurant+paris+10/@48.8756274,2.3478646,1993m/data=!3m2!1e3!4b1?entry=ttu&g_ep=EgoyMDI1MDEwOC4wIKXMDSoASAFQAw%3D%3D\"\n",
        "output_file=\"data_in_progress/restaurants_paris_10eme.csv\"\n",
        "scrape_google_maps(link, n, output_file, arrondissement='10')"
      ]
    },
    {
      "cell_type": "code",
      "execution_count": 29,
      "metadata": {
        "id": "byhQ-F3FmL80",
        "outputId": "045dddc3-0a20-4856-b922-a128c855f339",
        "colab": {
          "base_uri": "https://localhost:8080/"
        }
      },
      "outputs": [
        {
          "metadata": {
            "tags": null
          },
          "name": "stdout",
          "output_type": "stream",
          "text": [
            "Pas de bouton cookies trouvé : Message: Unable to locate element: .VtwTSb > form:nth-child(2) > div:nth-child(1) > div:nth-child(1) > button:nth-child(1); For documentation on this error, please visit: https://www.selenium.dev/documentation/webdriver/troubleshooting/errors#no-such-element-exception\n",
            "Stacktrace:\n",
            "RemoteError@chrome://remote/content/shared/RemoteError.sys.mjs:8:8\n",
            "WebDriverError@chrome://remote/content/shared/webdriver/Errors.sys.mjs:193:5\n",
            "NoSuchElementError@chrome://remote/content/shared/webdriver/Errors.sys.mjs:511:5\n",
            "dom.find/</<@chrome://remote/content/shared/DOM.sys.mjs:136:16\n",
            "\n",
            "Élément de scroll trouvé avec succès !\n",
            "Restaurant 1 : {'name': 'LE DIAMANT DE PARIS', 'rating': '4.5', 'price': '€30–40', 'restaurant_type': 'French restaurant', 'description': 'Intimate restaurant for classic French & Mediterranean dishes with occasional global twists.', 'address': '59 Rue Servan, 75011 Paris, France', 'google_maps_url': 'https://www.google.fr/maps/place/LE+DIAMANT+DE+PARIS/@48.8756801,2.3169646,8562m/data=!3m1!1e3!4m10!1m2!2m1!1srestaurant+paris+11!3m6!1s0x47e66df1aaa82cb1:0x7857011c4bd426c0!8m2!3d48.8629841!4d2.3814905!15sChNyZXN0YXVyYW50IHBhcmlzIDExWhUiE3Jlc3RhdXJhbnQgcGFyaXMgMTGSARFmcmVuY2hfcmVzdGF1cmFudOABAA!16s%2Fg%2F11cfbkr8q?entry=ttu&g_ep=EgoyMDI1MDExNS4wIKXMDSoASAFQAw%3D%3D'}\n",
            "Restaurant 2 : {'name': 'Pierre Sang', 'rating': '4.5', 'price': '$$', 'restaurant_type': 'Restaurant', 'description': 'NaN', 'address': '55 Rue Oberkampf, 75011 Paris, France', 'google_maps_url': 'https://www.google.fr/maps/place/Pierre+Sang/@48.8647418,2.3543331,2141m/data=!3m1!1e3!4m10!1m2!2m1!1srestaurant+paris+11!3m6!1s0x47e66dfcc1fdf165:0x259b2c0420efb705!8m2!3d48.8647418!4d2.3723575!15sChNyZXN0YXVyYW50IHBhcmlzIDExWhUiE3Jlc3RhdXJhbnQgcGFyaXMgMTGSAQpyZXN0YXVyYW504AEA!16s%2Fg%2F11ycqv0j5?entry=ttu&g_ep=EgoyMDI1MDExNS4wIKXMDSoASAFQAw%3D%3D'}\n",
            "Restaurant 3 : {'name': 'Chefs à Table', 'rating': '4.9', 'price': 'NaN', 'restaurant_type': 'Restaurant', 'description': 'Sophisticated restaurant serving creative fine-dining dishes in a fixed-menu format with wine.', 'address': '15 Rue Trousseau, 75011 Paris, France', 'google_maps_url': 'https://www.google.fr/maps/place/Chefs+%C3%A0+Table/@48.8585353,2.3678905,2141m/data=!3m1!1e3!4m10!1m2!2m1!1srestaurant+paris+11!3m6!1s0x47e6736195913985:0xfc1defbb4c90490e!8m2!3d48.8519115!4d2.3787762!15sChNyZXN0YXVyYW50IHBhcmlzIDExWhUiE3Jlc3RhdXJhbnQgcGFyaXMgMTGSAQpyZXN0YXVyYW504AEA!16s%2Fg%2F11nrv_fdhn?entry=ttu&g_ep=EgoyMDI1MDExNS4wIKXMDSoASAFQAw%3D%3D'}\n",
            "Restaurant 4 : {'name': 'Brasserie Martin', 'rating': '4.6', 'price': '€20–30', 'restaurant_type': 'French restaurant', 'description': 'Stylish choice with outdoor tables & a warm vibe serving a generous menu of seasonal classics.', 'address': '24 Rue Saint-Ambroise, 75011 Paris, France', 'google_maps_url': 'https://www.google.fr/maps/place/Brasserie+Martin/@48.8647418,2.3543331,2141m/data=!3m1!1e3!4m10!1m2!2m1!1srestaurant+paris+11!3m6!1s0x47e66d2ad9f24fb9:0x4758d89f8e1138e3!8m2!3d48.8625876!4d2.3786598!15sChNyZXN0YXVyYW50IHBhcmlzIDExWhUiE3Jlc3RhdXJhbnQgcGFyaXMgMTGSARFmcmVuY2hfcmVzdGF1cmFudOABAA!16s%2Fg%2F11t0vqycf7?entry=ttu&g_ep=EgoyMDI1MDExNS4wIKXMDSoASAFQAw%3D%3D'}\n",
            "Restaurant 5 : {'name': 'Qui plume la lune', 'rating': '4.7', 'price': '€100+', 'restaurant_type': 'French restaurant', 'description': 'Set menus of creative French fare paired with wine, served in a stylish, upscale venue.', 'address': '50 Rue Amelot, 75011 Paris, France', 'google_maps_url': 'https://www.google.fr/maps/place/Qui+plume+la+lune/@48.8647418,2.3543331,2141m/data=!3m1!1e3!4m10!1m2!2m1!1srestaurant+paris+11!3m6!1s0x47e66dfe389d8aa7:0xdf2602b2c973ae04!8m2!3d48.8590381!4d2.3684167!15sChNyZXN0YXVyYW50IHBhcmlzIDExWhUiE3Jlc3RhdXJhbnQgcGFyaXMgMTGSARFmcmVuY2hfcmVzdGF1cmFudOABAA!16s%2Fg%2F1tfwjny9?entry=ttu&g_ep=EgoyMDI1MDExNS4wIKXMDSoASAFQAw%3D%3D'}\n",
            "Restaurant 6 : {'name': 'Restaurant les Fabricants', 'rating': '4.5', 'price': '€20–30', 'restaurant_type': 'Restaurant', 'description': 'Easygoing bistro offering wine & spotlighting recipes from the Southwest of France.', 'address': '61 Rue Jean-Pierre Timbaud, 75011 Paris, France', 'google_maps_url': 'https://www.google.fr/maps/place/Restaurant+les+Fabricants/@48.8647418,2.3543331,2141m/data=!3m1!1e3!4m10!1m2!2m1!1srestaurant+paris+11!3m6!1s0x47e66de4eb1486ed:0x6b0688b8b8150db8!8m2!3d48.8671489!4d2.3749202!15sChNyZXN0YXVyYW50IHBhcmlzIDExWhUiE3Jlc3RhdXJhbnQgcGFyaXMgMTGSAQpyZXN0YXVyYW504AEA!16s%2Fg%2F12hpc_3d5?entry=ttu&g_ep=EgoyMDI1MDExNS4wIKXMDSoASAFQAw%3D%3D'}\n",
            "Restaurant 7 : {'name': 'Onze À Table', 'rating': '4.7', 'price': 'NaN', 'restaurant_type': 'Restaurant', 'description': 'Rustic traditional cuisine & creative cocktails presented in a warm, unpretentious setting.', 'address': '10 Rue de la Folie Méricourt, 75011 Paris, France', 'google_maps_url': 'https://www.google.fr/maps/place/Onze+%C3%80+Table/@48.8647418,2.3543331,2141m/data=!3m1!1e3!4m10!1m2!2m1!1srestaurant+paris+11!3m6!1s0x47e66daa1b2390ff:0xf529ce01d79e6584!8m2!3d48.8618461!4d2.3745113!15sChNyZXN0YXVyYW50IHBhcmlzIDExWhUiE3Jlc3RhdXJhbnQgcGFyaXMgMTGSAQpyZXN0YXVyYW504AEA!16s%2Fg%2F11hzysjnzb?entry=ttu&g_ep=EgoyMDI1MDExNS4wIKXMDSoASAFQAw%3D%3D'}\n",
            "Restaurant 8 : {'name': 'Les Petits Papiers', 'rating': '4.6', 'price': '€30–40', 'restaurant_type': 'French restaurant', 'description': 'NaN', 'address': '18 Rue Oberkampf, 75011 Paris, France', 'google_maps_url': 'https://www.google.fr/maps/place/Les+Petits+Papiers/@48.8647418,2.3543331,2141m/data=!3m1!1e3!4m10!1m2!2m1!1srestaurant+paris+11!3m6!1s0x47e66dfd0a3a79ef:0x4c9b2cc0ffdfab08!8m2!3d48.8633333!4d2.3694444!15sChNyZXN0YXVyYW50IHBhcmlzIDExWhUiE3Jlc3RhdXJhbnQgcGFyaXMgMTGSARFmcmVuY2hfcmVzdGF1cmFudOABAA!16s%2Fg%2F12hlcww83?entry=ttu&g_ep=EgoyMDI1MDExNS4wIKXMDSoASAFQAw%3D%3D'}\n",
            "Restaurant 9 : {'name': 'Eunoé', 'rating': '4.8', 'price': 'NaN', 'restaurant_type': 'Restaurant', 'description': 'NaN', 'address': '6 Rue Rochebrune, 75011 Paris, France', 'google_maps_url': 'https://www.google.fr/maps/place/Euno%C3%A9/@48.8647418,2.3543331,2141m/data=!3m1!1e3!4m10!1m2!2m1!1srestaurant+paris+11!3m6!1s0x47e66d2ac2344239:0x889be4fb509ff1f0!8m2!3d48.8607713!4d2.378991!15sChNyZXN0YXVyYW50IHBhcmlzIDExWhUiE3Jlc3RhdXJhbnQgcGFyaXMgMTGSAQpyZXN0YXVyYW504AEA!16s%2Fg%2F11sslrftj4?entry=ttu&g_ep=EgoyMDI1MDExNS4wIKXMDSoASAFQAw%3D%3D'}\n",
            "Restaurant 10 : {'name': 'Orgueil', 'rating': '4.7', 'price': 'NaN', 'restaurant_type': 'French restaurant', 'description': 'NaN', 'address': '6 Rue Popincourt, 75011 Paris, France', 'google_maps_url': 'https://www.google.fr/maps/place/Orgueil/@48.8647418,2.3543331,2141m/data=!3m2!1e3!5s0x47e66df824ed71ff:0x7bb34e007aa97c5c!4m10!1m2!2m1!1srestaurant+paris+11!3m6!1s0x47e66d3899bc5f51:0xeef88e3e6953f350!8m2!3d48.8571038!4d2.3777207!15sChNyZXN0YXVyYW50IHBhcmlzIDExWhUiE3Jlc3RhdXJhbnQgcGFyaXMgMTGSARFmcmVuY2hfcmVzdGF1cmFudOABAA!16s%2Fg%2F11smym19y9?entry=ttu&g_ep=EgoyMDI1MDExNS4wIKXMDSoASAFQAw%3D%3D'}\n",
            "Restaurant 11 : {'name': 'Achi', 'rating': '4.7', 'price': 'NaN', 'restaurant_type': 'Restaurant', 'description': 'NaN', 'address': '13bis Ave Parmentier, 75011 Paris, France', 'google_maps_url': 'https://www.google.fr/maps/place/Achi/@48.8647418,2.3543331,2141m/data=!3m1!1e3!4m10!1m2!2m1!1srestaurant+paris+11!3m6!1s0x47e66d33f8f55989:0xa3f63be99348713!8m2!3d48.8599565!4d2.3786456!15sChNyZXN0YXVyYW50IHBhcmlzIDExWhUiE3Jlc3RhdXJhbnQgcGFyaXMgMTGSAQpyZXN0YXVyYW504AEA!16s%2Fg%2F11rb8_szp3?entry=ttu&g_ep=EgoyMDI1MDExNS4wIKXMDSoASAFQAw%3D%3D'}\n",
            "Restaurant 12 : {'name': 'Pierre Sang on Gambey', 'rating': '4.7', 'price': 'NaN', 'restaurant_type': 'Haute French restaurant', 'description': 'NaN', 'address': '6 Rue Gambey, 75011 Paris, France', 'google_maps_url': 'https://www.google.fr/maps/place/Pierre+Sang+on+Gambey/@48.8647418,2.3543331,2141m/data=!3m1!1e3!4m10!1m2!2m1!1srestaurant+paris+11!3m6!1s0x47e66dfcb786da25:0x31c6c5e8268cdfc2!8m2!3d48.8649889!4d2.3722097!15sChNyZXN0YXVyYW50IHBhcmlzIDExWhUiE3Jlc3RhdXJhbnQgcGFyaXMgMTGSARdoYXV0ZV9mcmVuY2hfcmVzdGF1cmFudOABAA!16s%2Fg%2F11f1wdxn28?entry=ttu&g_ep=EgoyMDI1MDExNS4wIKXMDSoASAFQAw%3D%3D'}\n",
            "Restaurant 13 : {'name': 'Le Rey - Restaurant Paris 11', 'rating': '3.9', 'price': '€20–30', 'restaurant_type': 'French restaurant', 'description': 'Classic brasserie fare like steak frites & charcuterie plates in a plush, wood-paneled space.', 'address': '130 Rue de la Roquette, 75011 Paris, France', 'google_maps_url': 'https://www.google.fr/maps/place/Le+Rey+-+Restaurant+Paris+11/@48.8647418,2.3543331,2141m/data=!3m1!1e3!4m10!1m2!2m1!1srestaurant+paris+11!3m6!1s0x47e66df7bd524e49:0xe50c7cb0287230f3!8m2!3d48.8574128!4d2.3799263!15sChNyZXN0YXVyYW50IHBhcmlzIDExWhUiE3Jlc3RhdXJhbnQgcGFyaXMgMTGSARFmcmVuY2hfcmVzdGF1cmFudOABAA!16s%2Fg%2F1td6xfbt?entry=ttu&g_ep=EgoyMDI1MDExNS4wIKXMDSoASAFQAw%3D%3D'}\n",
            "Restaurant 14 : {'name': 'Korus restaurant', 'rating': '4.7', 'price': '€100+', 'restaurant_type': 'French restaurant', 'description': 'Refined set lunches, evening tasting menus & natural wines, served in a sleek space.', 'address': '73 Rue Amelot, 75011 Paris, France', 'google_maps_url': 'https://www.google.fr/maps/place/Korus+restaurant/@48.8647418,2.3543331,2141m/data=!3m1!1e3!4m10!1m2!2m1!1srestaurant+paris+11!3m6!1s0x47e66dfe3c640001:0x4be57194e48a7ef2!8m2!3d48.8592668!4d2.3681014!15sChNyZXN0YXVyYW50IHBhcmlzIDExWhUiE3Jlc3RhdXJhbnQgcGFyaXMgMTGSARFmcmVuY2hfcmVzdGF1cmFudOABAA!16s%2Fg%2F11c5s9mnjv?entry=ttu&g_ep=EgoyMDI1MDExNS4wIKXMDSoASAFQAw%3D%3D'}\n",
            "Restaurant 15 : {'name': 'Paris-Féni', 'rating': '4.6', 'price': '€20–30', 'restaurant_type': 'Restaurant', 'description': 'NaN', 'address': '15 bis Rue Ternaux, 75011 Paris, France', 'google_maps_url': 'https://www.google.fr/maps/place/Paris-F%C3%A9ni/@48.8647418,2.3543331,2141m/data=!3m1!1e3!4m10!1m2!2m1!1srestaurant+paris+11!3m6!1s0x47e66dfca0000615:0x4e7ec58d0de578a!8m2!3d48.8645497!4d2.3733422!15sChNyZXN0YXVyYW50IHBhcmlzIDExWhUiE3Jlc3RhdXJhbnQgcGFyaXMgMTGSAQpyZXN0YXVyYW504AEA!16s%2Fg%2F1trpq2pn?entry=ttu&g_ep=EgoyMDI1MDExNS4wIKXMDSoASAFQAw%3D%3D'}\n",
            "Restaurant 16 : {'name': \"L'Acolyte de l'Insolite\", 'rating': '4.8', 'price': '€20–30', 'restaurant_type': 'Restaurant', 'description': 'Cozy bistro offering ever-changing set-price menus of creative seasonal fare, plus natural wines.', 'address': '49 Rue de la Folie Méricourt, 75011 Paris, France', 'google_maps_url': \"https://www.google.fr/maps/place/L'Acolyte+de+l'Insolite/@48.8647418,2.3543331,2141m/data=!3m1!1e3!4m10!1m2!2m1!1srestaurant+paris+11!3m6!1s0x47e66dfcd5979ba1:0x4f24a230bdaf2f28!8m2!3d48.8641936!4d2.3716608!15sChNyZXN0YXVyYW50IHBhcmlzIDExWhUiE3Jlc3RhdXJhbnQgcGFyaXMgMTGSAQpyZXN0YXVyYW504AEA!16s%2Fg%2F11b72r4n56?entry=ttu&g_ep=EgoyMDI1MDExNS4wIKXMDSoASAFQAw%3D%3D\"}\n",
            "Restaurant 17 : {'name': 'Le Bec Salé', 'rating': '4.6', 'price': '€20–30', 'restaurant_type': 'Restaurant', 'description': 'NaN', 'address': '119 Rue de la Roquette, 1 Rue Pétion, 75011 Paris, France', 'google_maps_url': 'https://www.google.fr/maps/place/Le+Bec+Sal%C3%A9/@48.8647418,2.3543331,2141m/data=!3m1!1e3!4m10!1m2!2m1!1srestaurant+paris+11!3m6!1s0x47e66df4241c308b:0xe8a365633aee95ab!8m2!3d48.858189!4d2.381851!15sChNyZXN0YXVyYW50IHBhcmlzIDExWhUiE3Jlc3RhdXJhbnQgcGFyaXMgMTGSAQpyZXN0YXVyYW504AEA!16s%2Fg%2F1yg93qz_4?entry=ttu&g_ep=EgoyMDI1MDExNS4wIKXMDSoASAFQAw%3D%3D'}\n",
            "Restaurant 18 : {'name': 'Le Servan', 'rating': '4.5', 'price': '$$', 'restaurant_type': 'Bistro', 'description': 'French-Asian dishes like blood sausage wontons & ginger pork belly, in a space with a vintage vibe.', 'address': '32 Rue Saint-Maur, 75011 Paris, France', 'google_maps_url': 'https://www.google.fr/maps/place/Le+Servan/@48.8647418,2.3543331,2141m/data=!3m1!1e3!4m10!1m2!2m1!1srestaurant+paris+11!3m6!1s0x47e66df0d769130f:0x8442b1519e35147c!8m2!3d48.8610156!4d2.3814506!15sChNyZXN0YXVyYW50IHBhcmlzIDExWhUiE3Jlc3RhdXJhbnQgcGFyaXMgMTGSAQZiaXN0cm_gAQA!16s%2Fg%2F11b6gc5sg5?entry=ttu&g_ep=EgoyMDI1MDExNS4wIKXMDSoASAFQAw%3D%3D'}\n",
            "Restaurant 19 : {'name': 'Bao Express', 'rating': '4.7', 'price': '€20–30', 'restaurant_type': 'Mandarin restaurant', 'description': 'NaN', 'address': '10 R. Bréguet, 75011 Paris, France', 'google_maps_url': 'https://www.google.fr/maps/place/Bao+Express/@48.8647418,2.3543331,2141m/data=!3m2!1e3!5s0x47e66dff49375069:0x254d80964f2ff3b9!4m10!1m2!2m1!1srestaurant+paris+11!3m6!1s0x47e66d25a6e829d9:0xe64ec128e174990a!8m2!3d48.8567225!4d2.3720176!15sChNyZXN0YXVyYW50IHBhcmlzIDExWhUiE3Jlc3RhdXJhbnQgcGFyaXMgMTGSARNtYW5kYXJpbl9yZXN0YXVyYW504AEA!16s%2Fg%2F11t7crhkfq?entry=ttu&g_ep=EgoyMDI1MDExNS4wIKXMDSoASAFQAw%3D%3D'}\n",
            "Restaurant 20 : {'name': 'Jolia', 'rating': '4.8', 'price': '€30–40', 'restaurant_type': 'Mediterranean restaurant', 'description': 'NaN', 'address': '123 Rue du Chemin Vert, 75011 Paris, France', 'google_maps_url': 'https://www.google.fr/maps/place/Jolia/@48.862016,2.3654661,2141m/data=!3m1!1e3!4m10!1m2!2m1!1srestaurant+paris+11!3m6!1s0x47e66d25b20cf6fd:0x174dd8e86c5149fc!8m2!3d48.862016!4d2.3834905!15sChNyZXN0YXVyYW50IHBhcmlzIDExWhUiE3Jlc3RhdXJhbnQgcGFyaXMgMTGSARhtZWRpdGVycmFuZWFuX3Jlc3RhdXJhbnTgAQA!16s%2Fg%2F11tdcjzvd9?entry=ttu&g_ep=EgoyMDI1MDExNS4wIKXMDSoASAFQAw%3D%3D'}\n",
            "Erreur avec le restaurant 21 : Message: Element <a class=\"hfpxzc\" href=\"https://www.google.fr/maps/place/Biondi/data=!4m7!3m6!1s0x47e66e0785ba16b1:0x540b65b93915c78d!8m2!3d48.8638315!4d2.3671144!16s%2Fg%2F11bx685760!19sChIJsRa6hQdu5kcRjccVObllC1Q?authuser=0&hl=en&rclk=1\"> is not clickable at point (273,606) because another element <div class=\"L6Bbsd\"> obscures it\n",
            "Stacktrace:\n",
            "RemoteError@chrome://remote/content/shared/RemoteError.sys.mjs:8:8\n",
            "WebDriverError@chrome://remote/content/shared/webdriver/Errors.sys.mjs:193:5\n",
            "ElementClickInterceptedError@chrome://remote/content/shared/webdriver/Errors.sys.mjs:337:5\n",
            "webdriverClickElement@chrome://remote/content/marionette/interaction.sys.mjs:177:11\n",
            "interaction.clickElement@chrome://remote/content/marionette/interaction.sys.mjs:136:11\n",
            "clickElement@chrome://remote/content/marionette/actors/MarionetteCommandsChild.sys.mjs:344:29\n",
            "receiveMessage@chrome://remote/content/marionette/actors/MarionetteCommandsChild.sys.mjs:220:31\n",
            "\n",
            "Données sauvegardées dans data_in_progress/restaurants_paris_11eme.csv avec filtrage pour l'arrondissement 11\n"
          ]
        }
      ],
      "source": [
        "#pour paris 11eme arrondissement:\n",
        "link=\"https://www.google.fr/maps/search/restaurant+paris+11/@48.8756901,2.3169646,7972m/data=!3m2!1e3!4b1?entry=ttu&g_ep=EgoyMDI1MDEwOC4wIKXMDSoASAFQAw%3D%3D\"\n",
        "output_file=\"data_in_progress/restaurants_paris_11eme.csv\"\n",
        "scrape_google_maps(link, n, output_file, arrondissement='11')"
      ]
    },
    {
      "cell_type": "code",
      "execution_count": 30,
      "metadata": {
        "id": "PSHKMDYSmL81",
        "outputId": "14c0b72b-62a0-458b-ee48-cb47729f3ce7",
        "colab": {
          "base_uri": "https://localhost:8080/"
        }
      },
      "outputs": [
        {
          "output_type": "stream",
          "name": "stdout",
          "text": [
            "Pas de bouton cookies trouvé : Message: Unable to locate element: .VtwTSb > form:nth-child(2) > div:nth-child(1) > div:nth-child(1) > button:nth-child(1); For documentation on this error, please visit: https://www.selenium.dev/documentation/webdriver/troubleshooting/errors#no-such-element-exception\n",
            "Stacktrace:\n",
            "RemoteError@chrome://remote/content/shared/RemoteError.sys.mjs:8:8\n",
            "WebDriverError@chrome://remote/content/shared/webdriver/Errors.sys.mjs:193:5\n",
            "NoSuchElementError@chrome://remote/content/shared/webdriver/Errors.sys.mjs:511:5\n",
            "dom.find/</<@chrome://remote/content/shared/DOM.sys.mjs:136:16\n",
            "\n",
            "Élément de scroll trouvé avec succès !\n",
            "Restaurant 1 : {'name': \"L'Aubergeade\", 'rating': '4.8', 'price': '€30–40', 'restaurant_type': 'Restaurant', 'description': 'Typical, cozy bistro focusing on traditional French dishes like steak tartare, plus seafood.', 'address': '17 Rue Chaligny, 75012 Paris, France', 'google_maps_url': \"https://www.google.fr/maps/place/L'Aubergeade/@48.8756901,2.3169646,8562m/data=!3m1!1e3!4m10!1m2!2m1!1srestaurant+paris+12!3m6!1s0x47e6720de79a84c1:0x7d91161ddaf778d9!8m2!3d48.8465653!4d2.3834896!15sChNyZXN0YXVyYW50IHBhcmlzIDEyWhUiE3Jlc3RhdXJhbnQgcGFyaXMgMTKSAQpyZXN0YXVyYW504AEA!16s%2Fg%2F1thtnxmh?entry=ttu&g_ep=EgoyMDI1MDExNS4wIKXMDSoASAFQAw%3D%3D\"}\n",
            "Restaurant 2 : {'name': 'La Cantine de daumesnil - restaurant paris 12', 'rating': '4.3', 'price': '€20–30', 'restaurant_type': 'Restaurant', 'description': 'NaN', 'address': '119 Rue de Reuilly, 75012 Paris, France', 'google_maps_url': 'https://www.google.fr/maps/place/La+Cantine+de+daumesnil+-+restaurant+paris+12/@48.8756901,2.3169646,8562m/data=!3m1!1e3!4m10!1m2!2m1!1srestaurant+paris+12!3m6!1s0x47e6726ea231f92d:0xfdaef9dd59e2628a!8m2!3d48.8412193!4d2.3942449!15sChNyZXN0YXVyYW50IHBhcmlzIDEyWhUiE3Jlc3RhdXJhbnQgcGFyaXMgMTKSAQpyZXN0YXVyYW504AEA!16s%2Fg%2F1td2lt9t?entry=ttu&g_ep=EgoyMDI1MDExNS4wIKXMDSoASAFQAw%3D%3D'}\n",
            "Restaurant 3 : {'name': 'Le Picotin', 'rating': '4.5', 'price': '€20–40', 'restaurant_type': 'French restaurant', 'description': 'Classic fare plated in a homey, relaxed setting with a charming wall mural & weekly live jazz.', 'address': '35 Rue Sibuet, 75012 Paris, France', 'google_maps_url': 'https://www.google.fr/maps/place/Le+Picotin/@48.8756901,2.3169646,8562m/data=!3m1!1e3!4m10!1m2!2m1!1srestaurant+paris+12!3m6!1s0x47e672651e721cf3:0xf4ee10dd34e61164!8m2!3d48.8434703!4d2.4022776!15sChNyZXN0YXVyYW50IHBhcmlzIDEyWhUiE3Jlc3RhdXJhbnQgcGFyaXMgMTKSARFmcmVuY2hfcmVzdGF1cmFudOABAA!16s%2Fg%2F1tj2b9vf?entry=ttu&g_ep=EgoyMDI1MDExNS4wIKXMDSoASAFQAw%3D%3D'}\n",
            "Restaurant 4 : {'name': \"L'Alchimiste\", 'rating': '4.7', 'price': '€20–30', 'restaurant_type': 'French restaurant', 'description': 'NaN', 'address': '181 Rue de Charenton, 75012 Paris, France', 'google_maps_url': \"https://www.google.fr/maps/place/L'Alchimiste/@48.8756901,2.3169646,8562m/data=!3m1!1e3!4m10!1m2!2m1!1srestaurant+paris+12!3m6!1s0x47e67212563d686f:0x3487581f9fbab0bd!8m2!3d48.8431827!4d2.3855205!15sChNyZXN0YXVyYW50IHBhcmlzIDEyWhUiE3Jlc3RhdXJhbnQgcGFyaXMgMTKSARFmcmVuY2hfcmVzdGF1cmFudOABAA!16s%2Fg%2F1v3gr6nf?entry=ttu&g_ep=EgoyMDI1MDExNS4wIKXMDSoASAFQAw%3D%3D\"}\n",
            "Restaurant 5 : {'name': 'Ty Louis - Restaurant Breton Paris 12', 'rating': '4.8', 'price': '€20–40', 'restaurant_type': 'Restaurant', 'description': 'NaN', 'address': '240 Rue du Faubourg Saint-Antoine, 75012 Paris, France', 'google_maps_url': 'https://www.google.fr/maps/place/Ty+Louis+-+Restaurant+Breton+Paris+12/@48.8756901,2.3169646,8562m/data=!3m1!1e3!4m10!1m2!2m1!1srestaurant+paris+12!3m6!1s0x47e672734626fe0b:0xd972596d84418084!8m2!3d48.8492139!4d2.3895622!15sChNyZXN0YXVyYW50IHBhcmlzIDEyWhUiE3Jlc3RhdXJhbnQgcGFyaXMgMTKSAQpyZXN0YXVyYW504AEA!16s%2Fg%2F1pp2vk8zw?entry=ttu&g_ep=EgoyMDI1MDExNS4wIKXMDSoASAFQAw%3D%3D'}\n",
            "Restaurant 6 : {'name': 'Les affranchis', 'rating': '4.5', 'price': '€20–30', 'restaurant_type': 'Restaurant', 'description': 'Old-fashioned brasserie with a terrace offering typical, seasonal fare & happy-hour specials.', 'address': '14 Av. Daumesnil, 75012 Paris, France', 'google_maps_url': 'https://www.google.fr/maps/place/Les+affranchis/@48.8756901,2.3169646,8562m/data=!3m1!1e3!4m10!1m2!2m1!1srestaurant+paris+12!3m6!1s0x47e673a1c0b3134d:0x98fc5ab4222de86b!8m2!3d48.8483803!4d2.3725889!15sChNyZXN0YXVyYW50IHBhcmlzIDEyWhUiE3Jlc3RhdXJhbnQgcGFyaXMgMTKSAQpyZXN0YXVyYW504AEA!16s%2Fg%2F11h3r10f1v?entry=ttu&g_ep=EgoyMDI1MDExNS4wIKXMDSoASAFQAw%3D%3D'}\n",
            "Restaurant 7 : {'name': \"L'Ébauchoir\", 'rating': '4.7', 'price': '$$', 'restaurant_type': 'Bistro', 'description': 'Creatively interpreted French dishes & a long wine list at an unassuming bistro with street tables.', 'address': '43-45 Rue de Cîteaux, 75012 Paris, France', 'google_maps_url': \"https://www.google.fr/maps/place/L'%C3%89bauchoir/@48.8756901,2.3169646,8562m/data=!3m1!1e3!4m10!1m2!2m1!1srestaurant+paris+12!3m6!1s0x47e6720ecfe1b5df:0xfc178888c45f61af!8m2!3d48.8498715!4d2.3811387!15sChNyZXN0YXVyYW50IHBhcmlzIDEyWhUiE3Jlc3RhdXJhbnQgcGFyaXMgMTKSAQZiaXN0cm_gAQA!16s%2Fg%2F1vnnhq59?entry=ttu&g_ep=EgoyMDI1MDExNS4wIKXMDSoASAFQAw%3D%3D\"}\n",
            "Restaurant 8 : {'name': 'Le 217 Brasserie Restaurant', 'rating': '4.7', 'price': '€20–30', 'restaurant_type': 'Restaurant', 'description': 'NaN', 'address': '217 Av. Daumesnil, 75012 Paris, France', 'google_maps_url': 'https://www.google.fr/maps/place/Le+217+Brasserie+Restaurant/@48.8756901,2.3169646,8562m/data=!3m1!1e3!4m10!1m2!2m1!1srestaurant+paris+12!3m6!1s0x47e672689e3e1c11:0xfcbc6045189b5ed8!8m2!3d48.8385093!4d2.3991269!15sChNyZXN0YXVyYW50IHBhcmlzIDEyWhUiE3Jlc3RhdXJhbnQgcGFyaXMgMTKSAQpyZXN0YXVyYW504AEA!16s%2Fg%2F11g6bw84xp?entry=ttu&g_ep=EgoyMDI1MDExNS4wIKXMDSoASAFQAw%3D%3D'}\n",
            "Restaurant 9 : {'name': 'Le Touareg', 'rating': '4.6', 'price': '€20–30', 'restaurant_type': 'Algerian Restaurant', 'description': 'NaN', 'address': '228 Rue de Charenton, 75012 Paris, France', 'google_maps_url': 'https://www.google.fr/maps/place/Le+Touareg/@48.8756901,2.3169646,8562m/data=!3m1!1e3!4m10!1m2!2m1!1srestaurant+paris+12!3m6!1s0x47e6726b51005c6f:0xc4cef4d64ed882e!8m2!3d48.8397925!4d2.3883199!15sChNyZXN0YXVyYW50IHBhcmlzIDEyWhUiE3Jlc3RhdXJhbnQgcGFyaXMgMTKSARNhbGdlcmlhbl9yZXN0YXVyYW504AEA!16s%2Fg%2F1v6wnmxk?entry=ttu&g_ep=EgoyMDI1MDExNS4wIKXMDSoASAFQAw%3D%3D'}\n",
            "Restaurant 10 : {'name': 'Chez Addy & Ida', 'rating': '4.6', 'price': '€20–30', 'restaurant_type': 'Restaurant', 'description': 'NaN', 'address': '4 Rue Jaucourt, 75012 Paris, France', 'google_maps_url': 'https://www.google.fr/maps/place/Chez+Addy+%26+Ida/@48.8756901,2.3169646,8562m/data=!3m1!1e3!4m10!1m2!2m1!1srestaurant+paris+12!3m6!1s0x47e6735b12235d3b:0x98b38d01fdf9850a!8m2!3d48.8464843!4d2.3947077!15sChNyZXN0YXVyYW50IHBhcmlzIDEyWhUiE3Jlc3RhdXJhbnQgcGFyaXMgMTKSAQpyZXN0YXVyYW504AEA!16s%2Fg%2F11gykqgtl6?entry=ttu&g_ep=EgoyMDI1MDExNS4wIKXMDSoASAFQAw%3D%3D'}\n",
            "Restaurant 11 : {'name': 'À la Biche au Bois', 'rating': '4.5', 'price': '€40–50', 'restaurant_type': 'French restaurant', 'description': 'Typical French fare like terrine & braised chicken, turned out in a relaxed setup.', 'address': '45 Av. Ledru Rollin, 75012 Paris, France', 'google_maps_url': 'https://www.google.fr/maps/place/%C3%80+la+Biche+au+Bois/@48.8756901,2.3169646,8562m/data=!3m1!1e3!4m10!1m2!2m1!1srestaurant+paris+12!3m6!1s0x47e6720379e9ab89:0x27608256db06b821!8m2!3d48.848029!4d2.371106!15sChNyZXN0YXVyYW50IHBhcmlzIDEyWhUiE3Jlc3RhdXJhbnQgcGFyaXMgMTKSARFmcmVuY2hfcmVzdGF1cmFudOABAA!16s%2Fg%2F1tjyn0l3?entry=ttu&g_ep=EgoyMDI1MDExNS4wIKXMDSoASAFQAw%3D%3D'}\n",
            "Restaurant 12 : {'name': 'CHARLETPERRIN', 'rating': '4.4', 'price': '€20–30', 'restaurant_type': 'French restaurant', 'description': 'Classic French dishes like tartare & duck breast offered in a casual brasserie with sidewalk tables.', 'address': '17 Rue Michel Chasles, 75012 Paris, France', 'google_maps_url': 'https://www.google.fr/maps/place/CHARLETPERRIN/@48.8756901,2.3169646,8562m/data=!3m1!1e3!4m10!1m2!2m1!1srestaurant+paris+12!3m6!1s0x47e67204f73b757f:0x76e73ee40f33a63a!8m2!3d48.8477047!4d2.3736278!15sChNyZXN0YXVyYW50IHBhcmlzIDEyWhUiE3Jlc3RhdXJhbnQgcGFyaXMgMTKSARFmcmVuY2hfcmVzdGF1cmFudOABAA!16s%2Fg%2F1tdp4b_2?entry=ttu&g_ep=EgoyMDI1MDExNS4wIKXMDSoASAFQAw%3D%3D'}\n",
            "Restaurant 13 : {'name': 'Cantine La Planque', 'rating': '4.4', 'price': '€20–30', 'restaurant_type': 'Bistro', 'description': 'NaN', 'address': '6 Place Félix Eboué, 75012 Paris, France', 'google_maps_url': 'https://www.google.fr/maps/place/Cantine+La+Planque/@48.8756901,2.3169646,8562m/data=!3m1!1e3!4m10!1m2!2m1!1srestaurant+paris+12!3m6!1s0x47e67269254d0e47:0x8c446bd82d80eea!8m2!3d48.8391879!4d2.3956367!15sChNyZXN0YXVyYW50IHBhcmlzIDEyWhUiE3Jlc3RhdXJhbnQgcGFyaXMgMTKSAQZiaXN0cm_gAQA!16s%2Fg%2F1tgkgl_5?entry=ttu&g_ep=EgoyMDI1MDExNS4wIKXMDSoASAFQAw%3D%3D'}\n",
            "Restaurant 14 : {'name': 'Le Berbère', 'rating': '4.6', 'price': '€20–30', 'restaurant_type': 'North African restaurant', 'description': 'NaN', 'address': '62 Rue Crozatier, 75012 Paris, France', 'google_maps_url': 'https://www.google.fr/maps/place/Le+Berb%C3%A8re/@48.8756901,2.3169646,8562m/data=!3m1!1e3!4m10!1m2!2m1!1srestaurant+paris+12!3m6!1s0x47e6720f3b57eb2d:0x9493d764b25d7877!8m2!3d48.8495211!4d2.3797112!15sChNyZXN0YXVyYW50IHBhcmlzIDEyWhUiE3Jlc3RhdXJhbnQgcGFyaXMgMTKSARhub3J0aF9hZnJpY2FuX3Jlc3RhdXJhbnTgAQA!16s%2Fg%2F1thxvjsw?entry=ttu&g_ep=EgoyMDI1MDExNS4wIKXMDSoASAFQAw%3D%3D'}\n",
            "Restaurant 15 : {'name': 'La cantine diderot', 'rating': '4.4', 'price': '€10–20', 'restaurant_type': 'Restaurant', 'description': 'NaN', 'address': '74 Bd Diderot, 75012 Paris, France', 'google_maps_url': 'https://www.google.fr/maps/place/La+cantine+diderot/@48.8756901,2.3169646,8562m/data=!3m1!1e3!4m10!1m2!2m1!1srestaurant+paris+12!3m6!1s0x47e6731dc10870f3:0x7c448fa8c7712892!8m2!3d48.8466234!4d2.3821763!15sChNyZXN0YXVyYW50IHBhcmlzIDEyWhUiE3Jlc3RhdXJhbnQgcGFyaXMgMTKSAQpyZXN0YXVyYW504AEA!16s%2Fg%2F11hmzs8kq4?entry=ttu&g_ep=EgoyMDI1MDExNS4wIKXMDSoASAFQAw%3D%3D'}\n",
            "Restaurant 16 : {'name': 'Le Cotte Rôti', 'rating': '4.6', 'price': '$$', 'restaurant_type': 'French restaurant', 'description': 'Creative classics, a tasting menu & fine wines at a modern venue with banquettes & a communal table.', 'address': '1 Rue de Cotte, 75012 Paris, France', 'google_maps_url': 'https://www.google.fr/maps/place/Le+Cotte+R%C3%B4ti/@48.8756901,2.3169646,8562m/data=!3m1!1e3!4m10!1m2!2m1!1srestaurant+paris+12!3m6!1s0x47e672059cc82f29:0x3d84a5c9c5c7150c!8m2!3d48.8481646!4d2.3766494!15sChNyZXN0YXVyYW50IHBhcmlzIDEyWhUiE3Jlc3RhdXJhbnQgcGFyaXMgMTKSARFmcmVuY2hfcmVzdGF1cmFudOABAA!16s%2Fg%2F1thl4r55?entry=ttu&g_ep=EgoyMDI1MDExNS4wIKXMDSoASAFQAw%3D%3D'}\n",
            "Restaurant 17 : {'name': 'Le Netter', 'rating': '4.3', 'price': '€20–30', 'restaurant_type': 'Restaurant', 'description': 'NaN', 'address': '82 Cr de Vincennes, 75012 Paris, France', 'google_maps_url': 'https://www.google.fr/maps/place/Le+Netter/@48.8756901,2.3169646,8562m/data=!3m1!1e3!4m10!1m2!2m1!1srestaurant+paris+12!3m6!1s0x47e6727c8ed6aced:0x4a3f9f657d8ceee2!8m2!3d48.8470647!4d2.4064463!15sChNyZXN0YXVyYW50IHBhcmlzIDEyWhUiE3Jlc3RhdXJhbnQgcGFyaXMgMTKSAQpyZXN0YXVyYW504AEA!16s%2Fg%2F1thcm2gr?entry=ttu&g_ep=EgoyMDI1MDExNS4wIKXMDSoASAFQAw%3D%3D'}\n",
            "Restaurant 18 : {'name': 'Au Tramway', 'rating': '4.2', 'price': '€20–30', 'restaurant_type': 'Brasserie', 'description': 'NaN', 'address': '253 Av. Daumesnil, 75012 Paris, France', 'google_maps_url': 'https://www.google.fr/maps/place/Au+Tramway/@48.8756901,2.3169646,8562m/data=!3m1!1e3!4m10!1m2!2m1!1srestaurant+paris+12!3m6!1s0x47e67266fe2b205b:0xe6196d809add965b!8m2!3d48.8374604!4d2.4020805!15sChNyZXN0YXVyYW50IHBhcmlzIDEyWhUiE3Jlc3RhdXJhbnQgcGFyaXMgMTKSARRyZXN0YXVyYW50X2JyYXNzZXJpZeABAA!16s%2Fg%2F1vfwc4tc?entry=ttu&g_ep=EgoyMDI1MDExNS4wIKXMDSoASAFQAw%3D%3D'}\n",
            "Restaurant 19 : {'name': \"Com' à la maison\", 'rating': '4.7', 'price': '€10–30', 'restaurant_type': 'Brasserie', 'description': 'NaN', 'address': '51 Av. du Dr Arnold Netter, 75012 Paris, France', 'google_maps_url': \"https://www.google.fr/maps/place/Com'+%C3%A0+la+maison/@48.8756901,2.3169646,8562m/data=!3m1!1e3!4m10!1m2!2m1!1srestaurant+paris+12!3m6!1s0x47e6726358f775ff:0x9115a9923442ea6!8m2!3d48.8441158!4d2.4053597!15sChNyZXN0YXVyYW50IHBhcmlzIDEyWhUiE3Jlc3RhdXJhbnQgcGFyaXMgMTKSARRyZXN0YXVyYW50X2JyYXNzZXJpZeABAA!16s%2Fg%2F1td1p5ry?entry=ttu&g_ep=EgoyMDI1MDExNS4wIKXMDSoASAFQAw%3D%3D\"}\n",
            "Restaurant 20 : {'name': 'Le Janissaire', 'rating': '4.5', 'price': '€20–40', 'restaurant_type': 'Turkish restaurant', 'description': 'Elegantly plated Turkish cuisine served in a comfortable dining room & on an expansive terrace.', 'address': '22/24 All. Vivaldi, 75012 Paris, France', 'google_maps_url': 'https://www.google.fr/maps/place/Le+Janissaire/@48.8756901,2.3169646,8562m/data=!3m1!1e3!4m11!1m3!2m2!1srestaurant+paris+12!6e5!3m6!1s0x47e6726c5d755ae3:0xd36d3970bc31867f!8m2!3d48.8415763!4d2.3915354!15sChNyZXN0YXVyYW50IHBhcmlzIDEyWhUiE3Jlc3RhdXJhbnQgcGFyaXMgMTKSARJ0dXJraXNoX3Jlc3RhdXJhbnTgAQA!16s%2Fg%2F1td5ffc8?entry=ttu&g_ep=EgoyMDI1MDExNS4wIKXMDSoASAFQAw%3D%3D'}\n",
            "Erreur avec le restaurant 21 : Message: Element <a class=\"hfpxzc\" href=\"https://www.google.fr/maps/place/M%C3%B3n+Vi%C3%AAt/data=!4m7!3m6!1s0x47e67332ae9ebbb7:0x9d07bf82ea6f87f6!8m2!3d48.8468455!4d2.4063529!16s%2Fg%2F11j4fdcr_8!19sChIJt7uerjJz5kcR9odv6oK_B50?authuser=0&hl=en&rclk=1\"> is not clickable at point (273,606) because another element <div class=\"L6Bbsd\"> obscures it\n",
            "Stacktrace:\n",
            "RemoteError@chrome://remote/content/shared/RemoteError.sys.mjs:8:8\n",
            "WebDriverError@chrome://remote/content/shared/webdriver/Errors.sys.mjs:193:5\n",
            "ElementClickInterceptedError@chrome://remote/content/shared/webdriver/Errors.sys.mjs:337:5\n",
            "webdriverClickElement@chrome://remote/content/marionette/interaction.sys.mjs:177:11\n",
            "interaction.clickElement@chrome://remote/content/marionette/interaction.sys.mjs:136:11\n",
            "clickElement@chrome://remote/content/marionette/actors/MarionetteCommandsChild.sys.mjs:344:29\n",
            "receiveMessage@chrome://remote/content/marionette/actors/MarionetteCommandsChild.sys.mjs:220:31\n",
            "\n",
            "Données sauvegardées dans data_in_progress/restaurants_paris_12eme.csv avec filtrage pour l'arrondissement 12\n"
          ]
        }
      ],
      "source": [
        "#pour paris 12eme arrondissement:\n",
        "link=\"https://www.google.fr/maps/search/restaurant+paris+12/@48.8756901,2.3169646,7972m/data=!3m1!1e3?entry=ttu&g_ep=EgoyMDI1MDEwOC4wIKXMDSoASAFQAw%3D%3D\"\n",
        "output_file=\"data_in_progress/restaurants_paris_12eme.csv\"\n",
        "scrape_google_maps(link, n, output_file, arrondissement='12')"
      ]
    },
    {
      "cell_type": "code",
      "execution_count": null,
      "metadata": {
        "id": "N3iSmNttmL81"
      },
      "outputs": [],
      "source": [
        "#pour paris 13eme arrondissement:\n",
        "link=\"https://www.google.fr/maps/search/restaurant+paris+13/@48.8573678,2.2731491,7975m/data=!3m2!1e3!4b1?entry=ttu&g_ep=EgoyMDI1MDEwOC4wIKXMDSoASAFQAw%3D%3D\"\n",
        "output_file=\"data_in_progress/restaurants_paris_13eme.csv\"\n",
        "scrape_google_maps(link, n, output_file, arrondissement='13')"
      ]
    },
    {
      "cell_type": "code",
      "execution_count": 32,
      "metadata": {
        "id": "yL9_R37bmL82",
        "outputId": "46f041d6-8503-44d5-fe78-04b8bbe08301",
        "colab": {
          "base_uri": "https://localhost:8080/"
        }
      },
      "outputs": [
        {
          "output_type": "stream",
          "name": "stdout",
          "text": [
            "Pas de bouton cookies trouvé : Message: Unable to locate element: .VtwTSb > form:nth-child(2) > div:nth-child(1) > div:nth-child(1) > button:nth-child(1); For documentation on this error, please visit: https://www.selenium.dev/documentation/webdriver/troubleshooting/errors#no-such-element-exception\n",
            "Stacktrace:\n",
            "RemoteError@chrome://remote/content/shared/RemoteError.sys.mjs:8:8\n",
            "WebDriverError@chrome://remote/content/shared/webdriver/Errors.sys.mjs:193:5\n",
            "NoSuchElementError@chrome://remote/content/shared/webdriver/Errors.sys.mjs:511:5\n",
            "dom.find/</<@chrome://remote/content/shared/DOM.sys.mjs:136:16\n",
            "\n",
            "Élément de scroll trouvé avec succès !\n",
            "Restaurant 1 : {'name': 'Chez Papa Montparnasse - Denfert 14ème', 'rating': '4.3', 'price': '€20–30', 'restaurant_type': 'French restaurant', 'description': 'NaN', 'address': '6 Rue Gassendi, 75014 Paris, France', 'google_maps_url': 'https://www.google.fr/maps/place/Chez+Papa+Montparnasse+-+Denfert+14%C3%A8me/@48.8329665,2.3124079,2142m/data=!3m1!1e3!4m10!1m2!2m1!1srestaurant+paris+14!3m6!1s0x47e671b623935ab9:0x76541843b84c31f3!8m2!3d48.835939!4d2.3274095!15sChNyZXN0YXVyYW50IHBhcmlzIDE0WhUiE3Jlc3RhdXJhbnQgcGFyaXMgMTSSARFmcmVuY2hfcmVzdGF1cmFudOABAA!16s%2Fg%2F1tglgmt2?entry=ttu&g_ep=EgoyMDI1MDExNS4wIKXMDSoASAFQAw%3D%3D'}\n",
            "Restaurant 2 : {'name': 'Cocotte', 'rating': '4.4', 'price': '€20–30', 'restaurant_type': 'Restaurant', 'description': 'Vibrant spot offering international classics, from pizza to burgers, plus happy hour specials.', 'address': '165 Av. du Maine, 75014 Paris, France', 'google_maps_url': 'https://www.google.fr/maps/place/Cocotte/@48.8329656,2.3124079,2142m/data=!3m1!1e3!4m10!1m2!2m1!1srestaurant+paris+14!3m6!1s0x47e6717514fe66c1:0x709c786fc947b273!8m2!3d48.8329467!4d2.325056!15sChNyZXN0YXVyYW50IHBhcmlzIDE0WhUiE3Jlc3RhdXJhbnQgcGFyaXMgMTSSAQpyZXN0YXVyYW504AEA!16s%2Fg%2F11fhr090jt?entry=ttu&g_ep=EgoyMDI1MDExNS4wIKXMDSoASAFQAw%3D%3D'}\n",
            "Restaurant 3 : {'name': 'Kigawa', 'rating': '4.8', 'price': '€100+', 'restaurant_type': 'French restaurant', 'description': 'NaN', 'address': '186 Rue du Château, 75014 Paris, France', 'google_maps_url': 'https://www.google.fr/maps/place/Kigawa/@48.8329665,2.3124079,2142m/data=!3m1!1e3!4m10!1m2!2m1!1srestaurant+paris+14!3m6!1s0x47e671b44763c263:0x8ded56ee8bdaecb7!8m2!3d48.8330855!4d2.3242711!15sChNyZXN0YXVyYW50IHBhcmlzIDE0WhUiE3Jlc3RhdXJhbnQgcGFyaXMgMTSSARFmcmVuY2hfcmVzdGF1cmFudOABAA!16s%2Fg%2F1tj5kgcd?entry=ttu&g_ep=EgoyMDI1MDExNS4wIKXMDSoASAFQAw%3D%3D'}\n",
            "Restaurant 4 : {'name': \"L'Entrepôt Restaurant\", 'rating': '4.5', 'price': 'NaN', 'restaurant_type': 'Restaurant', 'description': 'NaN', 'address': '7 Rue Francis de Pressensé, 75014 Paris, France', 'google_maps_url': \"https://www.google.fr/maps/place/L'Entrep%C3%B4t+Restaurant/@48.8339719,2.2985304,2142m/data=!3m1!1e3!4m10!1m2!2m1!1srestaurant+paris+14!3m6!1s0x47e671a09d23666d:0x62e7fe4acdc62d8!8m2!3d48.8339719!4d2.3165548!15sChNyZXN0YXVyYW50IHBhcmlzIDE0WhUiE3Jlc3RhdXJhbnQgcGFyaXMgMTSSAQpyZXN0YXVyYW504AEA!16s%2Fg%2F11btm9t9x5?entry=ttu&g_ep=EgoyMDI1MDExNS4wIKXMDSoASAFQAw%3D%3D\"}\n",
            "Restaurant 5 : {'name': \"Au P'tit Zinc\", 'rating': '4.6', 'price': '€20–30', 'restaurant_type': 'Restaurant', 'description': 'NaN', 'address': '2 Rue des Plantes, 75014 Paris, France', 'google_maps_url': \"https://www.google.fr/maps/place/Au+P'tit+Zinc/@48.8329665,2.3124079,2142m/data=!3m1!1e3!4m10!1m2!2m1!1srestaurant+paris+14!3m6!1s0x47e671b40db60ee1:0x6910906ea7642573!8m2!3d48.8323236!4d2.3247461!15sChNyZXN0YXVyYW50IHBhcmlzIDE0WhUiE3Jlc3RhdXJhbnQgcGFyaXMgMTSSAQpyZXN0YXVyYW504AEA!16s%2Fg%2F1pp2tzspp?entry=ttu&g_ep=EgoyMDI1MDExNS4wIKXMDSoASAFQAw%3D%3D\"}\n",
            "Restaurant 6 : {'name': 'Chez Alphonse', 'rating': '4.6', 'price': '€20–30', 'restaurant_type': 'French restaurant', 'description': 'NaN', 'address': '16 Rue Alphonse Daudet, 75014 Paris, France', 'google_maps_url': 'https://www.google.fr/maps/place/Chez+Alphonse/@48.8329665,2.3124079,2142m/data=!3m1!1e3!4m10!1m2!2m1!1srestaurant+paris+14!3m6!1s0x47e6712b1a5dec21:0xe21a9941a2a8e6f5!8m2!3d48.8268498!4d2.3270752!15sChNyZXN0YXVyYW50IHBhcmlzIDE0WhUiE3Jlc3RhdXJhbnQgcGFyaXMgMTSSARFmcmVuY2hfcmVzdGF1cmFudOABAA!16s%2Fg%2F11r43xx4k7?entry=ttu&g_ep=EgoyMDI1MDExNS4wIKXMDSoASAFQAw%3D%3D'}\n",
            "Restaurant 7 : {'name': \"L'impératif\", 'rating': '4.0', 'price': '$$', 'restaurant_type': 'Brewery', 'description': 'NaN', 'address': '135 Boulevard Brune, 75014 Paris, France', 'google_maps_url': \"https://www.google.fr/maps/place/L'imp%C3%A9ratif/@48.8250292,2.3003272,2143m/data=!3m1!1e3!4m10!1m2!2m1!1srestaurant+paris+14!3m6!1s0x47e67052c233b40d:0x3e7f9d8b1d13fa0!8m2!3d48.8250292!4d2.3183516!15sChNyZXN0YXVyYW50IHBhcmlzIDE0WhUiE3Jlc3RhdXJhbnQgcGFyaXMgMTSSAQdicmV3ZXJ5mgEjQ2haRFNVaE5NRzluUzBWSlEwRm5TVU5RY3pWeWVFSm5FQUXgAQD6AQQIABAx!16s%2Fg%2F1thx_35q?entry=ttu&g_ep=EgoyMDI1MDExNS4wIKXMDSoASAFQAw%3D%3D\"}\n",
            "Restaurant 8 : {'name': 'Crêperie Port-Manech', 'rating': '4.5', 'price': '€10–20', 'restaurant_type': 'Creperie', 'description': 'NaN', 'address': '52 Rue du Montparnasse, 75014 Paris, France', 'google_maps_url': 'https://www.google.fr/maps/place/Cr%C3%AAperie+Port-Manech/@48.8422222,2.3075312,2142m/data=!3m2!1e3!5s0x47e671cc11b77351:0x998bf3ed5eaae264!4m10!1m2!2m1!1srestaurant+paris+14!3m6!1s0x47e671cc11ad1f3b:0xf33f73e4289352d2!8m2!3d48.8422222!4d2.3255556!15sChNyZXN0YXVyYW50IHBhcmlzIDE0WhUiE3Jlc3RhdXJhbnQgcGFyaXMgMTSSAQhjcmVwZXJpZeABAA!16s%2Fg%2F1tdwpdl4?entry=ttu&g_ep=EgoyMDI1MDExNS4wIKXMDSoASAFQAw%3D%3D'}\n",
            "Restaurant 9 : {'name': 'Maison Péret - Restaurant Brasserie - Rue Daguerre', 'rating': '4.5', 'price': '€20–30', 'restaurant_type': 'Restaurant', 'description': 'All-day hangout with an old-world Paris feel, serving familiar brasserie cuisine & estate wines.', 'address': '6 Rue Daguerre, 75014 Paris, France', 'google_maps_url': 'https://www.google.fr/maps/place/Maison+P%C3%A9ret+-+Restaurant+Brasserie+-+Rue+Daguerre/@48.8329665,2.3124079,2142m/data=!3m1!1e3!4m10!1m2!2m1!1srestaurant+paris+14!3m6!1s0x47e6712a2b01d45d:0x48edd64e1020e77c!8m2!3d48.8335936!4d2.3309647!15sChNyZXN0YXVyYW50IHBhcmlzIDE0WhUiE3Jlc3RhdXJhbnQgcGFyaXMgMTSSAQpyZXN0YXVyYW504AEA!16s%2Fg%2F11fn9t2ffw?entry=ttu&g_ep=EgoyMDI1MDExNS4wIKXMDSoASAFQAw%3D%3D'}\n",
            "Restaurant 10 : {'name': 'Five Pizza Original - Paris 14 - Plaisance', 'rating': '4.4', 'price': '€10–20', 'restaurant_type': 'Pizza restaurant', 'description': 'NaN', 'address': '80 Rue Raymond Losserand, 75014 Paris, France', 'google_maps_url': 'https://www.google.fr/maps/place/Five+Pizza+Original+-+Paris+14+-+Plaisance/@48.833671,2.2992846,2142m/data=!3m1!1e3!4m10!1m2!2m1!1srestaurant+paris+14!3m6!1s0x47e67129064c6071:0xe2a6a215ea868cb7!8m2!3d48.833671!4d2.317309!15sChNyZXN0YXVyYW50IHBhcmlzIDE0WhUiE3Jlc3RhdXJhbnQgcGFyaXMgMTSSARBwaXp6YV9yZXN0YXVyYW504AEA!16s%2Fg%2F11j1181z5z?entry=ttu&g_ep=EgoyMDI1MDExNS4wIKXMDSoASAFQAw%3D%3D'}\n",
            "Restaurant 11 : {'name': 'Les Artistes', 'rating': '4.5', 'price': '€20–30', 'restaurant_type': 'French restaurant', 'description': 'Casual eatery with a terrace serving local fare including seafood, meat plates & charcuterie boards.', 'address': '60 Rue Didot, 75014 Paris, France', 'google_maps_url': 'https://www.google.fr/maps/place/Les+Artistes/@48.8296605,2.299722,2142m/data=!3m1!1e3!4m10!1m2!2m1!1srestaurant+paris+14!3m6!1s0x47e6704ce58ec3cf:0xef8cd29f1ee277b!8m2!3d48.8296605!4d2.3177464!15sChNyZXN0YXVyYW50IHBhcmlzIDE0WhUiE3Jlc3RhdXJhbnQgcGFyaXMgMTSSARFmcmVuY2hfcmVzdGF1cmFudOABAA!16s%2Fg%2F1tcvt4wg?entry=ttu&g_ep=EgoyMDI1MDExNS4wIKXMDSoASAFQAw%3D%3D'}\n",
            "Restaurant 12 : {'name': 'Himalaya', 'rating': '4.5', 'price': '€20–30', 'restaurant_type': 'Pakistani restaurant', 'description': 'Typical eatery with sidewalk seating offering Indian cuisine including rice dishes & meat plates.', 'address': '22 Rue de la Gaité, 75014 Paris, France', 'google_maps_url': 'https://www.google.fr/maps/place/Himalaya/@48.8329665,2.3124079,2142m/data=!3m1!1e3!4m10!1m2!2m1!1srestaurant+paris+14!3m6!1s0x47e671cb0793bd9d:0x5847acef7a918be1!8m2!3d48.8395714!4d2.3233674!15sChNyZXN0YXVyYW50IHBhcmlzIDE0WhUiE3Jlc3RhdXJhbnQgcGFyaXMgMTSSARRwYWtpc3RhbmlfcmVzdGF1cmFudOABAA!16s%2Fg%2F11bzz5qn37?entry=ttu&g_ep=EgoyMDI1MDExNS4wIKXMDSoASAFQAw%3D%3D'}\n",
            "Restaurant 13 : {'name': 'Le Plomb du Cantal', 'rating': '4.3', 'price': '€20–30', 'restaurant_type': 'French restaurant', 'description': 'Lively bistro known for dairy-rich recipes & mountain wines from the rugged Auvergne countryside.', 'address': '3 Rue de la Gaité, 75014 Paris, France', 'google_maps_url': 'https://www.google.fr/maps/place/Le+Plomb+du+Cantal/@48.8329665,2.3124079,2142m/data=!3m1!1e3!4m10!1m2!2m1!1srestaurant+paris+14!3m6!1s0x47e671cb91788443:0x2bc9039eb70657f8!8m2!3d48.8406423!4d2.324535!15sChNyZXN0YXVyYW50IHBhcmlzIDE0WhUiE3Jlc3RhdXJhbnQgcGFyaXMgMTSSARFmcmVuY2hfcmVzdGF1cmFudOABAA!16s%2Fg%2F1td4n_zs?entry=ttu&g_ep=EgoyMDI1MDExNS4wIKXMDSoASAFQAw%3D%3D'}\n",
            "Restaurant 14 : {'name': 'Le Mauritius', 'rating': '4.4', 'price': '€20–30', 'restaurant_type': 'Restaurant', 'description': 'Shrimp fritters & rich, spicy casseroles from Mauritius & Madagascar in a cozy, colorful space.', 'address': '3 Rue Ernest Cresson, 75014 Paris, France', 'google_maps_url': 'https://www.google.fr/maps/place/Le+Mauritius/@48.8329665,2.3124079,2142m/data=!3m1!1e3!4m10!1m2!2m1!1srestaurant+paris+14!3m6!1s0x47e671b74123be4b:0x210bf14ec20dea4a!8m2!3d48.8322673!4d2.3300895!15sChNyZXN0YXVyYW50IHBhcmlzIDE0WhUiE3Jlc3RhdXJhbnQgcGFyaXMgMTSSAQpyZXN0YXVyYW504AEA!16s%2Fg%2F1tjz77_3?entry=ttu&g_ep=EgoyMDI1MDExNS4wIKXMDSoASAFQAw%3D%3D'}\n",
            "Restaurant 15 : {'name': 'Food Society Paris', 'rating': '4.2', 'price': '€10–20', 'restaurant_type': 'Restaurant', 'description': 'NaN', 'address': '68 Av. du Maine, 75014 Paris, France', 'google_maps_url': 'https://www.google.fr/maps/place/Food+Society+Paris/@48.8329665,2.3124079,2142m/data=!3m1!1e3!4m10!1m2!2m1!1srestaurant+paris+14!3m6!1s0x47e671430125c1b9:0x8213abb68e538c4c!8m2!3d48.838429!4d2.3220713!15sChNyZXN0YXVyYW50IHBhcmlzIDE0WhUiE3Jlc3RhdXJhbnQgcGFyaXMgMTSSAQpyZXN0YXVyYW504AEA!16s%2Fg%2F11smr6mkpd?entry=ttu&g_ep=EgoyMDI1MDExNS4wIKXMDSoASAFQAw%3D%3D'}\n",
            "Restaurant 16 : {'name': 'Les Jardins Contini', 'rating': '4.5', 'price': '€20–30', 'restaurant_type': 'Italian restaurant', 'description': 'NaN', 'address': '49 Av. du Général Leclerc, 75014 Paris, France', 'google_maps_url': 'https://www.google.fr/maps/place/Les+Jardins+Contini/@48.8329665,2.3124079,2142m/data=!3m1!1e3!4m10!1m2!2m1!1srestaurant+paris+14!3m6!1s0x47e671b9db31bd8d:0x7d78cc08ccf6ec41!8m2!3d48.8298027!4d2.328928!15sChNyZXN0YXVyYW50IHBhcmlzIDE0WhUiE3Jlc3RhdXJhbnQgcGFyaXMgMTSSARJpdGFsaWFuX3Jlc3RhdXJhbnTgAQA!16s%2Fg%2F1th7xnvj?entry=ttu&g_ep=EgoyMDI1MDExNS4wIKXMDSoASAFQAw%3D%3D'}\n",
            "Restaurant 17 : {'name': 'I GRAPPOLI', 'rating': '4.5', 'price': '€20–30', 'restaurant_type': 'Pizza restaurant', 'description': 'NaN', 'address': '22 Pl. Denfert-Rochereau, 75014 Paris, France', 'google_maps_url': 'https://www.google.fr/maps/place/I+GRAPPOLI/@48.8329665,2.3124079,2142m/data=!3m1!1e3!4m10!1m2!2m1!1srestaurant+paris+14!3m6!1s0x47e671b5647d7bbb:0x6d42a663c8dc2bc5!8m2!3d48.8338697!4d2.3308772!15sChNyZXN0YXVyYW50IHBhcmlzIDE0WhUiE3Jlc3RhdXJhbnQgcGFyaXMgMTSSARBwaXp6YV9yZXN0YXVyYW504AEA!16s%2Fg%2F11rn91b4fk?entry=ttu&g_ep=EgoyMDI1MDExNS4wIKXMDSoASAFQAw%3D%3D'}\n",
            "Restaurant 18 : {'name': 'A bout de souffle - Restaurant Bar Paris 14', 'rating': '4.7', 'price': 'NaN', 'restaurant_type': 'Restaurant', 'description': 'NaN', 'address': '17 Rue Campagne Première, 75014 Paris, France', 'google_maps_url': 'https://www.google.fr/maps/place/A+bout+de+souffle+-+Restaurant+Bar+Paris+14/@48.8329665,2.3124079,2142m/data=!3m1!1e3!4m10!1m2!2m1!1srestaurant+paris+14!3m6!1s0x47e671f632ec33cd:0x1bca41414c0e541d!8m2!3d48.8396889!4d2.3324329!15sChNyZXN0YXVyYW50IHBhcmlzIDE0WhUiE3Jlc3RhdXJhbnQgcGFyaXMgMTSSAQpyZXN0YXVyYW504AEA!16s%2Fg%2F11fk8fmbf7?entry=ttu&g_ep=EgoyMDI1MDExNS4wIKXMDSoASAFQAw%3D%3D'}\n",
            "Restaurant 19 : {'name': 'Restaurant Île de la Réunion', 'rating': '4.3', 'price': '$$', 'restaurant_type': 'Creole restaurant', 'description': 'NaN', 'address': '96 Rue Daguerre, 75014 Paris, France', 'google_maps_url': 'https://www.google.fr/maps/place/Restaurant+%C3%8Ele+de+la+R%C3%A9union/@48.8329665,2.3124079,2142m/data=!3m1!1e3!4m10!1m2!2m1!1srestaurant+paris+14!3m6!1s0x47e66d8865a8ec41:0x6af6937ced491cee!8m2!3d48.8361109!4d2.3241331!15sChNyZXN0YXVyYW50IHBhcmlzIDE0WhUiE3Jlc3RhdXJhbnQgcGFyaXMgMTSSARFjcmVvbGVfcmVzdGF1cmFudOABAA!16s%2Fg%2F1thq94yg?entry=ttu&g_ep=EgoyMDI1MDExNS4wIKXMDSoASAFQAw%3D%3D'}\n",
            "Restaurant 20 : {'name': 'Black Pinky', 'rating': '4.4', 'price': '€20–30', 'restaurant_type': 'Restaurant', 'description': 'NaN', 'address': '30 Rue de la Gaité, 75014 Paris, France', 'google_maps_url': 'https://www.google.fr/maps/place/Black+Pinky/@48.8329665,2.3124079,2142m/data=!3m1!1e3!4m10!1m2!2m1!1srestaurant+paris+14!3m6!1s0x47e671cafdef5ed9:0xfbc92df83a3c7ab1!8m2!3d48.839068!4d2.3228546!15sChNyZXN0YXVyYW50IHBhcmlzIDE0WhUiE3Jlc3RhdXJhbnQgcGFyaXMgMTSSAQpyZXN0YXVyYW504AEA!16s%2Fg%2F1tdy3sst?entry=ttu&g_ep=EgoyMDI1MDExNS4wIKXMDSoASAFQAw%3D%3D'}\n",
            "Erreur avec le restaurant 21 : Message: Element <a class=\"hfpxzc\" href=\"https://www.google.fr/maps/place/Le+courlis/data=!4m7!3m6!1s0x47e671b104749973:0x4a003b12d40bb7c9!8m2!3d48.8292162!4d2.3277841!16s%2Fg%2F1tp1y3m7!19sChIJc5l0BLFx5kcRybcL1BI7AEo?authuser=0&hl=en&rclk=1\"> is not clickable at point (273,604) because another element <div class=\"L6Bbsd\"> obscures it\n",
            "Stacktrace:\n",
            "RemoteError@chrome://remote/content/shared/RemoteError.sys.mjs:8:8\n",
            "WebDriverError@chrome://remote/content/shared/webdriver/Errors.sys.mjs:193:5\n",
            "ElementClickInterceptedError@chrome://remote/content/shared/webdriver/Errors.sys.mjs:337:5\n",
            "webdriverClickElement@chrome://remote/content/marionette/interaction.sys.mjs:177:11\n",
            "interaction.clickElement@chrome://remote/content/marionette/interaction.sys.mjs:136:11\n",
            "clickElement@chrome://remote/content/marionette/actors/MarionetteCommandsChild.sys.mjs:344:29\n",
            "receiveMessage@chrome://remote/content/marionette/actors/MarionetteCommandsChild.sys.mjs:220:31\n",
            "\n",
            "Données sauvegardées dans data_in_progress/restaurants_paris_14eme.csv avec filtrage pour l'arrondissement 14\n"
          ]
        }
      ],
      "source": [
        "#pour paris 14eme arrondissement:\n",
        "link=\"https://www.google.fr/maps/search/restaurant+paris+14/@48.8329671,2.3124079,1995m/data=!3m2!1e3!4b1?entry=ttu&g_ep=EgoyMDI1MDEwOC4wIKXMDSoASAFQAw%3D%3D\"\n",
        "output_file=\"data_in_progress/restaurants_paris_14eme.csv\"\n",
        "scrape_google_maps(link, n, output_file, arrondissement='14')"
      ]
    },
    {
      "cell_type": "code",
      "execution_count": null,
      "metadata": {
        "id": "d0hyeAW2mL82"
      },
      "outputs": [],
      "source": [
        "#pour paris 15eme arrondissement:\n",
        "link=\"https://www.google.fr/maps/search/restaurant+paris+15/@48.8330299,2.2815079,7979m/data=!3m2!1e3!4b1?entry=ttu&g_ep=EgoyMDI1MDEwOC4wIKXMDSoASAFQAw%3D%3D\"\n",
        "output_file=\"data_in_progress/restaurants_paris_15eme.csv\"\n",
        "scrape_google_maps(link, n, output_file, arrondissement='15')"
      ]
    },
    {
      "cell_type": "code",
      "execution_count": null,
      "metadata": {
        "id": "0G4t9KoamL82"
      },
      "outputs": [],
      "source": [
        "#pour paris 16eme arrondissement:\n",
        "link=\"https://www.google.fr/maps/search/restaurant+paris+16/@48.8331282,2.2815079,7979m/data=!3m2!1e3!4b1?entry=ttu&g_ep=EgoyMDI1MDEwOC4wIKXMDSoASAFQAw%3D%3D\"\n",
        "output_file=\"data_in_progress/restaurants_paris_16eme.csv\"\n",
        "scrape_google_maps(link, n, output_file, arrondissement='16')"
      ]
    },
    {
      "cell_type": "code",
      "execution_count": 35,
      "metadata": {
        "id": "wuFpcRpMmL83",
        "outputId": "10134398-da24-4b71-829c-bcc6409fca16",
        "colab": {
          "base_uri": "https://localhost:8080/"
        }
      },
      "outputs": [
        {
          "output_type": "stream",
          "name": "stdout",
          "text": [
            "Pas de bouton cookies trouvé : Message: Unable to locate element: .VtwTSb > form:nth-child(2) > div:nth-child(1) > div:nth-child(1) > button:nth-child(1); For documentation on this error, please visit: https://www.selenium.dev/documentation/webdriver/troubleshooting/errors#no-such-element-exception\n",
            "Stacktrace:\n",
            "RemoteError@chrome://remote/content/shared/RemoteError.sys.mjs:8:8\n",
            "WebDriverError@chrome://remote/content/shared/webdriver/Errors.sys.mjs:193:5\n",
            "NoSuchElementError@chrome://remote/content/shared/webdriver/Errors.sys.mjs:511:5\n",
            "dom.find/</<@chrome://remote/content/shared/DOM.sys.mjs:136:16\n",
            "\n",
            "Élément de scroll trouvé avec succès !\n",
            "Restaurant 1 : {'name': 'Le Paris 17', 'rating': '4.7', 'price': '$$', 'restaurant_type': 'French restaurant', 'description': 'Traditional French plates presented in a cozy bistro with vintage charm & nostalgic prints.', 'address': '41 Rue Guersant, 75017 Paris, France', 'google_maps_url': 'https://www.google.fr/maps/place/Le+Paris+17/@48.881963,2.2705492,2140m/data=!3m2!1e3!5s0x47e66f8ddb24dec5:0x5e7ceead33ab8306!4m10!1m2!2m1!1srestaurant+paris+17!3m6!1s0x47e66f8ddb67d5ad:0x8242f5d2df79db3f!8m2!3d48.881963!4d2.2885736!15sChNyZXN0YXVyYW50IHBhcmlzIDE3WhUiE3Jlc3RhdXJhbnQgcGFyaXMgMTeSARFmcmVuY2hfcmVzdGF1cmFudOABAA!16s%2Fg%2F1tczpp2g?entry=ttu&g_ep=EgoyMDI1MDExNS4wIKXMDSoASAFQAw%3D%3D'}\n",
            "Restaurant 2 : {'name': 'Comme Chez Maman', 'rating': '4.5', 'price': '$$$', 'restaurant_type': 'NaN', 'description': 'NaN', 'address': '5 Rue des Moines, 75017 Paris, France', 'google_maps_url': 'https://www.google.fr/maps/place/Comme+Chez+Maman/@48.887646,2.3000566,2140m/data=!3m1!1e3!4m13!1m2!2m1!1srestaurant+paris+17!3m9!1s0x47e66fae100eb3a3:0xac00a60d3790518a!5m2!4m1!1i2!8m2!3d48.887646!4d2.318081!15sChNyZXN0YXVyYW50IHBhcmlzIDE3WhUiE3Jlc3RhdXJhbnQgcGFyaXMgMTeSARFmcmVuY2hfcmVzdGF1cmFudOABAA!16s%2Fg%2F1tk6ztbm?entry=ttu&g_ep=EgoyMDI1MDExNS4wIKXMDSoASAFQAw%3D%3D'}\n",
            "Restaurant 3 : {'name': 'Les Demoiselles Restaurant Paris 17', 'rating': '4.5', 'price': '$$', 'restaurant_type': 'French restaurant', 'description': '1950s-style bistro with terrace seating & a retro feel serving homestyle French cuisine all day.', 'address': '23 Rue Léon Jost, 75017 Paris, France', 'google_maps_url': 'https://www.google.fr/maps/place/Les+Demoiselles+Restaurant+Paris+17/@48.8806902,2.2874628,2140m/data=!3m1!1e3!4m10!1m2!2m1!1srestaurant+paris+17!3m6!1s0x47e66fbe1e8a593f:0x4b24638a475d0eb9!8m2!3d48.8812074!4d2.3016923!15sChNyZXN0YXVyYW50IHBhcmlzIDE3WhUiE3Jlc3RhdXJhbnQgcGFyaXMgMTeSARFmcmVuY2hfcmVzdGF1cmFudOABAA!16s%2Fg%2F1ptxf5qbg?entry=ttu&g_ep=EgoyMDI1MDExNS4wIKXMDSoASAFQAw%3D%3D'}\n",
            "Restaurant 4 : {'name': 'Restaurant La Table du Caviste bio Paris 17', 'rating': '4.7', 'price': 'NaN', 'restaurant_type': 'Restaurant', 'description': 'Sophisticated restaurant serving creative season cuisine, plus an extensive wine list.', 'address': '55 Rue de Prony, 75017 Paris, France', 'google_maps_url': 'https://www.google.fr/maps/place/Restaurant+La+Table+du+Caviste+bio+Paris+17/@48.8806893,2.2874628,2140m/data=!3m1!1e3!4m10!1m2!2m1!1srestaurant+paris+17!3m6!1s0x47e66fbdd841b2c5:0xe5bff1cba67446fd!8m2!3d48.8824483!4d2.3036529!15sChNyZXN0YXVyYW50IHBhcmlzIDE3WhUiE3Jlc3RhdXJhbnQgcGFyaXMgMTeSAQpyZXN0YXVyYW504AEA!16s%2Fg%2F11c6vfc579?entry=ttu&g_ep=EgoyMDI1MDExNS4wIKXMDSoASAFQAw%3D%3D'}\n",
            "Restaurant 5 : {'name': \"Le P'tit Bougnat\", 'rating': '4.3', 'price': '$$', 'restaurant_type': 'Traditional restaurant', 'description': 'Snug, quirky establishment rustling up typical French food & meat-focused mains with wine.', 'address': '118 Bd de Courcelles, 75017 Paris, France', 'google_maps_url': \"https://www.google.fr/maps/place/Le+P'tit+Bougnat/@48.8806884,2.2874628,2140m/data=!3m1!1e3!4m10!1m2!2m1!1srestaurant+paris+17!3m6!1s0x47e66f956ac8013b:0x964fe851c458e2cd!8m2!3d48.8786558!4d2.3000154!15sChNyZXN0YXVyYW50IHBhcmlzIDE3WhUiE3Jlc3RhdXJhbnQgcGFyaXMgMTeSARZ0cmFkaXRpb25hbF9yZXN0YXVyYW504AEA!16s%2Fg%2F1wl4pxlk?entry=ttu&g_ep=EgoyMDI1MDExNS4wIKXMDSoASAFQAw%3D%3D\"}\n",
            "Restaurant 6 : {'name': 'LE PETIT VILLIERS', 'rating': '4.6', 'price': '€30–40', 'restaurant_type': 'Bistro', 'description': 'NaN', 'address': '75 Av. de Villiers, 75017 Paris, France', 'google_maps_url': 'https://www.google.fr/maps/place/LE+PETIT+VILLIERS/@48.8806875,2.2874628,2140m/data=!3m1!1e3!4m10!1m2!2m1!1srestaurant+paris+17!3m6!1s0x47e66fbdb190c53b:0x576a8d08ae71ceef!8m2!3d48.8837737!4d2.3040593!15sChNyZXN0YXVyYW50IHBhcmlzIDE3WhUiE3Jlc3RhdXJhbnQgcGFyaXMgMTeSAQZiaXN0cm_gAQA!16s%2Fg%2F1vyxhqsv?entry=ttu&g_ep=EgoyMDI1MDExNS4wIKXMDSoASAFQAw%3D%3D'}\n",
            "Restaurant 7 : {'name': 'Il Grano', 'rating': '4.7', 'price': '€20–30', 'restaurant_type': 'Italian restaurant', 'description': 'Creatively presented antipasti, pasta & Roman pizza plus Italian wines in a bright, colorful space.', 'address': '212 Bis Bd Pereire, 75017 Paris, France', 'google_maps_url': 'https://www.google.fr/maps/place/Il+Grano/@48.8797413,2.2688918,2140m/data=!3m1!1e3!4m10!1m2!2m1!1srestaurant+paris+17!3m6!1s0x47e66f8cf966aaab:0x4fffb53d533b574d!8m2!3d48.8797413!4d2.2869162!15sChNyZXN0YXVyYW50IHBhcmlzIDE3WhUiE3Jlc3RhdXJhbnQgcGFyaXMgMTeSARJpdGFsaWFuX3Jlc3RhdXJhbnTgAQA!16s%2Fg%2F11c48rwndn?entry=ttu&g_ep=EgoyMDI1MDExNS4wIKXMDSoASAFQAw%3D%3D'}\n",
            "Restaurant 8 : {'name': 'Pêche', 'rating': '4.7', 'price': '$$', 'restaurant_type': 'French restaurant', 'description': 'NaN', 'address': '127 Rue Cardinet, 75017 Paris, France', 'google_maps_url': 'https://www.google.fr/maps/place/P%C3%AAche/@48.8806857,2.2874628,2140m/data=!3m1!1e3!4m10!1m2!2m1!1srestaurant+paris+17!3m6!1s0x47e66fbaa5399d13:0x9a25c3e23b2c16d1!8m2!3d48.8864024!4d2.3126261!15sChNyZXN0YXVyYW50IHBhcmlzIDE3WhUiE3Jlc3RhdXJhbnQgcGFyaXMgMTeSARFmcmVuY2hfcmVzdGF1cmFudOABAA!16s%2Fg%2F1v76yzgm?entry=ttu&g_ep=EgoyMDI1MDExNS4wIKXMDSoASAFQAw%3D%3D'}\n",
            "Restaurant 9 : {'name': 'Chez Léon', 'rating': '4.5', 'price': '$$', 'restaurant_type': 'French restaurant', 'description': 'Charming, old-world brasserie serving international meals & specializing in suckling pig.', 'address': '32 Rue Legendre, 75017 Paris, France', 'google_maps_url': 'https://www.google.fr/maps/place/Chez+L%C3%A9on/@48.8806847,2.2874628,2140m/data=!3m1!1e3!4m10!1m2!2m1!1srestaurant+paris+17!3m6!1s0x47e66fb08cb6a1fb:0x4574820bc3e6401d!8m2!3d48.8841417!4d2.3143884!15sChNyZXN0YXVyYW50IHBhcmlzIDE3WhUiE3Jlc3RhdXJhbnQgcGFyaXMgMTeSARFmcmVuY2hfcmVzdGF1cmFudOABAA!16s%2Fg%2F1tdl0wlq?entry=ttu&g_ep=EgoyMDI1MDExNS4wIKXMDSoASAFQAw%3D%3D'}\n",
            "Restaurant 10 : {'name': 'Tonton Des Dames', 'rating': '4.6', 'price': '$$', 'restaurant_type': 'Restaurant', 'description': 'Modern bistro dishes with a meaty focus at a sleek stop with exposed-stone walls & a vaulted cellar.', 'address': '94 Rue des Dames, 75017 Paris, France', 'google_maps_url': 'https://www.google.fr/maps/place/Tonton+Des+Dames/@48.883033,2.2996596,2140m/data=!3m1!1e3!4m10!1m2!2m1!1srestaurant+paris+17!3m6!1s0x47e66fb143a49ea7:0x21a00063592ef63b!8m2!3d48.883033!4d2.317684!15sChNyZXN0YXVyYW50IHBhcmlzIDE3WhUiE3Jlc3RhdXJhbnQgcGFyaXMgMTeSAQpyZXN0YXVyYW504AEA!16s%2Fg%2F11cn18g51s?entry=ttu&g_ep=EgoyMDI1MDExNS4wIKXMDSoASAFQAw%3D%3D'}\n",
            "Restaurant 11 : {'name': 'Break | Restaurant Paris 17 | Terrasse | Brunch Paris', 'rating': '4.4', 'price': '€20–30', 'restaurant_type': 'Restaurant', 'description': 'NaN', 'address': '119 Bd Pereire, 75017 Paris, France', 'google_maps_url': 'https://www.google.fr/maps/place/Break+%7C+Restaurant+Paris+17+%7C+Terrasse+%7C+Brunch+Paris/@48.8806829,2.2874628,2140m/data=!3m2!1e3!5s0x47e66f9710730edd:0xae4fb78c190ea372!4m10!1m2!2m1!1srestaurant+paris+17!3m6!1s0x47e66f9baa467f31:0xa60c94df6ca3a9ea!8m2!3d48.8855171!4d2.2982776!15sChNyZXN0YXVyYW50IHBhcmlzIDE3WhUiE3Jlc3RhdXJhbnQgcGFyaXMgMTeSAQpyZXN0YXVyYW504AEA!16s%2Fg%2F11hzjcm53n?entry=ttu&g_ep=EgoyMDI1MDExNS4wIKXMDSoASAFQAw%3D%3D'}\n",
            "Restaurant 12 : {'name': 'Restaurant Caïus', 'rating': '4.6', 'price': '$$$', 'restaurant_type': 'French restaurant', 'description': 'Informal bistro serving wine & classic entrees in a stylish dining room with modern accents.', 'address': \"6 Rue d'Armaillé, 75017 Paris, France\", 'google_maps_url': 'https://www.google.fr/maps/place/Restaurant+Ca%C3%AFus/@48.8774814,2.274073,2140m/data=!3m2!1e3!5s0x47e66f92d2a6cc05:0x5ee114495a2c623f!4m10!1m2!2m1!1srestaurant+paris+17!3m6!1s0x47e66f9295596c75:0xd185f482d26a5c1!8m2!3d48.8774814!4d2.2920974!15sChNyZXN0YXVyYW50IHBhcmlzIDE3WhUiE3Jlc3RhdXJhbnQgcGFyaXMgMTeSARFmcmVuY2hfcmVzdGF1cmFudOABAA!16s%2Fg%2F11b6d_1nq2?entry=ttu&g_ep=EgoyMDI1MDExNS4wIKXMDSoASAFQAw%3D%3D'}\n",
            "Restaurant 13 : {'name': 'Restaurant Janine', 'rating': '4.7', 'price': '$$', 'restaurant_type': 'Restaurant', 'description': 'NaN', 'address': '90 Rue des Dames, 75017 Paris, France', 'google_maps_url': 'https://www.google.fr/maps/place/Restaurant+Janine/@48.8830652,2.2999486,2140m/data=!3m1!1e3!4m10!1m2!2m1!1srestaurant+paris+17!3m6!1s0x47e66f9b8de6774f:0x439b8734c2b59859!8m2!3d48.8830652!4d2.317973!15sChNyZXN0YXVyYW50IHBhcmlzIDE3WhUiE3Jlc3RhdXJhbnQgcGFyaXMgMTeSAQpyZXN0YXVyYW504AEA!16s%2Fg%2F11t6g1m48g?entry=ttu&g_ep=EgoyMDI1MDExNS4wIKXMDSoASAFQAw%3D%3D'}\n",
            "Restaurant 14 : {'name': \"Le P'tit Canon\", 'rating': '4.4', 'price': '$$', 'restaurant_type': 'French restaurant', 'description': 'NaN', 'address': '36 Rue Legendre, 75017 Paris, France', 'google_maps_url': \"https://www.google.fr/maps/place/Le+P'tit+Canon/@48.8806801,2.2874628,2140m/data=!3m1!1e3!4m10!1m2!2m1!1srestaurant+paris+17!3m6!1s0x47e66fb0f4253b13:0x51b1bcd2f871494d!8m2!3d48.8843853!4d2.3147718!15sChNyZXN0YXVyYW50IHBhcmlzIDE3WhUiE3Jlc3RhdXJhbnQgcGFyaXMgMTeSARFmcmVuY2hfcmVzdGF1cmFudOABAA!16s%2Fg%2F1tl7n0cg?entry=ttu&g_ep=EgoyMDI1MDExNS4wIKXMDSoASAFQAw%3D%3D\"}\n",
            "Restaurant 15 : {'name': 'La Famiglia', 'rating': '4.3', 'price': '$$$', 'restaurant_type': 'Italian restaurant', 'description': 'Upscale Italian cuisine with international touches at a family-owned place with retro-chic decor.', 'address': '2 Rue Waldeck-Rousseau, 75017 Paris, France', 'google_maps_url': 'https://www.google.fr/maps/place/La+Famiglia/@48.8796477,2.2684958,2140m/data=!3m1!1e3!4m10!1m2!2m1!1srestaurant+paris+17!3m6!1s0x47e66f8cf1032c43:0x44e205d9fec94c1c!8m2!3d48.8796477!4d2.2865202!15sChNyZXN0YXVyYW50IHBhcmlzIDE3WhUiE3Jlc3RhdXJhbnQgcGFyaXMgMTeSARJpdGFsaWFuX3Jlc3RhdXJhbnTgAQA!16s%2Fg%2F1tfq8jp1?entry=ttu&g_ep=EgoyMDI1MDExNS4wIKXMDSoASAFQAw%3D%3D'}\n",
            "Erreur avec le restaurant 16 : Message: Element <a class=\"hfpxzc\" href=\"https://www.google.fr/maps/place/Gaston+Restaurant/data=!4m7!3m6!1s0x47e66fae43e190ab:0xa6be74beee794da6!8m2!3d48.8885459!4d2.3172181!16s%2Fg%2F1tf_s5kn!19sChIJq5DhQ65v5kcRpk157r50vqY?authuser=0&hl=en&rclk=1\"> is not clickable at point (273,606) because another element <div class=\"L6Bbsd\"> obscures it\n",
            "Stacktrace:\n",
            "RemoteError@chrome://remote/content/shared/RemoteError.sys.mjs:8:8\n",
            "WebDriverError@chrome://remote/content/shared/webdriver/Errors.sys.mjs:193:5\n",
            "ElementClickInterceptedError@chrome://remote/content/shared/webdriver/Errors.sys.mjs:337:5\n",
            "webdriverClickElement@chrome://remote/content/marionette/interaction.sys.mjs:177:11\n",
            "interaction.clickElement@chrome://remote/content/marionette/interaction.sys.mjs:136:11\n",
            "clickElement@chrome://remote/content/marionette/actors/MarionetteCommandsChild.sys.mjs:344:29\n",
            "receiveMessage@chrome://remote/content/marionette/actors/MarionetteCommandsChild.sys.mjs:220:31\n",
            "\n",
            "Données sauvegardées dans data_in_progress/restaurants_paris_17eme.csv avec filtrage pour l'arrondissement 17\n"
          ]
        }
      ],
      "source": [
        "#pour paris 17eme arrondissement:\n",
        "link=\"https://www.google.fr/maps/search/restaurant+paris+17/@48.8806927,2.2874628,1993m/data=!3m2!1e3!4b1?entry=ttu&g_ep=EgoyMDI1MDEwOC4wIKXMDSoASAFQAw%3D%3D\"\n",
        "output_file=\"data_in_progress/restaurants_paris_17eme.csv\"\n",
        "scrape_google_maps(link, n, output_file, arrondissement='17')"
      ]
    },
    {
      "cell_type": "code",
      "execution_count": null,
      "metadata": {
        "id": "d7kgVUL4mL83"
      },
      "outputs": [],
      "source": [
        "#pour paris 18eme arrondissement:\n",
        "link=\"https://www.google.fr/maps/search/restaurant+paris+18/@48.8807555,2.2565628,7971m/data=!3m2!1e3!4b1?entry=ttu&g_ep=EgoyMDI1MDEwOC4wIKXMDSoASAFQAw%3D%3D\"\n",
        "output_file=\"data_in_progress/restaurants_paris_18eme.csv\"\n",
        "scrape_google_maps(link, n, output_file, arrondissement='18')"
      ]
    },
    {
      "cell_type": "code",
      "execution_count": null,
      "metadata": {
        "id": "cf-6iJWHmL84"
      },
      "outputs": [],
      "source": [
        "#pour paris 19eme arrondissement:\n",
        "link=\"https://www.google.fr/maps/search/restaurant+paris+19/@48.8890345,2.2902335,7970m/data=!3m2!1e3!4b1?entry=ttu&g_ep=EgoyMDI1MDEwOC4wIKXMDSoASAFQAw%3D%3D\"\n",
        "output_file=\"data_in_progress/restaurants_paris_19eme.csv\"\n",
        "scrape_google_maps(link, n, output_file, arrondissement='19')"
      ]
    },
    {
      "cell_type": "code",
      "execution_count": null,
      "metadata": {
        "id": "HHLubH7jmL84"
      },
      "outputs": [],
      "source": [
        "#pour paris 20eme arrondssement:\n",
        "link=\"https://www.google.fr/maps/search/restaurant+paris+20/@48.8628446,2.3749993,4420m/data=!3m2!1e3!4b1?entry=ttu&g_ep=EgoyMDI1MDExNS4wIKXMDSoASAFQAw%3D%3D\"\n",
        "output_file=\"data_in_progress/restaurants_paris_20eme.csv\"\n",
        "scrape_google_maps(link, n, output_file, arrondissement='20')"
      ]
    },
    {
      "cell_type": "code",
      "execution_count": 39,
      "metadata": {
        "id": "Js7YcmpqmL84"
      },
      "outputs": [],
      "source": [
        "import pandas as pd\n",
        "#on ouvre les fichiers csv et on les concatene en un seul\n",
        "#on enleve les doublons\n",
        "#on ouvre tous les fichiers qui commencent par restaurants_paris\n",
        "import glob\n",
        "files = glob.glob(\"data_in_progress/restaurants_paris*.csv\")\n",
        "dataframes = []\n",
        "for file in files:\n",
        "    df = pd.read_csv(file)\n",
        "    dataframes.append(df)\n",
        "#concatenation\n",
        "df = pd.concat(dataframes)\n",
        "#enlever les doublons\n",
        "df = df.drop_duplicates()\n",
        "#sauvegarde\n",
        "df.to_csv(\"restaurants_paris_with_url.csv\", index=False)"
      ]
    },
    {
      "cell_type": "code",
      "execution_count": null,
      "metadata": {
        "id": "2fAxDw2xmL84"
      },
      "outputs": [],
      "source": [
        "df.shape"
      ]
    },
    {
      "cell_type": "code",
      "execution_count": 41,
      "metadata": {
        "id": "B7GXVGhxmL85",
        "outputId": "c5710d42-8d61-4fe7-98ea-ed8011b24d40",
        "colab": {
          "base_uri": "https://localhost:8080/"
        }
      },
      "outputs": [
        {
          "output_type": "stream",
          "name": "stdout",
          "text": [
            "restaurant_type\n",
            "French restaurant              138\n",
            "Restaurant                     121\n",
            "Bistro                          20\n",
            "Italian restaurant              17\n",
            "Brasserie                       11\n",
            "Haute French restaurant          9\n",
            "Fine dining restaurant           5\n",
            "Mediterranean restaurant         5\n",
            "Indian restaurant                4\n",
            "Asian restaurant                 3\n",
            "Chinese restaurant               3\n",
            "Pizza restaurant                 3\n",
            "Southwest France restaurant      3\n",
            "Couscous restaurant              2\n",
            "Thai restaurant                  2\n",
            "Modern French restaurant         2\n",
            "Seafood restaurant               2\n",
            "Traditional restaurant           2\n",
            "Vietnamese restaurant            2\n",
            "Creperie                         2\n",
            "Turkish restaurant               2\n",
            "Basque restaurant                1\n",
            "Hamburger restaurant             1\n",
            "Hot pot restaurant               1\n",
            "Modern European restaurant       1\n",
            "Vegetarian restaurant            1\n",
            "Lebanese restaurant              1\n",
            "Meat dish restaurant             1\n",
            "Latin American restaurant        1\n",
            "Brewpub                          1\n",
            "Asian fusion restaurant          1\n",
            "Japanese restaurant              1\n",
            "Moroccan restaurant              1\n",
            "Taiwanese restaurant             1\n",
            "Algerian Restaurant              1\n",
            "Kebab shop                       1\n",
            "North African restaurant         1\n",
            "Mandarin restaurant              1\n",
            "Brewery                          1\n",
            "Pakistani restaurant             1\n",
            "Creole restaurant                1\n",
            "Tunisian restaurant              1\n",
            "Name: count, dtype: int64\n",
            "restaurant_type\n",
            "French restaurant              138\n",
            "Restaurant                     121\n",
            "Bistro                          20\n",
            "Italian restaurant              17\n",
            "Brasserie                       11\n",
            "Haute French restaurant          9\n",
            "Fine dining restaurant           5\n",
            "Mediterranean restaurant         5\n",
            "Indian restaurant                4\n",
            "Asian restaurant                 3\n",
            "Chinese restaurant               3\n",
            "Pizza restaurant                 3\n",
            "Southwest France restaurant      3\n",
            "Couscous restaurant              2\n",
            "Thai restaurant                  2\n",
            "Modern French restaurant         2\n",
            "Seafood restaurant               2\n",
            "Traditional restaurant           2\n",
            "Vietnamese restaurant            2\n",
            "Creperie                         2\n",
            "Turkish restaurant               2\n",
            "Basque restaurant                1\n",
            "Hamburger restaurant             1\n",
            "Hot pot restaurant               1\n",
            "Modern European restaurant       1\n",
            "Vegetarian restaurant            1\n",
            "Lebanese restaurant              1\n",
            "Meat dish restaurant             1\n",
            "Latin American restaurant        1\n",
            "Brewpub                          1\n",
            "Asian fusion restaurant          1\n",
            "Japanese restaurant              1\n",
            "Moroccan restaurant              1\n",
            "Taiwanese restaurant             1\n",
            "Algerian Restaurant              1\n",
            "Kebab shop                       1\n",
            "North African restaurant         1\n",
            "Mandarin restaurant              1\n",
            "Brewery                          1\n",
            "Pakistani restaurant             1\n",
            "Creole restaurant                1\n",
            "Tunisian restaurant              1\n",
            "Name: count, dtype: int64\n"
          ]
        }
      ],
      "source": [
        "#on affiche les differents types de restaurants\n",
        "print(df[\"restaurant_type\"].value_counts())"
      ]
    }
  ],
  "metadata": {
    "kernelspec": {
      "display_name": "Python 3",
      "name": "python3"
    },
    "language_info": {
      "codemirror_mode": {
        "name": "ipython",
        "version": 3
      },
      "file_extension": ".py",
      "mimetype": "text/x-python",
      "name": "python",
      "nbconvert_exporter": "python",
      "pygments_lexer": "ipython3",
      "version": "3.11.4"
    },
    "colab": {
      "provenance": []
    }
  },
  "nbformat": 4,
  "nbformat_minor": 0
}