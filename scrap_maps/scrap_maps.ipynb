{
 "cells": [
  {
   "cell_type": "code",
   "execution_count": 1,
   "metadata": {},
   "outputs": [],
   "source": [
    "#on va scrap google maps\n",
    "#link : https://www.google.fr/maps/search/restaurant+paris/@48.8701745,2.2726075,18356m/data=!3m2!1e3!4b1?hl=fr&entry=ttu&g_ep=EgoyMDI1MDEwOC4wIKXMDSoASAFQAw%3D%3D\n",
    "link=\"https://www.google.fr/maps/search/restaurant+paris/@48.8701745,2.2726075,18356m/data=!3m2!1e3!4b1?hl=fr&entry=ttu&g_ep=EgoyMDI1MDEwOC4wIKXMDSoASAFQAw%3D%3D\""
   ]
  },
  {
   "cell_type": "code",
   "execution_count": 2,
   "metadata": {},
   "outputs": [],
   "source": [
    "#xpath\n",
    "#nom resto\n",
    "# /html/body/div[2]/div[3]/div[8]/div[9]/div/div/div[1]/div[3]/div/div[1]/div/div/div[2]/div[2]/div/div[1]/div[1]/h1\n",
    "\n",
    "#note\n",
    "# /html/body/div[2]/div[3]/div[8]/div[9]/div/div/div[1]/div[3]/div/div[1]/div/div/div[2]/div[2]/div/div[1]/div[2]/div/div[1]/div[2]/span[1]/span[1]\n",
    "\n",
    "#prix\n",
    "# /html/body/div[2]/div[3]/div[8]/div[9]/div/div/div[1]/div[3]/div/div[1]/div/div/div[2]/div[2]/div/div[1]/div[2]/div/div[1]/span/span/span/span[2]/span/span\n",
    "\n",
    "#adresse\n",
    "# /html/body/div[2]/div[3]/div[8]/div[9]/div/div/div[1]/div[3]/div/div[1]/div/div/div[2]/div[11]/div[3]/button/div/div[2]/div[1]\n",
    "\n",
    "#description\n",
    "# /html/body/div[2]/div[3]/div[8]/div[9]/div/div/div[1]/div[3]/div/div[1]/div/div/div[2]/div[8]/button/div[1]\n"
   ]
  },
  {
   "cell_type": "code",
   "execution_count": 3,
   "metadata": {},
   "outputs": [],
   "source": [
    "from selenium import webdriver\n",
    "from selenium.webdriver.common.by import By\n",
    "from selenium.webdriver.common.action_chains import ActionChains\n",
    "from selenium.webdriver.firefox.options import Options\n",
    "import time\n",
    "import random\n",
    "import csv"
   ]
  },
  {
   "cell_type": "code",
   "execution_count": 4,
   "metadata": {},
   "outputs": [],
   "source": [
    "# Configuration du WebDriver avec des options\n",
    "options = Options()\n",
    "options.add_argument(\"--disable-blink-features=AutomationControlled\")\n",
    "options.add_argument(\"--disable-extensions\")\n",
    "options.add_argument(\"--headless\")\n",
    "\n",
    "# User-Agent Rotation\n",
    "user_agents = [\n",
    "    \"Mozilla/5.0 (Windows NT 10.0; Win64; x64) AppleWebKit/537.36 (KHTML, like Gecko) Chrome/91.0.4472.124 Safari/537.36\",\n",
    "    \"Mozilla/5.0 (Windows NT 6.1; WOW64; rv:40.0) Gecko/20100101 Firefox/40.0\",\n",
    "    \"Mozilla/5.0 (Windows NT 10.0; Win64; x64) AppleWebKit/537.36 (KHTML, like Gecko) Chrome/58.0.3029.110 Safari/537.3\"\n",
    "]\n",
    "options.add_argument(f\"user-agent={random.choice(user_agents)}\")\n"
   ]
  },
  {
   "cell_type": "code",
   "execution_count": 5,
   "metadata": {},
   "outputs": [],
   "source": [
    "def scrape_google_maps(link, n, output_file):\n",
    "    \"\"\"\n",
    "    Fonction pour scraper les informations des restaurants à partir de Google Maps.\n",
    "\n",
    "    :param link: URL de la recherche Google Maps\n",
    "    :param n: Nombre de restaurants à scraper\n",
    "    :param output_file: Nom du fichier CSV pour sauvegarder les résultats\n",
    "    \"\"\"\n",
    "    # Initialisation du WebDriver\n",
    "    driver = webdriver.Firefox(options=options)\n",
    "    driver.get(link)\n",
    "\n",
    "    # Attente pour charger la page et accepter les cookies\n",
    "    time.sleep(5)\n",
    "    try:\n",
    "        cookies_button = driver.find_element(By.CSS_SELECTOR, \".VtwTSb > form:nth-child(2) > div:nth-child(1) > div:nth-child(1) > button:nth-child(1)\")\n",
    "        cookies_button.click()\n",
    "        time.sleep(2)\n",
    "    except Exception as e:\n",
    "        print(\"Pas de bouton cookies trouvé :\", e)\n",
    "\n",
    "    # Définir l'élément de scroll avec le XPath\n",
    "    scroll_xpath = '//div[@class=\"XltNde tTVLSc\"]/div[1]/div[2]/div[1]/div[1]/div[1]/div[1]/div[1]/div[1]'\n",
    "    try:\n",
    "        scrollable_div = driver.find_element(By.XPATH, scroll_xpath)\n",
    "        print(\"Élément de scroll trouvé avec succès !\")\n",
    "    except Exception as e:\n",
    "        print(f\"Erreur lors de la recherche de l'élément de scroll : {e}\")\n",
    "        driver.quit()\n",
    "        return\n",
    "\n",
    "    # Fonction pour récupérer les informations d'un restaurant\n",
    "    def get_restaurant_info():\n",
    "        try:\n",
    "            name = driver.find_element(By.CSS_SELECTOR, \".DUwDvf\").text\n",
    "        except:\n",
    "            name = \"NaN\"\n",
    "        try:\n",
    "            rating = driver.find_element(By.CSS_SELECTOR, \".F7nice > span:nth-child(1) > span:nth-child(1)\").text\n",
    "        except:\n",
    "            rating = \"NaN\"\n",
    "        try:\n",
    "            price = driver.find_element(By.CSS_SELECTOR, \".mgr77e > span:nth-child(1) > span:nth-child(2) > span:nth-child(1) > span:nth-child(1)\").text\n",
    "        except:\n",
    "            price = \"NaN\"\n",
    "        try:\n",
    "            restaurant_type = driver.find_element(By.CSS_SELECTOR, \"button.DkEaL\").text\n",
    "        except:\n",
    "            restaurant_type = \"NaN\"\n",
    "        try:\n",
    "            description = driver.find_element(By.CSS_SELECTOR, \".PYvSYb\").text\n",
    "        except:\n",
    "            description = \"NaN\"\n",
    "        try:\n",
    "            address = driver.find_element(By.CSS_SELECTOR, \"div.RcCsl:nth-child(3) > button:nth-child(2) > div:nth-child(1) > div:nth-child(2) > div:nth-child(1)\").text\n",
    "        except:\n",
    "            address = \"NaN\"\n",
    "        return {\n",
    "            \"name\": name,\n",
    "            \"rating\": rating,\n",
    "            \"price\": price,\n",
    "            \"restaurant_type\": restaurant_type,\n",
    "            \"description\": description,\n",
    "            \"address\": address\n",
    "        }\n",
    "\n",
    "    # Collecte des données des restaurants\n",
    "    restaurants_data = []\n",
    "    restaurant_index = 1\n",
    "\n",
    "    while restaurant_index <= n:\n",
    "        try:\n",
    "            # XPath dynamique pour sélectionner chaque restaurant\n",
    "            restaurant_xpath = f\"/html/body/div[1]/div[3]/div[8]/div[9]/div/div/div[1]/div[2]/div/div[1]/div/div/div[1]/div[1]/div[{(restaurant_index+1)*2-1}]/div/a\"\n",
    "            \n",
    "            # Scrolling jusqu'à ce que l'élément soit trouvé\n",
    "            max_scroll_attempts = 25 # Limite de scrolls pour éviter une boucle infinie\n",
    "            scroll_attempts = 0\n",
    "            while scroll_attempts < max_scroll_attempts:\n",
    "                #si on est au 20eme scroll on attend 10sec\n",
    "                if scroll_attempts == 24:\n",
    "                    time.sleep(15)\n",
    "                try:\n",
    "                    restaurant = driver.find_element(By.XPATH, restaurant_xpath)\n",
    "                    break  # Si l'élément est trouvé, on sort de la boucle\n",
    "                except:\n",
    "                    # Scroll vers le bas pour charger plus d'éléments\n",
    "                    driver.execute_script(\"arguments[0].scrollTop = arguments[0].scrollHeight\", scrollable_div)\n",
    "                    time.sleep(random.uniform(1, 2))  # Pause pour charger les nouveaux éléments\n",
    "                    scroll_attempts += 1\n",
    "\n",
    "            # Si l'élément n'est toujours pas trouvé après le scroll, arrêter\n",
    "            if scroll_attempts >= max_scroll_attempts:\n",
    "                print(f\"Impossible de trouver le restaurant {restaurant_index} après plusieurs tentatives de scroll.\")\n",
    "                break\n",
    "\n",
    "            # Cliquer sur le restaurant trouvé\n",
    "            restaurant.click()\n",
    "            time.sleep(3)  # Temps pour charger les informations\n",
    "\n",
    "            # Récupération des informations\n",
    "            info = get_restaurant_info()\n",
    "            restaurants_data.append(info)\n",
    "            print(f\"Restaurant {restaurant_index} : {info}\")\n",
    "\n",
    "            # Retour à la liste\n",
    "            driver.back()\n",
    "            time.sleep(random.uniform(2, 4))  # Pause avant de continuer\n",
    "\n",
    "            restaurant_index += 1\n",
    "        except Exception as e:\n",
    "            print(f\"Erreur avec le restaurant {restaurant_index} : {e}\")\n",
    "            break\n",
    "\n",
    "    # Sauvegarde des données dans un fichier CSV\n",
    "    with open(output_file, \"w\", newline=\"\", encoding=\"utf-8\") as csvfile:\n",
    "        writer = csv.DictWriter(csvfile, fieldnames=[\"name\", \"rating\", \"price\", \"restaurant_type\", \"description\", \"address\"])\n",
    "        writer.writeheader()\n",
    "        writer.writerows(restaurants_data)\n",
    "\n",
    "    print(f\"Données sauvegardées dans {output_file}\")\n",
    "    # Fermeture du navigateur\n",
    "    driver.quit()\n"
   ]
  },
  {
   "cell_type": "code",
   "execution_count": 6,
   "metadata": {},
   "outputs": [],
   "source": [
    "n=100"
   ]
  },
  {
   "cell_type": "code",
   "execution_count": 7,
   "metadata": {},
   "outputs": [
    {
     "name": "stdout",
     "output_type": "stream",
     "text": [
      "Élément de scroll trouvé avec succès !\n",
      "Restaurant 1 : {'name': 'Au Pied de Cochon', 'rating': '4,3', 'price': '€€€', 'restaurant_type': 'Restaurant français', 'description': 'Brasserie simple proposant petit-déjeuner, plats locaux et plateaux de charcuterie, accompagnés de bières pression et de cocktails.', 'address': '6 Rue Coquillière, 75001 Paris'}\n",
      "Restaurant 2 : {'name': 'Palais Royal Restaurant', 'rating': '4,6', 'price': '+ de 100 €', 'restaurant_type': 'Restaurant gastronomique', 'description': 'Vins et cuisine française gastronomique dans une salle à manger raffinée ou en terrasse dans les jardins du palais.', 'address': '110 Gal de Valois, 75001 Paris'}\n",
      "Restaurant 3 : {'name': 'Palais Royal Restaurant', 'rating': '4,6', 'price': '+ de 100 €', 'restaurant_type': 'Restaurant gastronomique', 'description': 'Vins et cuisine française gastronomique dans une salle à manger raffinée ou en terrasse dans les jardins du palais.', 'address': '110 Gal de Valois, 75001 Paris'}\n",
      "Restaurant 4 : {'name': 'La Robe et Le Palais', 'rating': '4,5', 'price': '€€', 'restaurant_type': 'Restaurant français', 'description': \"Plats français créatifs élaborés à partir d'ingrédients bio et vins naturels proposés dans un restaurant rustique chaleureux.\", 'address': '13 Rue des Lavandières Sainte-Opportune, 75001 Paris'}\n",
      "Restaurant 5 : {'name': 'restaurant paris', 'rating': 'NaN', 'price': 'NaN', 'restaurant_type': 'Restaurant libanais', 'description': 'NaN', 'address': '48 Rue Croix des Petits Champs, 75001 Paris'}\n",
      "Restaurant 6 : {'name': \"yam'Tcha\", 'rating': '4,5', 'price': '+ de 100 €', 'restaurant_type': 'Restaurant gastronomique', 'description': 'Pierres apparentes et boiseries pour une cuisine asiatique métissée, des thés assortis et un menu de saison.', 'address': '121 Rue Saint-Honoré, 75001 Paris'}\n",
      "Restaurant 7 : {'name': 'Au Vieux Comptoir', 'rating': '4,6', 'price': '€€€', 'restaurant_type': 'Restaurant français', 'description': 'Menus renouvelés chaque saison composés de classiques français aux accents internationaux, proposés dans une brasserie conviviale.', 'address': '17 Rue des Lavandières Sainte-Opportune, 75001 Paris'}\n",
      "Restaurant 8 : {'name': \"L'Ardoise\", 'rating': '4,4', 'price': '€€', 'restaurant_type': 'Restaurant français', 'description': 'Plats raffinés à base de produits de saison et menus fixes dans une brasserie cosy.', 'address': '28 Rue du Mont Thabor, 75001 Paris'}\n",
      "Restaurant 9 : {'name': \"L'Ardoise\", 'rating': '4,4', 'price': '€€', 'restaurant_type': 'Restaurant français', 'description': 'Plats raffinés à base de produits de saison et menus fixes dans une brasserie cosy.', 'address': '28 Rue du Mont Thabor, 75001 Paris'}\n",
      "Restaurant 10 : {'name': 'Restaurant de La Cordonnerie', 'rating': '4,7', 'price': '€€', 'restaurant_type': 'Restaurant', 'description': 'Restaurant de cuisine française classique de style ancien, doté de poutres apparentes et décoré de casseroles en cuivre.', 'address': '20 Rue Saint-Roch, 75001 Paris'}\n",
      "Restaurant 11 : {'name': 'La Dame de Pic', 'rating': '4,6', 'price': '+ de 100 €', 'restaurant_type': 'Restaurant gastronomique', 'description': 'Menus dégustation de mets gastronomiques à la présentation raffinée, avec associations de vins, dans un restaurant élégant.', 'address': '20 Rue du Louvre, 75001 Paris'}\n",
      "Restaurant 12 : {'name': 'Le Comptoir des Petits Champs', 'rating': '4,5', 'price': '€€', 'restaurant_type': 'Bistro', 'description': \"Brasserie élégante à l'atmosphère rétro, servant des plats copieux de cuisine française contemporaine.\", 'address': '17 Rue des Petits Champs, 75001 Paris'}\n",
      "Restaurant 13 : {'name': 'Le Louis', 'rating': '4,6', 'price': '20–30 €', 'restaurant_type': 'Restaurant français', 'description': 'NaN', 'address': '31 Rue Coquillière, 75001 Paris'}\n",
      "Restaurant 14 : {'name': 'Maslow - Restaurant Paris 1', 'rating': '4,9', 'price': '20–30 €', 'restaurant_type': 'Restaurant végétarien', 'description': 'NaN', 'address': '14 Quai de la Mégisserie, 75001 Paris'}\n",
      "Restaurant 15 : {'name': 'Café de la Régence', 'rating': '4,3', 'price': '20–30 €', 'restaurant_type': 'Restaurant français', 'description': 'Restaurant rétro proposant des poke bowls et des plats classiques locaux pour le petit-déjeuner, le déjeuner et le dîner.', 'address': '167 Rue Saint-Honoré, 75001 Paris'}\n",
      "Restaurant 16 : {'name': 'La Régalade Saint-Honoré', 'rating': '4,5', 'price': '€€€', 'restaurant_type': 'Restaurant français', 'description': 'Plats style brasserie artistiquement présentés, servis dans un cadre rustique aux poutres en bois et aux murs en pierres apparentes.', 'address': '106 Rue Saint-Honoré, 75001 Paris'}\n",
      "Restaurant 17 : {'name': 'Loulou Restaurant Paris', 'rating': '4,1', 'price': '€€€', 'restaurant_type': 'Restaurant italien', 'description': 'Élégant restaurant installé dans le musée des Arts décoratifs, servant des plats italiens et français.', 'address': '107 Rue de Rivoli, 75001 Paris'}\n",
      "Restaurant 18 : {'name': 'Restaurant Florentin', 'rating': '4,4', 'price': '20–30 €', 'restaurant_type': 'Brasserie', 'description': 'Salades, omelettes et steaks-frites traditionnels dans une brasserie sobre dotée de lambris aux murs.', 'address': '10 Rue Saint-Florentin, 75001 Paris'}\n",
      "Restaurant 19 : {'name': 'Kong', 'rating': '3,8', 'price': '+ de 100 €', 'restaurant_type': 'Restaurant de cuisine fusion asiatique', 'description': 'Cuisine fusion asiatique audacieuse sous un dôme de verre dans un espace chic conçu par Philippe Starck.', 'address': '1 Rue du Pont Neuf, 75001 Paris'}\n",
      "Restaurant 20 : {'name': 'Le Tout-Paris', 'rating': '4,6', 'price': '+ de 100 €', 'restaurant_type': 'Restaurant français', 'description': \"Cuisine gastronomique proposée dans le restaurant chic situé sur le toit de l'hôtel Cheval Blanc Paris, avec vue panoramique sur la Seine.\", 'address': '8 Quai du Louvre, 75001 Paris'}\n",
      "Erreur avec le restaurant 21 : Message: Element <a class=\"hfpxzc\" href=\"https://www.google.fr/maps/place/Loup/data=!4m7!3m6!1s0x47e66e22fc769a23:0x71969504a1fe3282!8m2!3d48.8639064!4d2.3425049!16s%2Fg%2F1yhbjt2nv!19sChIJI5p2_CJu5kcRgjL-oQSVlnE?authuser=0&hl=fr&rclk=1\"> is not clickable at point (276,599) because another element <div class=\"L6Bbsd\"> obscures it\n",
      "Stacktrace:\n",
      "RemoteError@chrome://remote/content/shared/RemoteError.sys.mjs:8:8\n",
      "WebDriverError@chrome://remote/content/shared/webdriver/Errors.sys.mjs:193:5\n",
      "ElementClickInterceptedError@chrome://remote/content/shared/webdriver/Errors.sys.mjs:337:5\n",
      "webdriverClickElement@chrome://remote/content/marionette/interaction.sys.mjs:177:11\n",
      "interaction.clickElement@chrome://remote/content/marionette/interaction.sys.mjs:136:11\n",
      "clickElement@chrome://remote/content/marionette/actors/MarionetteCommandsChild.sys.mjs:344:29\n",
      "receiveMessage@chrome://remote/content/marionette/actors/MarionetteCommandsChild.sys.mjs:220:31\n",
      "\n",
      "Données sauvegardées dans restaurants_paris_1er.csv\n"
     ]
    }
   ],
   "source": [
    "#pour paris 1er arrondissement:\n",
    "link=\"https://www.google.fr/maps/search/restaurant+paris+1er/@48.8631336,2.3262864,1993m/data=!3m2!1e3!4b1?entry=ttu&g_ep=EgoyMDI1MDEwOC4wIKXMDSoASAFQAw%3D%3D\"\n",
    "output_file=\"data_in_progress/restaurants_paris_1er.csv\"\n",
    "scrape_google_maps(link, n, output_file)"
   ]
  },
  {
   "cell_type": "code",
   "execution_count": 8,
   "metadata": {},
   "outputs": [
    {
     "name": "stdout",
     "output_type": "stream",
     "text": [
      "Élément de scroll trouvé avec succès !\n",
      "Restaurant 1 : {'name': 'Restaurant Clémentine - Bistrot Terrasse Paris 2', 'rating': '4,7', 'price': '€€', 'restaurant_type': 'Restaurant français', 'description': 'Plats de brasserie français traditionnels et vins régionaux dans un restaurant cosy avec terrasse côté rue.', 'address': '5 Rue Saint-Marc, 75002 Paris'}\n",
      "Restaurant 2 : {'name': 'Brasserie Rosie Lou', 'rating': '4,7', 'price': '20–30 €', 'restaurant_type': 'Brasserie', 'description': 'NaN', 'address': '31 Bd de Bonne Nouvelle, 75002 Paris'}\n",
      "Restaurant 3 : {'name': \"Le Nom M'échappe\", 'rating': '4,5', 'price': '€€', 'restaurant_type': 'Restaurant français', 'description': \"Steaks grillés, fruits de mer et plats de brasserie raffinés dans un restaurant clair traditionnel doté d'une terrasse côté rue.\", 'address': '28 Rue Notre Dame des Victoires, 75002 Paris'}\n",
      "Restaurant 4 : {'name': 'La Petite Régalade', 'rating': '4,4', 'price': '30–50 €', 'restaurant_type': 'Restaurant français', 'description': \"Restaurant élégant orné de plantes suspendues et spécialisé dans les plats à base de viande et les pascades de l'Aveyron.\", 'address': '14 Rue Daunou, 75002 Paris'}\n",
      "Restaurant 5 : {'name': 'Fleur de pavé', 'rating': '4,6', 'price': '+ de 100 €', 'restaurant_type': 'Restaurant gastronomique', 'description': 'NaN', 'address': '5 Rue Paul Lelong, 75002 Paris'}\n",
      "Restaurant 6 : {'name': 'Le Mesturet', 'rating': '4,4', 'price': '30–40 €', 'restaurant_type': 'Restaurant français', 'description': \"Restaurant à l'ambiance décontractée proposant des plats locaux tels que du poisson, de la viande et des desserts, ainsi que du vin.\", 'address': '77 Rue de Richelieu, 75002 Paris'}\n",
      "Restaurant 7 : {'name': 'Dalia', 'rating': '4,6', 'price': '30–40 €', 'restaurant_type': 'Restaurant méditerranéen', 'description': 'Restaurant tendance proposant une cuisine inspirée des pays de Méditerranée orientale ainsi que des cocktails.', 'address': '93 Rue Montmartre, 75002 Paris'}\n",
      "Restaurant 8 : {'name': 'Pollop', 'rating': '4,6', 'price': '€€', 'restaurant_type': 'Restaurant français', 'description': \"Cuisine de brasserie contemporaine et créative, mêlant ingrédients français et saveurs d'Extrême-Orient.\", 'address': \"15 Rue d'Aboukir, 75002 Paris\"}\n",
      "Restaurant 9 : {'name': 'Les Noces de Jeannette', 'rating': '4,2', 'price': '€€', 'restaurant_type': 'Restaurant français', 'description': 'Établissement séculaire chaleureux avec plusieurs salons et cuisine française traditionnelle.', 'address': '14 Rue Favart, 75002 Paris'}\n",
      "Restaurant 10 : {'name': 'Comme un Bouillon', 'rating': '4,5', 'price': '10–20 €', 'restaurant_type': 'Restaurant français', 'description': 'NaN', 'address': '17 Rue de Choiseul, 75002 Paris'}\n",
      "Restaurant 11 : {'name': \"Restaurant L'Apibo\", 'rating': '4,7', 'price': '40–50 €', 'restaurant_type': 'Restaurant français', 'description': 'Restaurant rustique-chic et intimiste proposant des plats de saison raffinés et du vin.', 'address': '31 Rue Tiquetonne, 75002 Paris'}\n",
      "Restaurant 12 : {'name': 'Le Galibot', 'rating': '4,8', 'price': '20–30 €', 'restaurant_type': 'Restaurant', 'description': \"Burgers, bières et plats copieux du Nord de la France dans une taverne cosy décorée d'objets vintage.\", 'address': '17 Rue Paul Lelong, 75002 Paris'}\n",
      "Restaurant 13 : {'name': 'Le Boui-Boui', 'rating': '4,4', 'price': '20–30 €', 'restaurant_type': 'Restaurant français', 'description': 'Restaurant aveyronnais de style bistrot rétro où des spécialités régionales sont servies dans un cadre boisé.', 'address': '11 Rue Marie Stuart, 75002 Paris'}\n",
      "Restaurant 14 : {'name': 'Jugaad', 'rating': '4,4', 'price': 'NaN', 'restaurant_type': 'Restaurant indien', 'description': 'Restaurant chic proposant un menu composé de plats indiens gastronomiques, avec un bar à cocktails et des tables côté rue.', 'address': '16 Rue Favart, 75002 Paris'}\n",
      "Restaurant 15 : {'name': 'ACCENTS table bourse', 'rating': '4,7', 'price': '+ de 100 €', 'restaurant_type': 'Restaurant gastronomique', 'description': 'Ce restaurant sobre et élégant propose des menus dégustation composés de plats internationaux créatifs, avec accords mets et vins.', 'address': '24 Rue Feydeau, 75002 Paris'}\n",
      "Erreur avec le restaurant 16 : Message: Element <a class=\"hfpxzc\" href=\"https://www.google.fr/maps/place/RESTAURANT+ERH/data=!4m7!3m6!1s0x47e66e19bda89245:0xc0f53350e161e964!8m2!3d48.8644303!4d2.3490508!16s%2Fg%2F11dfjzk81x!19sChIJRZKovRlu5kcRZOlh4VAz9cA?authuser=0&hl=fr&rclk=1\"> is not clickable at point (276,599) because another element <div class=\"L6Bbsd\"> obscures it\n",
      "Stacktrace:\n",
      "RemoteError@chrome://remote/content/shared/RemoteError.sys.mjs:8:8\n",
      "WebDriverError@chrome://remote/content/shared/webdriver/Errors.sys.mjs:193:5\n",
      "ElementClickInterceptedError@chrome://remote/content/shared/webdriver/Errors.sys.mjs:337:5\n",
      "webdriverClickElement@chrome://remote/content/marionette/interaction.sys.mjs:177:11\n",
      "interaction.clickElement@chrome://remote/content/marionette/interaction.sys.mjs:136:11\n",
      "clickElement@chrome://remote/content/marionette/actors/MarionetteCommandsChild.sys.mjs:344:29\n",
      "receiveMessage@chrome://remote/content/marionette/actors/MarionetteCommandsChild.sys.mjs:220:31\n",
      "\n",
      "Données sauvegardées dans restaurants_paris_2eme.csv\n"
     ]
    }
   ],
   "source": [
    "#pour paris 2eme arrondissement:\n",
    "link=\"https://www.google.fr/maps/search/restaurant+paris+2eme/@48.867583,2.3312493,1993m/data=!3m2!1e3!4b1?entry=ttu&g_ep=EgoyMDI1MDEwOC4wIKXMDSoASAFQAw%3D%3D\"\n",
    "output_file=\"data_in_progress/restaurants_paris_2eme.csv\"\n",
    "scrape_google_maps(link, n, output_file)"
   ]
  },
  {
   "cell_type": "code",
   "execution_count": 9,
   "metadata": {},
   "outputs": [
    {
     "name": "stdout",
     "output_type": "stream",
     "text": [
      "Élément de scroll trouvé avec succès !\n",
      "Restaurant 1 : {'name': 'Yansai 3 - Restaurant asiatique Paris - Guabao Taiwanais', 'rating': '4,8', 'price': '10–20 €', 'restaurant_type': 'Restaurant asiatique', 'description': 'NaN', 'address': '88 Rue des Gravilliers, 75003 Paris'}\n",
      "Restaurant 2 : {'name': 'Yansai 3 - Restaurant asiatique Paris - Guabao Taiwanais', 'rating': '4,8', 'price': '10–20 €', 'restaurant_type': 'Restaurant asiatique', 'description': 'NaN', 'address': '88 Rue des Gravilliers, 75003 Paris'}\n",
      "Restaurant 3 : {'name': 'Au Fil des Saisons', 'rating': '4,4', 'price': '30–40 €', 'restaurant_type': 'Restaurant français', 'description': \"Restaurant chaleureux doté de murs en pierres apparentes et d'un patio, et proposant des plats traditionnels à base de produits de saison.\", 'address': '6 Rue des Fontaines du Temple, 75003 Paris'}\n",
      "Restaurant 4 : {'name': 'Robert et Louise', 'rating': '4,5', 'price': '€€', 'restaurant_type': 'Restaurant', 'description': 'Steak, confit de canard et carte étoffée de vins dans un restaurant de style détendu aux poutres apparentes et aux murs en pierre.', 'address': '64 Rue Vieille du Temple, 75003 Paris'}\n",
      "Restaurant 5 : {'name': 'Les Enfants Rouges', 'rating': '4,5', 'price': '€€', 'restaurant_type': 'Cuisine française moderne', 'description': 'Brasserie moderne proposant des plats français classiques aux influences japonaises soigneusement présentés.', 'address': '9 Rue de Beauce, 75003 Paris'}\n",
      "Restaurant 6 : {'name': \"Restaurant L'Oyat\", 'rating': '4,7', 'price': 'NaN', 'restaurant_type': 'Restaurant français', 'description': 'NaN', 'address': '11 Rue Notre Dame de Nazareth, 75003 Paris'}\n",
      "Restaurant 7 : {'name': 'Lucky Paris 3 - 人间烟火', 'rating': '4,9', 'price': '10–20 €', 'restaurant_type': 'Restaurant asiatique', 'description': 'NaN', 'address': '47 Rue au Maire, 75003 Paris'}\n",
      "Restaurant 8 : {'name': 'ORTO', 'rating': '4,6', 'price': '10–20 €', 'restaurant_type': 'Restaurant italien', 'description': 'Restaurant cosy à l\\'ambiance détendue décoré dans un style simple, proposant des sandwichs élaborés à partir de pain \"ciabatta\".', 'address': '75 Rue des Gravilliers, 75003 Paris'}\n",
      "Restaurant 9 : {'name': 'Le Marais Restaurant Paris', 'rating': '4,5', 'price': '20–30 €', 'restaurant_type': 'Restaurant méditerranéen', 'description': \"Steaks haut de gamme, burgers, salades, desserts, bières et vins proposés dans un restaurant à l'ambiance détendue doté d'une cour.\", 'address': '47 R. de Turbigo, 75003 Paris'}\n",
      "Restaurant 10 : {'name': 'Terra', 'rating': '4,6', 'price': 'NaN', 'restaurant_type': 'Restaurant', 'description': 'Restaurant branché ouvert en soirée proposant assiettes haut de gamme à partager et vins naturels.', 'address': '21 Rue des Gravilliers, 75003 Paris'}\n",
      "Restaurant 11 : {'name': 'Dessance', 'rating': '4,6', 'price': '+ de 100 €', 'restaurant_type': 'Restaurant gastronomique', 'description': 'Brasserie chic réputée pour sa cuisine gastronomique innovante, proposant des menus dégustation et des accords mets-vins.', 'address': '74 Rue des Archives, 75003 Paris'}\n",
      "Restaurant 12 : {'name': 'Le MaZenay', 'rating': '4,6', 'price': '€€€', 'restaurant_type': 'Restaurant français', 'description': 'Plats français à base de produits locaux et de saison, servis dans un cadre sophistiqué.', 'address': '46 Rue de Montmorency, 75003 Paris'}\n",
      "Restaurant 13 : {'name': 'Elmer', 'rating': '4,6', 'price': '+ de 100 €', 'restaurant_type': 'Restaurant français', 'description': \"Menus régionaux raffinés composés d'ingrédients et de vins locaux, servis dans un restaurant moderne doté d'une cuisine ouverte.\", 'address': '30 Rue Notre Dame de Nazareth, 75003 Paris'}\n",
      "Restaurant 14 : {'name': 'Balou Paris 3', 'rating': '4,7', 'price': '10–20 €', 'restaurant_type': 'Bar à tapas', 'description': 'NaN', 'address': '9-11 Rue aux Ours, 75003 Paris'}\n",
      "Restaurant 15 : {'name': 'Camille', 'rating': '4,3', 'price': '€€', 'restaurant_type': 'Restaurant français', 'description': \"Bar-brasserie intimiste à l'ambiance détendue célèbre pour son canard, ses steaks et ses cocktails. Terrasse côté rue.\", 'address': '24 Rue des Francs Bourgeois, 75003 Paris'}\n",
      "Erreur avec le restaurant 16 : Message: Element <a class=\"hfpxzc\" href=\"https://www.google.fr/maps/place/Le+Jackpot/data=!4m7!3m6!1s0x47e66e04bc5b3c95:0x61d0eef9c483865f!8m2!3d48.8618207!4d2.357337!16s%2Fg%2F11hb61sj3w!19sChIJlTxbvARu5kcRX4aDxPnu0GE?authuser=0&hl=fr&rclk=1\"> is not clickable at point (276,599) because another element <div class=\"L6Bbsd\"> obscures it\n",
      "Stacktrace:\n",
      "RemoteError@chrome://remote/content/shared/RemoteError.sys.mjs:8:8\n",
      "WebDriverError@chrome://remote/content/shared/webdriver/Errors.sys.mjs:193:5\n",
      "ElementClickInterceptedError@chrome://remote/content/shared/webdriver/Errors.sys.mjs:337:5\n",
      "webdriverClickElement@chrome://remote/content/marionette/interaction.sys.mjs:177:11\n",
      "interaction.clickElement@chrome://remote/content/marionette/interaction.sys.mjs:136:11\n",
      "clickElement@chrome://remote/content/marionette/actors/MarionetteCommandsChild.sys.mjs:344:29\n",
      "receiveMessage@chrome://remote/content/marionette/actors/MarionetteCommandsChild.sys.mjs:220:31\n",
      "\n",
      "Données sauvegardées dans restaurants_paris_3eme.csv\n"
     ]
    }
   ],
   "source": [
    "#pour paris 3eme arrondissement:\n",
    "link=\"https://www.google.fr/maps/search/restaurant+paris+3/@48.8675824,2.3312493,1993m/data=!3m1!1e3?entry=ttu&g_ep=EgoyMDI1MDEwOC4wIKXMDSoASAFQAw%3D%3D\"\n",
    "output_file=\"data_in_progress/restaurants_paris_3eme.csv\"\n",
    "scrape_google_maps(link, n, output_file)"
   ]
  },
  {
   "cell_type": "code",
   "execution_count": 10,
   "metadata": {},
   "outputs": [
    {
     "name": "stdout",
     "output_type": "stream",
     "text": [
      "Élément de scroll trouvé avec succès !\n",
      "Restaurant 1 : {'name': 'Au Bourguignon du Marais', 'rating': '4,6', 'price': '€€', 'restaurant_type': 'Restaurant français', 'description': 'Escargots, bœuf bourguignon et autres plats traditionnels de Bourgogne servis dans un restaurant élégant.', 'address': '52 Rue François Miron, 75004 Paris'}\n",
      "Restaurant 2 : {'name': 'Le Colimaçon Marais', 'rating': '4,6', 'price': '€€', 'restaurant_type': 'Restaurant français', 'description': 'Version créative des plats de brasserie française dans un cadre chaleureux avec murs en pierre brute et poutres en bois.', 'address': '44 Rue Vieille du Temple, 75004 Paris'}\n",
      "Restaurant 3 : {'name': 'Salento Marais', 'rating': '4,6', 'price': '20–30 €', 'restaurant_type': 'Restaurant italien', 'description': 'Antipasti, pâtes et plats italiens à la présentation soignée servis dans un restaurant élégant de style rétro chic avec terrasse.', 'address': '6 Rue de Jarente, 75004 Paris'}\n",
      "Restaurant 4 : {'name': 'Le Trésor', 'rating': '4,1', 'price': '€€', 'restaurant_type': 'Restaurant français', 'description': 'Restaurant pittoresque de cuisine française raffinée avec coin salon extérieur et bar à cocktails animés.', 'address': '9 Rue du Trésor, 75004 Paris'}\n",
      "Restaurant 5 : {'name': 'Au Vieux Paris', 'rating': '4,4', 'price': '20–30 €', 'restaurant_type': 'Restaurant français', 'description': 'NaN', 'address': '6 Rue Mornay, 75004 Paris'}\n",
      "Restaurant 6 : {'name': 'Chez Mademoiselle', 'rating': '4,6', 'price': '€€', 'restaurant_type': 'Restaurant français', 'description': 'Restaurant sobre avec terrasse servant des spécialités locales, dont des plats de poissons, fruits de mer et viande, ainsi que du vin.', 'address': '16 Rue Charlemagne, 75004 Paris'}\n",
      "Restaurant 7 : {'name': 'Bistrot de l’Oulette', 'rating': '4,5', 'price': '€€', 'restaurant_type': 'Restaurant français', 'description': 'Petit bistrot classique proposant ragoûts, poissons, fruits de mer et plats à base de canard du Sud-Ouest de la France.', 'address': '38 Rue des Tournelles, 75004 Paris'}\n",
      "Restaurant 8 : {'name': 'La Réserve Du Terroir - Restaurant Paris 4', 'rating': '4,6', 'price': '20–30 €', 'restaurant_type': 'Restaurant', 'description': \"Brasserie chaleureuse de style décontracté proposant cassolettes d'escargots, entrecôtes et autres plats traditionnels.\", 'address': '13 R. Quincampoix, 75004 Paris'}\n",
      "Restaurant 9 : {'name': 'GrandCœur', 'rating': '4,4', 'price': '€€€', 'restaurant_type': 'Restaurant français', 'description': 'NaN', 'address': '41 Rue du Temple, 75004 Paris'}\n",
      "Restaurant 10 : {'name': 'Chez Julien', 'rating': '4,0', 'price': '€€€', 'restaurant_type': 'Restaurant français', 'description': \"Brasserie chic à la décoration élégante dotée d'une terrasse, proposant petit-déjeuner, plats principaux, desserts et vins raffinés.\", 'address': '1 Rue du Pont Louis-Philippe, 75004 Paris'}\n",
      "Restaurant 11 : {'name': \"L'hirondelle - Paris 4\", 'rating': '4,8', 'price': '20–30 €', 'restaurant_type': 'Restaurant français', 'description': 'NaN', 'address': '42 Bd Henri IV, 75004 Paris'}\n",
      "Restaurant 12 : {'name': 'Chez Margot', 'rating': '4,4', 'price': '20–30 €', 'restaurant_type': 'Restaurant français', 'description': 'Brasserie française traditionnelle avec terrasse couverte retransmettant des événements sportifs, spécialisé dans le bœuf salers.', 'address': '25 Bd Henri IV, 75004 Paris'}\n",
      "Restaurant 13 : {'name': 'Loulou', 'rating': '4,1', 'price': '20–30 €', 'restaurant_type': 'Bistro', 'description': 'Tajines nord-africains servis dans une brasserie richement décorée avec terrasse et concerts de jazz.', 'address': '63 Rue Rambuteau, 75004 Paris'}\n",
      "Restaurant 14 : {'name': 'Les Mauvais Garçons', 'rating': '4,3', 'price': '€€', 'restaurant_type': 'Restaurant', 'description': \"Spécialités lyonnaises dans un cadre de bistrot ancien à l'éclairage tamisé et aux banquettes en velours.\", 'address': '4 Rue des Mauvais Garçons, 75004 Paris'}\n",
      "Restaurant 15 : {'name': 'Le Chanard', 'rating': '4,7', 'price': '€€', 'restaurant_type': 'Restaurant français', 'description': \"Restaurant intimiste doté d'une petite terrasse et d'un intérieur cosy servant des entrées françaises classiques et des steaks.\", 'address': '8 Rue Saint-Paul, 75004 Paris'}\n",
      "Restaurant 16 : {'name': 'Resto Beyrouth', 'rating': '4,6', 'price': '10–20 €', 'restaurant_type': 'Restaurant libanais', 'description': 'NaN', 'address': '4 Rue Saint-Merri, 75004 Paris'}\n",
      "Restaurant 17 : {'name': \"Les Fous de l'Ile\", 'rating': '4,3', 'price': '€€', 'restaurant_type': 'Restaurant français', 'description': \"Cuisine traditionnelle dans une brasserie moderne à l'ambiance détendue décorée d'objets et de tableaux en lien avec la poule.\", 'address': '33 Rue des Deux Ponts, 75004 Paris'}\n",
      "Restaurant 18 : {'name': 'Le Trumilou', 'rating': '4,4', 'price': '20–40 €', 'restaurant_type': 'Restaurant français', 'description': 'Steaks, cuisine de saison et plats populaires servis dans un restaurant classique aux touches rétro.', 'address': \"84 Quai de l'Hôtel de ville, 75004 Paris\"}\n",
      "Restaurant 19 : {'name': 'BISTROT MARGUERITE', 'rating': '4,1', 'price': '10–30 €', 'restaurant_type': 'Brasserie', 'description': \"Steaks, burgers, soupe à l'oignon et cocktails servis dans un bistrot d'angle à l'ambiance détendue, avec terrasse côté rue.\", 'address': \"1 Pl. de l'Hôtel de Ville, 75004 Paris\"}\n",
      "Restaurant 20 : {'name': \"L'Alsacien Châtelet - Restaurant / Bar à Flammekueche\", 'rating': '4,6', 'price': '10–20 €', 'restaurant_type': 'Restaurant de spécialités alsaciennes', 'description': 'Salle de jeux, cadre cosy et pierres apparentes pour ce bar à flammekueche servant aussi des vins alsaciens.', 'address': '6 Rue Saint-Bon, 75004 Paris'}\n",
      "Erreur avec le restaurant 21 : Message: Element <a class=\"hfpxzc\" href=\"https://www.google.fr/maps/place/Grande+Brasserie/data=!4m7!3m6!1s0x47e6739c182668fb:0xd6e7d061d89337e1!8m2!3d48.8537687!4d2.3679902!16s%2Fg%2F11nnzj5lrr!19sChIJ-2gmGJxz5kcR4TeT2GHQ59Y?authuser=0&hl=fr&rclk=1\"> is not clickable at point (276,588) because another element <button class=\"e2moi\"> obscures it\n",
      "Stacktrace:\n",
      "RemoteError@chrome://remote/content/shared/RemoteError.sys.mjs:8:8\n",
      "WebDriverError@chrome://remote/content/shared/webdriver/Errors.sys.mjs:193:5\n",
      "ElementClickInterceptedError@chrome://remote/content/shared/webdriver/Errors.sys.mjs:337:5\n",
      "webdriverClickElement@chrome://remote/content/marionette/interaction.sys.mjs:177:11\n",
      "interaction.clickElement@chrome://remote/content/marionette/interaction.sys.mjs:136:11\n",
      "clickElement@chrome://remote/content/marionette/actors/MarionetteCommandsChild.sys.mjs:344:29\n",
      "receiveMessage@chrome://remote/content/marionette/actors/MarionetteCommandsChild.sys.mjs:220:31\n",
      "\n",
      "Données sauvegardées dans restaurants_paris_4eme.csv\n"
     ]
    }
   ],
   "source": [
    "#pour paris 4eme arrondissement:   \n",
    "link=\"https://www.google.fr/maps/search/restaurant+paris+4/@48.8632801,2.3384501,3987m/data=!3m2!1e3!4b1?entry=ttu&g_ep=EgoyMDI1MDEwOC4wIKXMDSoASAFQAw%3D%3D\"\n",
    "output_file=\"data_in_progress/restaurants_paris_4eme.csv\"\n",
    "scrape_google_maps(link, n, output_file)"
   ]
  },
  {
   "cell_type": "code",
   "execution_count": 11,
   "metadata": {},
   "outputs": [
    {
     "name": "stdout",
     "output_type": "stream",
     "text": [
      "Élément de scroll trouvé avec succès !\n",
      "Restaurant 1 : {'name': 'Bistrot La Grange - Restaurant Paris 5', 'rating': '4,6', 'price': '10–20 €', 'restaurant_type': 'Restaurant', 'description': 'Ce bistrot propose une cuisine traditionnelle aux accents méditerranéens dans un cadre typique avec terrasse.', 'address': '17 Rue Lagrange, 75005 Paris'}\n",
      "Restaurant 2 : {'name': 'La Table de Colette', 'rating': '4,7', 'price': '+ de 100 €', 'restaurant_type': 'Restaurant gastronomique', 'description': \"Restaurant écoresponsable et gastronomique doté d'une terrasse, proposant des menus de 3 à 7 plats avec des accords mets et vins.\", 'address': '17 Rue Laplace, 75005 Paris'}\n",
      "Restaurant 3 : {'name': 'La Truffière', 'rating': '4,5', 'price': '+ de 100 €', 'restaurant_type': 'Restaurant français', 'description': 'Restaurant pittoresque avec poutres en bois et voûtes en pierre, servant une cuisine française raffinée à la présentation soignée.', 'address': '4 Rue Blainville, 75005 Paris'}\n",
      "Restaurant 4 : {'name': 'La Truffière', 'rating': '4,5', 'price': '+ de 100 €', 'restaurant_type': 'Restaurant français', 'description': 'Restaurant pittoresque avec poutres en bois et voûtes en pierre, servant une cuisine française raffinée à la présentation soignée.', 'address': '4 Rue Blainville, 75005 Paris'}\n",
      "Restaurant 5 : {'name': 'Le Petit Prince de Paris', 'rating': '4,1', 'price': '€€', 'restaurant_type': 'Restaurant gastronomique', 'description': 'Restaurant cosy à la décoration originale, proposant des plats français raffinés à base de produits haut de gamme.', 'address': '12 Rue de Lanneau, 75005 Paris'}\n",
      "Restaurant 6 : {'name': 'Comme Chai Toi', 'rating': '4,5', 'price': '€€€', 'restaurant_type': 'Restaurant français', 'description': 'Plats classiques servis dans un café branché décoré sur le thème de la musique qui propose également un large choix de vins.', 'address': '13 Quai de Montebello, 75005 Paris'}\n",
      "Restaurant 7 : {'name': 'Bonvivant', 'rating': '4,4', 'price': '€€', 'restaurant_type': 'Restaurant français', 'description': \"Bistrot animé doté d'une terrasse, proposant une vaste sélection de vins, des steaks, des grillades et des plats de brasserie.\", 'address': '7 Rue des Écoles, 75005 Paris'}\n",
      "Restaurant 8 : {'name': 'La Méthode - Restaurant Paris 5', 'rating': '4,3', 'price': '20–30 €', 'restaurant_type': 'Restaurant français', 'description': 'NaN', 'address': '2 Rue Descartes, 75005 Paris'}\n",
      "Restaurant 9 : {'name': 'Au Bistrot de la Montagne', 'rating': '4,4', 'price': '€€', 'restaurant_type': 'Restaurant français', 'description': 'Bistrot pittoresque doté de poutres en bois apparentes et de plafonds voûtés en pierre, réservé aux grands groupes.', 'address': '38 Rue de la Montagne Ste Geneviève, 75005 Paris'}\n",
      "Restaurant 10 : {'name': 'Le Reminet', 'rating': '4,3', 'price': '€€€', 'restaurant_type': 'Restaurant français', 'description': \"Cuisine française moderne aux influences méditerranéennes, servie parmi des lustres et des miroirs d'antan.\", 'address': '3 Rue des Grands Degrés, 75005 Paris'}\n",
      "Restaurant 11 : {'name': 'Baieta - Restaurant Paris', 'rating': '4,4', 'price': '+ de 100 €', 'restaurant_type': 'Restaurant gastronomique', 'description': 'NaN', 'address': '5 Rue de Pontoise, 75005 Paris'}\n",
      "Restaurant 12 : {'name': 'HEBE restaurant - Paris', 'rating': '4,6', 'price': 'NaN', 'restaurant_type': 'Restaurant', 'description': 'Plats de poisson, de viande et de légumes raffinés et de saison servis dans un restaurant élégant proposant de grands vins.', 'address': '15 Rue Frédéric Sauton, 75005 Paris'}\n",
      "Restaurant 13 : {'name': 'Le Petit Pontoise', 'rating': '4,6', 'price': '€€', 'restaurant_type': 'Restaurant français', 'description': 'Viande rôtie maison, poissons grillés et vins régionaux dans une brasserie rétro avec une terrasse côté rue.', 'address': '9 Rue de Pontoise, 75005 Paris'}\n",
      "Restaurant 14 : {'name': 'Restaurant Le Coupe-Chou', 'rating': '4,6', 'price': 'NaN', 'restaurant_type': 'Restaurant français', 'description': 'NaN', 'address': '11 Rue de Lanneau, 75005 Paris'}\n",
      "Restaurant 15 : {'name': \"Le vent d'Armor\", 'rating': '4,8', 'price': '+ de 100 €', 'restaurant_type': 'Restaurant de poisson', 'description': 'Restaurant sophistiqué proposant une cuisine gastronomique axée sur les poissons, les fruits de mer et les vins fins.', 'address': '25 Quai de la Tournelle, 75005 Paris'}\n",
      "Restaurant 16 : {'name': 'Sola', 'rating': '4,7', 'price': '+ de 100 €', 'restaurant_type': 'Restaurant gastronomique', 'description': 'Restaurant de mets japonais originaux et raffinés, agrémentés de touches françaises, dans un caveau en pierre ou une salle élégante.', 'address': \"12 Rue de l'Hôtel Colbert, 75005 Paris\"}\n",
      "Restaurant 17 : {'name': 'Alliance', 'rating': '4,8', 'price': '+ de 100 €', 'restaurant_type': 'Restaurant gastronomique', 'description': 'Restaurant novateur proposant des menus dégustation aux saveurs créatives à base de produits locaux.', 'address': '5 Rue de Poissy, 75005 Paris'}\n",
      "Restaurant 18 : {'name': 'LAVA - Cuisine & Vin', 'rating': '4,7', 'price': '€€', 'restaurant_type': 'Cuisine française moderne', 'description': \"Restaurant français chaleureux doté d'une terrasse côté rue, et proposant des plats raffinés et du vin.\", 'address': '9 Rue de la Montagne Ste Geneviève, 75005 Paris'}\n",
      "Restaurant 19 : {'name': 'Kitchen Ter(re)', 'rating': '4,8', 'price': '€€', 'restaurant_type': 'Restaurant', 'description': \"Cuisine invitant au voyage, entre saveurs d'Asie et respect des traditions françaises, dans un cadre sobre.\", 'address': '26 Bd Saint-Germain, 75005 Paris'}\n",
      "Restaurant 20 : {'name': 'La Pie Noir', 'rating': '4,7', 'price': '30–50 €', 'restaurant_type': 'Restaurant français', 'description': 'NaN', 'address': '5 Rue de la Montagne Ste Geneviève, 75005 Paris'}\n",
      "Erreur avec le restaurant 21 : Message: Element <a class=\"hfpxzc\" href=\"https://www.google.fr/maps/place/Perraudin/data=!4m7!3m6!1s0x47e671dd53b88f41:0x9f37cef70b4d4287!8m2!3d48.8463461!4d2.3432629!16s%2Fg%2F1td9pvlr!19sChIJQY-4U91x5kcRh0JNC_fON58?authuser=0&hl=fr&rclk=1\"> is not clickable at point (276,596) because another element <div class=\"L6Bbsd\"> obscures it\n",
      "Stacktrace:\n",
      "RemoteError@chrome://remote/content/shared/RemoteError.sys.mjs:8:8\n",
      "WebDriverError@chrome://remote/content/shared/webdriver/Errors.sys.mjs:193:5\n",
      "ElementClickInterceptedError@chrome://remote/content/shared/webdriver/Errors.sys.mjs:337:5\n",
      "webdriverClickElement@chrome://remote/content/marionette/interaction.sys.mjs:177:11\n",
      "interaction.clickElement@chrome://remote/content/marionette/interaction.sys.mjs:136:11\n",
      "clickElement@chrome://remote/content/marionette/actors/MarionetteCommandsChild.sys.mjs:344:29\n",
      "receiveMessage@chrome://remote/content/marionette/actors/MarionetteCommandsChild.sys.mjs:220:31\n",
      "\n",
      "Données sauvegardées dans restaurants_paris_5eme.csv\n"
     ]
    }
   ],
   "source": [
    "#pour paris 5eme arrondissement:\n",
    "link=\"https://www.google.fr/maps/search/restaurant+paris+5/@48.8633329,2.3384501,3987m/data=!3m2!1e3!4b1?entry=ttu&g_ep=EgoyMDI1MDEwOC4wIKXMDSoASAFQAw%3D%3D\"\n",
    "output_file=\"data_in_progress/restaurants_paris_5eme.csv\"\n",
    "scrape_google_maps(link, n, output_file)"
   ]
  },
  {
   "cell_type": "code",
   "execution_count": 12,
   "metadata": {},
   "outputs": [
    {
     "name": "stdout",
     "output_type": "stream",
     "text": [
      "Élément de scroll trouvé avec succès !\n",
      "Restaurant 1 : {'name': 'Le Paris Paris', 'rating': '4,4', 'price': '€€', 'restaurant_type': 'Restaurant', 'description': 'NaN', 'address': '8 Rue de Montfaucon, 75006 Paris'}\n",
      "Restaurant 2 : {'name': 'Le Paris Paris', 'rating': '4,4', 'price': '€€', 'restaurant_type': 'Restaurant', 'description': 'NaN', 'address': '8 Rue de Montfaucon, 75006 Paris'}\n",
      "Restaurant 3 : {'name': 'Brasserie Des Prés', 'rating': '4,6', 'price': '20–40 €', 'restaurant_type': 'Restaurant français', 'description': 'NaN', 'address': '6 Cr du Commerce Saint-André, 75006 Paris'}\n",
      "Restaurant 4 : {'name': 'Didon', 'rating': '4,7', 'price': 'NaN', 'restaurant_type': 'Restaurant gastronomique', 'description': \"Restaurant à l'ambiance décontractée et au cadre chic et simple, spécialisé dans les grillades au charbon de bois.\", 'address': '8 Rue du Dragon, 75006 Paris'}\n",
      "Restaurant 5 : {'name': \"L'Atelier Roulière\", 'rating': '4,6', 'price': '€€', 'restaurant_type': 'Restaurant', 'description': 'Escargots, tartares de boeuf, steak et longue liste de vin proposés dans une brasserie chic décorée dans des tons riches de bleu.', 'address': '24 Rue des Canettes, 75006 Paris'}\n",
      "Restaurant 6 : {'name': 'Georgette', 'rating': '4,7', 'price': '€€', 'restaurant_type': 'Restaurant français', 'description': 'Restaurant élégant servant des plats français classiques de saison dans une salle chic ou en terrasse.', 'address': \"44 Rue d'Assas, 75006 Paris\"}\n",
      "Restaurant 7 : {'name': 'SHIRO | Restaurant Franco Japonais Fusion', 'rating': '4,6', 'price': '+ de 100 €', 'restaurant_type': 'Restaurant français', 'description': 'NaN', 'address': '168 Bd Saint-Germain, 75006 Paris'}\n",
      "Restaurant 8 : {'name': 'Alcazar', 'rating': '4,2', 'price': '€€€', 'restaurant_type': 'Restaurant', 'description': 'Restaurant chic agrémenté de plantes servant des plats et des desserts locaux originaux, ainsi que des cocktails uniques.', 'address': '62 Rue Mazarine, 75006 Paris'}\n",
      "Restaurant 9 : {'name': 'CAMILA', 'rating': '4,4', 'price': '€€', 'restaurant_type': 'Restaurant', 'description': 'Brasserie de style décontracté dotée de poutres anciennes et de grandes fenêtres, servant plats créatifs français et internationaux.', 'address': '5 Rue Mabillon, 75006 Paris'}\n",
      "Restaurant 10 : {'name': 'Marcello', 'rating': '4,5', 'price': '€€€', 'restaurant_type': 'Restaurant italien', 'description': \"Pâtes, fruits de mer et autres plats italiens servis dans un restaurant convivial à l'ambiance rustique chic.\", 'address': '8 Rue Mabillon, 75006 Paris'}\n",
      "Restaurant 11 : {'name': 'La Diva-des-Prés', 'rating': '4,3', 'price': 'NaN', 'restaurant_type': 'Restaurant', 'description': \"Restaurant lounge romantique doté de meubles aux tons roses, d'une décoration florale luxuriante et d'une terrasse.\", 'address': '79 Rue de Seine, 75006 Paris'}\n",
      "Restaurant 12 : {'name': 'Restaurant Aux Perchés', 'rating': '4,8', 'price': 'NaN', 'restaurant_type': 'Restaurant français', 'description': 'NaN', 'address': '25 Rue Servandoni, 75006 Paris'}\n",
      "Restaurant 13 : {'name': 'La Boussole', 'rating': '4,3', 'price': '30–40 €', 'restaurant_type': 'Restaurant français', 'description': 'Classiques locaux, plats internationaux et desserts populaires proposés dans un restaurant cosy doté de murs en pierres apparentes.', 'address': '12 Rue Guisarde, 75006 Paris'}\n",
      "Restaurant 14 : {'name': 'Au Père Louis (Bar à Vins Paris - Saint Germain des Prés Paris 6)', 'rating': '4,3', 'price': '€€', 'restaurant_type': 'Restaurant français', 'description': \"Charmant restaurant/bar à vin à l'angle d'une rue, proposant des spécialités françaises comme la soupe à l'oignon et les escargots.\", 'address': '38 Rue Monsieur le Prince, 75006 Paris'}\n",
      "Restaurant 15 : {'name': 'Huguette, Bistro de la mer', 'rating': '4,4', 'price': 'NaN', 'restaurant_type': 'Restaurant', 'description': 'Brasserie élégante avec façade ouverte sur la rue et terrasse, servant plats de poissons/fruits de mer, poke bowls et apéritifs.', 'address': '81 Rue de Seine, 75006 Paris'}\n",
      "Erreur avec le restaurant 16 : Message: Element <a class=\"hfpxzc\" href=\"https://www.google.fr/maps/place/Semilla/data=!4m7!3m6!1s0x47e671d8e3da5061:0xf88a0426fa601e07!8m2!3d48.8541183!4d2.3368935!16s%2Fg%2F113j0qvbn!19sChIJYVDa49hx5kcRBx5g-iYEivg?authuser=0&hl=fr&rclk=1\"> is not clickable at point (276,599) because another element <div class=\"L6Bbsd\"> obscures it\n",
      "Stacktrace:\n",
      "RemoteError@chrome://remote/content/shared/RemoteError.sys.mjs:8:8\n",
      "WebDriverError@chrome://remote/content/shared/webdriver/Errors.sys.mjs:193:5\n",
      "ElementClickInterceptedError@chrome://remote/content/shared/webdriver/Errors.sys.mjs:337:5\n",
      "webdriverClickElement@chrome://remote/content/marionette/interaction.sys.mjs:177:11\n",
      "interaction.clickElement@chrome://remote/content/marionette/interaction.sys.mjs:136:11\n",
      "clickElement@chrome://remote/content/marionette/actors/MarionetteCommandsChild.sys.mjs:344:29\n",
      "receiveMessage@chrome://remote/content/marionette/actors/MarionetteCommandsChild.sys.mjs:220:31\n",
      "\n",
      "Données sauvegardées dans restaurants_paris_6eme.csv\n"
     ]
    }
   ],
   "source": [
    "#pour paris 6eme arrondissement:\n",
    "link=\"https://www.google.fr/maps/search/restaurant+paris+6/@48.8676725,2.3003494,7973m/data=!3m2!1e3!4b1?entry=ttu&g_ep=EgoyMDI1MDEwOC4wIKXMDSoASAFQAw%3D%3D\"\n",
    "output_file=\"data_in_progress/restaurants_paris_6eme.csv\"\n",
    "scrape_google_maps(link, n, output_file)"
   ]
  },
  {
   "cell_type": "code",
   "execution_count": 13,
   "metadata": {},
   "outputs": [
    {
     "name": "stdout",
     "output_type": "stream",
     "text": [
      "Élément de scroll trouvé avec succès !\n",
      "Restaurant 1 : {'name': 'Le Paris Paris', 'rating': '4,4', 'price': '€€', 'restaurant_type': 'Restaurant', 'description': 'NaN', 'address': '8 Rue de Montfaucon, 75006 Paris'}\n",
      "Restaurant 2 : {'name': 'Le Paris Paris', 'rating': '4,4', 'price': '€€', 'restaurant_type': 'Restaurant', 'description': 'NaN', 'address': '8 Rue de Montfaucon, 75006 Paris'}\n",
      "Restaurant 3 : {'name': 'Brasserie Des Prés', 'rating': '4,6', 'price': '20–40 €', 'restaurant_type': 'Restaurant français', 'description': 'NaN', 'address': '6 Cr du Commerce Saint-André, 75006 Paris'}\n",
      "Restaurant 4 : {'name': 'Didon', 'rating': '4,7', 'price': 'NaN', 'restaurant_type': 'Restaurant gastronomique', 'description': \"Restaurant à l'ambiance décontractée et au cadre chic et simple, spécialisé dans les grillades au charbon de bois.\", 'address': '8 Rue du Dragon, 75006 Paris'}\n",
      "Restaurant 5 : {'name': \"L'Atelier Roulière\", 'rating': '4,6', 'price': '€€', 'restaurant_type': 'Restaurant', 'description': 'Escargots, tartares de boeuf, steak et longue liste de vin proposés dans une brasserie chic décorée dans des tons riches de bleu.', 'address': '24 Rue des Canettes, 75006 Paris'}\n",
      "Restaurant 6 : {'name': 'Georgette', 'rating': '4,7', 'price': '€€', 'restaurant_type': 'Restaurant français', 'description': 'Restaurant élégant servant des plats français classiques de saison dans une salle chic ou en terrasse.', 'address': \"44 Rue d'Assas, 75006 Paris\"}\n",
      "Restaurant 7 : {'name': 'SHIRO | Restaurant Franco Japonais Fusion', 'rating': '4,6', 'price': '+ de 100 €', 'restaurant_type': 'Restaurant français', 'description': 'NaN', 'address': '168 Bd Saint-Germain, 75006 Paris'}\n",
      "Restaurant 8 : {'name': 'Alcazar', 'rating': '4,2', 'price': '€€€', 'restaurant_type': 'Restaurant', 'description': 'Restaurant chic agrémenté de plantes servant des plats et des desserts locaux originaux, ainsi que des cocktails uniques.', 'address': '62 Rue Mazarine, 75006 Paris'}\n",
      "Restaurant 9 : {'name': 'CAMILA', 'rating': '4,4', 'price': '€€', 'restaurant_type': 'Restaurant', 'description': 'Brasserie de style décontracté dotée de poutres anciennes et de grandes fenêtres, servant plats créatifs français et internationaux.', 'address': '5 Rue Mabillon, 75006 Paris'}\n",
      "Restaurant 10 : {'name': 'Marcello', 'rating': '4,5', 'price': '€€€', 'restaurant_type': 'Restaurant italien', 'description': \"Pâtes, fruits de mer et autres plats italiens servis dans un restaurant convivial à l'ambiance rustique chic.\", 'address': '8 Rue Mabillon, 75006 Paris'}\n",
      "Restaurant 11 : {'name': 'La Diva-des-Prés', 'rating': '4,3', 'price': 'NaN', 'restaurant_type': 'Restaurant', 'description': \"Restaurant lounge romantique doté de meubles aux tons roses, d'une décoration florale luxuriante et d'une terrasse.\", 'address': '79 Rue de Seine, 75006 Paris'}\n",
      "Restaurant 12 : {'name': 'Restaurant Aux Perchés', 'rating': '4,8', 'price': 'NaN', 'restaurant_type': 'Restaurant français', 'description': 'NaN', 'address': '25 Rue Servandoni, 75006 Paris'}\n",
      "Restaurant 13 : {'name': 'La Boussole', 'rating': '4,3', 'price': '30–40 €', 'restaurant_type': 'Restaurant français', 'description': 'Classiques locaux, plats internationaux et desserts populaires proposés dans un restaurant cosy doté de murs en pierres apparentes.', 'address': '12 Rue Guisarde, 75006 Paris'}\n",
      "Restaurant 14 : {'name': 'Au Père Louis (Bar à Vins Paris - Saint Germain des Prés Paris 6)', 'rating': '4,3', 'price': '€€', 'restaurant_type': 'Restaurant français', 'description': \"Charmant restaurant/bar à vin à l'angle d'une rue, proposant des spécialités françaises comme la soupe à l'oignon et les escargots.\", 'address': '38 Rue Monsieur le Prince, 75006 Paris'}\n",
      "Restaurant 15 : {'name': 'Huguette, Bistro de la mer', 'rating': '4,4', 'price': 'NaN', 'restaurant_type': 'Restaurant', 'description': 'Brasserie élégante avec façade ouverte sur la rue et terrasse, servant plats de poissons/fruits de mer, poke bowls et apéritifs.', 'address': '81 Rue de Seine, 75006 Paris'}\n",
      "Restaurant 16 : {'name': 'Semilla', 'rating': '4,5', 'price': '€€€', 'restaurant_type': 'Cuisine française moderne', 'description': 'Cuisine française contemporaine et sophistiquée aux accents méditerranéens dans une salle dotée de briques et de conduits apparents.', 'address': '54 Rue de Seine, 75006 Paris'}\n",
      "Restaurant 17 : {'name': 'Restaurant Du Sénat', 'rating': '4,5', 'price': '50–60 €', 'restaurant_type': 'Restaurant', 'description': 'NaN', 'address': 'ter, 15 bis Rue de Vaugirard, 75006 Paris'}\n",
      "Restaurant 18 : {'name': 'Source Restaurant', 'rating': '4,8', 'price': '+ de 100 €', 'restaurant_type': 'Restaurant', 'description': 'NaN', 'address': '17 Rue Grégoire de Tours, 75006 Paris'}\n",
      "Restaurant 19 : {'name': 'Bouillon Racine', 'rating': '4,2', 'price': '€€€', 'restaurant_type': 'Restaurant français', 'description': \"Menu de saison composé de classiques raffinés, proposé dans un restaurant rénové de style Art nouveau doté d'une grande cave à vin.\", 'address': '3 Rue Racine, 75006 Paris'}\n",
      "Restaurant 20 : {'name': 'Aux Prés Cyril Lignac', 'rating': '4,2', 'price': '€€', 'restaurant_type': 'Restaurant français', 'description': 'Plats de brasserie raffinés à base de viande dans un restaurant cosy et traditionnel géré par un chef star de la télévision.', 'address': '27 Rue du Dragon, 75006 Paris'}\n",
      "Erreur avec le restaurant 21 : Message: Element <a class=\"hfpxzc\" href=\"https://www.google.fr/maps/place/La+Maison+du+Jardin/data=!4m7!3m6!1s0x47e671d0661a255b:0x4122ebe09a444c88!8m2!3d48.8482436!4d2.3314387!16s%2Fg%2F1tpf6fxc!19sChIJWyUaZtBx5kcRiExEmuDrIkE?authuser=0&hl=fr&rclk=1\"> is not clickable at point (276,599) because another element <div class=\"L6Bbsd\"> obscures it\n",
      "Stacktrace:\n",
      "RemoteError@chrome://remote/content/shared/RemoteError.sys.mjs:8:8\n",
      "WebDriverError@chrome://remote/content/shared/webdriver/Errors.sys.mjs:193:5\n",
      "ElementClickInterceptedError@chrome://remote/content/shared/webdriver/Errors.sys.mjs:337:5\n",
      "webdriverClickElement@chrome://remote/content/marionette/interaction.sys.mjs:177:11\n",
      "interaction.clickElement@chrome://remote/content/marionette/interaction.sys.mjs:136:11\n",
      "clickElement@chrome://remote/content/marionette/actors/MarionetteCommandsChild.sys.mjs:344:29\n",
      "receiveMessage@chrome://remote/content/marionette/actors/MarionetteCommandsChild.sys.mjs:220:31\n",
      "\n",
      "Données sauvegardées dans restaurants_paris_7eme.csv\n"
     ]
    }
   ],
   "source": [
    "#pour paris 7eme arrondissement:\n",
    "link=\"https://www.google.fr/maps/search/restaurant+paris+6/@48.8676725,2.3003494,7973m/data=!3m2!1e3!4b1?entry=ttu&g_ep=EgoyMDI1MDEwOC4wIKXMDSoASAFQAw%3D%3D\"\n",
    "output_file=\"data_in_progress/restaurants_paris_7eme.csv\"\n",
    "scrape_google_maps(link, n, output_file)"
   ]
  },
  {
   "cell_type": "code",
   "execution_count": 14,
   "metadata": {},
   "outputs": [
    {
     "name": "stdout",
     "output_type": "stream",
     "text": [
      "Élément de scroll trouvé avec succès !\n",
      "Restaurant 1 : {'name': 'Da Alfredo Restaurant Paris 8', 'rating': '4,7', 'price': 'NaN', 'restaurant_type': 'Restaurant italien', 'description': 'NaN', 'address': '182 Bd Haussmann, 75008 Paris'}\n",
      "Restaurant 2 : {'name': 'Restaurant Super Huit Paris 8', 'rating': '4,8', 'price': '50–60 €', 'restaurant_type': 'Restaurant', 'description': 'NaN', 'address': '95 Rue de Miromesnil, 75008 Paris'}\n",
      "Restaurant 3 : {'name': 'Sphère', 'rating': '4,8', 'price': '+ de 100 €', 'restaurant_type': 'Restaurant gastronomique', 'description': 'NaN', 'address': '18 Rue La Boétie, 75008 Paris'}\n",
      "Restaurant 4 : {'name': 'Le Marignan', 'rating': '4,2', 'price': 'NaN', 'restaurant_type': 'Restaurant', 'description': 'Cette brasserie conviviale aux grandes baies vitrées propose des plats traditionnels en service non-stop.', 'address': '18 Rue de Marignan, 75008 Paris'}\n",
      "Restaurant 5 : {'name': 'ONOR par Thierry Marx', 'rating': '4,8', 'price': '+ de 100 €', 'restaurant_type': 'Restaurant gastronomique', 'description': 'NaN', 'address': '258 Rue du Faubourg Saint-Honoré, 75008 Paris'}\n",
      "Restaurant 6 : {'name': 'Le Carré Élysée', 'rating': '4,6', 'price': '€€', 'restaurant_type': 'Restaurant français', 'description': 'NaN', 'address': '49 Av. Franklin Delano Roosevelt, 75008 Paris'}\n",
      "Restaurant 7 : {'name': 'Le Sens Unique', 'rating': '4,5', 'price': '€€', 'restaurant_type': 'Restaurant français', 'description': 'Restaurant chic avec un bar à vin proposant des boissons et des plats haut de gamme dans un espace luxueux aux murs en briques.', 'address': '47 Rue de Ponthieu, 75008 Paris'}\n",
      "Restaurant 8 : {'name': 'NOTO Paris', 'rating': '3,8', 'price': '+ de 100 €', 'restaurant_type': 'Restaurant italien', 'description': 'Table sicilienne élégante et aérée offrant des spécialités des terroirs italiens au dessus de la salle Pleyel.', 'address': '252 bis Rue du Faubourg Saint-Honoré, 75008 Paris'}\n",
      "Restaurant 9 : {'name': \"L'Arôme\", 'rating': '4,8', 'price': '+ de 100 €', 'restaurant_type': 'Restaurant gastronomique', 'description': \"Cuisine gastronomique créative d'inspiration française avec menu dégustation et accords mets-vins dans une salle chic aux tons beiges.\", 'address': '3 Rue Saint-Philippe du Roule, 75008 Paris'}\n",
      "Restaurant 10 : {'name': \"L'Annexe Restaurant\", 'rating': '4,8', 'price': '20–30 €', 'restaurant_type': 'Restaurant', 'description': 'NaN', 'address': '41 Rue de Courcelles, 75008 Paris'}\n",
      "Restaurant 11 : {'name': 'La Table de Lucie', 'rating': '4,4', 'price': '20–30 €', 'restaurant_type': 'Restaurant français', 'description': 'Restaurant de style décontracté avec terrasse proposant des menus variables mettant en valeur les ingrédients frais du marché.', 'address': \"29 Rue d'Édimbourg, 75008 Paris\"}\n",
      "Restaurant 12 : {'name': 'Tosca', 'rating': '4,8', 'price': '+ de 100 €', 'restaurant_type': 'Restaurant italien', 'description': 'NaN', 'address': '20 Rue du Cirque, 75008 Paris'}\n",
      "Restaurant 13 : {'name': 'Palais de Courcelles', 'rating': '4,2', 'price': '10–20 €', 'restaurant_type': 'Restaurant chinois', 'description': 'NaN', 'address': '79 Bd de Courcelles, 75008 Paris'}\n",
      "Restaurant 14 : {'name': 'Bistro Les 4 Saisons', 'rating': '4,1', 'price': '20–30 €', 'restaurant_type': 'Bistro', 'description': \"Plats du marché à l'ardoise et cuisine traditionnelle dans un bistrot classique aux banquettes en velours.\", 'address': '268 Rue du Faubourg Saint-Honoré, 75008 Paris'}\n",
      "Restaurant 15 : {'name': 'Restaurant Le Gabriel', 'rating': '4,6', 'price': '+ de 100 €', 'restaurant_type': 'Restaurant gastronomique', 'description': \"Menus dégustation, et cuisine d'inspiration française à la fois raffinée et innovante, servis dans une salle à manger luxueuse.\", 'address': '42 Av. Gabriel, 75008 Paris'}\n",
      "Restaurant 16 : {'name': \"L'Elysée Saint Honoré\", 'rating': '4,2', 'price': '€€€', 'restaurant_type': 'Brasserie', 'description': 'Restaurant élégant décoré de tableaux avec terrasse vitrée et proposant plats français raffinés de brasserie.', 'address': '205 Rue du Faubourg Saint-Honoré, 75008 Paris'}\n",
      "Restaurant 17 : {'name': 'Citrus', 'rating': '4,6', 'price': 'NaN', 'restaurant_type': 'Restaurant français', 'description': 'Restaurant de style rétro avec patio proposant une cuisine traditionnelle provençale et méditerranéenne.', 'address': '52 Rue de Miromesnil, 75008 Paris'}\n",
      "Restaurant 18 : {'name': 'Lupo', 'rating': '4,9', 'price': '10–20 €', 'restaurant_type': 'Restaurant italien', 'description': 'NaN', 'address': '22 Rue Washington, 75008 Paris'}\n",
      "Restaurant 19 : {'name': 'Le Mermoz', 'rating': '4,5', 'price': 'NaN', 'restaurant_type': 'Bistro', 'description': 'NaN', 'address': '16 Rue Jean Mermoz, 75008 Paris'}\n",
      "Restaurant 20 : {'name': 'Le Chiberta', 'rating': '4,3', 'price': '+ de 100 €', 'restaurant_type': 'Restaurant', 'description': 'Menus de dégustation de plats français créatifs avec accords mets et vins, dans une salle élégante aux accents rouges audacieux.', 'address': '3 Rue Arsène Houssaye, 75008 Paris'}\n",
      "Erreur avec le restaurant 21 : Message: Element <a class=\"hfpxzc\" href=\"https://www.google.fr/maps/place/Laurent/data=!4m7!3m6!1s0x47e66fcf0a81cc21:0x422317ab0f9c2cd4!8m2!3d48.8692529!4d2.3131794!16s%2Fg%2F1tjgnxk7!19sChIJIcyBCs9v5kcR1CycD6sXI0I?authuser=0&hl=fr&rclk=1\"> is not clickable at point (276,599) because another element <div class=\"L6Bbsd\"> obscures it\n",
      "Stacktrace:\n",
      "RemoteError@chrome://remote/content/shared/RemoteError.sys.mjs:8:8\n",
      "WebDriverError@chrome://remote/content/shared/webdriver/Errors.sys.mjs:193:5\n",
      "ElementClickInterceptedError@chrome://remote/content/shared/webdriver/Errors.sys.mjs:337:5\n",
      "webdriverClickElement@chrome://remote/content/marionette/interaction.sys.mjs:177:11\n",
      "interaction.clickElement@chrome://remote/content/marionette/interaction.sys.mjs:136:11\n",
      "clickElement@chrome://remote/content/marionette/actors/MarionetteCommandsChild.sys.mjs:344:29\n",
      "receiveMessage@chrome://remote/content/marionette/actors/MarionetteCommandsChild.sys.mjs:220:31\n",
      "\n",
      "Données sauvegardées dans restaurants_paris_8eme.csv\n"
     ]
    }
   ],
   "source": [
    "#pour paris 8eme arrondissement:\n",
    "link=\"https://www.google.fr/maps/search/restaurant+paris+8/@48.8744256,2.2970739,1993m/data=!3m2!1e3!4b1?entry=ttu&g_ep=EgoyMDI1MDEwOC4wIKXMDSoASAFQAw%3D%3D\"\n",
    "output_file=\"data_in_progress/restaurants_paris_8eme.csv\"\n",
    "scrape_google_maps(link, n, output_file)"
   ]
  },
  {
   "cell_type": "code",
   "execution_count": 15,
   "metadata": {},
   "outputs": [
    {
     "name": "stdout",
     "output_type": "stream",
     "text": [
      "Élément de scroll trouvé avec succès !\n",
      "Restaurant 1 : {'name': 'Mieux', 'rating': '4,7', 'price': 'NaN', 'restaurant_type': 'Restaurant', 'description': \"Restaurant rustique-chic à l'ambiance détendue et à l'approvisionnement responsable, proposant des plats et des vins.\", 'address': '21 Rue Saint-Lazare, 75009 Paris'}\n",
      "Restaurant 2 : {'name': 'Les Saisons', 'rating': '4,7', 'price': '€€', 'restaurant_type': 'Restaurant français', 'description': 'Restaurant cozy et lumineux proposant des plats classiques, de la viande et une vaste sélection de vins.', 'address': '52 Rue Lamartine, 75009 Paris'}\n",
      "Restaurant 3 : {'name': 'Poppy Paris', 'rating': '4,6', 'price': '20–30 €', 'restaurant_type': 'Restaurant brunch', 'description': 'NaN', 'address': '2 Rue Milton, 75009 Paris'}\n",
      "Restaurant 4 : {'name': 'La Padellina', 'rating': '4,8', 'price': '20–30 €', 'restaurant_type': 'Restaurant italien', 'description': 'NaN', 'address': '1 Rue Chaptal, 75009 Paris'}\n",
      "Restaurant 5 : {'name': 'Passionné', 'rating': '4,7', 'price': '+ de 100 €', 'restaurant_type': 'Restaurant gastronomique', 'description': 'NaN', 'address': '17 Rue Bergère, 75009 Paris'}\n",
      "Restaurant 6 : {'name': 'Lou Cantou', 'rating': '4,6', 'price': '20–30 €', 'restaurant_type': 'Restaurant français', 'description': \"Vins et spécialités françaises dans un bistrot pittoresque à l'ambiance rétro. Terrasse côté rue et approvisionnement responsable.\", 'address': \"35 Cité d'Antin, 75009 Paris\"}\n",
      "Restaurant 7 : {'name': 'Chez Yvette - Restaurant paris 9', 'rating': '4,9', 'price': '30–40 €', 'restaurant_type': 'Restaurant', 'description': 'NaN', 'address': '47 Av. Trudaine, 75009 Paris'}\n",
      "Restaurant 8 : {'name': 'Chez Delphine', 'rating': '4,7', 'price': '30–40 €', 'restaurant_type': 'Restaurant français', 'description': 'NaN', 'address': '48 Rue Saint-Georges, 75009 Paris'}\n",
      "Restaurant 9 : {'name': 'Le Bon Georges', 'rating': '4,5', 'price': '+ de 100 €', 'restaurant_type': 'Restaurant', 'description': 'NaN', 'address': '45 Rue Saint-Georges, 75009 Paris'}\n",
      "Restaurant 10 : {'name': \"L'Eden - Restaurant Paris 9\", 'rating': '4,0', 'price': '20–30 €', 'restaurant_type': 'Brasserie', 'description': 'Brasserie classique avec tables en bois et bar en zinc incurvé, proposant des plats français traditionnels.', 'address': \"43 Rue de la Chau. d'Antin, 75009 Paris\"}\n",
      "Restaurant 11 : {'name': 'Jeanne-Aimée', 'rating': '4,8', 'price': 'NaN', 'restaurant_type': 'Restaurant', 'description': 'NaN', 'address': '3 Rue Bourdaloue, 75009 Paris'}\n",
      "Restaurant 12 : {'name': 'Le Comptoir Boutary', 'rating': '4,8', 'price': 'NaN', 'restaurant_type': 'Restaurant français', 'description': 'NaN', 'address': '32 Rue Catherine de la Rochefoucauld, 75009 Paris'}\n",
      "Restaurant 13 : {'name': 'Caillebotte', 'rating': '4,6', 'price': '€€', 'restaurant_type': 'Restaurant français', 'description': 'Plats français classiques de brasserie à la présentation artistique, dans un cadre clair et contemporain.', 'address': '8 Rue Hippolyte Lebas, 75009 Paris'}\n",
      "Restaurant 14 : {'name': 'La Table des Anges', 'rating': '4,5', 'price': '40–50 €', 'restaurant_type': 'Restaurant français', 'description': 'Cuisine française de brasserie à la présentation créative et vins régionaux servis dans un espace simple.', 'address': '66 R. des Martyrs, 75009 Paris'}\n",
      "Restaurant 15 : {'name': \"Restaurant L'Évadé Bistronomie Paris 9\", 'rating': '4,8', 'price': 'NaN', 'restaurant_type': 'Restaurant', 'description': 'NaN', 'address': '23 Rue Clauzel, 75009 Paris'}\n",
      "Restaurant 16 : {'name': 'Bistrot Rougemont', 'rating': '4,7', 'price': '€€', 'restaurant_type': 'Restaurant français', 'description': 'Bistro simple aux intérieurs chics qui propose un menu de cuisine traditionnelle de saison.', 'address': '10 Rue Rougemont, 75009 Paris'}\n",
      "Restaurant 17 : {'name': 'Restaurant La Petite Charlotte', 'rating': '4,8', 'price': '20–30 €', 'restaurant_type': 'Restaurant', 'description': 'NaN', 'address': '47 Rue Notre Dame de Lorette, 75009 Paris'}\n",
      "Restaurant 18 : {'name': 'Bourgogne Sud', 'rating': '4,5', 'price': '30–40 €', 'restaurant_type': 'Restaurant français', 'description': 'Établissement sobre et élégant proposant foie gras, tartare, bœuf bourguignon et vins de Bourgogne.', 'address': '14 Rue de Clichy, 75009 Paris'}\n",
      "Restaurant 19 : {'name': 'Restaurant franco-italien Il Cuoco Galante - Paris 9', 'rating': '4,6', 'price': 'NaN', 'restaurant_type': 'Restaurant français', 'description': 'Ce restaurant sobre et chic aux tons bleus sert des pâtes fraîche et des produits du terroir italien.', 'address': '36 Rue Condorcet, 75009 Paris'}\n",
      "Restaurant 20 : {'name': 'Au Petit Riche', 'rating': '4,5', 'price': '€€€', 'restaurant_type': 'Restaurant français', 'description': \"Brasserie d'époque avec salons privés servant des spécialités françaises et des vins de la vallée de la Loire.\", 'address': '25 Rue Le Peletier, 75009 Paris'}\n",
      "Erreur avec le restaurant 21 : Message: Element <a class=\"hfpxzc\" href=\"https://www.google.fr/maps/place/Faubourg+34+-+Restaurant+paris+9/data=!4m7!3m6!1s0x47e66e3f1cdbbe1b:0xbc52b667b7fc38b!8m2!3d48.8741257!4d2.3424981!16s%2Fg%2F1xn_mp_q!19sChIJG77bHD9u5kcRi8N_e2YrxQs?authuser=0&hl=fr&rclk=1\"> is not clickable at point (276,599) because another element <div class=\"L6Bbsd\"> obscures it\n",
      "Stacktrace:\n",
      "RemoteError@chrome://remote/content/shared/RemoteError.sys.mjs:8:8\n",
      "WebDriverError@chrome://remote/content/shared/webdriver/Errors.sys.mjs:193:5\n",
      "ElementClickInterceptedError@chrome://remote/content/shared/webdriver/Errors.sys.mjs:337:5\n",
      "webdriverClickElement@chrome://remote/content/marionette/interaction.sys.mjs:177:11\n",
      "interaction.clickElement@chrome://remote/content/marionette/interaction.sys.mjs:136:11\n",
      "clickElement@chrome://remote/content/marionette/actors/MarionetteCommandsChild.sys.mjs:344:29\n",
      "receiveMessage@chrome://remote/content/marionette/actors/MarionetteCommandsChild.sys.mjs:220:31\n",
      "\n",
      "Données sauvegardées dans restaurants_paris_9eme.csv\n"
     ]
    }
   ],
   "source": [
    "#pour paris 9eme arrondissement:\n",
    "link=\"https://www.google.fr/maps/search/restaurant+paris+9/@48.8744884,2.266174,7972m/data=!3m2!1e3!4b1?entry=ttu&g_ep=EgoyMDI1MDEwOC4wIKXMDSoASAFQAw%3D%3D\"\n",
    "output_file=\"data_in_progress/restaurants_paris_9eme.csv\"\n",
    "scrape_google_maps(link, n, output_file)"
   ]
  },
  {
   "cell_type": "code",
   "execution_count": 16,
   "metadata": {},
   "outputs": [
    {
     "name": "stdout",
     "output_type": "stream",
     "text": [
      "Élément de scroll trouvé avec succès !\n",
      "Restaurant 1 : {'name': 'Les Rupins - Restaurant Parisien', 'rating': '4,6', 'price': '30–40 €', 'restaurant_type': 'Restaurant', 'description': 'Restaurant simple servant des plats européens classiques, y compris des burgers, des tartares, du gaspacho et des lasagnes.', 'address': '35 Bd de Magenta, 75010 Paris'}\n",
      "Restaurant 2 : {'name': 'LArchimede - Restaurant Bistronomique Paris 10', 'rating': '4,8', 'price': '30–50 €', 'restaurant_type': 'Restaurant français', 'description': 'NaN', 'address': '11 Rue Marie et Louise, 75010 Paris'}\n",
      "Restaurant 3 : {'name': 'Restaurant Mâche', 'rating': '4,8', 'price': '+ de 100 €', 'restaurant_type': 'Restaurant gastronomique', 'description': 'Menus dégustation innovants et vins naturels proposés dans un espace chic à la décoration originale.', 'address': '61 Rue de Chabrol, 75010 Paris'}\n",
      "Restaurant 4 : {'name': 'NooRi', 'rating': '4,8', 'price': '10–20 €', 'restaurant_type': 'Restaurant de cuisine fusion asiatique', 'description': 'NaN', 'address': '20 Rue du Faubourg Saint-Martin, 75010 Paris'}\n",
      "Restaurant 5 : {'name': 'La Petite Rose des Sables', 'rating': '4,8', 'price': '10–20 €', 'restaurant_type': 'Restaurant', 'description': \"Tartare de bœuf ou poulet basquaise au menu d'un restaurant cosy aux murs de pierres et nappes vichy.\", 'address': '6 Rue de Lancry, 75010 Paris'}\n",
      "Restaurant 6 : {'name': 'Bouillon Julien', 'rating': '4,1', 'price': '20–30 €', 'restaurant_type': 'Brasserie', 'description': 'Cuisine traditionnelle proposée dans un restaurant historique à la décoration Art nouveau élaborée.', 'address': '16 Rue du Faubourg Saint-Denis, 75010 Paris'}\n",
      "Restaurant 7 : {'name': 'Chez Michel', 'rating': '4,4', 'price': '€€€', 'restaurant_type': 'Restaurant français', 'description': \"Cuisine française raffinée aux accents internationaux proposée dans une brasserie rétro dotée d'une cave à vin.\", 'address': '10 Rue de Belzunce, 75010 Paris'}\n",
      "Restaurant 8 : {'name': 'La Petite Louise', 'rating': '4,4', 'price': '20–30 €', 'restaurant_type': 'Restaurant', 'description': 'NaN', 'address': '65 Rue du Faubourg Saint-Martin, 75010 Paris'}\n",
      "Restaurant 9 : {'name': 'Brasserie Bellanger', 'rating': '4,7', 'price': '20–30 €', 'restaurant_type': 'Restaurant', 'description': 'Restaurant romantique et pittoresque doté de tables en terrasse, proposant des plats et desserts locaux maison ainsi que du vin.', 'address': '140 Rue du Faubourg Poissonnière, 75010 Paris'}\n",
      "Restaurant 10 : {'name': 'Fellows - Restaurant Paris 10', 'rating': '4,8', 'price': '10–20 €', 'restaurant_type': 'Restaurant', 'description': 'NaN', 'address': '84 Rue du Faubourg Saint-Denis, 75010 Paris'}\n",
      "Restaurant 11 : {'name': 'La Bécane à Gaston', 'rating': '4,6', 'price': '€€', 'restaurant_type': 'Restaurant français', 'description': \"Restaurant à l'ambiance détendue et au cadre intimiste proposant une cuisine traditionnelle à l'approvisionnement responsable.\", 'address': '24 Rue Lucien Sampaix, 75010 Paris'}\n",
      "Restaurant 12 : {'name': 'Restaurant 52', 'rating': '4,3', 'price': '€€', 'restaurant_type': 'Restaurant français', 'description': 'Restaurant convivial avec terrasse proposant une cuisine innovante et haut de gamme dans un cadre minimaliste.', 'address': '52 Rue du Faubourg Saint-Denis, 75010 Paris'}\n",
      "Restaurant 13 : {'name': 'Les Enfants Perdus', 'rating': '4,6', 'price': '€€', 'restaurant_type': 'Restaurant français', 'description': 'Restaurant chic proposant des formules pour le déjeuner et un brunch le week-end, avec des plats de brasserie classiques et du vin.', 'address': '9 Rue des Récollets, 75010 Paris'}\n",
      "Restaurant 14 : {'name': \"P'tite Bougnate\", 'rating': '4,2', 'price': '10–20 €', 'restaurant_type': 'Restaurant français', 'description': 'Café fonctionnel avec terrasse, proposant des plats traditionnels, des desserts et des cocktails.', 'address': '85 Bd de Magenta, 75010 Paris'}\n",
      "Restaurant 15 : {'name': 'Vendredi Soir', 'rating': '4,6', 'price': '20–40 €', 'restaurant_type': 'Restaurant', 'description': 'NaN', 'address': '140 Rue du Faubourg Saint-Martin, 75010 Paris'}\n",
      "Restaurant 16 : {'name': 'Almydan - Restaurant libanais Paris 10', 'rating': '4,8', 'price': '10–20 €', 'restaurant_type': 'Restaurant libanais', 'description': 'NaN', 'address': '160 Rue du Faubourg Poissonnière, 75010 Paris'}\n",
      "Restaurant 17 : {'name': \"Le Robinet d'Or Restaurant & Bar Canal Saint Martin\", 'rating': '4,6', 'price': '20–30 €', 'restaurant_type': 'Restaurant français', 'description': 'NaN', 'address': '7 Rue Eugène Varlin, 75010 Paris'}\n",
      "Restaurant 18 : {'name': 'Pouliche - Amandine Chaignot', 'rating': '4,6', 'price': '€€€', 'restaurant_type': 'Restaurant français', 'description': \"Restaurant orné d'œuvres d'art servant un menu à prix fixe à base de produits de qualité, accompagné de cocktails et de vins.\", 'address': \"11 Rue d'Enghien, 75010 Paris\"}\n",
      "Restaurant 19 : {'name': 'Les Parigots République - Restaurant Paris 10 eme', 'rating': '4,4', 'price': '20–30 €', 'restaurant_type': 'Restaurant français', 'description': \"Plats français traditionnels dans une brasserie dotée de détails rétro et d'une grande table en chêne massif.\", 'address': \"5 Rue du Château d'Eau, 75010 Paris\"}\n",
      "Restaurant 20 : {'name': 'La Marine', 'rating': '4,4', 'price': '20–40 €', 'restaurant_type': 'Restaurant français', 'description': 'Bistrot richement décoré sur les quais proposant des plats traditionnels (escargots, steaks) et des menus pour le déjeuner.', 'address': '55Bis Quai de Valmy, 75010 Paris'}\n",
      "Erreur avec le restaurant 21 : Message: Element <a class=\"hfpxzc\" href=\"https://www.google.fr/maps/place/Sans%C3%A9/data=!4m7!3m6!1s0x47e66f048bcb8a69:0x6987236a1d661f25!8m2!3d48.8799603!4d2.3292659!16s%2Fg%2F11w3vms6ph!19sChIJaYrLiwRv5kcRJR9mHWojh2k?authuser=0&hl=fr&rclk=1\"> is not clickable at point (276,599) because another element <div class=\"L6Bbsd\"> obscures it\n",
      "Stacktrace:\n",
      "RemoteError@chrome://remote/content/shared/RemoteError.sys.mjs:8:8\n",
      "WebDriverError@chrome://remote/content/shared/webdriver/Errors.sys.mjs:193:5\n",
      "ElementClickInterceptedError@chrome://remote/content/shared/webdriver/Errors.sys.mjs:337:5\n",
      "webdriverClickElement@chrome://remote/content/marionette/interaction.sys.mjs:177:11\n",
      "interaction.clickElement@chrome://remote/content/marionette/interaction.sys.mjs:136:11\n",
      "clickElement@chrome://remote/content/marionette/actors/MarionetteCommandsChild.sys.mjs:344:29\n",
      "receiveMessage@chrome://remote/content/marionette/actors/MarionetteCommandsChild.sys.mjs:220:31\n",
      "\n",
      "Données sauvegardées dans restaurants_paris_10eme.csv\n"
     ]
    }
   ],
   "source": [
    "#pour paris 10eme arrondissement:\n",
    "link=\"https://www.google.fr/maps/search/restaurant+paris+10/@48.8756274,2.3478646,1993m/data=!3m2!1e3!4b1?entry=ttu&g_ep=EgoyMDI1MDEwOC4wIKXMDSoASAFQAw%3D%3D\"\n",
    "output_file=\"data_in_progress/restaurants_paris_10eme.csv\"\n",
    "scrape_google_maps(link, n, output_file)"
   ]
  },
  {
   "cell_type": "code",
   "execution_count": 17,
   "metadata": {},
   "outputs": [
    {
     "name": "stdout",
     "output_type": "stream",
     "text": [
      "Élément de scroll trouvé avec succès !\n",
      "Restaurant 1 : {'name': 'Le Rey - Restaurant Paris 11', 'rating': '3,9', 'price': '20–30 €', 'restaurant_type': 'Restaurant français', 'description': 'Plats classiques de brasserie, comme le steak-frites et les assiettes de charcuterie, dans une salle confortable aux murs en lambris.', 'address': '130 Rue de la Roquette, 75011 Paris'}\n",
      "Restaurant 2 : {'name': 'Qui plume la lune', 'rating': '4,7', 'price': '+ de 100 €', 'restaurant_type': 'Restaurant français', 'description': 'Menus fixes de mets français innovants accompagnés de vin, proposés dans un restaurant haut de gamme élégant.', 'address': '50 Rue Amelot, 75011 Paris'}\n",
      "Restaurant 3 : {'name': 'Les Petits Papiers', 'rating': '4,6', 'price': '30–40 €', 'restaurant_type': 'Restaurant français', 'description': 'Ce petit bistrot moderne orné de tons rouges propose une cuisine fine dans une atmosphère chaleureuse.', 'address': '18 Rue Oberkampf, 75011 Paris'}\n",
      "Restaurant 4 : {'name': 'Pierre Sang', 'rating': '4,5', 'price': '€€', 'restaurant_type': 'Restaurant', 'description': 'Une décoration claire, épurée et conviviale de style industriel pour un menu unique cosmopolite et raffiné.', 'address': '55 Rue Oberkampf, 75011 Paris'}\n",
      "Restaurant 5 : {'name': 'Les Cuivres - Restaurant Paris 11', 'rating': '4,6', 'price': '20–40 €', 'restaurant_type': 'Restaurant', 'description': 'NaN', 'address': '68 Av. de la République, 75011 Paris'}\n",
      "Restaurant 6 : {'name': 'Laïa', 'rating': '4,8', 'price': 'NaN', 'restaurant_type': 'Restaurant', 'description': 'Restaurant élégant et isolé proposant des plats méditerranéens, une terrasse et un jardin verdoyant.', 'address': '226 Bd Voltaire, 75011 Paris'}\n",
      "Restaurant 7 : {'name': 'Brasserie Martin', 'rating': '4,6', 'price': '20–30 €', 'restaurant_type': 'Restaurant français', 'description': 'Élégant restaurant avec terrasse, proposant un menu copieux de plats classiques de saison dans une ambiance chaleureuse.', 'address': '24 Rue Saint-Ambroise, 75011 Paris'}\n",
      "Restaurant 8 : {'name': 'Eunoé', 'rating': '4,8', 'price': 'NaN', 'restaurant_type': 'Restaurant', 'description': 'NaN', 'address': '6 Rue Rochebrune, 75011 Paris'}\n",
      "Restaurant 9 : {'name': 'Cavalier.', 'rating': '4,6', 'price': 'NaN', 'restaurant_type': 'Restaurant géorgien', 'description': \"Repas de type brasserie et cocktails classiques servis dans un espace de style rustique à l'ambiance détendue.\", 'address': '22 Rue du Faubourg du Temple, 75011 Paris'}\n",
      "Restaurant 10 : {'name': 'Melt Oberkampf', 'rating': '4,7', 'price': '20–30 €', 'restaurant_type': 'Restaurant de viande', 'description': 'Plateaux de viande fumée, grillades et hamburgers servis dans un restaurant rustique aux intérieurs en bois et en briques.', 'address': '74 Rue de la Folie Méricourt, 75011 Paris'}\n",
      "Restaurant 11 : {'name': 'Onze À Table', 'rating': '4,7', 'price': 'NaN', 'restaurant_type': 'Restaurant', 'description': 'Cuisine traditionnelle rustique et cocktails originaux proposés dans un espace simple et chaleureux.', 'address': '10 Rue de la Folie Méricourt, 75011 Paris'}\n",
      "Restaurant 12 : {'name': \"L'Acolyte de l'Insolite\", 'rating': '4,8', 'price': '20–30 €', 'restaurant_type': 'Restaurant', 'description': 'Bistrot cosy proposant des menus à prix fixe évoluant au fil des saisons, et des vins naturels.', 'address': '49 Rue de la Folie Méricourt, 75011 Paris'}\n",
      "Restaurant 13 : {'name': 'EDK ( Étoile du Kashmir 11ème)', 'rating': '4,0', 'price': '10–20 €', 'restaurant_type': 'Restaurant indien', 'description': 'Spécialités indiennes et ambiance feutrée caractérisent ce restaurant traditionnel aux touches chaleureuses.', 'address': '63 Rue de Charonne, 75011 Paris'}\n",
      "Restaurant 14 : {'name': 'Restaurant les Fabricants', 'rating': '4,5', 'price': '20–30 €', 'restaurant_type': 'Restaurant', 'description': \"Brasserie à l'ambiance décontractée, proposant du vin et mettant en valeur des recettes du sud-ouest de la France.\", 'address': '61 Rue Jean-Pierre Timbaud, 75011 Paris'}\n",
      "Restaurant 15 : {'name': 'Restaurant Korus', 'rating': '4,7', 'price': '+ de 100 €', 'restaurant_type': 'Restaurant français', 'description': 'Formules fixes raffinées pour le déjeuner, menus dégustation le soir et vins naturels dans un cadre élégant.', 'address': '73 Rue Amelot, 75011 Paris'}\n",
      "Erreur avec le restaurant 16 : Message: Element <a class=\"hfpxzc\" href=\"https://www.google.fr/maps/place/Deux+Restaurant+:+Bistrot+de+chefs/data=!4m7!3m6!1s0x47e66d07c70f0c49:0x56876fe3c58c576e!8m2!3d48.8681523!4d2.3739343!16s%2Fg%2F11r7ykdng_!19sChIJSQwPxwdt5kcRbleMxeNvh1Y?authuser=0&hl=fr&rclk=1\"> is not clickable at point (276,599) because another element <div class=\"L6Bbsd\"> obscures it\n",
      "Stacktrace:\n",
      "RemoteError@chrome://remote/content/shared/RemoteError.sys.mjs:8:8\n",
      "WebDriverError@chrome://remote/content/shared/webdriver/Errors.sys.mjs:193:5\n",
      "ElementClickInterceptedError@chrome://remote/content/shared/webdriver/Errors.sys.mjs:337:5\n",
      "webdriverClickElement@chrome://remote/content/marionette/interaction.sys.mjs:177:11\n",
      "interaction.clickElement@chrome://remote/content/marionette/interaction.sys.mjs:136:11\n",
      "clickElement@chrome://remote/content/marionette/actors/MarionetteCommandsChild.sys.mjs:344:29\n",
      "receiveMessage@chrome://remote/content/marionette/actors/MarionetteCommandsChild.sys.mjs:220:31\n",
      "\n",
      "Données sauvegardées dans restaurants_paris_11eme.csv\n"
     ]
    }
   ],
   "source": [
    "#pour paris 11eme arrondissement:\n",
    "link=\"https://www.google.fr/maps/search/restaurant+paris+11/@48.8756901,2.3169646,7972m/data=!3m2!1e3!4b1?entry=ttu&g_ep=EgoyMDI1MDEwOC4wIKXMDSoASAFQAw%3D%3D\"\n",
    "output_file=\"data_in_progress/restaurants_paris_11eme.csv\"\n",
    "scrape_google_maps(link, n, output_file)"
   ]
  },
  {
   "cell_type": "code",
   "execution_count": 18,
   "metadata": {},
   "outputs": [
    {
     "name": "stdout",
     "output_type": "stream",
     "text": [
      "Élément de scroll trouvé avec succès !\n",
      "Restaurant 1 : {'name': \"L'Aubergeade\", 'rating': '4,8', 'price': '30–40 €', 'restaurant_type': 'Restaurant', 'description': 'Brasserie typique et cosy proposant des plats français traditionnels comme le steak tartare et des plats de poissons/fruits de mer.', 'address': '17 Rue Chaligny, 75012 Paris'}\n",
      "Restaurant 2 : {'name': 'Virtus', 'rating': '4,8', 'price': '+ de 100 €', 'restaurant_type': 'Restaurant gastronomique', 'description': 'Restaurant branché au décor vintage proposant des menus dégustation innovants et raffinés, et du vin.', 'address': '29 Rue de Cotte, 75012 Paris'}\n",
      "Restaurant 3 : {'name': \"L'Alchimiste\", 'rating': '4,7', 'price': '20–30 €', 'restaurant_type': 'Restaurant français', 'description': 'Cuisine française créative dans une ambiance bistro, avec luminaires Art nouveau et grandes ardoises murales.', 'address': '181 Rue de Charenton, 75012 Paris'}\n",
      "Restaurant 4 : {'name': \"L'Ébauchoir\", 'rating': '4,7', 'price': '€€', 'restaurant_type': 'Bistro', 'description': 'Plats français revisités de manière créative et vaste carte des vins dans une brasserie simple avec terrasse côté rue.', 'address': '43-45 Rue de Cîteaux, 75012 Paris'}\n",
      "Restaurant 5 : {'name': 'La Cantine de daumesnil - restaurant paris 12', 'rating': '4,3', 'price': '20–30 €', 'restaurant_type': 'Restaurant', 'description': 'NaN', 'address': '119 Rue de Reuilly, 75012 Paris'}\n",
      "Restaurant 6 : {'name': 'Les affranchis', 'rating': '4,5', 'price': '20–30 €', 'restaurant_type': 'Restaurant', 'description': \"Brasserie au charme d'antan avec terrasse, proposant des plats de saison typiques et des offres pour les happy hours.\", 'address': '14 Av. Daumesnil, 75012 Paris'}\n",
      "Restaurant 7 : {'name': 'amarante restaurant paris 75012', 'rating': '4,6', 'price': 'NaN', 'restaurant_type': 'Restaurant français', 'description': 'Ce restaurant sobre sert des spécialités de brasserie, ainsi que des plats français traditionnels à base de porc et de veau.', 'address': '4 Rue Biscornet, 75012 Paris'}\n",
      "Restaurant 8 : {'name': 'Le Picotin', 'rating': '4,5', 'price': '20–40 €', 'restaurant_type': 'Restaurant français', 'description': 'Cuisine traditionnelle servie dans un cadre chaleureux et décontracté, avec fresque murale pittoresque et concerts de jazz hebdomadaires.', 'address': '35 Rue Sibuet, 75012 Paris'}\n",
      "Restaurant 9 : {'name': 'À la Biche au Bois', 'rating': '4,5', 'price': '40–50 €', 'restaurant_type': 'Restaurant français', 'description': 'Plats traditionnels français, tels que terrine et poulet braisé, servis dans une ambiance détendue.', 'address': '45 Av. Ledru Rollin, 75012 Paris'}\n",
      "Restaurant 10 : {'name': 'Nous4 | Cuisine Bistronomique', 'rating': '4,7', 'price': '€€', 'restaurant_type': 'Restaurant français', 'description': 'NaN', 'address': '3 Rue Beccaria, 75012 Paris'}\n",
      "Restaurant 11 : {'name': 'Bistro Lyonnais', 'rating': '4,4', 'price': '20–30 €', 'restaurant_type': 'Restaurant français', 'description': 'Établissement simple avec tables côté rue, servant des steaks-frites, de la charcuterie, des pâtes et des cocktails.', 'address': '6 Rue Michel Chasles, 75012 Paris'}\n",
      "Restaurant 12 : {'name': 'TOWA Restaurant', 'rating': '4,8', 'price': '€€', 'restaurant_type': 'Restaurant français', 'description': 'Restaurant simple proposant des plats et des desserts locaux créatifs avec une touche japonaise, ainsi que du vin.', 'address': '75 Rue Crozatier, 75012 Paris'}\n",
      "Restaurant 13 : {'name': 'CHARLETPERRIN', 'rating': '4,4', 'price': '20–30 €', 'restaurant_type': 'Restaurant français', 'description': \"Spécialités françaises dont des tartares et du confit de canard servies dans une brasserie décontractée doté d'une terrasse.\", 'address': '17 Rue Michel Chasles, 75012 Paris'}\n",
      "Restaurant 14 : {'name': 'Le 217 Brasserie Restaurant', 'rating': '4,7', 'price': '20–30 €', 'restaurant_type': 'Restaurant', 'description': 'NaN', 'address': '217 Av. Daumesnil, 75012 Paris'}\n",
      "Restaurant 15 : {'name': 'Le Touareg', 'rating': '4,6', 'price': '20–30 €', 'restaurant_type': 'Restaurant algérien', 'description': 'Couscous, tajines, plats kabyles et vins du Maghreb dans une salle chaleureuse aux murs de pierres apparentes.', 'address': '228 Rue de Charenton, 75012 Paris'}\n",
      "Restaurant 16 : {'name': 'Le Singe À Paris', 'rating': '4,6', 'price': '€€', 'restaurant_type': 'Restaurant français', 'description': 'NaN', 'address': '40 Rue Traversière, 75012 Paris'}\n",
      "Restaurant 17 : {'name': 'La Promenade', 'rating': '4,4', 'price': '20–30 €', 'restaurant_type': 'Brasserie', 'description': \"Cette brasserie décorée de plantes suspendues et dotée d'une terrasse sert charcuterie, burgers, grillades et plats végétariens.\", 'address': '32 Av. Daumesnil, 75012 Paris'}\n",
      "Restaurant 18 : {'name': 'Au Métro', 'rating': '4,1', 'price': '€€', 'restaurant_type': 'Brasserie', 'description': 'Vaste restaurant-bar avec grande terrasse servant fruits de mer et plats du jour dans un décor de brasserie.', 'address': '8 Pl. Félix Eboué, 75012 Paris'}\n",
      "Restaurant 19 : {'name': 'Le Chasséen', 'rating': '4,7', 'price': '20–30 €', 'restaurant_type': 'Restaurant français', 'description': 'NaN', 'address': '6 Rue Crozatier, 75012 Paris'}\n",
      "Restaurant 20 : {'name': 'Le Quincy', 'rating': '4,4', 'price': '€€€', 'restaurant_type': 'Restaurant français', 'description': 'Spécialités régionales françaises et ambiance décontractée dans un décor rustique avec nappes en vichy rose.', 'address': '28 Av. Ledru Rollin, 75012 Paris'}\n",
      "Erreur avec le restaurant 21 : Message: Element <a class=\"hfpxzc\" href=\"https://www.google.fr/maps/place/Aux+2+saveurs/data=!4m7!3m6!1s0x47e67204c6f11a4f:0x99ee1a187fdcfd81!8m2!3d48.8463788!4d2.373385!16s%2Fg%2F11dzw5l_hs!19sChIJTxrxxgRy5kcRgf3cfxga7pk?authuser=0&hl=fr&rclk=1\"> is not clickable at point (276,598) because another element <div class=\"L6Bbsd\"> obscures it\n",
      "Stacktrace:\n",
      "RemoteError@chrome://remote/content/shared/RemoteError.sys.mjs:8:8\n",
      "WebDriverError@chrome://remote/content/shared/webdriver/Errors.sys.mjs:193:5\n",
      "ElementClickInterceptedError@chrome://remote/content/shared/webdriver/Errors.sys.mjs:337:5\n",
      "webdriverClickElement@chrome://remote/content/marionette/interaction.sys.mjs:177:11\n",
      "interaction.clickElement@chrome://remote/content/marionette/interaction.sys.mjs:136:11\n",
      "clickElement@chrome://remote/content/marionette/actors/MarionetteCommandsChild.sys.mjs:344:29\n",
      "receiveMessage@chrome://remote/content/marionette/actors/MarionetteCommandsChild.sys.mjs:220:31\n",
      "\n",
      "Données sauvegardées dans restaurants_paris_12eme.csv\n"
     ]
    }
   ],
   "source": [
    "#pour paris 12eme arrondissement:\n",
    "link=\"https://www.google.fr/maps/search/restaurant+paris+12/@48.8756901,2.3169646,7972m/data=!3m1!1e3?entry=ttu&g_ep=EgoyMDI1MDEwOC4wIKXMDSoASAFQAw%3D%3D\"\n",
    "output_file=\"data_in_progress/restaurants_paris_12eme.csv\"\n",
    "scrape_google_maps(link, n, output_file)"
   ]
  },
  {
   "cell_type": "code",
   "execution_count": 19,
   "metadata": {},
   "outputs": [
    {
     "name": "stdout",
     "output_type": "stream",
     "text": [
      "Élément de scroll trouvé avec succès !\n",
      "Restaurant 1 : {'name': 'SOURIRE le restaurant', 'rating': '4,7', 'price': '+ de 100 €', 'restaurant_type': 'Restaurant gastronomique', 'description': 'Ce restaurant sert une cuisine française raffinée dans une salle chic et moderne rehaussée de velours bleu.', 'address': '15 Rue de la Santé, 75013 Paris'}\n",
      "Restaurant 2 : {'name': 'Under The Sea Restaurant - Ephemera', 'rating': '4,7', 'price': '20–40 €', 'restaurant_type': 'Restaurant', 'description': 'Spectaculaire restaurant branché inspiré des fonds marins, servant des plats de poissons/fruits de mer du monde et des cocktails.', 'address': '160 Av. de France, 75013 Paris'}\n",
      "Restaurant 3 : {'name': 'Chez Gladines Butte aux Cailles', 'rating': '4,4', 'price': '20–30 €', 'restaurant_type': 'Restaurant basque', 'description': 'Plats mijotés, escalopes et autres mets rustiques originaires du sud-ouest de la France, proposés dans une salle à manger cosy.', 'address': '30 Rue des cinq Diamants, 75013 Paris'}\n",
      "Restaurant 4 : {'name': 'SOURIRE le restaurant', 'rating': '4,7', 'price': '+ de 100 €', 'restaurant_type': 'Restaurant gastronomique', 'description': 'Ce restaurant sert une cuisine française raffinée dans une salle chic et moderne rehaussée de velours bleu.', 'address': '15 Rue de la Santé, 75013 Paris'}\n",
      "Restaurant 5 : {'name': 'Chào bà restaurant', 'rating': '4,7', 'price': '20–30 €', 'restaurant_type': 'Restaurant vietnamien', 'description': 'Restaurant vietnamien au cadre détendu servant des plats classiques (rouleaux de printemps, soupe phở, bún bò Huế, bún chả, etc.).', 'address': '14 Rue Coypel, 75013 Paris'}\n",
      "Restaurant 6 : {'name': 'Chez Papa 13', 'rating': '4,2', 'price': '20–30 €', 'restaurant_type': 'Restaurant de spécialités du sud-ouest de la France', 'description': 'Spécialités basques dans un cadre convivial décoré de mobilier et de murs en bois et de piments suspendus.', 'address': '27 Rue de la Colonie, 75013 Paris'}\n",
      "Restaurant 7 : {'name': \"L'Hommage\", 'rating': '4,8', 'price': '€€', 'restaurant_type': 'Restaurant', 'description': \"Plats créatifs bien présentés, à base d'ingrédients du monde entier, servis dans une salle contemporaine aux murs peints en blanc.\", 'address': '36 Av. de Choisy, 75013 Paris'}\n",
      "Restaurant 8 : {'name': 'Comme à la campagne', 'rating': '4,6', 'price': '€€', 'restaurant_type': 'Restaurant français', 'description': \"Cuisine de saison proposée dans un charmant restaurant à l'atmosphère provinciale doté d'une terrasse en extérieur.\", 'address': \"41 Pl. Jeanne d'Arc, 75013 Paris\"}\n",
      "Restaurant 9 : {'name': 'Au Petit Marguery', 'rating': '4,1', 'price': '€€', 'restaurant_type': 'Restaurant français', 'description': \"Plats classiques dans un cadre 1900 orné de fresques Belle Époque, d'appliques fleuries et de boiseries.\", 'address': '9 Bd de Port-Royal, 75013 Paris'}\n",
      "Restaurant 10 : {'name': 'Chez Trassoudaine', 'rating': '4,8', 'price': '€€€', 'restaurant_type': 'Restaurant français', 'description': 'Mets de poisson en saison et steaks copieux dans un restaurant lumineux, chaleureux et orné de nombreuses plantes.', 'address': '3 Pl. nationale, 75013 Paris'}\n",
      "Restaurant 11 : {'name': 'Simone, Le Resto...', 'rating': '4,8', 'price': '€€', 'restaurant_type': 'Restaurant gastronomique', 'description': 'Plats de brasserie classiques présentés de façon créative et menus dégustation raffinés dans un restaurant élégant avec terrasse.', 'address': '33 Bd Arago, 75013 Paris'}\n",
      "Restaurant 12 : {'name': 'Pho 13', 'rating': '4,1', 'price': '10–20 €', 'restaurant_type': 'Restaurant vietnamien', 'description': 'Rouleaux de printemps vietnamiens classiques, nouilles sautées et currys épicés servis dans un restaurant sobre et moderne.', 'address': \"66-68 Av. d'Ivry, 75013 Paris\"}\n",
      "Restaurant 13 : {'name': 'Milord', 'rating': '4,8', 'price': '€€', 'restaurant_type': 'Restaurant', 'description': 'NaN', 'address': '12 Rue de Tolbiac, 75013 Paris'}\n",
      "Restaurant 14 : {'name': 'Chez Nathalie', 'rating': '4,4', 'price': '30–40 €', 'restaurant_type': 'Restaurant', 'description': 'Plats raffinés de viande et de poisson associés à des vins et servis dans une salle lumineuse ou sur une terrasse côté rue.', 'address': '45 Rue Vandrezanne, 75013 Paris'}\n",
      "Restaurant 15 : {'name': 'Restaurant Lao Lane Xang', 'rating': '4,3', 'price': '20–30 €', 'restaurant_type': 'Restaurant laotien', 'description': 'Nombreux plats laotiens, thaïlandais et vietnamiens faits maison, servis dans une petite salle au cadre cosy.', 'address': \"102 Av. d'Ivry, 75013 Paris\"}\n",
      "Restaurant 16 : {'name': 'Restaurant 13 Sens Lounge', 'rating': '4,8', 'price': '20–30 €', 'restaurant_type': 'Restaurant', 'description': 'NaN', 'address': 'Av. Joseph Bédier, 75013 Paris'}\n",
      "Restaurant 17 : {'name': 'Comme au Vietnam', 'rating': '4,4', 'price': '20–30 €', 'restaurant_type': 'Restaurant vietnamien', 'description': 'Restaurant contemporain orné de photos et de plantes vertes, qui propose des spécialités vietnamiennes.', 'address': '195 Av. de Choisy, 75013 Paris'}\n",
      "Restaurant 18 : {'name': 'Virgule', 'rating': '4,5', 'price': '€€', 'restaurant_type': 'Restaurant français', 'description': 'Ce restaurant de quartier, orné de rideaux à mi-hauteur, prépare une cuisine française traditionnelle.', 'address': '9 Rue Véronèse, 75013 Paris'}\n",
      "Restaurant 19 : {'name': 'Tadam', 'rating': '4,7', 'price': '30–50 €', 'restaurant_type': 'Restaurant français', 'description': \"Restaurant intimiste servant une cuisine française créative à base d'ingrédients de saison et des vins sélectionnés avec soin.\", 'address': '14 Rue du Jura, 75013 Paris'}\n",
      "Restaurant 20 : {'name': 'Au Petit Village', 'rating': '4,7', 'price': '20–30 €', 'restaurant_type': 'Restaurant', 'description': \"Couscous revisité, pâtisseries orientales et thé vert dans un restaurant cosy à l'ambiance décontractée.\", 'address': '6 Rue Coypel, 75013 Paris'}\n",
      "Erreur avec le restaurant 21 : Message: Element <a class=\"hfpxzc\" href=\"https://www.google.fr/maps/place/Chez+Lili+et+Marcel/data=!4m7!3m6!1s0x47e67218fb84c729:0xe30ac5e1456ae90a!8m2!3d48.8376294!4d2.3732385!16s%2Fg%2F1tx46bvf!19sChIJKceE-xhy5kcRCulqReHFCuM?authuser=0&hl=fr&rclk=1\"> is not clickable at point (276,599) because another element <div class=\"L6Bbsd\"> obscures it\n",
      "Stacktrace:\n",
      "RemoteError@chrome://remote/content/shared/RemoteError.sys.mjs:8:8\n",
      "WebDriverError@chrome://remote/content/shared/webdriver/Errors.sys.mjs:193:5\n",
      "ElementClickInterceptedError@chrome://remote/content/shared/webdriver/Errors.sys.mjs:337:5\n",
      "webdriverClickElement@chrome://remote/content/marionette/interaction.sys.mjs:177:11\n",
      "interaction.clickElement@chrome://remote/content/marionette/interaction.sys.mjs:136:11\n",
      "clickElement@chrome://remote/content/marionette/actors/MarionetteCommandsChild.sys.mjs:344:29\n",
      "receiveMessage@chrome://remote/content/marionette/actors/MarionetteCommandsChild.sys.mjs:220:31\n",
      "\n",
      "Données sauvegardées dans restaurants_paris_13eme.csv\n"
     ]
    }
   ],
   "source": [
    "#pour paris 13eme arrondissement:\n",
    "link=\"https://www.google.fr/maps/search/restaurant+paris+13/@48.8573678,2.2731491,7975m/data=!3m2!1e3!4b1?entry=ttu&g_ep=EgoyMDI1MDEwOC4wIKXMDSoASAFQAw%3D%3D\"\n",
    "output_file=\"data_in_progress/restaurants_paris_13eme.csv\"\n",
    "scrape_google_maps(link, n, output_file)"
   ]
  },
  {
   "cell_type": "code",
   "execution_count": 20,
   "metadata": {},
   "outputs": [
    {
     "name": "stdout",
     "output_type": "stream",
     "text": [
      "Élément de scroll trouvé avec succès !\n",
      "Restaurant 1 : {'name': 'Le Jéroboam', 'rating': '4,8', 'price': '€€', 'restaurant_type': 'Restaurant français', 'description': 'Cuisine créative de bistrot français aux influences du monde entier dans une brasserie pittoresque à la décoration colorée.', 'address': '72 Rue Didot, 75014 Paris'}\n",
      "Restaurant 2 : {'name': 'Chez Papa', 'rating': '4,3', 'price': '20–30 €', 'restaurant_type': 'Restaurant français', 'description': \"Spécialités traditionnelles du Sud-Ouest dans une atmosphère populaire, autour de tables en bois d'auberge.\", 'address': '6 Rue Gassendi, 75014 Paris'}\n",
      "Restaurant 3 : {'name': 'Restaurant 14 Juillet', 'rating': '4,5', 'price': '20–30 €', 'restaurant_type': 'Restaurant français', 'description': \"Restaurant cosy proposant des terrines, des profiteroles et d'autres classiques accompagnés d'un large choix de vins.\", 'address': '99 Rue Didot, 75014 Paris'}\n",
      "Restaurant 4 : {'name': 'L’Essentiel - Restaurant Paris 14', 'rating': '4,3', 'price': '20–30 €', 'restaurant_type': 'Bistro', 'description': 'Ce bistrot aux touches industrielles propose plats de saison ou canailles dans un cadre intimiste et animé.', 'address': \"168 Rue d'Alésia, 75014 Paris\"}\n",
      "Restaurant 5 : {'name': 'Buffalo Grill Paris 14', 'rating': '4,1', 'price': '20–30 €', 'restaurant_type': 'Restaurant', 'description': 'Chaîne de restaurants spécialisés en grillades et burgers, au décor de far west et à l’ambiance familiale.', 'address': '117 Av. du Général Leclerc, 75014 Paris'}\n",
      "Restaurant 6 : {'name': 'Le Bistrot des Campagnes', 'rating': '4,4', 'price': '€€', 'restaurant_type': 'Restaurant français', 'description': 'Viandes, plateaux de fromages, menus fixes et carte des vins dans un restaurant lambrissé vintage.', 'address': '6 Rue Léopold Robert, 75014 Paris'}\n",
      "Restaurant 7 : {'name': 'Assanabel Paris - Alésia', 'rating': '4,7', 'price': '€€', 'restaurant_type': 'Restaurant libanais', 'description': 'Élégant restaurant sur deux niveaux proposant mezzés, brochettes grillées et baklavas, avec vins libanais et français.', 'address': \"6 Rue d'Alésia, 75014 Paris\"}\n",
      "Restaurant 8 : {'name': \"L'EMPREINTE\", 'rating': '4,6', 'price': '€€', 'restaurant_type': 'Restaurant français', 'description': 'Plats traditionnels français revisités de façon raffinée et menus fixes servis dans un restaurant élégant et moderne.', 'address': '5 Rue Mouton-Duvernet, 75014 Paris'}\n",
      "Restaurant 9 : {'name': 'restaurant A MI-CHEMIN Paris 14 ème', 'rating': '3,7', 'price': 'NaN', 'restaurant_type': 'Restaurant français', 'description': 'Plats saisonniers de brasserie aux saveurs tunisiennes, ainsi que couscous et grande carte des vins dans un cadre intimiste.', 'address': '31 Rue Boulard, 75014 Paris'}\n",
      "Restaurant 10 : {'name': 'Félicie', 'rating': '4,4', 'price': '20–30 €', 'restaurant_type': 'Bistro', 'description': 'Viandes, tartare, cocktails et brunch le weekend proposés dans une élégante brasserie avec terrasse côté rue.', 'address': '174 Av. du Maine, 75014 Paris'}\n",
      "Restaurant 11 : {'name': 'La Verrière PARIS', 'rating': '4,6', 'price': 'NaN', 'restaurant_type': 'Restaurant français', 'description': \"Restaurant d'hôtel haut de gamme proposant des plats français d'inspiration japonaise et un buffet pour le brunch du dimanche.\", 'address': '4 Rue Niépce, 75014 Paris'}\n",
      "Restaurant 12 : {'name': 'Le Petit Baigneur', 'rating': '4,6', 'price': '20–30 €', 'restaurant_type': 'Restaurant français', 'description': \"Escargots, plats de steak et autres classiques dans une brasserie au charme d'antan, avec des posters vintages et une décoration kitsch.\", 'address': '10 Rue de la Sablière, 75014 Paris'}\n",
      "Restaurant 13 : {'name': \"L'Assiette\", 'rating': '4,6', 'price': '€€', 'restaurant_type': 'Restaurant français', 'description': \"Cuisine du terroir (dont cassoulet, terrines et gibier) servie dans un restaurant doté d'un plafond richement décoré et de miroirs.\", 'address': '181 Rue du Château, 75014 Paris'}\n",
      "Restaurant 14 : {'name': 'Basilic Thaï - Restaurant Paris 14', 'rating': '4,7', 'price': '10–20 €', 'restaurant_type': 'Restaurant thaï', 'description': 'NaN', 'address': '98 Bd du Montparnasse, 75014 Paris'}\n",
      "Restaurant 15 : {'name': 'Le Cornichon - Maison fondée en 2011', 'rating': '4,5', 'price': '€€', 'restaurant_type': 'Restaurant français', 'description': 'Ce bistrot sert dans une salle aux tons sombres rehaussés de peintures colorées des mets raffinés de saison.', 'address': '34 Rue Gassendi, 75014 Paris'}\n",
      "Restaurant 16 : {'name': 'Restaurant La Cantine du Troquet Daguerre', 'rating': '4,5', 'price': '30–40 €', 'restaurant_type': 'Restaurant français', 'description': \"Restaurant de chaîne simple doté d'une terrasse, proposant des plats, des desserts et des vins raffinés.\", 'address': '89 Rue Daguerre, 75014 Paris'}\n",
      "Restaurant 17 : {'name': 'Les Artistes', 'rating': '4,5', 'price': '20–30 €', 'restaurant_type': 'Restaurant français', 'description': 'Restaurant sobre avec terrasse proposant spécialités locales dont poisson, fruits de mer, plats de viande et planches de charcuterie.', 'address': '60 Rue Didot, 75014 Paris'}\n",
      "Restaurant 18 : {'name': 'Le Saut du Crapaud', 'rating': '4,6', 'price': '€€', 'restaurant_type': 'Restaurant français', 'description': 'Plats fusion franco-mexicains aux noms originaux et à la présentation soignée, servis dans une brasserie colorée et cosy.', 'address': '16 Rue des Plantes, 75014 Paris'}\n",
      "Restaurant 19 : {'name': 'Kigawa', 'rating': '4,8', 'price': '+ de 100 €', 'restaurant_type': 'Restaurant français', 'description': 'Spécialités françaises raffinées cuisinées par un chef japonais et servies dans un décor chic, sobre et clair.', 'address': '186 Rue du Château, 75014 Paris'}\n",
      "Restaurant 20 : {'name': 'Aux Plumes', 'rating': '4,7', 'price': 'NaN', 'restaurant_type': 'Restaurant', 'description': 'Restaurant simple et intimiste proposant des menus franco-asiatiques originaux à prix fixe ainsi que des vins bio.', 'address': '45 Rue Boulard, 75014 Paris'}\n",
      "Erreur avec le restaurant 21 : Message: Element <a class=\"hfpxzc\" href=\"https://www.google.fr/maps/place/Galia+par+Maxim+Godigna/data=!4m7!3m6!1s0x47e6704dfaac90f3:0x2f2436b44bced80f!8m2!3d48.8272498!4d2.3146776!16s%2Fg%2F11bwf8tr5w!19sChIJ85Cs-k1w5kcRD9jOS7Q2JC8?authuser=0&hl=fr&rclk=1\"> is not clickable at point (276,598) because another element <div class=\"L6Bbsd\"> obscures it\n",
      "Stacktrace:\n",
      "RemoteError@chrome://remote/content/shared/RemoteError.sys.mjs:8:8\n",
      "WebDriverError@chrome://remote/content/shared/webdriver/Errors.sys.mjs:193:5\n",
      "ElementClickInterceptedError@chrome://remote/content/shared/webdriver/Errors.sys.mjs:337:5\n",
      "webdriverClickElement@chrome://remote/content/marionette/interaction.sys.mjs:177:11\n",
      "interaction.clickElement@chrome://remote/content/marionette/interaction.sys.mjs:136:11\n",
      "clickElement@chrome://remote/content/marionette/actors/MarionetteCommandsChild.sys.mjs:344:29\n",
      "receiveMessage@chrome://remote/content/marionette/actors/MarionetteCommandsChild.sys.mjs:220:31\n",
      "\n",
      "Données sauvegardées dans restaurants_paris_14eme.csv\n"
     ]
    }
   ],
   "source": [
    "#pour paris 14eme arrondissement:\n",
    "link=\"https://www.google.fr/maps/search/restaurant+paris+14/@48.8329671,2.3124079,1995m/data=!3m2!1e3!4b1?entry=ttu&g_ep=EgoyMDI1MDEwOC4wIKXMDSoASAFQAw%3D%3D\"\n",
    "output_file=\"data_in_progress/restaurants_paris_14eme.csv\"\n",
    "scrape_google_maps(link, n, output_file)"
   ]
  },
  {
   "cell_type": "code",
   "execution_count": 21,
   "metadata": {},
   "outputs": [
    {
     "name": "stdout",
     "output_type": "stream",
     "text": [
      "Élément de scroll trouvé avec succès !\n",
      "Restaurant 1 : {'name': '750g la table I Porte de Versailles', 'rating': '4,6', 'price': '20–30 €', 'restaurant_type': 'Restaurant français', 'description': \"Brasserie animée servant des plats et des vins français. Les portes en accordéon s'ouvrent pour laisser entrer l'extérieur.\", 'address': '397 Rue de Vaugirard, 75015 Paris'}\n",
      "Restaurant 2 : {'name': 'Le Relais du 15ème', 'rating': '4,7', 'price': '20–30 €', 'restaurant_type': 'Restaurant italien', 'description': 'NaN', 'address': '78 Av. Emile Zola, 75015 Paris'}\n",
      "Restaurant 3 : {'name': \"L'Antre Amis\", 'rating': '4,6', 'price': '€€', 'restaurant_type': 'Restaurant français', 'description': 'Tapas raffinées, menus fixes et large choix de vins proposés dans un restaurant élégant doté de tables en extérieur.', 'address': '9 Rue Bouchut, 75015 Paris'}\n",
      "Restaurant 4 : {'name': \"L'Antre Amis\", 'rating': '4,6', 'price': '€€', 'restaurant_type': 'Restaurant français', 'description': 'Tapas raffinées, menus fixes et large choix de vins proposés dans un restaurant élégant doté de tables en extérieur.', 'address': '9 Rue Bouchut, 75015 Paris'}\n",
      "Restaurant 5 : {'name': \"L'Ardoise du XV\", 'rating': '4,4', 'price': '40–50 €', 'restaurant_type': 'Restaurant français', 'description': 'Menus fixes composés de plats français revisités de façon créative dans un espace élégant et minimaliste inspiré des années 1960.', 'address': '70 Rue Sébastien Mercier, 75015 Paris'}\n",
      "Restaurant 6 : {'name': \"Harper's Paris 15\", 'rating': '4,8', 'price': '20–30 €', 'restaurant_type': 'Restaurant français', 'description': 'NaN', 'address': '46 Bis Bd du Montparnasse, 75015 Paris'}\n",
      "Restaurant 7 : {'name': 'Le CasseNoix', 'rating': '4,7', 'price': '€€', 'restaurant_type': 'Restaurant français', 'description': 'Menu renouvelé de plats de style brasserie française et de vins dans un cadre rétro pittoresque avec terrasse côté rue.', 'address': '56 Rue de la Fédération, 75015 Paris'}\n",
      "Restaurant 8 : {'name': 'Bistrot Chic', 'rating': '4,6', 'price': '€€€', 'restaurant_type': 'Restaurant', 'description': 'Plats français, dont produits de la mer, dans un lieu moderne aux teintes douces évoquant la nature et la mer.', 'address': '54 Av. Félix Faure, 75015 Paris'}\n",
      "Restaurant 9 : {'name': 'La Véraison', 'rating': '4,8', 'price': '€€', 'restaurant_type': 'Restaurant français', 'description': 'Plats français créatifs à base de viande, poisson et légumes dans un cadre coloré de style décontracté.', 'address': '64 Rue de la Croix Nivert, 75015 Paris'}\n",
      "Restaurant 10 : {'name': \"L'Armandie - Restaurant Fruits de Mer Paris 15\", 'rating': '3,8', 'price': '€€', 'restaurant_type': 'Restaurant de fruits de mer', 'description': \"Inauguré en 1932, cet élégant restaurant doté d'une terrasse est réputé pour ses plats de poissons et de fruits de mer raffinés.\", 'address': '2 bis Rue Pétel, 75015 Paris'}\n",
      "Restaurant 11 : {'name': 'Joya', 'rating': '4,7', 'price': '20–30 €', 'restaurant_type': 'Restaurant italien', 'description': 'NaN', 'address': '47 Rue St Charles, 75015 Paris'}\n",
      "Restaurant 12 : {'name': 'Le Bélisaire', 'rating': '4,7', 'price': '€€', 'restaurant_type': 'Restaurant français', 'description': \"Plats préparés avec les produits de saison du marché, proposés dans un restaurant au charme d'antan.\", 'address': '2 Rue Marmontel, 75015 Paris'}\n",
      "Restaurant 13 : {'name': 'La Petite Auberge', 'rating': '4,6', 'price': 'NaN', 'restaurant_type': 'Restaurant', 'description': 'Restaurant traditionnel français sobre et chaleureux, ex-QG des joueurs du Racing Club de France de Rugby.', 'address': '13 Rue du Hameau, 75015 Paris'}\n",
      "Restaurant 14 : {'name': 'PAVILLON Paris 15', 'rating': '4,4', 'price': '20–30 €', 'restaurant_type': 'Restaurant français', 'description': 'NaN', 'address': '53B Av. de la Motte-Picquet, 75015 Paris'}\n",
      "Restaurant 15 : {'name': \"Neige d'été\", 'rating': '4,6', 'price': '+ de 100 €', 'restaurant_type': 'Restaurant français', 'description': 'Menus dégustation composés de plats axés sur les produits de la mer élégamment présentés, servis dans une salle à manger sobre chic.', 'address': \"12 Rue de l'Amiral Roussin, 75015 Paris\"}\n",
      "Restaurant 16 : {'name': 'AlKaram Paris 75015', 'rating': '4,8', 'price': '30–40 €', 'restaurant_type': 'Restaurant libanais', 'description': 'Doté de panneaux de bois et décoré de tableaux, ce restaurant élégant propose des spécialités libanaises.', 'address': '15 Rue Ferdinand Fabre, 75015 Paris'}\n",
      "Restaurant 17 : {'name': 'Restaurant Pilgrim.', 'rating': '4,6', 'price': '+ de 100 €', 'restaurant_type': 'Restaurant français', 'description': 'Restaurant gastronomique proposant des menus dégustation créatifs ainsi que des accords mets et vins dans un cadre épuré.', 'address': '8 Rue Nicolas Charlet, 75015 Paris'}\n",
      "Restaurant 18 : {'name': \"L'Insoumise\", 'rating': '4,7', 'price': '€€', 'restaurant_type': 'Restaurant français', 'description': \"Restaurant à l'élégante devanture, pour une cuisine traditionnelle maison servie dans un décor épuré.\", 'address': '15 Rue Auguste Chabrières, 75015 Paris'}\n",
      "Restaurant 19 : {'name': 'De La Tour', 'rating': '4,8', 'price': 'NaN', 'restaurant_type': 'Restaurant', 'description': 'Cuisine française classique et vins proposés dans une brasserie de famille populaire dotée de parquet et de nappes blanches.', 'address': '6 Rue Desaix, 75015 Paris'}\n",
      "Restaurant 20 : {'name': \"L'Inattendu\", 'rating': '4,5', 'price': '50–60 €', 'restaurant_type': 'Restaurant gastronomique', 'description': 'Plats français réinventés et large choix de vins proposés dans un restaurant élégant et sobre.', 'address': '99 Rue Blomet, 75015 Paris'}\n",
      "Erreur avec le restaurant 21 : Message: Element <a class=\"hfpxzc\" href=\"https://www.google.fr/maps/place/Le+Beurre+Noisette/data=!4m7!3m6!1s0x47e67072eeab96df:0x1be063e687896f47!8m2!3d48.835621!4d2.2847406!16s%2Fg%2F1tdzkwmh!19sChIJ35ar7nJw5kcRR2-Jh-Zj4Bs?authuser=0&hl=fr&rclk=1\"> is not clickable at point (276,599) because another element <div class=\"L6Bbsd\"> obscures it\n",
      "Stacktrace:\n",
      "RemoteError@chrome://remote/content/shared/RemoteError.sys.mjs:8:8\n",
      "WebDriverError@chrome://remote/content/shared/webdriver/Errors.sys.mjs:193:5\n",
      "ElementClickInterceptedError@chrome://remote/content/shared/webdriver/Errors.sys.mjs:337:5\n",
      "webdriverClickElement@chrome://remote/content/marionette/interaction.sys.mjs:177:11\n",
      "interaction.clickElement@chrome://remote/content/marionette/interaction.sys.mjs:136:11\n",
      "clickElement@chrome://remote/content/marionette/actors/MarionetteCommandsChild.sys.mjs:344:29\n",
      "receiveMessage@chrome://remote/content/marionette/actors/MarionetteCommandsChild.sys.mjs:220:31\n",
      "\n",
      "Données sauvegardées dans restaurants_paris_15eme.csv\n"
     ]
    }
   ],
   "source": [
    "#pour paris 15eme arrondissement:\n",
    "link=\"https://www.google.fr/maps/search/restaurant+paris+15/@48.8330299,2.2815079,7979m/data=!3m2!1e3!4b1?entry=ttu&g_ep=EgoyMDI1MDEwOC4wIKXMDSoASAFQAw%3D%3D\"\n",
    "output_file=\"data_in_progress/restaurants_paris_15eme.csv\"\n",
    "scrape_google_maps(link, n, output_file)"
   ]
  },
  {
   "cell_type": "code",
   "execution_count": 22,
   "metadata": {},
   "outputs": [
    {
     "name": "stdout",
     "output_type": "stream",
     "text": [
      "Élément de scroll trouvé avec succès !\n",
      "Restaurant 1 : {'name': 'Restaurant Étude Paris 16', 'rating': '4,6', 'price': '+ de 100 €', 'restaurant_type': 'Restaurant', 'description': \"Restaurant gastronomique à l'approvisionnement responsable proposant des plats français contemporains et végans pour certains.\", 'address': '14 Rue du Bouquet de Longchamp, 75116 Paris'}\n",
      "Restaurant 2 : {'name': 'Le Bois', 'rating': '4,3', 'price': '20–40 €', 'restaurant_type': 'Restaurant français', 'description': 'Adaptée aux familles, cette brasserie branchée avec une terrasse est prisée pour sa salade César, ses burgers et sa crème caramel.', 'address': '29 Rue Bois le Vent, 75016 Paris'}\n",
      "Restaurant 3 : {'name': 'Le Paris Seize', 'rating': '4,6', 'price': '€€', 'restaurant_type': 'Restaurant', 'description': \"Dans un cadre décontracté et familial, restaurant à l'ambiance de bistrot italien pour des plats typiques.\", 'address': '18 Rue des Belles Feuilles, 75116 Paris'}\n",
      "Restaurant 4 : {'name': 'XVIe Avenue', 'rating': '3,8', 'price': '20–30 €', 'restaurant_type': 'Restaurant français', 'description': \"Brasserie rétro élégante dotée d'une terrasse, servant des steaks, des escargots et d'autres classiques.\", 'address': '45 Av. Raymond Poincaré, 75016 Paris'}\n",
      "Restaurant 5 : {'name': 'Restaurant Marcel 16', 'rating': '4,4', 'price': '20–30 €', 'restaurant_type': 'Restaurant', 'description': 'Petit restaurant doté de murs en pierres apparentes et de banquettes colorées servant des saveurs américaines.', 'address': '15 Rue Mesnil, 75116 Paris'}\n",
      "Restaurant 6 : {'name': 'Bon', 'rating': '4,2', 'price': '€€€', 'restaurant_type': 'Restaurant', 'description': 'Restaurant chic proposant une cuisine fusion franco-asiatique et des desserts dans un espace clair doté de plafonds voûtés.', 'address': '25 Rue de la Pompe, 75116 Paris'}\n",
      "Restaurant 7 : {'name': 'Substance', 'rating': '4,5', 'price': '+ de 100 €', 'restaurant_type': 'Restaurant gastronomique', 'description': 'Cuisine novatrice proposant des accords savoureux de mets et vins dans un cadre contemporain.', 'address': '18 Rue de Chaillot, 75116 Paris'}\n",
      "Restaurant 8 : {'name': 'CHEZ TONY bistrot français PARIS 16 La Muette', 'rating': '4,6', 'price': '30–40 €', 'restaurant_type': 'Restaurant français', 'description': 'NaN', 'address': '34 Rue Bois le Vent, 75016 Paris'}\n",
      "Restaurant 9 : {'name': 'Restaurant 16 avenue', 'rating': '2,3', 'price': 'NaN', 'restaurant_type': 'Restaurant français', 'description': 'NaN', 'address': 'Rue Saint-Didier, 75116 Paris'}\n",
      "Restaurant 10 : {'name': 'SOGNO PARIS', 'rating': '4,8', 'price': 'NaN', 'restaurant_type': 'Restaurant italien', 'description': 'NaN', 'address': \"42 Rue de l'Amiral Hamelin, 75016 Paris\"}\n",
      "Restaurant 11 : {'name': 'DAROCO 16', 'rating': '4,2', 'price': '€€€', 'restaurant_type': 'Restaurant italien', 'description': 'Restaurant élégant servant des plats italiens classiques (pâtes, risotto, pizzas cuites au feu de bois, etc.).', 'address': '3 Pl. Clément Ader, 75016 Paris'}\n",
      "Restaurant 12 : {'name': 'LA TERRASSE', 'rating': '4,4', 'price': '10–20 €', 'restaurant_type': 'Restaurant italien', 'description': \"Brasserie à l'ambiance bohème avec terrasse, proposant tapas et plats italiens classiques, ainsi qu'un large choix de boissons.\", 'address': '5 Pl. de Barcelone, 75016 Paris'}\n",
      "Restaurant 13 : {'name': 'Numéro 41', 'rating': '4,4', 'price': '20–40 €', 'restaurant_type': 'Restaurant', 'description': 'Cadre chaleureux avec carrelage ancien pour ce restaurant servant une cuisine française traditionnelle.', 'address': '41 Av. Mozart, 75016 Paris'}\n",
      "Restaurant 14 : {'name': 'Les Filaos – Restaurant Réunionnais & Mauricien - Paris 16', 'rating': '4,3', 'price': '€€', 'restaurant_type': 'Restaurant créole', 'description': \"Dans une salle sobre et élégante, une cuisine familiale de l'Île Maurice alliant exotisme et modernité.\", 'address': '5 Rue Guy de Maupassant, 75116 Paris'}\n",
      "Restaurant 15 : {'name': 'Tse Yang - Restaurant Gastronomique Chinois Paris 16', 'rating': '4,0', 'price': 'NaN', 'restaurant_type': 'Restaurant chinois', 'description': \"Mets chinois raffinés servis dans un décor contemporain et distingué en noir et blanc, à l'éclairage tamisé.\", 'address': '25 Av. Pierre 1er de Serbie, 75116 Paris'}\n",
      "Restaurant 16 : {'name': 'Le Petit Rétro', 'rating': '4,4', 'price': '€€€', 'restaurant_type': 'Bistro', 'description': \"Restaurant décoré dans un style Art nouveau avec de la faïence d'époque et qui sert des plats traditionnels.\", 'address': '5 Rue Mesnil, 75116 Paris'}\n",
      "Restaurant 17 : {'name': 'NaN', 'rating': 'NaN', 'price': 'NaN', 'restaurant_type': 'NaN', 'description': 'NaN', 'address': 'NaN'}\n",
      "Restaurant 18 : {'name': 'Le Relais du Bois', 'rating': '4,6', 'price': '30–40 €', 'restaurant_type': 'Restaurant français', 'description': 'Somptueux restaurant établi de longue date, proposant des plats traditionnels comme des moules et une tarte Tatin maison.', 'address': '1 Rue Guy de Maupassant, 75116 Paris'}\n",
      "Restaurant 19 : {'name': 'Chez les frisheurs', 'rating': '4,3', 'price': '20–30 €', 'restaurant_type': 'Restaurant français', 'description': 'NaN', 'address': '22 Rue de Bassano, 75116 Paris'}\n",
      "Restaurant 20 : {'name': 'Restaurant Alan Geaam', 'rating': '4,8', 'price': '+ de 100 €', 'restaurant_type': 'Restaurant gastronomique', 'description': 'Restaurant simple et élégant proposant une cuisine française créative aux influences libanaises ainsi que des accords mets et vins.', 'address': '19 Rue Lauriston, 75016 Paris'}\n",
      "Erreur avec le restaurant 21 : Message: Element <a class=\"hfpxzc\" href=\"https://www.google.fr/maps/place/Le+Bistrot+des+Vignes/data=!4m7!3m6!1s0x47e670003510eea1:0xac609e7b6a45f143!8m2!3d48.8565452!4d2.2798381!16s%2Fg%2F1tf30q5v!19sChIJoe4QNQBw5kcRQ_FFanueYKw?authuser=0&hl=fr&rclk=1\"> is not clickable at point (276,599) because another element <div class=\"L6Bbsd\"> obscures it\n",
      "Stacktrace:\n",
      "RemoteError@chrome://remote/content/shared/RemoteError.sys.mjs:8:8\n",
      "WebDriverError@chrome://remote/content/shared/webdriver/Errors.sys.mjs:193:5\n",
      "ElementClickInterceptedError@chrome://remote/content/shared/webdriver/Errors.sys.mjs:337:5\n",
      "webdriverClickElement@chrome://remote/content/marionette/interaction.sys.mjs:177:11\n",
      "interaction.clickElement@chrome://remote/content/marionette/interaction.sys.mjs:136:11\n",
      "clickElement@chrome://remote/content/marionette/actors/MarionetteCommandsChild.sys.mjs:344:29\n",
      "receiveMessage@chrome://remote/content/marionette/actors/MarionetteCommandsChild.sys.mjs:220:31\n",
      "\n",
      "Données sauvegardées dans restaurants_paris_16eme.csv\n"
     ]
    }
   ],
   "source": [
    "#pour paris 16eme arrondissement:\n",
    "link=\"https://www.google.fr/maps/search/restaurant+paris+16/@48.8331282,2.2815079,7979m/data=!3m2!1e3!4b1?entry=ttu&g_ep=EgoyMDI1MDEwOC4wIKXMDSoASAFQAw%3D%3D\"\n",
    "output_file=\"data_in_progress/restaurants_paris_16eme.csv\"\n",
    "scrape_google_maps(link, n, output_file)"
   ]
  },
  {
   "cell_type": "code",
   "execution_count": 23,
   "metadata": {},
   "outputs": [
    {
     "name": "stdout",
     "output_type": "stream",
     "text": [
      "Élément de scroll trouvé avec succès !\n",
      "Restaurant 1 : {'name': 'Le Paris 17', 'rating': '4,7', 'price': '€€', 'restaurant_type': 'Restaurant français', 'description': \"Plats français traditionnels dans une brasserie cosy au charme d'antan décorée d'affiches vintage.\", 'address': '41 Rue Guersant, 75017 Paris'}\n",
      "Restaurant 2 : {'name': 'Le Paris 17', 'rating': '4,7', 'price': '€€', 'restaurant_type': 'Restaurant français', 'description': \"Plats français traditionnels dans une brasserie cosy au charme d'antan décorée d'affiches vintage.\", 'address': '41 Rue Guersant, 75017 Paris'}\n",
      "Restaurant 3 : {'name': 'Les Demoiselles Restaurant Paris 17', 'rating': '4,5', 'price': '€€', 'restaurant_type': 'Restaurant français', 'description': \"Dotée d'une terrasse, cette brasserie de style années 1950 à l'ambiance rétro sert des plats français toute la journée.\", 'address': '23 Rue Léon Jost, 75017 Paris'}\n",
      "Restaurant 4 : {'name': 'Restaurant La Table du Caviste bio Paris 17', 'rating': '4,7', 'price': 'NaN', 'restaurant_type': 'Restaurant', 'description': 'NaN', 'address': '55 Rue de Prony, 75017 Paris'}\n",
      "Restaurant 5 : {'name': \"Le P'tit Bougnat\", 'rating': '4,3', 'price': '€€', 'restaurant_type': 'Restaurant français', 'description': 'Restaurant cosy et original proposant cuisine française typique, plats à base de viande et vin.', 'address': '118 Bd de Courcelles, 75017 Paris'}\n",
      "Restaurant 6 : {'name': \"Le P'tit Bougnat\", 'rating': '4,3', 'price': '€€', 'restaurant_type': 'Restaurant français', 'description': 'Restaurant cosy et original proposant cuisine française typique, plats à base de viande et vin.', 'address': '118 Bd de Courcelles, 75017 Paris'}\n",
      "Restaurant 7 : {'name': 'Break | Restaurant Paris 17 | Terrasse | Brunch Paris', 'rating': '4,4', 'price': '20–30 €', 'restaurant_type': 'Restaurant', 'description': 'NaN', 'address': '119 Bd Pereire, 75017 Paris'}\n",
      "Restaurant 8 : {'name': 'Madame FAN', 'rating': '4,6', 'price': '€€', 'restaurant_type': 'Restaurant chinois', 'description': 'Mets fusion franco-asiatiques raffinés et saké dans un restaurant tendance aux murs ornés de fresques colorées.', 'address': '18 Rue Bayen, 75017 Paris'}\n",
      "Restaurant 9 : {'name': 'Chez Gabrielle', 'rating': '4,7', 'price': '€€', 'restaurant_type': 'Restaurant français', 'description': \"Foie gras, tartares, moules, steaks et large choix de vins proposés dans un restaurant chic doté d'une terrasse.\", 'address': \"7 Rue de l'Étoile, 75017 Paris\"}\n",
      "Restaurant 10 : {'name': 'Le Général', 'rating': '4,0', 'price': '€€€', 'restaurant_type': 'Restaurant', 'description': \"Café-brasserie élégant à proximité de l'Arc de triomphe avec terrasse prisée pour prendre le petit-déjeuner ou un dîner tardif.\", 'address': '17 Av. de Wagram, 75017 Paris'}\n",
      "Restaurant 11 : {'name': 'Au Petit Paris', 'rating': '4,7', 'price': '40–50 €', 'restaurant_type': 'Restaurant croate', 'description': 'NaN', 'address': '32 Rue Rennequin, 75017 Paris'}\n",
      "Restaurant 12 : {'name': 'Le Diplomate Paris 17', 'rating': '4,4', 'price': '€€', 'restaurant_type': 'Restaurant', 'description': 'Brasserie contemporaine, chic et colorée avec terrasse proposant des plats du terroir aux accents auvergnats.', 'address': '110 Bd de Courcelles, 75017 Paris'}\n",
      "Restaurant 13 : {'name': \"Le Bistrot d'Yves\", 'rating': '4,7', 'price': '30–40 €', 'restaurant_type': 'Restaurant', 'description': 'Interprétations modernes de plats de foie gras et de steaks tartares classiques. Restaurant populaire à la décoration simple.', 'address': '33 Rue Cardinet, 75017 Paris'}\n",
      "Restaurant 14 : {'name': 'Champotes', 'rating': '4,9', 'price': 'NaN', 'restaurant_type': 'Restaurant', 'description': 'NaN', 'address': '3 Vla Berthier, 75017 Paris'}\n",
      "Restaurant 15 : {'name': 'Vive Restaurant', 'rating': '4,4', 'price': '+ de 100 €', 'restaurant_type': 'Restaurant de poisson', 'description': 'NaN', 'address': '62 Av. des Ternes, 75017 Paris'}\n",
      "Erreur avec le restaurant 16 : Message: Element <a class=\"hfpxzc\" href=\"https://www.google.fr/maps/place/RESTAURANT+LE+CARDINET/data=!4m7!3m6!1s0x47e66faa09c8a725:0x628c412009ce4ce7!8m2!3d48.8846761!4d2.3098368!16s%2Fg%2F11ty4g9t7l!19sChIJJafICapv5kcR50zOCSBBjGI?authuser=0&hl=fr&rclk=1\"> is not clickable at point (276,598) because another element <div class=\"L6Bbsd\"> obscures it\n",
      "Stacktrace:\n",
      "RemoteError@chrome://remote/content/shared/RemoteError.sys.mjs:8:8\n",
      "WebDriverError@chrome://remote/content/shared/webdriver/Errors.sys.mjs:193:5\n",
      "ElementClickInterceptedError@chrome://remote/content/shared/webdriver/Errors.sys.mjs:337:5\n",
      "webdriverClickElement@chrome://remote/content/marionette/interaction.sys.mjs:177:11\n",
      "interaction.clickElement@chrome://remote/content/marionette/interaction.sys.mjs:136:11\n",
      "clickElement@chrome://remote/content/marionette/actors/MarionetteCommandsChild.sys.mjs:344:29\n",
      "receiveMessage@chrome://remote/content/marionette/actors/MarionetteCommandsChild.sys.mjs:220:31\n",
      "\n",
      "Données sauvegardées dans restaurants_paris_17eme.csv\n"
     ]
    }
   ],
   "source": [
    "#pour paris 17eme arrondissement:\n",
    "link=\"https://www.google.fr/maps/search/restaurant+paris+17/@48.8806927,2.2874628,1993m/data=!3m2!1e3!4b1?entry=ttu&g_ep=EgoyMDI1MDEwOC4wIKXMDSoASAFQAw%3D%3D\"\n",
    "output_file=\"data_in_progress/restaurants_paris_17eme.csv\"\n",
    "scrape_google_maps(link, n, output_file)"
   ]
  },
  {
   "cell_type": "code",
   "execution_count": 24,
   "metadata": {},
   "outputs": [
    {
     "name": "stdout",
     "output_type": "stream",
     "text": [
      "Élément de scroll trouvé avec succès !\n",
      "Restaurant 1 : {'name': 'Le Relais Gascon montmartre paris18e', 'rating': '4,3', 'price': '20–30 €', 'restaurant_type': 'Restaurant français', 'description': \"Restaurant traditionnel doté d'une terrasse, servant des plats maison du Sud-Ouest de la France.\", 'address': '13 Rue Joseph de Maistre, 75018 Paris'}\n",
      "Restaurant 2 : {'name': 'Au Clair de la Lune', 'rating': '4,2', 'price': '20–30 €', 'restaurant_type': 'Restaurant', 'description': \"Restaurant pittoresque et original avec terrasse, servant des plats de brasserie tels que soupe à l'oignon et magret de canard.\", 'address': '9 Rue Poulbot, 75018 Paris'}\n",
      "Restaurant 3 : {'name': 'Chez Plumeau', 'rating': '4,1', 'price': '€€', 'restaurant_type': 'Restaurant', 'description': \"Plats traditionnels comme escargots, soupe à l'oignon et grillades de viande servis sur une terrasse verdoyante ou dans des salles à manger cosy.\", 'address': '4 Pl. du Calvaire, 75018 Paris'}\n",
      "Restaurant 4 : {'name': 'Au Clair de la Lune', 'rating': '4,2', 'price': '20–30 €', 'restaurant_type': 'Restaurant', 'description': \"Restaurant pittoresque et original avec terrasse, servant des plats de brasserie tels que soupe à l'oignon et magret de canard.\", 'address': '9 Rue Poulbot, 75018 Paris'}\n",
      "Restaurant 5 : {'name': 'Le Gabin', 'rating': '4,2', 'price': '20–30 €', 'restaurant_type': 'Restaurant français', 'description': 'NaN', 'address': '25 Rue Lambert, 75018 Paris'}\n",
      "Restaurant 6 : {'name': 'Le 975 - Restaurant Paris 18', 'rating': '4,8', 'price': '20–30 €', 'restaurant_type': 'Restaurant français', 'description': 'Petite brasserie sobre à la façade vitrée proposant menus de dégustation avec plats internationaux créatifs.', 'address': '185 Rue Marcadet, 75018 Paris'}\n",
      "Restaurant 7 : {'name': 'Chez Rita et Claudio', 'rating': '4,7', 'price': '10–20 €', 'restaurant_type': 'Restaurant italien', 'description': \"Restaurant italien rustique doté d'une terrasse, proposant des pizzas, des pâtes, des sandwichs, des desserts et du vin.\", 'address': '70 Rue du Mont-Cenis, 75018 Paris'}\n",
      "Restaurant 8 : {'name': 'Mamie Colette', 'rating': '4,7', 'price': '20–30 €', 'restaurant_type': 'Restaurant français', 'description': 'NaN', 'address': '17 Rue des Trois Frères, 75018 Paris'}\n",
      "Restaurant 9 : {'name': \"Bistro L'Olivier\", 'rating': '4,8', 'price': '30–40 €', 'restaurant_type': 'Restaurant', 'description': \"Plats traditionnels copieux, desserts et vins proposés dans un restaurant au mobilier chaleureux doté d'une terrasse.\", 'address': '88 Rue Ordener, 75018 Paris'}\n",
      "Restaurant 10 : {'name': 'Le Petit Moulin', 'rating': '4,6', 'price': '20–30 €', 'restaurant_type': 'Restaurant français', 'description': 'Restaurant intimiste de style décontracté proposant des plateaux de charcuterie et de fromage, ainsi que des desserts et du vin.', 'address': '17 Rue Tholozé, 75018 Paris'}\n",
      "Restaurant 11 : {'name': 'Chez Zena', 'rating': '4,6', 'price': '10–20 €', 'restaurant_type': 'Restaurant', 'description': 'NaN', 'address': '1 Rue Dancourt, 75018 Paris'}\n",
      "Restaurant 12 : {'name': 'Aux Dés Calés 18 - Moreau', 'rating': '4,6', 'price': '20–30 €', 'restaurant_type': 'Restaurant', 'description': 'NaN', 'address': '11 Rue Hégésippe-Moreau, 75018 Paris'}\n",
      "Restaurant 13 : {'name': 'Bel-Ami', 'rating': '4,1', 'price': '€€', 'restaurant_type': 'Restaurant californien', 'description': 'NaN', 'address': '128 Bd de Clichy, 75018 Paris'}\n",
      "Restaurant 14 : {'name': 'Le Grand Phénicien', 'rating': '4,4', 'price': '20–30 €', 'restaurant_type': 'Restaurant libanais', 'description': 'NaN', 'address': '4 Rue Caulaincourt, 75018 Paris'}\n",
      "Restaurant 15 : {'name': 'Creme Restaurant', 'rating': '4,9', 'price': 'NaN', 'restaurant_type': 'Restaurant français', 'description': 'NaN', 'address': '18 Rue Eugène Sue, 75018 Paris'}\n",
      "Restaurant 16 : {'name': 'La Couvée Montmartre', 'rating': '4,8', 'price': 'NaN', 'restaurant_type': 'Restaurant français', 'description': 'NaN', 'address': '32 Rue Véron, 75018 Paris'}\n",
      "Restaurant 17 : {'name': 'Cocotte et Tire-Bouchon', 'rating': '4,9', 'price': '30–40 €', 'restaurant_type': 'Restaurant', 'description': 'NaN', 'address': '184 Rue Marcadet, 75018 Paris'}\n",
      "Restaurant 18 : {'name': 'Les Inséparables', 'rating': '4,8', 'price': '20–30 €', 'restaurant_type': 'Restaurant', 'description': 'NaN', 'address': '12 Rue Francœur, 75018 Paris'}\n",
      "Restaurant 19 : {'name': 'Restaurant Les Carrières', 'rating': '4,6', 'price': '20–30 €', 'restaurant_type': 'Restaurant français', 'description': 'Bistro à l’air décontracté qui sert des plats classiques accompagnés par des vins de petits producteurs.', 'address': '14 Rue Simart, 75018 Paris'}\n",
      "Restaurant 20 : {'name': 'Au Relais', 'rating': '4,5', 'price': '20–30 €', 'restaurant_type': 'Restaurant français', 'description': \"Bistrot au cadre artistique doté d'une terrasse et proposant des plats traditionnels, des burgers et des steaks.\", 'address': '48 Rue Lamarck, 75018 Paris'}\n",
      "Erreur avec le restaurant 21 : Message: Element <a class=\"hfpxzc\" href=\"https://www.google.fr/maps/place/L%27Atelier+Ramey/data=!4m7!3m6!1s0x47e66e5d634f2789:0x4e3a7634372be6cb!8m2!3d48.8882962!4d2.3467252!16s%2Fg%2F12lsmy59p!19sChIJiSdPY11u5kcRy-YrNzR2Ok4?authuser=0&hl=fr&rclk=1\"> is not clickable at point (276,599) because another element <div class=\"L6Bbsd\"> obscures it\n",
      "Stacktrace:\n",
      "RemoteError@chrome://remote/content/shared/RemoteError.sys.mjs:8:8\n",
      "WebDriverError@chrome://remote/content/shared/webdriver/Errors.sys.mjs:193:5\n",
      "ElementClickInterceptedError@chrome://remote/content/shared/webdriver/Errors.sys.mjs:337:5\n",
      "webdriverClickElement@chrome://remote/content/marionette/interaction.sys.mjs:177:11\n",
      "interaction.clickElement@chrome://remote/content/marionette/interaction.sys.mjs:136:11\n",
      "clickElement@chrome://remote/content/marionette/actors/MarionetteCommandsChild.sys.mjs:344:29\n",
      "receiveMessage@chrome://remote/content/marionette/actors/MarionetteCommandsChild.sys.mjs:220:31\n",
      "\n",
      "Données sauvegardées dans restaurants_paris_18eme.csv\n"
     ]
    }
   ],
   "source": [
    "#pour paris 18eme arrondissement:\n",
    "link=\"https://www.google.fr/maps/search/restaurant+paris+18/@48.8807555,2.2565628,7971m/data=!3m2!1e3!4b1?entry=ttu&g_ep=EgoyMDI1MDEwOC4wIKXMDSoASAFQAw%3D%3D\"\n",
    "output_file=\"data_in_progress/restaurants_paris_18eme.csv\"\n",
    "scrape_google_maps(link, n, output_file)"
   ]
  },
  {
   "cell_type": "code",
   "execution_count": 25,
   "metadata": {},
   "outputs": [
    {
     "name": "stdout",
     "output_type": "stream",
     "text": [
      "Élément de scroll trouvé avec succès !\n",
      "Restaurant 1 : {'name': '19 darù', 'rating': '4,0', 'price': '30–40 €', 'restaurant_type': 'Restaurant italien', 'description': 'Restaurant intime, décorée de toiles vives par la propriétaire, qui propose des plats italiens traditionnels.', 'address': '19 Rue Daru, 75008 Paris'}\n",
      "Restaurant 2 : {'name': 'Trois B', 'rating': '4,7', 'price': 'NaN', 'restaurant_type': 'Restaurant', 'description': \"Bistrot à l'ambiance détendue servant des plats du jour, vins bio et bières locales dans une salle chaleureuse et lumineuse.\", 'address': '48 Av. Jean Jaurès, 75019 Paris'}\n",
      "Restaurant 3 : {'name': 'Mensae', 'rating': '4,5', 'price': '€€', 'restaurant_type': 'Restaurant', 'description': 'Restaurant chic avec des spécialités françaises raffinées, des assiettes à partager et du vin dans un cadre moderne et minimaliste.', 'address': '23 Rue Melingue, 75019 Paris'}\n",
      "Restaurant 4 : {'name': 'SYMPHONY | Restaurant Italien | Restaurant Villette | Restaurant Paris 19', 'rating': '4,6', 'price': '20–30 €', 'restaurant_type': 'Restaurant italien', 'description': 'NaN', 'address': '25 Sente des Dorées, 75019 Paris'}\n",
      "Restaurant 5 : {'name': 'Au Comptoir Du Temps café', 'rating': '4,6', 'price': '20–30 €', 'restaurant_type': 'Restaurant', 'description': 'NaN', 'address': '35 Av. Corentin Cariou, 75019 Paris'}\n",
      "Restaurant 6 : {'name': 'Le passage à niveau', 'rating': '4,4', 'price': '20–30 €', 'restaurant_type': 'Restaurant', 'description': \"Plats et petites portions de saison servis dans un restaurant lumineux doté d'une terrasse et de potagers.\", 'address': \"2A Rue de l'Ourcq, 75019 Paris\"}\n",
      "Restaurant 7 : {'name': 'Simonetta', 'rating': '4,5', 'price': '20–30 €', 'restaurant_type': 'Restaurant italien', 'description': 'Plats italiens classiques comme les pâtes et les pizzas, servis dans une salle à manger élégante décorée de plantes suspendues.', 'address': '32 Quai de la Marne, 75019 Paris'}\n",
      "Restaurant 8 : {'name': 'Chez Arnaud', 'rating': '4,4', 'price': '20–30 €', 'restaurant_type': 'Restaurant', 'description': 'NaN', 'address': '16 Rue Eugène Jumin, 75019 Paris'}\n",
      "Restaurant 9 : {'name': 'Chez JJ', 'rating': '4,7', 'price': '20–30 €', 'restaurant_type': 'Restaurant', 'description': 'NaN', 'address': '174 Av. Jean Jaurès, 75019 Paris'}\n",
      "Restaurant 10 : {'name': 'Les Bancs Publics', 'rating': '4,5', 'price': '20–30 €', 'restaurant_type': 'Restaurant', 'description': \"Grands classiques de brasserie (steak-frites, par exemple) servis dans un restaurant lumineux doté d'une terrasse en bord de canal.\", 'address': '2 Rue de Nantes, 75019 Paris'}\n",
      "Restaurant 11 : {'name': 'Jeannette', 'rating': '4,7', 'price': '20–30 €', 'restaurant_type': 'Restaurant', 'description': 'NaN', 'address': '143 Av. Jean Jaurès, 75019 Paris'}\n",
      "Restaurant 12 : {'name': 'Paname Brewing Company', 'rating': '4,3', 'price': '20–30 €', 'restaurant_type': 'Microbrasserie', 'description': \"Cuisine et bières internationales servies dans une microbrasserie simple dotée d'une terrasse avec vue sur le canal.\", 'address': '41 bis Quai de la Loire, 75019 Paris'}\n",
      "Restaurant 13 : {'name': 'Aux Arts et Sciences Réunis', 'rating': '4,3', 'price': '20–30 €', 'restaurant_type': 'Restaurant français', 'description': \"Restaurant à la décoration foisonnante composée de portraits et d'objets scientifiques pour une cuisine fine.\", 'address': '161 Av. Jean Jaurès, 75019 Paris'}\n",
      "Restaurant 14 : {'name': 'La Violette', 'rating': '4,2', 'price': '€€€', 'restaurant_type': 'Restaurant', 'description': 'Menus dégustation créatifs avec accords mets et vins et plats à la carte dans un cadre sophistiqué.', 'address': '11 Av. Corentin Cariou, 75019 Paris'}\n",
      "Restaurant 15 : {'name': 'Restaurant Quedubon', 'rating': '4,6', 'price': '€€', 'restaurant_type': 'Restaurant français', 'description': 'Parquet brut et murs gris et rouges ornent ce bar servant une cuisine française classique et des vins de pays.', 'address': '22 Rue du Plateau, 75019 Paris'}\n",
      "Restaurant 16 : {'name': \"L'Atlantide\", 'rating': '4,5', 'price': '20–30 €', 'restaurant_type': \"Restaurant de spécialités d'Afrique du Nord\", 'description': 'Une cuisine berbère proposée dans une salle au décor authentique ornée de tapis et de lampes nord-africaines.', 'address': '07 Av. de Laumière, 75019 Paris'}\n",
      "Restaurant 17 : {'name': 'Buono Sano Bello', 'rating': '4,5', 'price': '20–30 €', 'restaurant_type': 'Restaurant italien', 'description': 'Ce petit restaurant aux pierres apparentes propose des spécialités italiennes comme des pâtes fraîches maison.', 'address': '14 Rue de la Villette, 75019 Paris'}\n",
      "Restaurant 18 : {'name': 'Le Napoléon III', 'rating': '4,0', 'price': '€€', 'restaurant_type': 'Brasserie', 'description': \"Restaurant/bar raffiné au charme d'époque, doté d'une terrasse côté rue et proposant des plats simples et des cocktails.\", 'address': '1 Pl. Armand Carrel, 75019 Paris'}\n",
      "Restaurant 19 : {'name': 'Le Bastringue', 'rating': '4,4', 'price': '20–30 €', 'restaurant_type': 'Bistro', 'description': 'Cuisine et boissons de brasserie parisienne classique dans un restaurant établi de longue date avec terrasse au bord du canal.', 'address': '67 Quai de la Seine, 75019 Paris'}\n",
      "Restaurant 20 : {'name': 'Sunny', 'rating': '4,3', 'price': '20–30 €', 'restaurant_type': 'Restaurant', 'description': 'Petits-déjeuners sucrés et salés, plats légers pour le déjeuner, salades et pâtisseries dans un cadre moderne.', 'address': '84 Av. Secrétan, 75019 Paris'}\n",
      "Erreur avec le restaurant 21 : Message: Element <a class=\"hfpxzc\" href=\"https://www.google.fr/maps/place/Carnis+Cantine/data=!4m7!3m6!1s0x47e66fe28967912f:0x8b2c8fda432a9a47!8m2!3d48.8782846!4d2.3395447!16s%2Fg%2F11t6msfj2n!19sChIJL5FnieJv5kcRR5oqQ9qPLIs?authuser=0&hl=fr&rclk=1\"> is not clickable at point (276,599) because another element <div class=\"L6Bbsd\"> obscures it\n",
      "Stacktrace:\n",
      "RemoteError@chrome://remote/content/shared/RemoteError.sys.mjs:8:8\n",
      "WebDriverError@chrome://remote/content/shared/webdriver/Errors.sys.mjs:193:5\n",
      "ElementClickInterceptedError@chrome://remote/content/shared/webdriver/Errors.sys.mjs:337:5\n",
      "webdriverClickElement@chrome://remote/content/marionette/interaction.sys.mjs:177:11\n",
      "interaction.clickElement@chrome://remote/content/marionette/interaction.sys.mjs:136:11\n",
      "clickElement@chrome://remote/content/marionette/actors/MarionetteCommandsChild.sys.mjs:344:29\n",
      "receiveMessage@chrome://remote/content/marionette/actors/MarionetteCommandsChild.sys.mjs:220:31\n",
      "\n",
      "Données sauvegardées dans restaurants_paris_19eme.csv\n"
     ]
    }
   ],
   "source": [
    "#pour paris 19eme arrondissement:\n",
    "link=\"https://www.google.fr/maps/search/restaurant+paris+19/@48.8890345,2.2902335,7970m/data=!3m2!1e3!4b1?entry=ttu&g_ep=EgoyMDI1MDEwOC4wIKXMDSoASAFQAw%3D%3D\"\n",
    "output_file=\"data_in_progress/restaurants_paris_19eme.csv\"\n",
    "scrape_google_maps(link, n, output_file)"
   ]
  },
  {
   "cell_type": "code",
   "execution_count": 26,
   "metadata": {},
   "outputs": [
    {
     "name": "stdout",
     "output_type": "stream",
     "text": [
      "Élément de scroll trouvé avec succès !\n",
      "Restaurant 1 : {'name': '19 darù', 'rating': '4,0', 'price': '30–40 €', 'restaurant_type': 'Restaurant italien', 'description': 'Restaurant intime, décorée de toiles vives par la propriétaire, qui propose des plats italiens traditionnels.', 'address': '19 Rue Daru, 75008 Paris'}\n",
      "Restaurant 2 : {'name': 'Trois B', 'rating': '4,7', 'price': 'NaN', 'restaurant_type': 'Restaurant', 'description': \"Bistrot à l'ambiance détendue servant des plats du jour, vins bio et bières locales dans une salle chaleureuse et lumineuse.\", 'address': '48 Av. Jean Jaurès, 75019 Paris'}\n",
      "Restaurant 3 : {'name': 'Mensae', 'rating': '4,5', 'price': '€€', 'restaurant_type': 'Restaurant', 'description': 'Restaurant chic avec des spécialités françaises raffinées, des assiettes à partager et du vin dans un cadre moderne et minimaliste.', 'address': '23 Rue Melingue, 75019 Paris'}\n",
      "Restaurant 4 : {'name': 'SYMPHONY | Restaurant Italien | Restaurant Villette | Restaurant Paris 19', 'rating': '4,6', 'price': '20–30 €', 'restaurant_type': 'Restaurant italien', 'description': 'NaN', 'address': '25 Sente des Dorées, 75019 Paris'}\n",
      "Restaurant 5 : {'name': 'Au Comptoir Du Temps café', 'rating': '4,6', 'price': '20–30 €', 'restaurant_type': 'Restaurant', 'description': 'NaN', 'address': '35 Av. Corentin Cariou, 75019 Paris'}\n",
      "Restaurant 6 : {'name': 'Le passage à niveau', 'rating': '4,4', 'price': '20–30 €', 'restaurant_type': 'Restaurant', 'description': \"Plats et petites portions de saison servis dans un restaurant lumineux doté d'une terrasse et de potagers.\", 'address': \"2A Rue de l'Ourcq, 75019 Paris\"}\n",
      "Restaurant 7 : {'name': 'Simonetta', 'rating': '4,5', 'price': '20–30 €', 'restaurant_type': 'Restaurant italien', 'description': 'Plats italiens classiques comme les pâtes et les pizzas, servis dans une salle à manger élégante décorée de plantes suspendues.', 'address': '32 Quai de la Marne, 75019 Paris'}\n",
      "Restaurant 8 : {'name': 'Chez Arnaud', 'rating': '4,4', 'price': '20–30 €', 'restaurant_type': 'Restaurant', 'description': 'NaN', 'address': '16 Rue Eugène Jumin, 75019 Paris'}\n",
      "Restaurant 9 : {'name': 'Chez JJ', 'rating': '4,7', 'price': '20–30 €', 'restaurant_type': 'Restaurant', 'description': 'NaN', 'address': '174 Av. Jean Jaurès, 75019 Paris'}\n",
      "Restaurant 10 : {'name': 'Les Bancs Publics', 'rating': '4,5', 'price': '20–30 €', 'restaurant_type': 'Restaurant', 'description': \"Grands classiques de brasserie (steak-frites, par exemple) servis dans un restaurant lumineux doté d'une terrasse en bord de canal.\", 'address': '2 Rue de Nantes, 75019 Paris'}\n",
      "Restaurant 11 : {'name': 'Jeannette', 'rating': '4,7', 'price': '20–30 €', 'restaurant_type': 'Restaurant', 'description': 'NaN', 'address': '143 Av. Jean Jaurès, 75019 Paris'}\n",
      "Restaurant 12 : {'name': 'Paname Brewing Company', 'rating': '4,3', 'price': '20–30 €', 'restaurant_type': 'Microbrasserie', 'description': \"Cuisine et bières internationales servies dans une microbrasserie simple dotée d'une terrasse avec vue sur le canal.\", 'address': '41 bis Quai de la Loire, 75019 Paris'}\n",
      "Restaurant 13 : {'name': 'Aux Arts et Sciences Réunis', 'rating': '4,3', 'price': '20–30 €', 'restaurant_type': 'Restaurant français', 'description': \"Restaurant à la décoration foisonnante composée de portraits et d'objets scientifiques pour une cuisine fine.\", 'address': '161 Av. Jean Jaurès, 75019 Paris'}\n",
      "Restaurant 14 : {'name': 'La Violette', 'rating': '4,2', 'price': '€€€', 'restaurant_type': 'Restaurant', 'description': 'Menus dégustation créatifs avec accords mets et vins et plats à la carte dans un cadre sophistiqué.', 'address': '11 Av. Corentin Cariou, 75019 Paris'}\n",
      "Restaurant 15 : {'name': 'Restaurant Quedubon', 'rating': '4,6', 'price': '€€', 'restaurant_type': 'Restaurant français', 'description': 'Parquet brut et murs gris et rouges ornent ce bar servant une cuisine française classique et des vins de pays.', 'address': '22 Rue du Plateau, 75019 Paris'}\n",
      "Restaurant 16 : {'name': \"L'Atlantide\", 'rating': '4,5', 'price': '20–30 €', 'restaurant_type': \"Restaurant de spécialités d'Afrique du Nord\", 'description': 'Une cuisine berbère proposée dans une salle au décor authentique ornée de tapis et de lampes nord-africaines.', 'address': '07 Av. de Laumière, 75019 Paris'}\n",
      "Restaurant 17 : {'name': 'Buono Sano Bello', 'rating': '4,5', 'price': '20–30 €', 'restaurant_type': 'Restaurant italien', 'description': 'Ce petit restaurant aux pierres apparentes propose des spécialités italiennes comme des pâtes fraîches maison.', 'address': '14 Rue de la Villette, 75019 Paris'}\n",
      "Restaurant 18 : {'name': 'Le Napoléon III', 'rating': '4,0', 'price': '€€', 'restaurant_type': 'Brasserie', 'description': \"Restaurant/bar raffiné au charme d'époque, doté d'une terrasse côté rue et proposant des plats simples et des cocktails.\", 'address': '1 Pl. Armand Carrel, 75019 Paris'}\n",
      "Restaurant 19 : {'name': 'Le Bastringue', 'rating': '4,4', 'price': '20–30 €', 'restaurant_type': 'Bistro', 'description': 'Cuisine et boissons de brasserie parisienne classique dans un restaurant établi de longue date avec terrasse au bord du canal.', 'address': '67 Quai de la Seine, 75019 Paris'}\n",
      "Restaurant 20 : {'name': 'Sunny', 'rating': '4,3', 'price': '20–30 €', 'restaurant_type': 'Restaurant', 'description': 'Petits-déjeuners sucrés et salés, plats légers pour le déjeuner, salades et pâtisseries dans un cadre moderne.', 'address': '84 Av. Secrétan, 75019 Paris'}\n",
      "Erreur avec le restaurant 21 : Message: Element <a class=\"hfpxzc\" href=\"https://www.google.fr/maps/place/Les+Chics+Types/data=!4m7!3m6!1s0x47e66dc5488272b1:0x5459173f4f39296f!8m2!3d48.8839773!4d2.380707!16s%2Fg%2F1pp2t_nkj!19sChIJsXKCSMVt5kcRbyk5Tz8XWVQ?authuser=0&hl=fr&rclk=1\"> is not clickable at point (276,598) because another element <div class=\"L6Bbsd\"> obscures it\n",
      "Stacktrace:\n",
      "RemoteError@chrome://remote/content/shared/RemoteError.sys.mjs:8:8\n",
      "WebDriverError@chrome://remote/content/shared/webdriver/Errors.sys.mjs:193:5\n",
      "ElementClickInterceptedError@chrome://remote/content/shared/webdriver/Errors.sys.mjs:337:5\n",
      "webdriverClickElement@chrome://remote/content/marionette/interaction.sys.mjs:177:11\n",
      "interaction.clickElement@chrome://remote/content/marionette/interaction.sys.mjs:136:11\n",
      "clickElement@chrome://remote/content/marionette/actors/MarionetteCommandsChild.sys.mjs:344:29\n",
      "receiveMessage@chrome://remote/content/marionette/actors/MarionetteCommandsChild.sys.mjs:220:31\n",
      "\n",
      "Données sauvegardées dans restaurants_paris_20eme.csv\n"
     ]
    }
   ],
   "source": [
    "#pour paris 20eme arrondssement:\n",
    "link=\"https://www.google.fr/maps/search/restaurant+paris+19/@48.8890345,2.2902335,7970m/data=!3m2!1e3!4b1?entry=ttu&g_ep=EgoyMDI1MDEwOC4wIKXMDSoASAFQAw%3D%3D\"\n",
    "output_file=\"data_in_progress/restaurants_paris_20eme.csv\"\n",
    "scrape_google_maps(link, n, output_file)"
   ]
  },
  {
   "cell_type": "code",
   "execution_count": 27,
   "metadata": {},
   "outputs": [],
   "source": [
    "import pandas as pd\n",
    "#on ouvre les fichiers csv et on les concatene en un seul\n",
    "#on enleve les doublons\n",
    "#on ouvre tous les fichiers qui commencent par restaurants_paris\n",
    "import glob\n",
    "files = glob.glob(\"data_in_progress/restaurants_paris*.csv\")\n",
    "dataframes = []\n",
    "for file in files:\n",
    "    df = pd.read_csv(file)\n",
    "    dataframes.append(df)\n",
    "#concatenation\n",
    "df = pd.concat(dataframes)\n",
    "#enlever les doublons\n",
    "df = df.drop_duplicates()\n",
    "#sauvegarde\n",
    "df.to_csv(\"restaurants_paris_final.csv\", index=False)"
   ]
  },
  {
   "cell_type": "code",
   "execution_count": 29,
   "metadata": {},
   "outputs": [
    {
     "data": {
      "text/plain": [
       "(334, 6)"
      ]
     },
     "execution_count": 29,
     "metadata": {},
     "output_type": "execute_result"
    },
    {
     "ename": "",
     "evalue": "",
     "output_type": "error",
     "traceback": [
      "\u001b[1;31mThe Kernel crashed while executing code in the current cell or a previous cell. \n",
      "\u001b[1;31mPlease review the code in the cell(s) to identify a possible cause of the failure. \n",
      "\u001b[1;31mClick <a href='https://aka.ms/vscodeJupyterKernelCrash'>here</a> for more info. \n",
      "\u001b[1;31mView Jupyter <a href='command:jupyter.viewOutput'>log</a> for further details."
     ]
    }
   ],
   "source": [
    "df.shape"
   ]
  },
  {
   "cell_type": "code",
   "execution_count": 28,
   "metadata": {},
   "outputs": [
    {
     "name": "stdout",
     "output_type": "stream",
     "text": [
      "restaurant_type\n",
      "Restaurant français                                    143\n",
      "Restaurant                                              85\n",
      "Restaurant gastronomique                                24\n",
      "Restaurant italien                                      20\n",
      "Brasserie                                                9\n",
      "Bistro                                                   9\n",
      "Restaurant libanais                                      6\n",
      "Cuisine française moderne                                3\n",
      "Restaurant vietnamien                                    3\n",
      "Restaurant chinois                                       3\n",
      "Restaurant de cuisine fusion asiatique                   2\n",
      "Restaurant de poisson                                    2\n",
      "Restaurant indien                                        2\n",
      "Restaurant asiatique                                     2\n",
      "Restaurant méditerranéen                                 2\n",
      "Restaurant de spécialités alsaciennes                    1\n",
      "Bar à tapas                                              1\n",
      "Restaurant croate                                        1\n",
      "Restaurant végétarien                                    1\n",
      "Restaurant de spécialités d'Afrique du Nord              1\n",
      "Microbrasserie                                           1\n",
      "Restaurant californien                                   1\n",
      "Restaurant créole                                        1\n",
      "Restaurant géorgien                                      1\n",
      "Restaurant de fruits de mer                              1\n",
      "Restaurant thaï                                          1\n",
      "Restaurant laotien                                       1\n",
      "Restaurant de spécialités du sud-ouest de la France      1\n",
      "Restaurant basque                                        1\n",
      "Restaurant algérien                                      1\n",
      "Restaurant russe                                         1\n",
      "Restaurant de viande                                     1\n",
      "Restaurant brunch                                        1\n",
      "Name: count, dtype: int64\n"
     ]
    }
   ],
   "source": [
    "#on affiche les differents types de restaurants\n",
    "print(df[\"restaurant_type\"].value_counts())"
   ]
  }
 ],
 "metadata": {
  "kernelspec": {
   "display_name": "Python 3",
   "language": "python",
   "name": "python3"
  },
  "language_info": {
   "codemirror_mode": {
    "name": "ipython",
    "version": 3
   },
   "file_extension": ".py",
   "mimetype": "text/x-python",
   "name": "python",
   "nbconvert_exporter": "python",
   "pygments_lexer": "ipython3",
   "version": "3.11.4"
  }
 },
 "nbformat": 4,
 "nbformat_minor": 2
}
